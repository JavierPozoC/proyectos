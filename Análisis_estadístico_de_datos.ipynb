{
  "cells": [
    {
      "cell_type": "markdown",
      "metadata": {
        "id": "OAUz7Uq0MupK"
      },
      "source": [
        "# Descripción del proyecto\n",
        "\n",
        "Trabajas como analista para el operador de telecomunicaciones Megaline. La empresa ofrece a sus clientes dos tarifas de prepago, Surf y Ultimate. El departamento comercial quiere saber cuál de los planes genera más ingresos para ajustar el presupuesto de publicidad.\n",
        "Vas a realizar un análisis preliminar de las tarifas basado en una selección de clientes relativamente pequeña. Tendrás los datos de 500 clientes de Megaline: quiénes son los clientes, de dónde son, qué tarifa usan y la cantidad de llamadas que hicieron y los mensajes de texto que enviaron en 2018. \n",
        "\n",
        "Para lograr desarrollar este proyecto, primero comenzare revisando las distintas bases de datos, revisando si hay datos nulos, datos duplicados, errores en el formato de nombres y solucionarlos de una forma óptima, una vez limpias las bases de datos, se creara un nuevo df con toda la informacion necesaria, para poder realizar el análisis correspondiente, para eso usaremos el método ‘marge’ para unir distintos df, y el método ‘concat’ para agregar las nuevas variables creadas y necesarias para nuestro análisis a nuestro nuevo df."
      ]
    },
    {
      "cell_type": "markdown",
      "metadata": {
        "id": "lmbyB7R2NSOG"
      },
      "source": [
        "# Desarrollo\n",
        "\n",
        "analizar el comportamiento de los clientes y determinar qué tarifa de prepago genera más ingresos"
      ]
    },
    {
      "cell_type": "markdown",
      "metadata": {
        "id": "rCtVBaaeNuq6"
      },
      "source": [
        "# Pasos\n",
        " \n",
        " 1. Abrir los archivo con los datos y estudiar la información general\n",
        " 2. Preparar los datos\n",
        " 3. Analizar los datos\n",
        " 4. Probar las hipótesis\n",
        " 5. Entregar la conclusión general"
      ]
    },
    {
      "cell_type": "markdown",
      "source": [
        "# Descripción de los datos\n",
        "\n",
        "¡No te olvides! Megaline redondea los segundos a minutos y los megabytes a gigabytes. Para llamadas, cada llamada individual se redondea: incluso si la llamada duró solo un segundo, se contará como un minuto. Para tráfico web, las sesiones web individuales no se redondean. En vez de esto, el total del mes se redondea hacia arriba. Si alguien usa 1025 megabytes este mes, se le cobrarán 2 gigabytes.\n",
        "\n",
        "La tabla users (datos sobre los usuarios):\n",
        "\n",
        "- user_id — identificador único del usuario\n",
        "- first_name — nombre del usuario\n",
        "- last_name — apellido del usuario\n",
        "- age — edad del usuario (en años)\n",
        "- reg_date — fecha de suscripción (dd, mm, aa)\n",
        "- churn_date — la fecha en que el usuario dejó de usar el servicio (si el valor es ausente, la tarifa se estaba usando cuando se recuperaron estos datos)\n",
        "- city — ciudad de residencia del usuario\n",
        "\n",
        "plan — nombre de la tarifa La tabla calls (datos sobre las llamadas):\n",
        "\n",
        "- id — identificador único de la llamada\n",
        "- call_date — fecha de la llamada\n",
        "- duration — duración de la llamada (en minutos)\n",
        "- user_id — el identificador del usuario que realiza la llamada\n",
        "- La tabla messages (datos sobre los SMS):\n",
        "- id — identificador único del SMS\n",
        "- message_date — fecha del SMS\n",
        "- user_id — el identificador del usuario que manda el SMS\n",
        "\n",
        "La tabla internet (datos sobre las sesiones web):\n",
        "\n",
        "- id — identificador único de la sesión\n",
        "- mb_used — el volumen de datos gastados durante la sesión (en megabytes)\n",
        "- session_date — fecha de la sesión web\n",
        "- user_id — identificador del usuario\n",
        "\n",
        "La tabla plans (datos sobre las tarifas):\n",
        "\n",
        "- plan_name — nombre de la tarifa\n",
        "- usd_monthly_fee — pago mensual en dólares estadounidenses\n",
        "- minutes_included — minutos incluidos al mes\n",
        "- messages_included — SMS incluidos al mes\n",
        "- mb_per_month_included — datos incluidos al mes (en megabytes)\n",
        "- usd_per_minute — precio por minuto tras exceder los límites del paquete (por ejemplo, si el paquete incluye 100 minutos el operador cobrará el minuto 101)\n",
        "usd_per_message — precio por SMS tras exceder los límites del paquete\n",
        "usd_per_gb — precio por gigabyte de los datos extra tras exceder los límites del paquete (1 GB = 1024 megabytes)"
      ],
      "metadata": {
        "id": "2feA9XQb-djg"
      }
    },
    {
      "cell_type": "markdown",
      "metadata": {
        "id": "X7siWcXc-h3O"
      },
      "source": [
        "## Abrir los archivo con los datos y estudiar la información general"
      ]
    },
    {
      "cell_type": "code",
      "execution_count": null,
      "metadata": {
        "id": "ixSweTE_9PBa"
      },
      "outputs": [],
      "source": [
        "import pandas as pd\n",
        "import seaborn as sns\n",
        "import numpy as np\n",
        "import matplotlib.pyplot as plt\n",
        "from math import factorial\n",
        "from scipy import stats as st\n",
        "from scipy.stats import levene"
      ]
    },
    {
      "cell_type": "code",
      "execution_count": null,
      "metadata": {
        "id": "gkj8gucZ-T_p"
      },
      "outputs": [],
      "source": [
        "try:\n",
        "    data_calls = pd.read_csv(\"/datasets/megaline_calls.csv\")\n",
        "    data_internet = pd.read_csv(\"/datasets/megaline_internet.csv\")\n",
        "    data_messages = pd.read_csv(\"/datasets/megaline_messages.csv\")\n",
        "    data_plans = pd.read_csv(\"/datasets/megaline_plans.csv\")\n",
        "    data_users = pd.read_csv(\"/datasets/megaline_users.csv\")\n",
        "\n",
        "except:\n",
        "    data_calls = pd.read_csv(\"/datasets/megaline_calls.csv\")\n",
        "    data_internet = pd.read_csv(\"/datasets/megaline_internet.csv\")\n",
        "    data_messages = pd.read_csv(\"/datasets/megaline_messages.csv\")\n",
        "    data_plans = pd.read_csv(\"/datasets/megaline_plans.csv\")\n",
        "    data_users = pd.read_csv(\"/datasets/megaline_users.csv\")"
      ]
    },
    {
      "cell_type": "markdown",
      "metadata": {
        "id": "HBOxGSpvHKkW"
      },
      "source": [
        "### Revision de base de datos calls"
      ]
    },
    {
      "cell_type": "code",
      "execution_count": null,
      "metadata": {
        "colab": {
          "base_uri": "https://localhost:8080/"
        },
        "id": "gTDD7bDBDIms",
        "outputId": "cb1ff723-aca9-401c-e56a-d843fa82536f"
      },
      "outputs": [
        {
          "name": "stdout",
          "output_type": "stream",
          "text": [
            "<class 'pandas.core.frame.DataFrame'>\n",
            "RangeIndex: 137735 entries, 0 to 137734\n",
            "Data columns (total 4 columns):\n",
            " #   Column     Non-Null Count   Dtype  \n",
            "---  ------     --------------   -----  \n",
            " 0   id         137735 non-null  object \n",
            " 1   user_id    137735 non-null  int64  \n",
            " 2   call_date  137735 non-null  object \n",
            " 3   duration   137735 non-null  float64\n",
            "dtypes: float64(1), int64(1), object(2)\n",
            "memory usage: 4.2+ MB\n"
          ]
        }
      ],
      "source": [
        "data_calls.info()"
      ]
    },
    {
      "cell_type": "code",
      "execution_count": null,
      "metadata": {
        "colab": {
          "base_uri": "https://localhost:8080/",
          "height": 206
        },
        "id": "PCK08D4LCcPH",
        "outputId": "8259be6f-58d1-412c-c75d-034d5ceb7656"
      },
      "outputs": [
        {
          "data": {
            "text/html": [
              "<div>\n",
              "<style scoped>\n",
              "    .dataframe tbody tr th:only-of-type {\n",
              "        vertical-align: middle;\n",
              "    }\n",
              "\n",
              "    .dataframe tbody tr th {\n",
              "        vertical-align: top;\n",
              "    }\n",
              "\n",
              "    .dataframe thead th {\n",
              "        text-align: right;\n",
              "    }\n",
              "</style>\n",
              "<table border=\"1\" class=\"dataframe\">\n",
              "  <thead>\n",
              "    <tr style=\"text-align: right;\">\n",
              "      <th></th>\n",
              "      <th>id</th>\n",
              "      <th>user_id</th>\n",
              "      <th>call_date</th>\n",
              "      <th>duration</th>\n",
              "    </tr>\n",
              "  </thead>\n",
              "  <tbody>\n",
              "    <tr>\n",
              "      <th>0</th>\n",
              "      <td>1000_93</td>\n",
              "      <td>1000</td>\n",
              "      <td>2018-12-27</td>\n",
              "      <td>8.52</td>\n",
              "    </tr>\n",
              "    <tr>\n",
              "      <th>1</th>\n",
              "      <td>1000_145</td>\n",
              "      <td>1000</td>\n",
              "      <td>2018-12-27</td>\n",
              "      <td>13.66</td>\n",
              "    </tr>\n",
              "    <tr>\n",
              "      <th>2</th>\n",
              "      <td>1000_247</td>\n",
              "      <td>1000</td>\n",
              "      <td>2018-12-27</td>\n",
              "      <td>14.48</td>\n",
              "    </tr>\n",
              "    <tr>\n",
              "      <th>3</th>\n",
              "      <td>1000_309</td>\n",
              "      <td>1000</td>\n",
              "      <td>2018-12-28</td>\n",
              "      <td>5.76</td>\n",
              "    </tr>\n",
              "    <tr>\n",
              "      <th>4</th>\n",
              "      <td>1000_380</td>\n",
              "      <td>1000</td>\n",
              "      <td>2018-12-30</td>\n",
              "      <td>4.22</td>\n",
              "    </tr>\n",
              "  </tbody>\n",
              "</table>\n",
              "</div>"
            ],
            "text/plain": [
              "         id  user_id   call_date  duration\n",
              "0   1000_93     1000  2018-12-27      8.52\n",
              "1  1000_145     1000  2018-12-27     13.66\n",
              "2  1000_247     1000  2018-12-27     14.48\n",
              "3  1000_309     1000  2018-12-28      5.76\n",
              "4  1000_380     1000  2018-12-30      4.22"
            ]
          },
          "execution_count": 4,
          "metadata": {},
          "output_type": "execute_result"
        }
      ],
      "source": [
        "data_calls.head()"
      ]
    },
    {
      "cell_type": "code",
      "execution_count": null,
      "metadata": {
        "colab": {
          "base_uri": "https://localhost:8080/",
          "height": 300
        },
        "id": "U8w5h9I-CeIz",
        "outputId": "9e7dc9a6-9ab4-47d9-a8b7-61c94c0276d2"
      },
      "outputs": [
        {
          "data": {
            "text/html": [
              "<div>\n",
              "<style scoped>\n",
              "    .dataframe tbody tr th:only-of-type {\n",
              "        vertical-align: middle;\n",
              "    }\n",
              "\n",
              "    .dataframe tbody tr th {\n",
              "        vertical-align: top;\n",
              "    }\n",
              "\n",
              "    .dataframe thead th {\n",
              "        text-align: right;\n",
              "    }\n",
              "</style>\n",
              "<table border=\"1\" class=\"dataframe\">\n",
              "  <thead>\n",
              "    <tr style=\"text-align: right;\">\n",
              "      <th></th>\n",
              "      <th>user_id</th>\n",
              "      <th>duration</th>\n",
              "    </tr>\n",
              "  </thead>\n",
              "  <tbody>\n",
              "    <tr>\n",
              "      <th>count</th>\n",
              "      <td>137735.000000</td>\n",
              "      <td>137735.000000</td>\n",
              "    </tr>\n",
              "    <tr>\n",
              "      <th>mean</th>\n",
              "      <td>1247.658046</td>\n",
              "      <td>6.745927</td>\n",
              "    </tr>\n",
              "    <tr>\n",
              "      <th>std</th>\n",
              "      <td>139.416268</td>\n",
              "      <td>5.839241</td>\n",
              "    </tr>\n",
              "    <tr>\n",
              "      <th>min</th>\n",
              "      <td>1000.000000</td>\n",
              "      <td>0.000000</td>\n",
              "    </tr>\n",
              "    <tr>\n",
              "      <th>25%</th>\n",
              "      <td>1128.000000</td>\n",
              "      <td>1.290000</td>\n",
              "    </tr>\n",
              "    <tr>\n",
              "      <th>50%</th>\n",
              "      <td>1247.000000</td>\n",
              "      <td>5.980000</td>\n",
              "    </tr>\n",
              "    <tr>\n",
              "      <th>75%</th>\n",
              "      <td>1365.000000</td>\n",
              "      <td>10.690000</td>\n",
              "    </tr>\n",
              "    <tr>\n",
              "      <th>max</th>\n",
              "      <td>1499.000000</td>\n",
              "      <td>37.600000</td>\n",
              "    </tr>\n",
              "  </tbody>\n",
              "</table>\n",
              "</div>"
            ],
            "text/plain": [
              "             user_id       duration\n",
              "count  137735.000000  137735.000000\n",
              "mean     1247.658046       6.745927\n",
              "std       139.416268       5.839241\n",
              "min      1000.000000       0.000000\n",
              "25%      1128.000000       1.290000\n",
              "50%      1247.000000       5.980000\n",
              "75%      1365.000000      10.690000\n",
              "max      1499.000000      37.600000"
            ]
          },
          "execution_count": 5,
          "metadata": {},
          "output_type": "execute_result"
        }
      ],
      "source": [
        "data_calls.describe()"
      ]
    },
    {
      "cell_type": "code",
      "execution_count": null,
      "metadata": {
        "colab": {
          "base_uri": "https://localhost:8080/"
        },
        "id": "aDJddTG1GLF5",
        "outputId": "77d81f28-c9f0-40ab-9f50-8eac9fd461ae"
      },
      "outputs": [
        {
          "data": {
            "text/plain": [
              "id           0\n",
              "user_id      0\n",
              "call_date    0\n",
              "duration     0\n",
              "dtype: int64"
            ]
          },
          "execution_count": 6,
          "metadata": {},
          "output_type": "execute_result"
        }
      ],
      "source": [
        "data_calls.isnull().sum()"
      ]
    },
    {
      "cell_type": "code",
      "execution_count": null,
      "metadata": {
        "colab": {
          "base_uri": "https://localhost:8080/"
        },
        "id": "gbeHULNLIQiZ",
        "outputId": "bb82f2bc-6660-4432-8dc0-6bba58aa44b9"
      },
      "outputs": [
        {
          "data": {
            "text/plain": [
              "0"
            ]
          },
          "execution_count": 7,
          "metadata": {},
          "output_type": "execute_result"
        }
      ],
      "source": [
        "data_calls.duplicated().sum()"
      ]
    },
    {
      "cell_type": "markdown",
      "metadata": {
        "id": "qAQ8_ehbIqGp"
      },
      "source": [
        "### Revision de base de datos internet"
      ]
    },
    {
      "cell_type": "code",
      "execution_count": null,
      "metadata": {
        "colab": {
          "base_uri": "https://localhost:8080/"
        },
        "id": "0V8XRJd1DaE_",
        "outputId": "3d0c6cc5-afe3-4ede-8fa8-eaed1024b68d",
        "scrolled": false
      },
      "outputs": [
        {
          "name": "stdout",
          "output_type": "stream",
          "text": [
            "<class 'pandas.core.frame.DataFrame'>\n",
            "RangeIndex: 104825 entries, 0 to 104824\n",
            "Data columns (total 4 columns):\n",
            " #   Column        Non-Null Count   Dtype  \n",
            "---  ------        --------------   -----  \n",
            " 0   id            104825 non-null  object \n",
            " 1   user_id       104825 non-null  int64  \n",
            " 2   session_date  104825 non-null  object \n",
            " 3   mb_used       104825 non-null  float64\n",
            "dtypes: float64(1), int64(1), object(2)\n",
            "memory usage: 3.2+ MB\n"
          ]
        }
      ],
      "source": [
        "data_internet.info()"
      ]
    },
    {
      "cell_type": "code",
      "execution_count": null,
      "metadata": {
        "colab": {
          "base_uri": "https://localhost:8080/"
        },
        "id": "AjEUSmSNDe3O",
        "outputId": "61ab8b17-1a99-486b-c645-16dd9b8bed44"
      },
      "outputs": [
        {
          "data": {
            "text/plain": [
              "<bound method NDFrame.head of               id  user_id session_date  mb_used\n",
              "0        1000_13     1000   2018-12-29    89.86\n",
              "1       1000_204     1000   2018-12-31     0.00\n",
              "2       1000_379     1000   2018-12-28   660.40\n",
              "3       1000_413     1000   2018-12-26   270.99\n",
              "4       1000_442     1000   2018-12-27   880.22\n",
              "...          ...      ...          ...      ...\n",
              "104820  1499_215     1499   2018-10-20   218.06\n",
              "104821  1499_216     1499   2018-12-30   304.72\n",
              "104822  1499_217     1499   2018-09-22   292.75\n",
              "104823  1499_218     1499   2018-12-07     0.00\n",
              "104824  1499_219     1499   2018-12-24   758.31\n",
              "\n",
              "[104825 rows x 4 columns]>"
            ]
          },
          "execution_count": 9,
          "metadata": {},
          "output_type": "execute_result"
        }
      ],
      "source": [
        "data_internet.head"
      ]
    },
    {
      "cell_type": "code",
      "execution_count": null,
      "metadata": {
        "colab": {
          "base_uri": "https://localhost:8080/",
          "height": 300
        },
        "id": "H4sP4OCcDiCy",
        "outputId": "35025523-c28a-43e4-f755-e95bc55d42ca"
      },
      "outputs": [
        {
          "data": {
            "text/html": [
              "<div>\n",
              "<style scoped>\n",
              "    .dataframe tbody tr th:only-of-type {\n",
              "        vertical-align: middle;\n",
              "    }\n",
              "\n",
              "    .dataframe tbody tr th {\n",
              "        vertical-align: top;\n",
              "    }\n",
              "\n",
              "    .dataframe thead th {\n",
              "        text-align: right;\n",
              "    }\n",
              "</style>\n",
              "<table border=\"1\" class=\"dataframe\">\n",
              "  <thead>\n",
              "    <tr style=\"text-align: right;\">\n",
              "      <th></th>\n",
              "      <th>user_id</th>\n",
              "      <th>mb_used</th>\n",
              "    </tr>\n",
              "  </thead>\n",
              "  <tbody>\n",
              "    <tr>\n",
              "      <th>count</th>\n",
              "      <td>104825.000000</td>\n",
              "      <td>104825.000000</td>\n",
              "    </tr>\n",
              "    <tr>\n",
              "      <th>mean</th>\n",
              "      <td>1242.496361</td>\n",
              "      <td>366.713701</td>\n",
              "    </tr>\n",
              "    <tr>\n",
              "      <th>std</th>\n",
              "      <td>142.053913</td>\n",
              "      <td>277.170542</td>\n",
              "    </tr>\n",
              "    <tr>\n",
              "      <th>min</th>\n",
              "      <td>1000.000000</td>\n",
              "      <td>0.000000</td>\n",
              "    </tr>\n",
              "    <tr>\n",
              "      <th>25%</th>\n",
              "      <td>1122.000000</td>\n",
              "      <td>136.080000</td>\n",
              "    </tr>\n",
              "    <tr>\n",
              "      <th>50%</th>\n",
              "      <td>1236.000000</td>\n",
              "      <td>343.980000</td>\n",
              "    </tr>\n",
              "    <tr>\n",
              "      <th>75%</th>\n",
              "      <td>1367.000000</td>\n",
              "      <td>554.610000</td>\n",
              "    </tr>\n",
              "    <tr>\n",
              "      <th>max</th>\n",
              "      <td>1499.000000</td>\n",
              "      <td>1693.470000</td>\n",
              "    </tr>\n",
              "  </tbody>\n",
              "</table>\n",
              "</div>"
            ],
            "text/plain": [
              "             user_id        mb_used\n",
              "count  104825.000000  104825.000000\n",
              "mean     1242.496361     366.713701\n",
              "std       142.053913     277.170542\n",
              "min      1000.000000       0.000000\n",
              "25%      1122.000000     136.080000\n",
              "50%      1236.000000     343.980000\n",
              "75%      1367.000000     554.610000\n",
              "max      1499.000000    1693.470000"
            ]
          },
          "execution_count": 10,
          "metadata": {},
          "output_type": "execute_result"
        }
      ],
      "source": [
        "data_internet.describe()"
      ]
    },
    {
      "cell_type": "code",
      "execution_count": null,
      "metadata": {
        "colab": {
          "base_uri": "https://localhost:8080/"
        },
        "id": "4lN6N2D8I0Bc",
        "outputId": "fee89d8a-5c2f-4907-8aac-7ca997518f19"
      },
      "outputs": [
        {
          "data": {
            "text/plain": [
              "id              0\n",
              "user_id         0\n",
              "session_date    0\n",
              "mb_used         0\n",
              "dtype: int64"
            ]
          },
          "execution_count": 11,
          "metadata": {},
          "output_type": "execute_result"
        }
      ],
      "source": [
        "data_internet.isnull().sum()"
      ]
    },
    {
      "cell_type": "code",
      "execution_count": null,
      "metadata": {
        "colab": {
          "base_uri": "https://localhost:8080/"
        },
        "id": "3IOd5DfjI0LG",
        "outputId": "e34fde71-8d61-438b-8961-9e64a8cb3680"
      },
      "outputs": [
        {
          "data": {
            "text/plain": [
              "0"
            ]
          },
          "execution_count": 12,
          "metadata": {},
          "output_type": "execute_result"
        }
      ],
      "source": [
        "data_internet.duplicated().sum()"
      ]
    },
    {
      "cell_type": "markdown",
      "metadata": {
        "id": "oRSH3yE1JMn_"
      },
      "source": [
        "### Revision de base de datos messages"
      ]
    },
    {
      "cell_type": "code",
      "execution_count": null,
      "metadata": {
        "colab": {
          "base_uri": "https://localhost:8080/"
        },
        "id": "xw_usQvEDtf0",
        "outputId": "4011646f-862a-46f2-b247-a0f9f94a60d6"
      },
      "outputs": [
        {
          "name": "stdout",
          "output_type": "stream",
          "text": [
            "<class 'pandas.core.frame.DataFrame'>\n",
            "RangeIndex: 76051 entries, 0 to 76050\n",
            "Data columns (total 3 columns):\n",
            " #   Column        Non-Null Count  Dtype \n",
            "---  ------        --------------  ----- \n",
            " 0   id            76051 non-null  object\n",
            " 1   user_id       76051 non-null  int64 \n",
            " 2   message_date  76051 non-null  object\n",
            "dtypes: int64(1), object(2)\n",
            "memory usage: 1.7+ MB\n"
          ]
        }
      ],
      "source": [
        "data_messages.info()"
      ]
    },
    {
      "cell_type": "code",
      "execution_count": null,
      "metadata": {
        "colab": {
          "base_uri": "https://localhost:8080/",
          "height": 206
        },
        "id": "JaXPyOoGDzAZ",
        "outputId": "70e553df-e7b5-40d8-cc7d-ed742762f5c4"
      },
      "outputs": [
        {
          "data": {
            "text/html": [
              "<div>\n",
              "<style scoped>\n",
              "    .dataframe tbody tr th:only-of-type {\n",
              "        vertical-align: middle;\n",
              "    }\n",
              "\n",
              "    .dataframe tbody tr th {\n",
              "        vertical-align: top;\n",
              "    }\n",
              "\n",
              "    .dataframe thead th {\n",
              "        text-align: right;\n",
              "    }\n",
              "</style>\n",
              "<table border=\"1\" class=\"dataframe\">\n",
              "  <thead>\n",
              "    <tr style=\"text-align: right;\">\n",
              "      <th></th>\n",
              "      <th>id</th>\n",
              "      <th>user_id</th>\n",
              "      <th>message_date</th>\n",
              "    </tr>\n",
              "  </thead>\n",
              "  <tbody>\n",
              "    <tr>\n",
              "      <th>0</th>\n",
              "      <td>1000_125</td>\n",
              "      <td>1000</td>\n",
              "      <td>2018-12-27</td>\n",
              "    </tr>\n",
              "    <tr>\n",
              "      <th>1</th>\n",
              "      <td>1000_160</td>\n",
              "      <td>1000</td>\n",
              "      <td>2018-12-31</td>\n",
              "    </tr>\n",
              "    <tr>\n",
              "      <th>2</th>\n",
              "      <td>1000_223</td>\n",
              "      <td>1000</td>\n",
              "      <td>2018-12-31</td>\n",
              "    </tr>\n",
              "    <tr>\n",
              "      <th>3</th>\n",
              "      <td>1000_251</td>\n",
              "      <td>1000</td>\n",
              "      <td>2018-12-27</td>\n",
              "    </tr>\n",
              "    <tr>\n",
              "      <th>4</th>\n",
              "      <td>1000_255</td>\n",
              "      <td>1000</td>\n",
              "      <td>2018-12-26</td>\n",
              "    </tr>\n",
              "  </tbody>\n",
              "</table>\n",
              "</div>"
            ],
            "text/plain": [
              "         id  user_id message_date\n",
              "0  1000_125     1000   2018-12-27\n",
              "1  1000_160     1000   2018-12-31\n",
              "2  1000_223     1000   2018-12-31\n",
              "3  1000_251     1000   2018-12-27\n",
              "4  1000_255     1000   2018-12-26"
            ]
          },
          "execution_count": 14,
          "metadata": {},
          "output_type": "execute_result"
        }
      ],
      "source": [
        "data_messages.head()"
      ]
    },
    {
      "cell_type": "code",
      "execution_count": null,
      "metadata": {
        "colab": {
          "base_uri": "https://localhost:8080/",
          "height": 300
        },
        "id": "zJHN1ysiD1x9",
        "outputId": "0d67d0fa-e591-426f-a3c7-ca6c5d6d2b93"
      },
      "outputs": [
        {
          "data": {
            "text/html": [
              "<div>\n",
              "<style scoped>\n",
              "    .dataframe tbody tr th:only-of-type {\n",
              "        vertical-align: middle;\n",
              "    }\n",
              "\n",
              "    .dataframe tbody tr th {\n",
              "        vertical-align: top;\n",
              "    }\n",
              "\n",
              "    .dataframe thead th {\n",
              "        text-align: right;\n",
              "    }\n",
              "</style>\n",
              "<table border=\"1\" class=\"dataframe\">\n",
              "  <thead>\n",
              "    <tr style=\"text-align: right;\">\n",
              "      <th></th>\n",
              "      <th>user_id</th>\n",
              "    </tr>\n",
              "  </thead>\n",
              "  <tbody>\n",
              "    <tr>\n",
              "      <th>count</th>\n",
              "      <td>76051.000000</td>\n",
              "    </tr>\n",
              "    <tr>\n",
              "      <th>mean</th>\n",
              "      <td>1245.972768</td>\n",
              "    </tr>\n",
              "    <tr>\n",
              "      <th>std</th>\n",
              "      <td>139.843635</td>\n",
              "    </tr>\n",
              "    <tr>\n",
              "      <th>min</th>\n",
              "      <td>1000.000000</td>\n",
              "    </tr>\n",
              "    <tr>\n",
              "      <th>25%</th>\n",
              "      <td>1123.000000</td>\n",
              "    </tr>\n",
              "    <tr>\n",
              "      <th>50%</th>\n",
              "      <td>1251.000000</td>\n",
              "    </tr>\n",
              "    <tr>\n",
              "      <th>75%</th>\n",
              "      <td>1362.000000</td>\n",
              "    </tr>\n",
              "    <tr>\n",
              "      <th>max</th>\n",
              "      <td>1497.000000</td>\n",
              "    </tr>\n",
              "  </tbody>\n",
              "</table>\n",
              "</div>"
            ],
            "text/plain": [
              "            user_id\n",
              "count  76051.000000\n",
              "mean    1245.972768\n",
              "std      139.843635\n",
              "min     1000.000000\n",
              "25%     1123.000000\n",
              "50%     1251.000000\n",
              "75%     1362.000000\n",
              "max     1497.000000"
            ]
          },
          "execution_count": 15,
          "metadata": {},
          "output_type": "execute_result"
        }
      ],
      "source": [
        "data_messages.describe()"
      ]
    },
    {
      "cell_type": "code",
      "execution_count": null,
      "metadata": {
        "colab": {
          "base_uri": "https://localhost:8080/"
        },
        "id": "vEMrDwkCJZoz",
        "outputId": "8a96a7cc-6873-43bf-bf3e-2c3a97025969"
      },
      "outputs": [
        {
          "data": {
            "text/plain": [
              "id              0\n",
              "user_id         0\n",
              "message_date    0\n",
              "dtype: int64"
            ]
          },
          "execution_count": 16,
          "metadata": {},
          "output_type": "execute_result"
        }
      ],
      "source": [
        "data_messages.isnull().sum()"
      ]
    },
    {
      "cell_type": "code",
      "execution_count": null,
      "metadata": {
        "colab": {
          "base_uri": "https://localhost:8080/"
        },
        "id": "MYYKIQ6vJZ98",
        "outputId": "2e2fea63-083d-433d-80e0-4c392911a409"
      },
      "outputs": [
        {
          "data": {
            "text/plain": [
              "0"
            ]
          },
          "execution_count": 17,
          "metadata": {},
          "output_type": "execute_result"
        }
      ],
      "source": [
        "data_messages.duplicated().sum()"
      ]
    },
    {
      "cell_type": "markdown",
      "metadata": {
        "id": "_mFTG7K5JuT3"
      },
      "source": [
        "### revision de base de datos plans"
      ]
    },
    {
      "cell_type": "code",
      "execution_count": null,
      "metadata": {
        "colab": {
          "base_uri": "https://localhost:8080/"
        },
        "id": "bEj9e-UDD54Q",
        "outputId": "dc1d85cb-45ab-456c-a3d4-00a94acbc1ce"
      },
      "outputs": [
        {
          "name": "stdout",
          "output_type": "stream",
          "text": [
            "<class 'pandas.core.frame.DataFrame'>\n",
            "RangeIndex: 2 entries, 0 to 1\n",
            "Data columns (total 8 columns):\n",
            " #   Column                 Non-Null Count  Dtype  \n",
            "---  ------                 --------------  -----  \n",
            " 0   messages_included      2 non-null      int64  \n",
            " 1   mb_per_month_included  2 non-null      int64  \n",
            " 2   minutes_included       2 non-null      int64  \n",
            " 3   usd_monthly_pay        2 non-null      int64  \n",
            " 4   usd_per_gb             2 non-null      int64  \n",
            " 5   usd_per_message        2 non-null      float64\n",
            " 6   usd_per_minute         2 non-null      float64\n",
            " 7   plan_name              2 non-null      object \n",
            "dtypes: float64(2), int64(5), object(1)\n",
            "memory usage: 256.0+ bytes\n"
          ]
        }
      ],
      "source": [
        "data_plans.info()"
      ]
    },
    {
      "cell_type": "code",
      "execution_count": null,
      "metadata": {
        "colab": {
          "base_uri": "https://localhost:8080/",
          "height": 112
        },
        "id": "k52ESTDJD9H9",
        "outputId": "e78e26d4-62d0-4f66-d95c-8271ef37506d"
      },
      "outputs": [
        {
          "data": {
            "text/html": [
              "<div>\n",
              "<style scoped>\n",
              "    .dataframe tbody tr th:only-of-type {\n",
              "        vertical-align: middle;\n",
              "    }\n",
              "\n",
              "    .dataframe tbody tr th {\n",
              "        vertical-align: top;\n",
              "    }\n",
              "\n",
              "    .dataframe thead th {\n",
              "        text-align: right;\n",
              "    }\n",
              "</style>\n",
              "<table border=\"1\" class=\"dataframe\">\n",
              "  <thead>\n",
              "    <tr style=\"text-align: right;\">\n",
              "      <th></th>\n",
              "      <th>messages_included</th>\n",
              "      <th>mb_per_month_included</th>\n",
              "      <th>minutes_included</th>\n",
              "      <th>usd_monthly_pay</th>\n",
              "      <th>usd_per_gb</th>\n",
              "      <th>usd_per_message</th>\n",
              "      <th>usd_per_minute</th>\n",
              "      <th>plan_name</th>\n",
              "    </tr>\n",
              "  </thead>\n",
              "  <tbody>\n",
              "    <tr>\n",
              "      <th>0</th>\n",
              "      <td>50</td>\n",
              "      <td>15360</td>\n",
              "      <td>500</td>\n",
              "      <td>20</td>\n",
              "      <td>10</td>\n",
              "      <td>0.03</td>\n",
              "      <td>0.03</td>\n",
              "      <td>surf</td>\n",
              "    </tr>\n",
              "    <tr>\n",
              "      <th>1</th>\n",
              "      <td>1000</td>\n",
              "      <td>30720</td>\n",
              "      <td>3000</td>\n",
              "      <td>70</td>\n",
              "      <td>7</td>\n",
              "      <td>0.01</td>\n",
              "      <td>0.01</td>\n",
              "      <td>ultimate</td>\n",
              "    </tr>\n",
              "  </tbody>\n",
              "</table>\n",
              "</div>"
            ],
            "text/plain": [
              "   messages_included  mb_per_month_included  minutes_included  \\\n",
              "0                 50                  15360               500   \n",
              "1               1000                  30720              3000   \n",
              "\n",
              "   usd_monthly_pay  usd_per_gb  usd_per_message  usd_per_minute plan_name  \n",
              "0               20          10             0.03            0.03      surf  \n",
              "1               70           7             0.01            0.01  ultimate  "
            ]
          },
          "execution_count": 19,
          "metadata": {},
          "output_type": "execute_result"
        }
      ],
      "source": [
        "data_plans.head()"
      ]
    },
    {
      "cell_type": "code",
      "execution_count": null,
      "metadata": {
        "colab": {
          "base_uri": "https://localhost:8080/",
          "height": 300
        },
        "id": "_gTp4ayhEAO8",
        "outputId": "c207f427-9400-4d11-82f7-7a787ad996c3"
      },
      "outputs": [
        {
          "data": {
            "text/html": [
              "<div>\n",
              "<style scoped>\n",
              "    .dataframe tbody tr th:only-of-type {\n",
              "        vertical-align: middle;\n",
              "    }\n",
              "\n",
              "    .dataframe tbody tr th {\n",
              "        vertical-align: top;\n",
              "    }\n",
              "\n",
              "    .dataframe thead th {\n",
              "        text-align: right;\n",
              "    }\n",
              "</style>\n",
              "<table border=\"1\" class=\"dataframe\">\n",
              "  <thead>\n",
              "    <tr style=\"text-align: right;\">\n",
              "      <th></th>\n",
              "      <th>messages_included</th>\n",
              "      <th>mb_per_month_included</th>\n",
              "      <th>minutes_included</th>\n",
              "      <th>usd_monthly_pay</th>\n",
              "      <th>usd_per_gb</th>\n",
              "      <th>usd_per_message</th>\n",
              "      <th>usd_per_minute</th>\n",
              "    </tr>\n",
              "  </thead>\n",
              "  <tbody>\n",
              "    <tr>\n",
              "      <th>count</th>\n",
              "      <td>2.000000</td>\n",
              "      <td>2.000000</td>\n",
              "      <td>2.000000</td>\n",
              "      <td>2.000000</td>\n",
              "      <td>2.00000</td>\n",
              "      <td>2.000000</td>\n",
              "      <td>2.000000</td>\n",
              "    </tr>\n",
              "    <tr>\n",
              "      <th>mean</th>\n",
              "      <td>525.000000</td>\n",
              "      <td>23040.000000</td>\n",
              "      <td>1750.000000</td>\n",
              "      <td>45.000000</td>\n",
              "      <td>8.50000</td>\n",
              "      <td>0.020000</td>\n",
              "      <td>0.020000</td>\n",
              "    </tr>\n",
              "    <tr>\n",
              "      <th>std</th>\n",
              "      <td>671.751442</td>\n",
              "      <td>10861.160159</td>\n",
              "      <td>1767.766953</td>\n",
              "      <td>35.355339</td>\n",
              "      <td>2.12132</td>\n",
              "      <td>0.014142</td>\n",
              "      <td>0.014142</td>\n",
              "    </tr>\n",
              "    <tr>\n",
              "      <th>min</th>\n",
              "      <td>50.000000</td>\n",
              "      <td>15360.000000</td>\n",
              "      <td>500.000000</td>\n",
              "      <td>20.000000</td>\n",
              "      <td>7.00000</td>\n",
              "      <td>0.010000</td>\n",
              "      <td>0.010000</td>\n",
              "    </tr>\n",
              "    <tr>\n",
              "      <th>25%</th>\n",
              "      <td>287.500000</td>\n",
              "      <td>19200.000000</td>\n",
              "      <td>1125.000000</td>\n",
              "      <td>32.500000</td>\n",
              "      <td>7.75000</td>\n",
              "      <td>0.015000</td>\n",
              "      <td>0.015000</td>\n",
              "    </tr>\n",
              "    <tr>\n",
              "      <th>50%</th>\n",
              "      <td>525.000000</td>\n",
              "      <td>23040.000000</td>\n",
              "      <td>1750.000000</td>\n",
              "      <td>45.000000</td>\n",
              "      <td>8.50000</td>\n",
              "      <td>0.020000</td>\n",
              "      <td>0.020000</td>\n",
              "    </tr>\n",
              "    <tr>\n",
              "      <th>75%</th>\n",
              "      <td>762.500000</td>\n",
              "      <td>26880.000000</td>\n",
              "      <td>2375.000000</td>\n",
              "      <td>57.500000</td>\n",
              "      <td>9.25000</td>\n",
              "      <td>0.025000</td>\n",
              "      <td>0.025000</td>\n",
              "    </tr>\n",
              "    <tr>\n",
              "      <th>max</th>\n",
              "      <td>1000.000000</td>\n",
              "      <td>30720.000000</td>\n",
              "      <td>3000.000000</td>\n",
              "      <td>70.000000</td>\n",
              "      <td>10.00000</td>\n",
              "      <td>0.030000</td>\n",
              "      <td>0.030000</td>\n",
              "    </tr>\n",
              "  </tbody>\n",
              "</table>\n",
              "</div>"
            ],
            "text/plain": [
              "       messages_included  mb_per_month_included  minutes_included  \\\n",
              "count           2.000000               2.000000          2.000000   \n",
              "mean          525.000000           23040.000000       1750.000000   \n",
              "std           671.751442           10861.160159       1767.766953   \n",
              "min            50.000000           15360.000000        500.000000   \n",
              "25%           287.500000           19200.000000       1125.000000   \n",
              "50%           525.000000           23040.000000       1750.000000   \n",
              "75%           762.500000           26880.000000       2375.000000   \n",
              "max          1000.000000           30720.000000       3000.000000   \n",
              "\n",
              "       usd_monthly_pay  usd_per_gb  usd_per_message  usd_per_minute  \n",
              "count         2.000000     2.00000         2.000000        2.000000  \n",
              "mean         45.000000     8.50000         0.020000        0.020000  \n",
              "std          35.355339     2.12132         0.014142        0.014142  \n",
              "min          20.000000     7.00000         0.010000        0.010000  \n",
              "25%          32.500000     7.75000         0.015000        0.015000  \n",
              "50%          45.000000     8.50000         0.020000        0.020000  \n",
              "75%          57.500000     9.25000         0.025000        0.025000  \n",
              "max          70.000000    10.00000         0.030000        0.030000  "
            ]
          },
          "execution_count": 20,
          "metadata": {},
          "output_type": "execute_result"
        }
      ],
      "source": [
        "data_plans.describe()"
      ]
    },
    {
      "cell_type": "code",
      "execution_count": null,
      "metadata": {
        "colab": {
          "base_uri": "https://localhost:8080/"
        },
        "id": "UCQXVa7nKIQ9",
        "outputId": "c95edd37-e405-4f24-85a4-b51862f0d553",
        "scrolled": true
      },
      "outputs": [
        {
          "data": {
            "text/plain": [
              "messages_included        0\n",
              "mb_per_month_included    0\n",
              "minutes_included         0\n",
              "usd_monthly_pay          0\n",
              "usd_per_gb               0\n",
              "usd_per_message          0\n",
              "usd_per_minute           0\n",
              "plan_name                0\n",
              "dtype: int64"
            ]
          },
          "execution_count": 21,
          "metadata": {},
          "output_type": "execute_result"
        }
      ],
      "source": [
        "data_plans.isnull().sum()"
      ]
    },
    {
      "cell_type": "code",
      "execution_count": null,
      "metadata": {
        "colab": {
          "base_uri": "https://localhost:8080/"
        },
        "id": "pX8iwRhmKJFF",
        "outputId": "5d639b2e-8213-4ca8-b31e-323713bdc035"
      },
      "outputs": [
        {
          "data": {
            "text/plain": [
              "0"
            ]
          },
          "execution_count": 22,
          "metadata": {},
          "output_type": "execute_result"
        }
      ],
      "source": [
        "data_plans.duplicated().sum()"
      ]
    },
    {
      "cell_type": "markdown",
      "metadata": {
        "id": "GYMLK2SxKrvb"
      },
      "source": [
        "### revision de base de datos users"
      ]
    },
    {
      "cell_type": "code",
      "execution_count": null,
      "metadata": {
        "colab": {
          "base_uri": "https://localhost:8080/"
        },
        "id": "wBJN7lcdEGuQ",
        "outputId": "a239930b-e13c-496b-8ec3-7f80132f0356"
      },
      "outputs": [
        {
          "name": "stdout",
          "output_type": "stream",
          "text": [
            "<class 'pandas.core.frame.DataFrame'>\n",
            "RangeIndex: 500 entries, 0 to 499\n",
            "Data columns (total 8 columns):\n",
            " #   Column      Non-Null Count  Dtype \n",
            "---  ------      --------------  ----- \n",
            " 0   user_id     500 non-null    int64 \n",
            " 1   first_name  500 non-null    object\n",
            " 2   last_name   500 non-null    object\n",
            " 3   age         500 non-null    int64 \n",
            " 4   city        500 non-null    object\n",
            " 5   reg_date    500 non-null    object\n",
            " 6   plan        500 non-null    object\n",
            " 7   churn_date  34 non-null     object\n",
            "dtypes: int64(2), object(6)\n",
            "memory usage: 31.4+ KB\n"
          ]
        }
      ],
      "source": [
        "data_users.info()"
      ]
    },
    {
      "cell_type": "code",
      "execution_count": null,
      "metadata": {
        "colab": {
          "base_uri": "https://localhost:8080/",
          "height": 206
        },
        "id": "5DQNytJ4EFhZ",
        "outputId": "dae52144-ac47-4746-f28c-dceaa107b07c"
      },
      "outputs": [
        {
          "data": {
            "text/html": [
              "<div>\n",
              "<style scoped>\n",
              "    .dataframe tbody tr th:only-of-type {\n",
              "        vertical-align: middle;\n",
              "    }\n",
              "\n",
              "    .dataframe tbody tr th {\n",
              "        vertical-align: top;\n",
              "    }\n",
              "\n",
              "    .dataframe thead th {\n",
              "        text-align: right;\n",
              "    }\n",
              "</style>\n",
              "<table border=\"1\" class=\"dataframe\">\n",
              "  <thead>\n",
              "    <tr style=\"text-align: right;\">\n",
              "      <th></th>\n",
              "      <th>user_id</th>\n",
              "      <th>first_name</th>\n",
              "      <th>last_name</th>\n",
              "      <th>age</th>\n",
              "      <th>city</th>\n",
              "      <th>reg_date</th>\n",
              "      <th>plan</th>\n",
              "      <th>churn_date</th>\n",
              "    </tr>\n",
              "  </thead>\n",
              "  <tbody>\n",
              "    <tr>\n",
              "      <th>0</th>\n",
              "      <td>1000</td>\n",
              "      <td>Anamaria</td>\n",
              "      <td>Bauer</td>\n",
              "      <td>45</td>\n",
              "      <td>Atlanta-Sandy Springs-Roswell, GA MSA</td>\n",
              "      <td>2018-12-24</td>\n",
              "      <td>ultimate</td>\n",
              "      <td>NaN</td>\n",
              "    </tr>\n",
              "    <tr>\n",
              "      <th>1</th>\n",
              "      <td>1001</td>\n",
              "      <td>Mickey</td>\n",
              "      <td>Wilkerson</td>\n",
              "      <td>28</td>\n",
              "      <td>Seattle-Tacoma-Bellevue, WA MSA</td>\n",
              "      <td>2018-08-13</td>\n",
              "      <td>surf</td>\n",
              "      <td>NaN</td>\n",
              "    </tr>\n",
              "    <tr>\n",
              "      <th>2</th>\n",
              "      <td>1002</td>\n",
              "      <td>Carlee</td>\n",
              "      <td>Hoffman</td>\n",
              "      <td>36</td>\n",
              "      <td>Las Vegas-Henderson-Paradise, NV MSA</td>\n",
              "      <td>2018-10-21</td>\n",
              "      <td>surf</td>\n",
              "      <td>NaN</td>\n",
              "    </tr>\n",
              "    <tr>\n",
              "      <th>3</th>\n",
              "      <td>1003</td>\n",
              "      <td>Reynaldo</td>\n",
              "      <td>Jenkins</td>\n",
              "      <td>52</td>\n",
              "      <td>Tulsa, OK MSA</td>\n",
              "      <td>2018-01-28</td>\n",
              "      <td>surf</td>\n",
              "      <td>NaN</td>\n",
              "    </tr>\n",
              "    <tr>\n",
              "      <th>4</th>\n",
              "      <td>1004</td>\n",
              "      <td>Leonila</td>\n",
              "      <td>Thompson</td>\n",
              "      <td>40</td>\n",
              "      <td>Seattle-Tacoma-Bellevue, WA MSA</td>\n",
              "      <td>2018-05-23</td>\n",
              "      <td>surf</td>\n",
              "      <td>NaN</td>\n",
              "    </tr>\n",
              "  </tbody>\n",
              "</table>\n",
              "</div>"
            ],
            "text/plain": [
              "   user_id first_name  last_name  age                                   city  \\\n",
              "0     1000   Anamaria      Bauer   45  Atlanta-Sandy Springs-Roswell, GA MSA   \n",
              "1     1001     Mickey  Wilkerson   28        Seattle-Tacoma-Bellevue, WA MSA   \n",
              "2     1002     Carlee    Hoffman   36   Las Vegas-Henderson-Paradise, NV MSA   \n",
              "3     1003   Reynaldo    Jenkins   52                          Tulsa, OK MSA   \n",
              "4     1004    Leonila   Thompson   40        Seattle-Tacoma-Bellevue, WA MSA   \n",
              "\n",
              "     reg_date      plan churn_date  \n",
              "0  2018-12-24  ultimate        NaN  \n",
              "1  2018-08-13      surf        NaN  \n",
              "2  2018-10-21      surf        NaN  \n",
              "3  2018-01-28      surf        NaN  \n",
              "4  2018-05-23      surf        NaN  "
            ]
          },
          "execution_count": 24,
          "metadata": {},
          "output_type": "execute_result"
        }
      ],
      "source": [
        "data_users.head()"
      ]
    },
    {
      "cell_type": "code",
      "execution_count": null,
      "metadata": {
        "colab": {
          "base_uri": "https://localhost:8080/",
          "height": 300
        },
        "id": "IqburnWyEO8F",
        "outputId": "d7e71091-8350-4c8a-d3a9-792c18fbde45"
      },
      "outputs": [
        {
          "data": {
            "text/html": [
              "<div>\n",
              "<style scoped>\n",
              "    .dataframe tbody tr th:only-of-type {\n",
              "        vertical-align: middle;\n",
              "    }\n",
              "\n",
              "    .dataframe tbody tr th {\n",
              "        vertical-align: top;\n",
              "    }\n",
              "\n",
              "    .dataframe thead th {\n",
              "        text-align: right;\n",
              "    }\n",
              "</style>\n",
              "<table border=\"1\" class=\"dataframe\">\n",
              "  <thead>\n",
              "    <tr style=\"text-align: right;\">\n",
              "      <th></th>\n",
              "      <th>user_id</th>\n",
              "      <th>age</th>\n",
              "    </tr>\n",
              "  </thead>\n",
              "  <tbody>\n",
              "    <tr>\n",
              "      <th>count</th>\n",
              "      <td>500.000000</td>\n",
              "      <td>500.000000</td>\n",
              "    </tr>\n",
              "    <tr>\n",
              "      <th>mean</th>\n",
              "      <td>1249.500000</td>\n",
              "      <td>45.486000</td>\n",
              "    </tr>\n",
              "    <tr>\n",
              "      <th>std</th>\n",
              "      <td>144.481833</td>\n",
              "      <td>16.972269</td>\n",
              "    </tr>\n",
              "    <tr>\n",
              "      <th>min</th>\n",
              "      <td>1000.000000</td>\n",
              "      <td>18.000000</td>\n",
              "    </tr>\n",
              "    <tr>\n",
              "      <th>25%</th>\n",
              "      <td>1124.750000</td>\n",
              "      <td>30.000000</td>\n",
              "    </tr>\n",
              "    <tr>\n",
              "      <th>50%</th>\n",
              "      <td>1249.500000</td>\n",
              "      <td>46.000000</td>\n",
              "    </tr>\n",
              "    <tr>\n",
              "      <th>75%</th>\n",
              "      <td>1374.250000</td>\n",
              "      <td>61.000000</td>\n",
              "    </tr>\n",
              "    <tr>\n",
              "      <th>max</th>\n",
              "      <td>1499.000000</td>\n",
              "      <td>75.000000</td>\n",
              "    </tr>\n",
              "  </tbody>\n",
              "</table>\n",
              "</div>"
            ],
            "text/plain": [
              "           user_id         age\n",
              "count   500.000000  500.000000\n",
              "mean   1249.500000   45.486000\n",
              "std     144.481833   16.972269\n",
              "min    1000.000000   18.000000\n",
              "25%    1124.750000   30.000000\n",
              "50%    1249.500000   46.000000\n",
              "75%    1374.250000   61.000000\n",
              "max    1499.000000   75.000000"
            ]
          },
          "execution_count": 25,
          "metadata": {},
          "output_type": "execute_result"
        }
      ],
      "source": [
        "data_users.describe()"
      ]
    },
    {
      "cell_type": "code",
      "execution_count": null,
      "metadata": {
        "colab": {
          "base_uri": "https://localhost:8080/"
        },
        "id": "oDjX9DdaKypZ",
        "outputId": "4c78e246-7bf4-4310-82b9-7d73724cc717"
      },
      "outputs": [
        {
          "data": {
            "text/plain": [
              "user_id         0\n",
              "first_name      0\n",
              "last_name       0\n",
              "age             0\n",
              "city            0\n",
              "reg_date        0\n",
              "plan            0\n",
              "churn_date    466\n",
              "dtype: int64"
            ]
          },
          "execution_count": 26,
          "metadata": {},
          "output_type": "execute_result"
        }
      ],
      "source": [
        "data_users.isnull().sum()"
      ]
    },
    {
      "cell_type": "code",
      "execution_count": null,
      "metadata": {
        "colab": {
          "base_uri": "https://localhost:8080/"
        },
        "id": "O-Q87lKoKyko",
        "outputId": "fe916e09-ed16-4071-acc0-9a3340c5308a"
      },
      "outputs": [
        {
          "data": {
            "text/plain": [
              "0"
            ]
          },
          "execution_count": 27,
          "metadata": {},
          "output_type": "execute_result"
        }
      ],
      "source": [
        "data_users.duplicated().sum()"
      ]
    },
    {
      "cell_type": "markdown",
      "metadata": {
        "id": "1ojHdDrcOSjN"
      },
      "source": [
        "### Conclusion General Parte 1"
      ]
    },
    {
      "cell_type": "markdown",
      "metadata": {
        "id": "-54ZfLb8K6g9"
      },
      "source": [
        "En este primer analisis de los datos podemos decir que la base de datos ususarios presenta datos nulos en la columna ‘churn_date’ y error de formato en la columna ‘reg_date’. Para la base de datos de internet, mensajes y llamadas también presenta error de formato en las columnas relacionadas a fecha, Por último señalar que ninguna base de datos presenta datos duplicados."
      ]
    },
    {
      "cell_type": "markdown",
      "metadata": {
        "id": "sQ7Zk10ROnmJ"
      },
      "source": [
        "## Preparacion los datos"
      ]
    },
    {
      "cell_type": "markdown",
      "metadata": {
        "id": "7EOPFYqyta8c"
      },
      "source": [
        "### Data_calls"
      ]
    },
    {
      "cell_type": "code",
      "execution_count": null,
      "metadata": {
        "id": "DYzhfOVBt5Kb"
      },
      "outputs": [],
      "source": [
        "data_calls['call_date'] = pd.to_datetime(data_calls['call_date'], format='%Y-%m-%d %H:%M:%S', errors='raise') "
      ]
    },
    {
      "cell_type": "code",
      "execution_count": null,
      "metadata": {
        "colab": {
          "base_uri": "https://localhost:8080/"
        },
        "id": "pI1y_vqYv1ey",
        "outputId": "0251d2e6-2bae-4b5e-b951-b58444bf6ae7"
      },
      "outputs": [
        {
          "name": "stdout",
          "output_type": "stream",
          "text": [
            "<class 'pandas.core.frame.DataFrame'>\n",
            "RangeIndex: 137735 entries, 0 to 137734\n",
            "Data columns (total 4 columns):\n",
            " #   Column     Non-Null Count   Dtype         \n",
            "---  ------     --------------   -----         \n",
            " 0   id         137735 non-null  object        \n",
            " 1   user_id    137735 non-null  int64         \n",
            " 2   call_date  137735 non-null  datetime64[ns]\n",
            " 3   duration   137735 non-null  float64       \n",
            "dtypes: datetime64[ns](1), float64(1), int64(1), object(1)\n",
            "memory usage: 4.2+ MB\n"
          ]
        }
      ],
      "source": [
        "data_calls.info()"
      ]
    },
    {
      "cell_type": "code",
      "execution_count": null,
      "metadata": {
        "id": "wwPfNEK7udYJ"
      },
      "outputs": [],
      "source": [
        "data_calls['mes'] = data_calls['call_date'].dt.month_name()"
      ]
    },
    {
      "cell_type": "code",
      "execution_count": null,
      "metadata": {
        "id": "N2vobEBJ-h3g"
      },
      "outputs": [],
      "source": [
        "data_calls['duration'] = np.ceil(data_calls['duration'])"
      ]
    },
    {
      "cell_type": "code",
      "execution_count": null,
      "metadata": {
        "id": "Tf6KMmSu-h3g"
      },
      "outputs": [],
      "source": [
        "data_calls['duration'] = data_calls['duration'].astype('int')"
      ]
    },
    {
      "cell_type": "code",
      "execution_count": null,
      "metadata": {
        "scrolled": true,
        "id": "Mas7ckLX-h3g",
        "outputId": "5471deb5-96d4-4ccb-e176-a16f7a4efb00"
      },
      "outputs": [
        {
          "data": {
            "text/html": [
              "<div>\n",
              "<style scoped>\n",
              "    .dataframe tbody tr th:only-of-type {\n",
              "        vertical-align: middle;\n",
              "    }\n",
              "\n",
              "    .dataframe tbody tr th {\n",
              "        vertical-align: top;\n",
              "    }\n",
              "\n",
              "    .dataframe thead th {\n",
              "        text-align: right;\n",
              "    }\n",
              "</style>\n",
              "<table border=\"1\" class=\"dataframe\">\n",
              "  <thead>\n",
              "    <tr style=\"text-align: right;\">\n",
              "      <th></th>\n",
              "      <th>id</th>\n",
              "      <th>user_id</th>\n",
              "      <th>call_date</th>\n",
              "      <th>duration</th>\n",
              "      <th>mes</th>\n",
              "    </tr>\n",
              "  </thead>\n",
              "  <tbody>\n",
              "    <tr>\n",
              "      <th>0</th>\n",
              "      <td>1000_93</td>\n",
              "      <td>1000</td>\n",
              "      <td>2018-12-27</td>\n",
              "      <td>9</td>\n",
              "      <td>December</td>\n",
              "    </tr>\n",
              "    <tr>\n",
              "      <th>1</th>\n",
              "      <td>1000_145</td>\n",
              "      <td>1000</td>\n",
              "      <td>2018-12-27</td>\n",
              "      <td>14</td>\n",
              "      <td>December</td>\n",
              "    </tr>\n",
              "    <tr>\n",
              "      <th>2</th>\n",
              "      <td>1000_247</td>\n",
              "      <td>1000</td>\n",
              "      <td>2018-12-27</td>\n",
              "      <td>15</td>\n",
              "      <td>December</td>\n",
              "    </tr>\n",
              "    <tr>\n",
              "      <th>3</th>\n",
              "      <td>1000_309</td>\n",
              "      <td>1000</td>\n",
              "      <td>2018-12-28</td>\n",
              "      <td>6</td>\n",
              "      <td>December</td>\n",
              "    </tr>\n",
              "    <tr>\n",
              "      <th>4</th>\n",
              "      <td>1000_380</td>\n",
              "      <td>1000</td>\n",
              "      <td>2018-12-30</td>\n",
              "      <td>5</td>\n",
              "      <td>December</td>\n",
              "    </tr>\n",
              "  </tbody>\n",
              "</table>\n",
              "</div>"
            ],
            "text/plain": [
              "         id  user_id  call_date  duration       mes\n",
              "0   1000_93     1000 2018-12-27         9  December\n",
              "1  1000_145     1000 2018-12-27        14  December\n",
              "2  1000_247     1000 2018-12-27        15  December\n",
              "3  1000_309     1000 2018-12-28         6  December\n",
              "4  1000_380     1000 2018-12-30         5  December"
            ]
          },
          "execution_count": 33,
          "metadata": {},
          "output_type": "execute_result"
        }
      ],
      "source": [
        "data_calls.head()"
      ]
    },
    {
      "cell_type": "code",
      "execution_count": null,
      "metadata": {
        "colab": {
          "base_uri": "https://localhost:8080/"
        },
        "id": "DtKGeiPZuiQh",
        "outputId": "db591bb5-9f69-46b4-fa9a-f279915f3c6a"
      },
      "outputs": [
        {
          "name": "stdout",
          "output_type": "stream",
          "text": [
            "<class 'pandas.core.frame.DataFrame'>\n",
            "RangeIndex: 137735 entries, 0 to 137734\n",
            "Data columns (total 5 columns):\n",
            " #   Column     Non-Null Count   Dtype         \n",
            "---  ------     --------------   -----         \n",
            " 0   id         137735 non-null  object        \n",
            " 1   user_id    137735 non-null  int64         \n",
            " 2   call_date  137735 non-null  datetime64[ns]\n",
            " 3   duration   137735 non-null  int64         \n",
            " 4   mes        137735 non-null  object        \n",
            "dtypes: datetime64[ns](1), int64(2), object(2)\n",
            "memory usage: 5.3+ MB\n"
          ]
        }
      ],
      "source": [
        "data_calls.info()"
      ]
    },
    {
      "cell_type": "markdown",
      "metadata": {
        "id": "ZoSyktAJ36Ps"
      },
      "source": [
        "Para la base de datos Calls, se cambia el formato de la columna 'call_date'.\n",
        "Se agrega una nueva columna 'mes'.\n",
        "Se redondean los valores de la columna 'duration'."
      ]
    },
    {
      "cell_type": "markdown",
      "metadata": {
        "id": "uZ6yk67B9T5t"
      },
      "source": [
        "### Data_internet"
      ]
    },
    {
      "cell_type": "code",
      "execution_count": null,
      "metadata": {
        "colab": {
          "base_uri": "https://localhost:8080/",
          "height": 112
        },
        "id": "bpvjcTHa9Y9M",
        "outputId": "e15993d1-d6f0-4c88-cc03-fbee245bcbe7"
      },
      "outputs": [
        {
          "data": {
            "text/html": [
              "<div>\n",
              "<style scoped>\n",
              "    .dataframe tbody tr th:only-of-type {\n",
              "        vertical-align: middle;\n",
              "    }\n",
              "\n",
              "    .dataframe tbody tr th {\n",
              "        vertical-align: top;\n",
              "    }\n",
              "\n",
              "    .dataframe thead th {\n",
              "        text-align: right;\n",
              "    }\n",
              "</style>\n",
              "<table border=\"1\" class=\"dataframe\">\n",
              "  <thead>\n",
              "    <tr style=\"text-align: right;\">\n",
              "      <th></th>\n",
              "      <th>id</th>\n",
              "      <th>user_id</th>\n",
              "      <th>session_date</th>\n",
              "      <th>mb_used</th>\n",
              "    </tr>\n",
              "  </thead>\n",
              "  <tbody>\n",
              "    <tr>\n",
              "      <th>0</th>\n",
              "      <td>1000_13</td>\n",
              "      <td>1000</td>\n",
              "      <td>2018-12-29</td>\n",
              "      <td>89.86</td>\n",
              "    </tr>\n",
              "    <tr>\n",
              "      <th>1</th>\n",
              "      <td>1000_204</td>\n",
              "      <td>1000</td>\n",
              "      <td>2018-12-31</td>\n",
              "      <td>0.00</td>\n",
              "    </tr>\n",
              "  </tbody>\n",
              "</table>\n",
              "</div>"
            ],
            "text/plain": [
              "         id  user_id session_date  mb_used\n",
              "0   1000_13     1000   2018-12-29    89.86\n",
              "1  1000_204     1000   2018-12-31     0.00"
            ]
          },
          "execution_count": 35,
          "metadata": {},
          "output_type": "execute_result"
        }
      ],
      "source": [
        "data_internet.head(2)"
      ]
    },
    {
      "cell_type": "code",
      "execution_count": null,
      "metadata": {
        "id": "qjwScccT9d_8"
      },
      "outputs": [],
      "source": [
        "data_internet['session_date'] = pd.to_datetime(data_internet['session_date'], format='%Y-%m-%d %H:%M:%S', errors='raise')"
      ]
    },
    {
      "cell_type": "code",
      "execution_count": null,
      "metadata": {
        "id": "XipRjlnS-TAW"
      },
      "outputs": [],
      "source": [
        "data_internet['mes'] = data_internet['session_date'].dt.month_name()"
      ]
    },
    {
      "cell_type": "code",
      "execution_count": null,
      "metadata": {
        "colab": {
          "base_uri": "https://localhost:8080/"
        },
        "id": "xiYwqryg-j7H",
        "outputId": "bbd0f44d-644f-4324-b056-56fc2b11d5e1"
      },
      "outputs": [
        {
          "name": "stdout",
          "output_type": "stream",
          "text": [
            "<class 'pandas.core.frame.DataFrame'>\n",
            "RangeIndex: 104825 entries, 0 to 104824\n",
            "Data columns (total 5 columns):\n",
            " #   Column        Non-Null Count   Dtype         \n",
            "---  ------        --------------   -----         \n",
            " 0   id            104825 non-null  object        \n",
            " 1   user_id       104825 non-null  int64         \n",
            " 2   session_date  104825 non-null  datetime64[ns]\n",
            " 3   mb_used       104825 non-null  float64       \n",
            " 4   mes           104825 non-null  object        \n",
            "dtypes: datetime64[ns](1), float64(1), int64(1), object(2)\n",
            "memory usage: 4.0+ MB\n"
          ]
        }
      ],
      "source": [
        "data_internet.info()"
      ]
    },
    {
      "cell_type": "code",
      "execution_count": null,
      "metadata": {
        "colab": {
          "base_uri": "https://localhost:8080/",
          "height": 112
        },
        "id": "JgKE8pt3_Bjp",
        "outputId": "747de374-034c-4635-f66d-e572ad97d220"
      },
      "outputs": [
        {
          "data": {
            "text/html": [
              "<div>\n",
              "<style scoped>\n",
              "    .dataframe tbody tr th:only-of-type {\n",
              "        vertical-align: middle;\n",
              "    }\n",
              "\n",
              "    .dataframe tbody tr th {\n",
              "        vertical-align: top;\n",
              "    }\n",
              "\n",
              "    .dataframe thead th {\n",
              "        text-align: right;\n",
              "    }\n",
              "</style>\n",
              "<table border=\"1\" class=\"dataframe\">\n",
              "  <thead>\n",
              "    <tr style=\"text-align: right;\">\n",
              "      <th></th>\n",
              "      <th>id</th>\n",
              "      <th>user_id</th>\n",
              "      <th>session_date</th>\n",
              "      <th>mb_used</th>\n",
              "      <th>mes</th>\n",
              "    </tr>\n",
              "  </thead>\n",
              "  <tbody>\n",
              "    <tr>\n",
              "      <th>0</th>\n",
              "      <td>1000_13</td>\n",
              "      <td>1000</td>\n",
              "      <td>2018-12-29</td>\n",
              "      <td>89.86</td>\n",
              "      <td>December</td>\n",
              "    </tr>\n",
              "    <tr>\n",
              "      <th>1</th>\n",
              "      <td>1000_204</td>\n",
              "      <td>1000</td>\n",
              "      <td>2018-12-31</td>\n",
              "      <td>0.00</td>\n",
              "      <td>December</td>\n",
              "    </tr>\n",
              "  </tbody>\n",
              "</table>\n",
              "</div>"
            ],
            "text/plain": [
              "         id  user_id session_date  mb_used       mes\n",
              "0   1000_13     1000   2018-12-29    89.86  December\n",
              "1  1000_204     1000   2018-12-31     0.00  December"
            ]
          },
          "execution_count": 39,
          "metadata": {},
          "output_type": "execute_result"
        }
      ],
      "source": [
        "data_internet.head(2)"
      ]
    },
    {
      "cell_type": "markdown",
      "metadata": {
        "id": "f9lywsSnJfEd"
      },
      "source": [
        "Para la base de datos 'internet', se cambió el formato en la columna 'session_date'.\n",
        "Se agrega la columna 'mes'"
      ]
    },
    {
      "cell_type": "markdown",
      "metadata": {
        "id": "U9aMHVeXIxA3"
      },
      "source": [
        "### Data_messages"
      ]
    },
    {
      "cell_type": "code",
      "execution_count": null,
      "metadata": {
        "colab": {
          "base_uri": "https://localhost:8080/",
          "height": 423
        },
        "id": "Zw82SSGcI1xP",
        "outputId": "a3ee4bcc-919c-499e-d5fc-307b25ad1ff4"
      },
      "outputs": [
        {
          "data": {
            "text/html": [
              "<div>\n",
              "<style scoped>\n",
              "    .dataframe tbody tr th:only-of-type {\n",
              "        vertical-align: middle;\n",
              "    }\n",
              "\n",
              "    .dataframe tbody tr th {\n",
              "        vertical-align: top;\n",
              "    }\n",
              "\n",
              "    .dataframe thead th {\n",
              "        text-align: right;\n",
              "    }\n",
              "</style>\n",
              "<table border=\"1\" class=\"dataframe\">\n",
              "  <thead>\n",
              "    <tr style=\"text-align: right;\">\n",
              "      <th></th>\n",
              "      <th>id</th>\n",
              "      <th>user_id</th>\n",
              "      <th>message_date</th>\n",
              "    </tr>\n",
              "  </thead>\n",
              "  <tbody>\n",
              "    <tr>\n",
              "      <th>0</th>\n",
              "      <td>1000_125</td>\n",
              "      <td>1000</td>\n",
              "      <td>2018-12-27</td>\n",
              "    </tr>\n",
              "    <tr>\n",
              "      <th>1</th>\n",
              "      <td>1000_160</td>\n",
              "      <td>1000</td>\n",
              "      <td>2018-12-31</td>\n",
              "    </tr>\n",
              "    <tr>\n",
              "      <th>2</th>\n",
              "      <td>1000_223</td>\n",
              "      <td>1000</td>\n",
              "      <td>2018-12-31</td>\n",
              "    </tr>\n",
              "    <tr>\n",
              "      <th>3</th>\n",
              "      <td>1000_251</td>\n",
              "      <td>1000</td>\n",
              "      <td>2018-12-27</td>\n",
              "    </tr>\n",
              "    <tr>\n",
              "      <th>4</th>\n",
              "      <td>1000_255</td>\n",
              "      <td>1000</td>\n",
              "      <td>2018-12-26</td>\n",
              "    </tr>\n",
              "    <tr>\n",
              "      <th>...</th>\n",
              "      <td>...</td>\n",
              "      <td>...</td>\n",
              "      <td>...</td>\n",
              "    </tr>\n",
              "    <tr>\n",
              "      <th>76046</th>\n",
              "      <td>1497_526</td>\n",
              "      <td>1497</td>\n",
              "      <td>2018-12-24</td>\n",
              "    </tr>\n",
              "    <tr>\n",
              "      <th>76047</th>\n",
              "      <td>1497_536</td>\n",
              "      <td>1497</td>\n",
              "      <td>2018-12-24</td>\n",
              "    </tr>\n",
              "    <tr>\n",
              "      <th>76048</th>\n",
              "      <td>1497_547</td>\n",
              "      <td>1497</td>\n",
              "      <td>2018-12-31</td>\n",
              "    </tr>\n",
              "    <tr>\n",
              "      <th>76049</th>\n",
              "      <td>1497_558</td>\n",
              "      <td>1497</td>\n",
              "      <td>2018-12-24</td>\n",
              "    </tr>\n",
              "    <tr>\n",
              "      <th>76050</th>\n",
              "      <td>1497_613</td>\n",
              "      <td>1497</td>\n",
              "      <td>2018-12-23</td>\n",
              "    </tr>\n",
              "  </tbody>\n",
              "</table>\n",
              "<p>76051 rows × 3 columns</p>\n",
              "</div>"
            ],
            "text/plain": [
              "             id  user_id message_date\n",
              "0      1000_125     1000   2018-12-27\n",
              "1      1000_160     1000   2018-12-31\n",
              "2      1000_223     1000   2018-12-31\n",
              "3      1000_251     1000   2018-12-27\n",
              "4      1000_255     1000   2018-12-26\n",
              "...         ...      ...          ...\n",
              "76046  1497_526     1497   2018-12-24\n",
              "76047  1497_536     1497   2018-12-24\n",
              "76048  1497_547     1497   2018-12-31\n",
              "76049  1497_558     1497   2018-12-24\n",
              "76050  1497_613     1497   2018-12-23\n",
              "\n",
              "[76051 rows x 3 columns]"
            ]
          },
          "execution_count": 40,
          "metadata": {},
          "output_type": "execute_result"
        }
      ],
      "source": [
        "data_messages"
      ]
    },
    {
      "cell_type": "code",
      "execution_count": null,
      "metadata": {
        "id": "mlCNHony8nBK"
      },
      "outputs": [],
      "source": [
        "data_messages['message_date'] = pd.to_datetime(data_messages['message_date'], format='%Y-%m-%d %H:%M:%S', errors='raise')"
      ]
    },
    {
      "cell_type": "code",
      "execution_count": null,
      "metadata": {
        "id": "2TWP7kui9DR9"
      },
      "outputs": [],
      "source": [
        "data_messages['mes'] = data_messages['message_date'].dt.month_name()"
      ]
    },
    {
      "cell_type": "code",
      "execution_count": null,
      "metadata": {
        "colab": {
          "base_uri": "https://localhost:8080/"
        },
        "id": "GLqfUh_69V4v",
        "outputId": "a5fc1f70-d0ea-4d67-d796-8166c7dd1a91"
      },
      "outputs": [
        {
          "name": "stdout",
          "output_type": "stream",
          "text": [
            "<class 'pandas.core.frame.DataFrame'>\n",
            "RangeIndex: 76051 entries, 0 to 76050\n",
            "Data columns (total 4 columns):\n",
            " #   Column        Non-Null Count  Dtype         \n",
            "---  ------        --------------  -----         \n",
            " 0   id            76051 non-null  object        \n",
            " 1   user_id       76051 non-null  int64         \n",
            " 2   message_date  76051 non-null  datetime64[ns]\n",
            " 3   mes           76051 non-null  object        \n",
            "dtypes: datetime64[ns](1), int64(1), object(2)\n",
            "memory usage: 2.3+ MB\n"
          ]
        }
      ],
      "source": [
        "data_messages.info()"
      ]
    },
    {
      "cell_type": "code",
      "execution_count": null,
      "metadata": {
        "colab": {
          "base_uri": "https://localhost:8080/",
          "height": 112
        },
        "id": "r9XJzN6R9cLx",
        "outputId": "3693ee86-bd83-4c35-bead-61eb18455810"
      },
      "outputs": [
        {
          "data": {
            "text/html": [
              "<div>\n",
              "<style scoped>\n",
              "    .dataframe tbody tr th:only-of-type {\n",
              "        vertical-align: middle;\n",
              "    }\n",
              "\n",
              "    .dataframe tbody tr th {\n",
              "        vertical-align: top;\n",
              "    }\n",
              "\n",
              "    .dataframe thead th {\n",
              "        text-align: right;\n",
              "    }\n",
              "</style>\n",
              "<table border=\"1\" class=\"dataframe\">\n",
              "  <thead>\n",
              "    <tr style=\"text-align: right;\">\n",
              "      <th></th>\n",
              "      <th>id</th>\n",
              "      <th>user_id</th>\n",
              "      <th>message_date</th>\n",
              "      <th>mes</th>\n",
              "    </tr>\n",
              "  </thead>\n",
              "  <tbody>\n",
              "    <tr>\n",
              "      <th>0</th>\n",
              "      <td>1000_125</td>\n",
              "      <td>1000</td>\n",
              "      <td>2018-12-27</td>\n",
              "      <td>December</td>\n",
              "    </tr>\n",
              "    <tr>\n",
              "      <th>1</th>\n",
              "      <td>1000_160</td>\n",
              "      <td>1000</td>\n",
              "      <td>2018-12-31</td>\n",
              "      <td>December</td>\n",
              "    </tr>\n",
              "  </tbody>\n",
              "</table>\n",
              "</div>"
            ],
            "text/plain": [
              "         id  user_id message_date       mes\n",
              "0  1000_125     1000   2018-12-27  December\n",
              "1  1000_160     1000   2018-12-31  December"
            ]
          },
          "execution_count": 44,
          "metadata": {},
          "output_type": "execute_result"
        }
      ],
      "source": [
        "data_messages.head(2)"
      ]
    },
    {
      "cell_type": "markdown",
      "metadata": {
        "id": "koLXKHwI9mZ2"
      },
      "source": [
        "Para la base de datos 'messages' se cambió el tipo de formato de la columna 'message_date'. \n",
        "Se agrego la columna 'mes'."
      ]
    },
    {
      "cell_type": "markdown",
      "metadata": {
        "id": "YdD5JAJu_YjY"
      },
      "source": [
        "### Data_plans"
      ]
    },
    {
      "cell_type": "code",
      "execution_count": null,
      "metadata": {
        "colab": {
          "base_uri": "https://localhost:8080/",
          "height": 112
        },
        "id": "Cdl-Tgn5_ePa",
        "outputId": "8e653ee5-b226-409c-93ec-8dd878124aa0"
      },
      "outputs": [
        {
          "data": {
            "text/html": [
              "<div>\n",
              "<style scoped>\n",
              "    .dataframe tbody tr th:only-of-type {\n",
              "        vertical-align: middle;\n",
              "    }\n",
              "\n",
              "    .dataframe tbody tr th {\n",
              "        vertical-align: top;\n",
              "    }\n",
              "\n",
              "    .dataframe thead th {\n",
              "        text-align: right;\n",
              "    }\n",
              "</style>\n",
              "<table border=\"1\" class=\"dataframe\">\n",
              "  <thead>\n",
              "    <tr style=\"text-align: right;\">\n",
              "      <th></th>\n",
              "      <th>messages_included</th>\n",
              "      <th>mb_per_month_included</th>\n",
              "      <th>minutes_included</th>\n",
              "      <th>usd_monthly_pay</th>\n",
              "      <th>usd_per_gb</th>\n",
              "      <th>usd_per_message</th>\n",
              "      <th>usd_per_minute</th>\n",
              "      <th>plan_name</th>\n",
              "    </tr>\n",
              "  </thead>\n",
              "  <tbody>\n",
              "    <tr>\n",
              "      <th>0</th>\n",
              "      <td>50</td>\n",
              "      <td>15360</td>\n",
              "      <td>500</td>\n",
              "      <td>20</td>\n",
              "      <td>10</td>\n",
              "      <td>0.03</td>\n",
              "      <td>0.03</td>\n",
              "      <td>surf</td>\n",
              "    </tr>\n",
              "    <tr>\n",
              "      <th>1</th>\n",
              "      <td>1000</td>\n",
              "      <td>30720</td>\n",
              "      <td>3000</td>\n",
              "      <td>70</td>\n",
              "      <td>7</td>\n",
              "      <td>0.01</td>\n",
              "      <td>0.01</td>\n",
              "      <td>ultimate</td>\n",
              "    </tr>\n",
              "  </tbody>\n",
              "</table>\n",
              "</div>"
            ],
            "text/plain": [
              "   messages_included  mb_per_month_included  minutes_included  \\\n",
              "0                 50                  15360               500   \n",
              "1               1000                  30720              3000   \n",
              "\n",
              "   usd_monthly_pay  usd_per_gb  usd_per_message  usd_per_minute plan_name  \n",
              "0               20          10             0.03            0.03      surf  \n",
              "1               70           7             0.01            0.01  ultimate  "
            ]
          },
          "execution_count": 45,
          "metadata": {},
          "output_type": "execute_result"
        }
      ],
      "source": [
        "data_plans"
      ]
    },
    {
      "cell_type": "markdown",
      "metadata": {
        "id": "6qVdzUsj_vdM"
      },
      "source": [
        "Esta base de dato, esta bien, no se realizara cambio alguno "
      ]
    },
    {
      "cell_type": "markdown",
      "metadata": {
        "id": "5bzAer6iABsn"
      },
      "source": [
        "### Data_users"
      ]
    },
    {
      "cell_type": "code",
      "execution_count": null,
      "metadata": {
        "colab": {
          "base_uri": "https://localhost:8080/",
          "height": 112
        },
        "id": "rJtOiiNvAOb1",
        "outputId": "116eb921-b6fb-4f1b-d4e5-344ff4bec8ce"
      },
      "outputs": [
        {
          "data": {
            "text/html": [
              "<div>\n",
              "<style scoped>\n",
              "    .dataframe tbody tr th:only-of-type {\n",
              "        vertical-align: middle;\n",
              "    }\n",
              "\n",
              "    .dataframe tbody tr th {\n",
              "        vertical-align: top;\n",
              "    }\n",
              "\n",
              "    .dataframe thead th {\n",
              "        text-align: right;\n",
              "    }\n",
              "</style>\n",
              "<table border=\"1\" class=\"dataframe\">\n",
              "  <thead>\n",
              "    <tr style=\"text-align: right;\">\n",
              "      <th></th>\n",
              "      <th>user_id</th>\n",
              "      <th>first_name</th>\n",
              "      <th>last_name</th>\n",
              "      <th>age</th>\n",
              "      <th>city</th>\n",
              "      <th>reg_date</th>\n",
              "      <th>plan</th>\n",
              "      <th>churn_date</th>\n",
              "    </tr>\n",
              "  </thead>\n",
              "  <tbody>\n",
              "    <tr>\n",
              "      <th>0</th>\n",
              "      <td>1000</td>\n",
              "      <td>Anamaria</td>\n",
              "      <td>Bauer</td>\n",
              "      <td>45</td>\n",
              "      <td>Atlanta-Sandy Springs-Roswell, GA MSA</td>\n",
              "      <td>2018-12-24</td>\n",
              "      <td>ultimate</td>\n",
              "      <td>NaN</td>\n",
              "    </tr>\n",
              "    <tr>\n",
              "      <th>1</th>\n",
              "      <td>1001</td>\n",
              "      <td>Mickey</td>\n",
              "      <td>Wilkerson</td>\n",
              "      <td>28</td>\n",
              "      <td>Seattle-Tacoma-Bellevue, WA MSA</td>\n",
              "      <td>2018-08-13</td>\n",
              "      <td>surf</td>\n",
              "      <td>NaN</td>\n",
              "    </tr>\n",
              "  </tbody>\n",
              "</table>\n",
              "</div>"
            ],
            "text/plain": [
              "   user_id first_name  last_name  age                                   city  \\\n",
              "0     1000   Anamaria      Bauer   45  Atlanta-Sandy Springs-Roswell, GA MSA   \n",
              "1     1001     Mickey  Wilkerson   28        Seattle-Tacoma-Bellevue, WA MSA   \n",
              "\n",
              "     reg_date      plan churn_date  \n",
              "0  2018-12-24  ultimate        NaN  \n",
              "1  2018-08-13      surf        NaN  "
            ]
          },
          "execution_count": 46,
          "metadata": {},
          "output_type": "execute_result"
        }
      ],
      "source": [
        "data_users.head(2)"
      ]
    },
    {
      "cell_type": "code",
      "execution_count": null,
      "metadata": {
        "id": "hM6igeoWATBJ"
      },
      "outputs": [],
      "source": [
        "data_users['reg_date'] = pd.to_datetime(data_users['reg_date'], format='%Y-%m-%d %H:%M:%S', errors='raise')"
      ]
    },
    {
      "cell_type": "code",
      "execution_count": null,
      "metadata": {
        "id": "pRMxSlQbAfm4"
      },
      "outputs": [],
      "source": [
        "data_users['churn_date'] = pd.to_datetime(data_users['churn_date'], format='%Y-%m-%d %H:%M:%S', errors='raise')"
      ]
    },
    {
      "cell_type": "code",
      "execution_count": null,
      "metadata": {
        "colab": {
          "base_uri": "https://localhost:8080/"
        },
        "id": "NpCUx1roCRXv",
        "outputId": "77b22d24-76fb-4c8a-cb69-3598a08a8f00"
      },
      "outputs": [
        {
          "data": {
            "text/plain": [
              "user_id         0\n",
              "first_name      0\n",
              "last_name       0\n",
              "age             0\n",
              "city            0\n",
              "reg_date        0\n",
              "plan            0\n",
              "churn_date    466\n",
              "dtype: int64"
            ]
          },
          "execution_count": 49,
          "metadata": {},
          "output_type": "execute_result"
        }
      ],
      "source": [
        "data_users.isnull().sum()"
      ]
    },
    {
      "cell_type": "code",
      "execution_count": null,
      "metadata": {
        "colab": {
          "base_uri": "https://localhost:8080/"
        },
        "id": "1LQVOXFBAK9B",
        "outputId": "3500cbd2-ae07-458a-b492-77ec3322ea49"
      },
      "outputs": [
        {
          "name": "stdout",
          "output_type": "stream",
          "text": [
            "<class 'pandas.core.frame.DataFrame'>\n",
            "RangeIndex: 500 entries, 0 to 499\n",
            "Data columns (total 8 columns):\n",
            " #   Column      Non-Null Count  Dtype         \n",
            "---  ------      --------------  -----         \n",
            " 0   user_id     500 non-null    int64         \n",
            " 1   first_name  500 non-null    object        \n",
            " 2   last_name   500 non-null    object        \n",
            " 3   age         500 non-null    int64         \n",
            " 4   city        500 non-null    object        \n",
            " 5   reg_date    500 non-null    datetime64[ns]\n",
            " 6   plan        500 non-null    object        \n",
            " 7   churn_date  34 non-null     datetime64[ns]\n",
            "dtypes: datetime64[ns](2), int64(2), object(4)\n",
            "memory usage: 31.4+ KB\n"
          ]
        }
      ],
      "source": [
        "data_users.info()"
      ]
    },
    {
      "cell_type": "markdown",
      "metadata": {
        "id": "68MB8uHsCUIU"
      },
      "source": [
        "Para la base de datos 'user', se cambio el formato a las columnas 'reg_date', 'churn_date'. Los datos nulos 'churn_date' equivalen al 93.2% de la columna, pero por el momento se dejará asi para ver si tendra un impacto o no en nuestro analisis."
      ]
    },
    {
      "cell_type": "markdown",
      "metadata": {
        "id": "s-S4fMhNKK8E"
      },
      "source": [
        "### El número de llamadas realizadas y minutos utilizados al mes"
      ]
    },
    {
      "cell_type": "code",
      "execution_count": null,
      "metadata": {
        "colab": {
          "base_uri": "https://localhost:8080/"
        },
        "id": "KZa_h_q-K7Mk",
        "outputId": "f8dcee3b-6212-43a7-92fd-82fc6e11a56b"
      },
      "outputs": [
        {
          "data": {
            "text/plain": [
              "user_id  mes      \n",
              "1000     December     16\n",
              "1001     August       27\n",
              "         December     56\n",
              "         November     64\n",
              "         October      65\n",
              "                      ..\n",
              "1498     September    45\n",
              "1499     December     65\n",
              "         November     45\n",
              "         October      53\n",
              "         September    41\n",
              "Name: id, Length: 2258, dtype: int64"
            ]
          },
          "execution_count": 51,
          "metadata": {},
          "output_type": "execute_result"
        }
      ],
      "source": [
        "calls_mes = data_calls.groupby(['user_id','mes'])['id'].count()\n",
        "calls_mes"
      ]
    },
    {
      "cell_type": "code",
      "execution_count": null,
      "metadata": {
        "colab": {
          "base_uri": "https://localhost:8080/"
        },
        "id": "y_Wy3pdiLWF0",
        "outputId": "97e27351-e462-46e1-b0d7-0498bb9a83dd"
      },
      "outputs": [
        {
          "data": {
            "text/plain": [
              "user_id  mes      \n",
              "1000     December     124\n",
              "1001     August       182\n",
              "         December     412\n",
              "         November     426\n",
              "         October      393\n",
              "                     ... \n",
              "1498     September    363\n",
              "1499     December     496\n",
              "         November     308\n",
              "         October      385\n",
              "         September    346\n",
              "Name: duration, Length: 2258, dtype: int64"
            ]
          },
          "execution_count": 52,
          "metadata": {},
          "output_type": "execute_result"
        }
      ],
      "source": [
        "minutos_mes = data_calls.groupby(['user_id','mes'])['duration'].sum()\n",
        "minutos_mes"
      ]
    },
    {
      "cell_type": "markdown",
      "metadata": {
        "id": "OJx3ccktOuhs"
      },
      "source": [
        "El primer Código, es para calcular el N° de llamadas por usuario, y el segundo Código es para el N° de minutos utilizado por usuario."
      ]
    },
    {
      "cell_type": "markdown",
      "metadata": {
        "id": "uIo5DLcEOg0N"
      },
      "source": [
        "### La cantidad de los SMS enviados por mes"
      ]
    },
    {
      "cell_type": "code",
      "execution_count": null,
      "metadata": {
        "colab": {
          "base_uri": "https://localhost:8080/"
        },
        "id": "drEGjKgnOjlN",
        "outputId": "19444f41-7ec3-4f2f-ef9b-b05e0fa2bd20"
      },
      "outputs": [
        {
          "data": {
            "text/plain": [
              "user_id  mes      \n",
              "1000     December     11\n",
              "1001     August       30\n",
              "         December     44\n",
              "         November     36\n",
              "         October      53\n",
              "                      ..\n",
              "1496     December     11\n",
              "         November     13\n",
              "         October      18\n",
              "         September    21\n",
              "1497     December     50\n",
              "Name: id, Length: 1806, dtype: int64"
            ]
          },
          "execution_count": 53,
          "metadata": {},
          "output_type": "execute_result"
        }
      ],
      "source": [
        "messeges_mes = data_messages.groupby(['user_id', 'mes'])['id'].count()\n",
        "messeges_mes"
      ]
    },
    {
      "cell_type": "markdown",
      "metadata": {
        "id": "H5eY-kPfPmcj"
      },
      "source": [
        "Este Codigo es para calcular la cantidad de mensajes enviados por usuario"
      ]
    },
    {
      "cell_type": "code",
      "execution_count": null,
      "metadata": {
        "colab": {
          "base_uri": "https://localhost:8080/"
        },
        "id": "VnfVJye8P3ri",
        "outputId": "6d75796f-3e0d-4d75-ca24-36447cc7e72a"
      },
      "outputs": [
        {
          "data": {
            "text/plain": [
              "user_id  mes      \n",
              "1000     December      1901.47\n",
              "1001     August        6919.15\n",
              "         December     19369.18\n",
              "         November     18504.30\n",
              "         October      22330.49\n",
              "                        ...   \n",
              "1498     September    22827.28\n",
              "1499     December     22059.21\n",
              "         November     16813.83\n",
              "         October      19492.43\n",
              "         September    12984.76\n",
              "Name: mb_used, Length: 2277, dtype: float64"
            ]
          },
          "execution_count": 54,
          "metadata": {},
          "output_type": "execute_result"
        }
      ],
      "source": [
        "datos_mes = data_internet.groupby(['user_id','mes'])['mb_used'].sum()\n",
        "datos_mes"
      ]
    },
    {
      "cell_type": "markdown",
      "metadata": {
        "id": "pABIsgj8Qnd_"
      },
      "source": [
        "Este Código es para saber la cantidad de datos por usuarios"
      ]
    },
    {
      "cell_type": "markdown",
      "metadata": {
        "id": "MGQpR_OWRU1p"
      },
      "source": [
        "### Transformacion de Datos para analisis"
      ]
    },
    {
      "cell_type": "code",
      "execution_count": null,
      "metadata": {
        "colab": {
          "base_uri": "https://localhost:8080/",
          "height": 191
        },
        "id": "Dd_soPy1RdQw",
        "outputId": "79b59176-24dc-410d-c2eb-8656a207367c",
        "scrolled": true
      },
      "outputs": [
        {
          "data": {
            "text/html": [
              "<div>\n",
              "<style scoped>\n",
              "    .dataframe tbody tr th:only-of-type {\n",
              "        vertical-align: middle;\n",
              "    }\n",
              "\n",
              "    .dataframe tbody tr th {\n",
              "        vertical-align: top;\n",
              "    }\n",
              "\n",
              "    .dataframe thead th {\n",
              "        text-align: right;\n",
              "    }\n",
              "</style>\n",
              "<table border=\"1\" class=\"dataframe\">\n",
              "  <thead>\n",
              "    <tr style=\"text-align: right;\">\n",
              "      <th></th>\n",
              "      <th>user_id</th>\n",
              "      <th>month</th>\n",
              "      <th>calls_made</th>\n",
              "      <th>call_duration</th>\n",
              "      <th>messages_sent</th>\n",
              "      <th>mb_used</th>\n",
              "      <th>first_name</th>\n",
              "      <th>last_name</th>\n",
              "      <th>age</th>\n",
              "      <th>city</th>\n",
              "      <th>reg_date</th>\n",
              "      <th>plan</th>\n",
              "      <th>churn_date</th>\n",
              "    </tr>\n",
              "  </thead>\n",
              "  <tbody>\n",
              "    <tr>\n",
              "      <th>0</th>\n",
              "      <td>1000</td>\n",
              "      <td>December</td>\n",
              "      <td>16.0</td>\n",
              "      <td>124.0</td>\n",
              "      <td>11.0</td>\n",
              "      <td>1901.47</td>\n",
              "      <td>Anamaria</td>\n",
              "      <td>Bauer</td>\n",
              "      <td>45</td>\n",
              "      <td>Atlanta-Sandy Springs-Roswell, GA MSA</td>\n",
              "      <td>2018-12-24</td>\n",
              "      <td>ultimate</td>\n",
              "      <td>NaT</td>\n",
              "    </tr>\n",
              "    <tr>\n",
              "      <th>1</th>\n",
              "      <td>1001</td>\n",
              "      <td>August</td>\n",
              "      <td>27.0</td>\n",
              "      <td>182.0</td>\n",
              "      <td>30.0</td>\n",
              "      <td>6919.15</td>\n",
              "      <td>Mickey</td>\n",
              "      <td>Wilkerson</td>\n",
              "      <td>28</td>\n",
              "      <td>Seattle-Tacoma-Bellevue, WA MSA</td>\n",
              "      <td>2018-08-13</td>\n",
              "      <td>surf</td>\n",
              "      <td>NaT</td>\n",
              "    </tr>\n",
              "  </tbody>\n",
              "</table>\n",
              "</div>"
            ],
            "text/plain": [
              "   user_id     month  calls_made  call_duration  messages_sent  mb_used  \\\n",
              "0     1000  December        16.0          124.0           11.0  1901.47   \n",
              "1     1001    August        27.0          182.0           30.0  6919.15   \n",
              "\n",
              "  first_name  last_name  age                                   city  \\\n",
              "0   Anamaria      Bauer   45  Atlanta-Sandy Springs-Roswell, GA MSA   \n",
              "1     Mickey  Wilkerson   28        Seattle-Tacoma-Bellevue, WA MSA   \n",
              "\n",
              "    reg_date      plan churn_date  \n",
              "0 2018-12-24  ultimate        NaT  \n",
              "1 2018-08-13      surf        NaT  "
            ]
          },
          "execution_count": 55,
          "metadata": {},
          "output_type": "execute_result"
        }
      ],
      "source": [
        "nuevo_data = pd.concat([calls_mes, minutos_mes, messeges_mes, datos_mes], axis=1).reset_index().fillna(0)\n",
        "nuevo_data.columns = ['user_id', 'month', 'calls_made', 'call_duration', 'messages_sent', 'mb_used']\n",
        "nuevo_data = nuevo_data.merge(data_users, on='user_id')\n",
        "nuevo_data.head(2)"
      ]
    },
    {
      "cell_type": "code",
      "execution_count": null,
      "metadata": {
        "id": "hTyDcsq9qqMU"
      },
      "outputs": [],
      "source": [
        "nuevo_data['gb_used'] = (nuevo_data['mb_used'] / 1024).apply(np.ceil)"
      ]
    },
    {
      "cell_type": "code",
      "execution_count": null,
      "metadata": {
        "id": "YnjpH7POTEiw"
      },
      "outputs": [],
      "source": [
        "nuevo_data = nuevo_data.merge(data_plans, left_on='plan', right_on='plan_name')"
      ]
    },
    {
      "cell_type": "markdown",
      "metadata": {
        "id": "la-vkMSj-h30"
      },
      "source": [
        "Aquí al nuevo_data se le agrega el data_plans con el método Marge, y se realizó la unión con left_on='plan' y right_on='plan_name', debido que no tenían el mismo nombre los df."
      ]
    },
    {
      "cell_type": "code",
      "execution_count": null,
      "metadata": {
        "colab": {
          "base_uri": "https://localhost:8080/",
          "height": 344
        },
        "id": "6-v4pUSGpCgg",
        "outputId": "5d09237b-db46-4a78-d0c6-3e7a1cc14ebc",
        "scrolled": false
      },
      "outputs": [
        {
          "data": {
            "text/html": [
              "<div>\n",
              "<style scoped>\n",
              "    .dataframe tbody tr th:only-of-type {\n",
              "        vertical-align: middle;\n",
              "    }\n",
              "\n",
              "    .dataframe tbody tr th {\n",
              "        vertical-align: top;\n",
              "    }\n",
              "\n",
              "    .dataframe thead th {\n",
              "        text-align: right;\n",
              "    }\n",
              "</style>\n",
              "<table border=\"1\" class=\"dataframe\">\n",
              "  <thead>\n",
              "    <tr style=\"text-align: right;\">\n",
              "      <th></th>\n",
              "      <th>user_id</th>\n",
              "      <th>month</th>\n",
              "      <th>calls_made</th>\n",
              "      <th>call_duration</th>\n",
              "      <th>messages_sent</th>\n",
              "      <th>mb_used</th>\n",
              "      <th>first_name</th>\n",
              "      <th>last_name</th>\n",
              "      <th>age</th>\n",
              "      <th>city</th>\n",
              "      <th>...</th>\n",
              "      <th>churn_date</th>\n",
              "      <th>gb_used</th>\n",
              "      <th>messages_included</th>\n",
              "      <th>mb_per_month_included</th>\n",
              "      <th>minutes_included</th>\n",
              "      <th>usd_monthly_pay</th>\n",
              "      <th>usd_per_gb</th>\n",
              "      <th>usd_per_message</th>\n",
              "      <th>usd_per_minute</th>\n",
              "      <th>plan_name</th>\n",
              "    </tr>\n",
              "  </thead>\n",
              "  <tbody>\n",
              "    <tr>\n",
              "      <th>0</th>\n",
              "      <td>1000</td>\n",
              "      <td>December</td>\n",
              "      <td>16.0</td>\n",
              "      <td>124.0</td>\n",
              "      <td>11.0</td>\n",
              "      <td>1901.47</td>\n",
              "      <td>Anamaria</td>\n",
              "      <td>Bauer</td>\n",
              "      <td>45</td>\n",
              "      <td>Atlanta-Sandy Springs-Roswell, GA MSA</td>\n",
              "      <td>...</td>\n",
              "      <td>NaT</td>\n",
              "      <td>2.0</td>\n",
              "      <td>1000</td>\n",
              "      <td>30720</td>\n",
              "      <td>3000</td>\n",
              "      <td>70</td>\n",
              "      <td>7</td>\n",
              "      <td>0.01</td>\n",
              "      <td>0.01</td>\n",
              "      <td>ultimate</td>\n",
              "    </tr>\n",
              "    <tr>\n",
              "      <th>1</th>\n",
              "      <td>1006</td>\n",
              "      <td>December</td>\n",
              "      <td>9.0</td>\n",
              "      <td>59.0</td>\n",
              "      <td>139.0</td>\n",
              "      <td>32118.82</td>\n",
              "      <td>Jesusa</td>\n",
              "      <td>Bradford</td>\n",
              "      <td>73</td>\n",
              "      <td>San Francisco-Oakland-Berkeley, CA MSA</td>\n",
              "      <td>...</td>\n",
              "      <td>2018-12-18</td>\n",
              "      <td>32.0</td>\n",
              "      <td>1000</td>\n",
              "      <td>30720</td>\n",
              "      <td>3000</td>\n",
              "      <td>70</td>\n",
              "      <td>7</td>\n",
              "      <td>0.01</td>\n",
              "      <td>0.01</td>\n",
              "      <td>ultimate</td>\n",
              "    </tr>\n",
              "  </tbody>\n",
              "</table>\n",
              "<p>2 rows × 22 columns</p>\n",
              "</div>"
            ],
            "text/plain": [
              "   user_id     month  calls_made  call_duration  messages_sent   mb_used  \\\n",
              "0     1000  December        16.0          124.0           11.0   1901.47   \n",
              "1     1006  December         9.0           59.0          139.0  32118.82   \n",
              "\n",
              "  first_name last_name  age                                    city  ...  \\\n",
              "0   Anamaria     Bauer   45   Atlanta-Sandy Springs-Roswell, GA MSA  ...   \n",
              "1     Jesusa  Bradford   73  San Francisco-Oakland-Berkeley, CA MSA  ...   \n",
              "\n",
              "  churn_date gb_used messages_included  mb_per_month_included  \\\n",
              "0        NaT     2.0              1000                  30720   \n",
              "1 2018-12-18    32.0              1000                  30720   \n",
              "\n",
              "   minutes_included  usd_monthly_pay  usd_per_gb  usd_per_message  \\\n",
              "0              3000               70           7             0.01   \n",
              "1              3000               70           7             0.01   \n",
              "\n",
              "   usd_per_minute  plan_name  \n",
              "0            0.01   ultimate  \n",
              "1            0.01   ultimate  \n",
              "\n",
              "[2 rows x 22 columns]"
            ]
          },
          "execution_count": 58,
          "metadata": {},
          "output_type": "execute_result"
        }
      ],
      "source": [
        "nuevo_data.head(2)"
      ]
    },
    {
      "cell_type": "code",
      "execution_count": null,
      "metadata": {
        "id": "tO1ZVheoem8g"
      },
      "outputs": [],
      "source": [
        "nuevo_data['gb_per_month_included'] = (nuevo_data['mb_per_month_included'] / 1024).apply(np.ceil)"
      ]
    },
    {
      "cell_type": "markdown",
      "metadata": {
        "id": "r8sdakGr-h31"
      },
      "source": [
        "Aqui se creó una nueva columna al data_nuevo, que pasa los datos de MG a GB, para poder hacer más fácil el análisis a futuro "
      ]
    },
    {
      "cell_type": "code",
      "execution_count": null,
      "metadata": {
        "colab": {
          "base_uri": "https://localhost:8080/",
          "height": 344
        },
        "id": "xwk0iboJdRAs",
        "outputId": "23a11e73-e6a4-4360-b36a-453610ce53a6",
        "scrolled": true
      },
      "outputs": [
        {
          "data": {
            "text/html": [
              "<div>\n",
              "<style scoped>\n",
              "    .dataframe tbody tr th:only-of-type {\n",
              "        vertical-align: middle;\n",
              "    }\n",
              "\n",
              "    .dataframe tbody tr th {\n",
              "        vertical-align: top;\n",
              "    }\n",
              "\n",
              "    .dataframe thead th {\n",
              "        text-align: right;\n",
              "    }\n",
              "</style>\n",
              "<table border=\"1\" class=\"dataframe\">\n",
              "  <thead>\n",
              "    <tr style=\"text-align: right;\">\n",
              "      <th></th>\n",
              "      <th>user_id</th>\n",
              "      <th>month</th>\n",
              "      <th>calls_made</th>\n",
              "      <th>call_duration</th>\n",
              "      <th>messages_sent</th>\n",
              "      <th>mb_used</th>\n",
              "      <th>first_name</th>\n",
              "      <th>last_name</th>\n",
              "      <th>age</th>\n",
              "      <th>city</th>\n",
              "      <th>...</th>\n",
              "      <th>gb_used</th>\n",
              "      <th>messages_included</th>\n",
              "      <th>mb_per_month_included</th>\n",
              "      <th>minutes_included</th>\n",
              "      <th>usd_monthly_pay</th>\n",
              "      <th>usd_per_gb</th>\n",
              "      <th>usd_per_message</th>\n",
              "      <th>usd_per_minute</th>\n",
              "      <th>plan_name</th>\n",
              "      <th>gb_per_month_included</th>\n",
              "    </tr>\n",
              "  </thead>\n",
              "  <tbody>\n",
              "    <tr>\n",
              "      <th>0</th>\n",
              "      <td>1000</td>\n",
              "      <td>December</td>\n",
              "      <td>16.0</td>\n",
              "      <td>124.0</td>\n",
              "      <td>11.0</td>\n",
              "      <td>1901.47</td>\n",
              "      <td>Anamaria</td>\n",
              "      <td>Bauer</td>\n",
              "      <td>45</td>\n",
              "      <td>Atlanta-Sandy Springs-Roswell, GA MSA</td>\n",
              "      <td>...</td>\n",
              "      <td>2.0</td>\n",
              "      <td>1000</td>\n",
              "      <td>30720</td>\n",
              "      <td>3000</td>\n",
              "      <td>70</td>\n",
              "      <td>7</td>\n",
              "      <td>0.01</td>\n",
              "      <td>0.01</td>\n",
              "      <td>ultimate</td>\n",
              "      <td>30.0</td>\n",
              "    </tr>\n",
              "    <tr>\n",
              "      <th>1</th>\n",
              "      <td>1006</td>\n",
              "      <td>December</td>\n",
              "      <td>9.0</td>\n",
              "      <td>59.0</td>\n",
              "      <td>139.0</td>\n",
              "      <td>32118.82</td>\n",
              "      <td>Jesusa</td>\n",
              "      <td>Bradford</td>\n",
              "      <td>73</td>\n",
              "      <td>San Francisco-Oakland-Berkeley, CA MSA</td>\n",
              "      <td>...</td>\n",
              "      <td>32.0</td>\n",
              "      <td>1000</td>\n",
              "      <td>30720</td>\n",
              "      <td>3000</td>\n",
              "      <td>70</td>\n",
              "      <td>7</td>\n",
              "      <td>0.01</td>\n",
              "      <td>0.01</td>\n",
              "      <td>ultimate</td>\n",
              "      <td>30.0</td>\n",
              "    </tr>\n",
              "  </tbody>\n",
              "</table>\n",
              "<p>2 rows × 23 columns</p>\n",
              "</div>"
            ],
            "text/plain": [
              "   user_id     month  calls_made  call_duration  messages_sent   mb_used  \\\n",
              "0     1000  December        16.0          124.0           11.0   1901.47   \n",
              "1     1006  December         9.0           59.0          139.0  32118.82   \n",
              "\n",
              "  first_name last_name  age                                    city  ...  \\\n",
              "0   Anamaria     Bauer   45   Atlanta-Sandy Springs-Roswell, GA MSA  ...   \n",
              "1     Jesusa  Bradford   73  San Francisco-Oakland-Berkeley, CA MSA  ...   \n",
              "\n",
              "  gb_used messages_included mb_per_month_included  minutes_included  \\\n",
              "0     2.0              1000                 30720              3000   \n",
              "1    32.0              1000                 30720              3000   \n",
              "\n",
              "   usd_monthly_pay  usd_per_gb  usd_per_message  usd_per_minute  plan_name  \\\n",
              "0               70           7             0.01            0.01   ultimate   \n",
              "1               70           7             0.01            0.01   ultimate   \n",
              "\n",
              "   gb_per_month_included  \n",
              "0                   30.0  \n",
              "1                   30.0  \n",
              "\n",
              "[2 rows x 23 columns]"
            ]
          },
          "execution_count": 60,
          "metadata": {},
          "output_type": "execute_result"
        }
      ],
      "source": [
        "nuevo_data.head(2)"
      ]
    },
    {
      "cell_type": "markdown",
      "metadata": {
        "id": "n80cgOJx-h31"
      },
      "source": [
        "Los ingresos mensuales de cada usuario (resta el límite del paquete gratuito del número total de llamadas, SMS y datos; multiplica el resultado por el valor de tarifa de llamadas; agrega el cargo mensual según la tarifa de llamadas)"
      ]
    },
    {
      "cell_type": "code",
      "execution_count": null,
      "metadata": {
        "colab": {
          "base_uri": "https://localhost:8080/",
          "height": 344
        },
        "id": "SXZXF8WYpex3",
        "outputId": "f9d41927-6ad1-4635-9cf9-d5eceaf260e5"
      },
      "outputs": [
        {
          "data": {
            "text/html": [
              "<div>\n",
              "<style scoped>\n",
              "    .dataframe tbody tr th:only-of-type {\n",
              "        vertical-align: middle;\n",
              "    }\n",
              "\n",
              "    .dataframe tbody tr th {\n",
              "        vertical-align: top;\n",
              "    }\n",
              "\n",
              "    .dataframe thead th {\n",
              "        text-align: right;\n",
              "    }\n",
              "</style>\n",
              "<table border=\"1\" class=\"dataframe\">\n",
              "  <thead>\n",
              "    <tr style=\"text-align: right;\">\n",
              "      <th></th>\n",
              "      <th>user_id</th>\n",
              "      <th>month</th>\n",
              "      <th>calls_made</th>\n",
              "      <th>call_duration</th>\n",
              "      <th>messages_sent</th>\n",
              "      <th>mb_used</th>\n",
              "      <th>first_name</th>\n",
              "      <th>last_name</th>\n",
              "      <th>age</th>\n",
              "      <th>city</th>\n",
              "      <th>...</th>\n",
              "      <th>usd_monthly_pay</th>\n",
              "      <th>usd_per_gb</th>\n",
              "      <th>usd_per_message</th>\n",
              "      <th>usd_per_minute</th>\n",
              "      <th>plan_name</th>\n",
              "      <th>gb_per_month_included</th>\n",
              "      <th>message_cost</th>\n",
              "      <th>call_cost</th>\n",
              "      <th>gb_cost</th>\n",
              "      <th>revenue</th>\n",
              "    </tr>\n",
              "  </thead>\n",
              "  <tbody>\n",
              "    <tr>\n",
              "      <th>0</th>\n",
              "      <td>1000</td>\n",
              "      <td>December</td>\n",
              "      <td>16.0</td>\n",
              "      <td>124.0</td>\n",
              "      <td>11.0</td>\n",
              "      <td>1901.47</td>\n",
              "      <td>Anamaria</td>\n",
              "      <td>Bauer</td>\n",
              "      <td>45</td>\n",
              "      <td>Atlanta-Sandy Springs-Roswell, GA MSA</td>\n",
              "      <td>...</td>\n",
              "      <td>70</td>\n",
              "      <td>7</td>\n",
              "      <td>0.01</td>\n",
              "      <td>0.01</td>\n",
              "      <td>ultimate</td>\n",
              "      <td>30.0</td>\n",
              "      <td>0.0</td>\n",
              "      <td>0.0</td>\n",
              "      <td>0.0</td>\n",
              "      <td>70.0</td>\n",
              "    </tr>\n",
              "    <tr>\n",
              "      <th>1</th>\n",
              "      <td>1006</td>\n",
              "      <td>December</td>\n",
              "      <td>9.0</td>\n",
              "      <td>59.0</td>\n",
              "      <td>139.0</td>\n",
              "      <td>32118.82</td>\n",
              "      <td>Jesusa</td>\n",
              "      <td>Bradford</td>\n",
              "      <td>73</td>\n",
              "      <td>San Francisco-Oakland-Berkeley, CA MSA</td>\n",
              "      <td>...</td>\n",
              "      <td>70</td>\n",
              "      <td>7</td>\n",
              "      <td>0.01</td>\n",
              "      <td>0.01</td>\n",
              "      <td>ultimate</td>\n",
              "      <td>30.0</td>\n",
              "      <td>0.0</td>\n",
              "      <td>0.0</td>\n",
              "      <td>14.0</td>\n",
              "      <td>84.0</td>\n",
              "    </tr>\n",
              "  </tbody>\n",
              "</table>\n",
              "<p>2 rows × 27 columns</p>\n",
              "</div>"
            ],
            "text/plain": [
              "   user_id     month  calls_made  call_duration  messages_sent   mb_used  \\\n",
              "0     1000  December        16.0          124.0           11.0   1901.47   \n",
              "1     1006  December         9.0           59.0          139.0  32118.82   \n",
              "\n",
              "  first_name last_name  age                                    city  ...  \\\n",
              "0   Anamaria     Bauer   45   Atlanta-Sandy Springs-Roswell, GA MSA  ...   \n",
              "1     Jesusa  Bradford   73  San Francisco-Oakland-Berkeley, CA MSA  ...   \n",
              "\n",
              "  usd_monthly_pay usd_per_gb usd_per_message  usd_per_minute  plan_name  \\\n",
              "0              70          7            0.01            0.01   ultimate   \n",
              "1              70          7            0.01            0.01   ultimate   \n",
              "\n",
              "   gb_per_month_included  message_cost  call_cost  gb_cost  revenue  \n",
              "0                   30.0           0.0        0.0      0.0     70.0  \n",
              "1                   30.0           0.0        0.0     14.0     84.0  \n",
              "\n",
              "[2 rows x 27 columns]"
            ]
          },
          "execution_count": 61,
          "metadata": {},
          "output_type": "execute_result"
        }
      ],
      "source": [
        "nuevo_data['message_cost'] = nuevo_data.apply(lambda x: max(0, x['messages_sent'] - x['messages_included']) * x['usd_per_message'], \n",
        "                                      axis = 1)\n",
        "nuevo_data['call_cost'] = nuevo_data.apply(lambda x: max(0, x['call_duration'] - x['minutes_included']) * x['usd_per_minute'], \n",
        "                                   axis = 1)\n",
        "nuevo_data['gb_cost'] = nuevo_data.apply(lambda x: max(0, x['gb_used'] - x['gb_per_month_included']) * x['usd_per_gb'], \n",
        "                                axis = 1)\n",
        "nuevo_data['revenue'] = nuevo_data['message_cost'] + nuevo_data['call_cost'] + nuevo_data['gb_cost'] + nuevo_data['usd_monthly_pay']\n",
        "nuevo_data.head(2)"
      ]
    },
    {
      "cell_type": "code",
      "execution_count": null,
      "metadata": {
        "id": "BH8iaZuQradA"
      },
      "outputs": [],
      "source": [
        "data = nuevo_data[['user_id', 'first_name', 'last_name', 'plan_name','month',\n",
        "                   'calls_made','call_duration','minutes_included','usd_per_minute','call_cost',\n",
        "                   'messages_sent','messages_included','usd_per_message','message_cost',\n",
        "                   'gb_used','gb_per_month_included','usd_per_gb','gb_cost','usd_monthly_pay','revenue']]"
      ]
    },
    {
      "cell_type": "code",
      "execution_count": null,
      "metadata": {
        "id": "cilsaD56r_Y0"
      },
      "outputs": [],
      "source": [
        "data = data.copy()"
      ]
    },
    {
      "cell_type": "code",
      "execution_count": null,
      "metadata": {
        "colab": {
          "base_uri": "https://localhost:8080/",
          "height": 176
        },
        "id": "cGmYmhuVrp6x",
        "outputId": "762d3acf-907c-4cff-a869-e6ad25f4c61b"
      },
      "outputs": [
        {
          "data": {
            "text/html": [
              "<div>\n",
              "<style scoped>\n",
              "    .dataframe tbody tr th:only-of-type {\n",
              "        vertical-align: middle;\n",
              "    }\n",
              "\n",
              "    .dataframe tbody tr th {\n",
              "        vertical-align: top;\n",
              "    }\n",
              "\n",
              "    .dataframe thead th {\n",
              "        text-align: right;\n",
              "    }\n",
              "</style>\n",
              "<table border=\"1\" class=\"dataframe\">\n",
              "  <thead>\n",
              "    <tr style=\"text-align: right;\">\n",
              "      <th></th>\n",
              "      <th>user_id</th>\n",
              "      <th>first_name</th>\n",
              "      <th>last_name</th>\n",
              "      <th>plan_name</th>\n",
              "      <th>month</th>\n",
              "      <th>calls_made</th>\n",
              "      <th>call_duration</th>\n",
              "      <th>minutes_included</th>\n",
              "      <th>usd_per_minute</th>\n",
              "      <th>call_cost</th>\n",
              "      <th>messages_sent</th>\n",
              "      <th>messages_included</th>\n",
              "      <th>usd_per_message</th>\n",
              "      <th>message_cost</th>\n",
              "      <th>gb_used</th>\n",
              "      <th>gb_per_month_included</th>\n",
              "      <th>usd_per_gb</th>\n",
              "      <th>gb_cost</th>\n",
              "      <th>usd_monthly_pay</th>\n",
              "      <th>revenue</th>\n",
              "    </tr>\n",
              "  </thead>\n",
              "  <tbody>\n",
              "    <tr>\n",
              "      <th>0</th>\n",
              "      <td>1000</td>\n",
              "      <td>Anamaria</td>\n",
              "      <td>Bauer</td>\n",
              "      <td>ultimate</td>\n",
              "      <td>December</td>\n",
              "      <td>16</td>\n",
              "      <td>124.0</td>\n",
              "      <td>3000</td>\n",
              "      <td>0.01</td>\n",
              "      <td>0.0</td>\n",
              "      <td>11</td>\n",
              "      <td>1000</td>\n",
              "      <td>0.01</td>\n",
              "      <td>0.0</td>\n",
              "      <td>2</td>\n",
              "      <td>30.0</td>\n",
              "      <td>7</td>\n",
              "      <td>0.0</td>\n",
              "      <td>70</td>\n",
              "      <td>70.0</td>\n",
              "    </tr>\n",
              "    <tr>\n",
              "      <th>1</th>\n",
              "      <td>1006</td>\n",
              "      <td>Jesusa</td>\n",
              "      <td>Bradford</td>\n",
              "      <td>ultimate</td>\n",
              "      <td>December</td>\n",
              "      <td>9</td>\n",
              "      <td>59.0</td>\n",
              "      <td>3000</td>\n",
              "      <td>0.01</td>\n",
              "      <td>0.0</td>\n",
              "      <td>139</td>\n",
              "      <td>1000</td>\n",
              "      <td>0.01</td>\n",
              "      <td>0.0</td>\n",
              "      <td>32</td>\n",
              "      <td>30.0</td>\n",
              "      <td>7</td>\n",
              "      <td>14.0</td>\n",
              "      <td>70</td>\n",
              "      <td>84.0</td>\n",
              "    </tr>\n",
              "  </tbody>\n",
              "</table>\n",
              "</div>"
            ],
            "text/plain": [
              "   user_id first_name last_name plan_name     month  calls_made  \\\n",
              "0     1000   Anamaria     Bauer  ultimate  December          16   \n",
              "1     1006     Jesusa  Bradford  ultimate  December           9   \n",
              "\n",
              "   call_duration  minutes_included  usd_per_minute  call_cost  messages_sent  \\\n",
              "0          124.0              3000            0.01        0.0             11   \n",
              "1           59.0              3000            0.01        0.0            139   \n",
              "\n",
              "   messages_included  usd_per_message  message_cost  gb_used  \\\n",
              "0               1000             0.01           0.0        2   \n",
              "1               1000             0.01           0.0       32   \n",
              "\n",
              "   gb_per_month_included  usd_per_gb  gb_cost  usd_monthly_pay  revenue  \n",
              "0                   30.0           7      0.0               70     70.0  \n",
              "1                   30.0           7     14.0               70     84.0  "
            ]
          },
          "execution_count": 64,
          "metadata": {},
          "output_type": "execute_result"
        }
      ],
      "source": [
        "data['calls_made'] = data['calls_made'].astype('int64')\n",
        "data['messages_sent'] = data['messages_sent'].astype('int64')\n",
        "data['gb_used'] = data['gb_used'].astype('int64')\n",
        "data.head(2)"
      ]
    },
    {
      "cell_type": "code",
      "execution_count": null,
      "metadata": {
        "colab": {
          "base_uri": "https://localhost:8080/"
        },
        "id": "06gNsEqQsI5_",
        "outputId": "ebdffb13-f907-4f53-fb29-02817ad34e20"
      },
      "outputs": [
        {
          "name": "stdout",
          "output_type": "stream",
          "text": [
            "<class 'pandas.core.frame.DataFrame'>\n",
            "Int64Index: 2293 entries, 0 to 2292\n",
            "Data columns (total 20 columns):\n",
            " #   Column                 Non-Null Count  Dtype  \n",
            "---  ------                 --------------  -----  \n",
            " 0   user_id                2293 non-null   int64  \n",
            " 1   first_name             2293 non-null   object \n",
            " 2   last_name              2293 non-null   object \n",
            " 3   plan_name              2293 non-null   object \n",
            " 4   month                  2293 non-null   object \n",
            " 5   calls_made             2293 non-null   int64  \n",
            " 6   call_duration          2293 non-null   float64\n",
            " 7   minutes_included       2293 non-null   int64  \n",
            " 8   usd_per_minute         2293 non-null   float64\n",
            " 9   call_cost              2293 non-null   float64\n",
            " 10  messages_sent          2293 non-null   int64  \n",
            " 11  messages_included      2293 non-null   int64  \n",
            " 12  usd_per_message        2293 non-null   float64\n",
            " 13  message_cost           2293 non-null   float64\n",
            " 14  gb_used                2293 non-null   int64  \n",
            " 15  gb_per_month_included  2293 non-null   float64\n",
            " 16  usd_per_gb             2293 non-null   int64  \n",
            " 17  gb_cost                2293 non-null   float64\n",
            " 18  usd_monthly_pay        2293 non-null   int64  \n",
            " 19  revenue                2293 non-null   float64\n",
            "dtypes: float64(8), int64(8), object(4)\n",
            "memory usage: 376.2+ KB\n"
          ]
        }
      ],
      "source": [
        "data.info()"
      ]
    },
    {
      "cell_type": "markdown",
      "metadata": {
        "id": "vCEEOCL4sWMD"
      },
      "source": [
        "### Conclusión General Parte 2"
      ]
    },
    {
      "cell_type": "markdown",
      "metadata": {
        "id": "3tMCFjLnsbof"
      },
      "source": [
        "En la primera parte se calcula el N° de llamadas y cantidad de minutos utilizados por cada usuario, además de la cantidad de mensajes e internet utilizados por cada uno de ellos.\n",
        "  En la Segunda parte se crearon nuevos df, con la informacion necesario para el análisis, además de algunos cálculos que nos van a ayudar a poder comprobar las hipótesis más adelante. \n",
        "además de manipular las distintas columnas para dejar una tabla ordenada para el análisis, se realizó todo lo que pedía la parte 2 del proyecto, incluyendo el redondeo de las cifras como lo pedía el ejercicio y se crearon columnas nuevas que ayudaran a entender el comportamiento, así como también cuanto gasta cada usuario en su plan.\n"
      ]
    },
    {
      "cell_type": "markdown",
      "metadata": {
        "id": "cxOu4qorujpr"
      },
      "source": [
        "## Analisis de datos"
      ]
    },
    {
      "cell_type": "code",
      "execution_count": null,
      "metadata": {
        "colab": {
          "base_uri": "https://localhost:8080/",
          "height": 300
        },
        "id": "w170KU7LvoiI",
        "outputId": "91d5ebe3-d5b2-4627-dee9-3d7146b1b3fd",
        "scrolled": true
      },
      "outputs": [
        {
          "data": {
            "text/html": [
              "<div>\n",
              "<style scoped>\n",
              "    .dataframe tbody tr th:only-of-type {\n",
              "        vertical-align: middle;\n",
              "    }\n",
              "\n",
              "    .dataframe tbody tr th {\n",
              "        vertical-align: top;\n",
              "    }\n",
              "\n",
              "    .dataframe thead th {\n",
              "        text-align: right;\n",
              "    }\n",
              "</style>\n",
              "<table border=\"1\" class=\"dataframe\">\n",
              "  <thead>\n",
              "    <tr style=\"text-align: right;\">\n",
              "      <th></th>\n",
              "      <th>calls_made</th>\n",
              "      <th>call_duration</th>\n",
              "      <th>messages_sent</th>\n",
              "      <th>gb_used</th>\n",
              "      <th>revenue</th>\n",
              "    </tr>\n",
              "  </thead>\n",
              "  <tbody>\n",
              "    <tr>\n",
              "      <th>count</th>\n",
              "      <td>720.000000</td>\n",
              "      <td>720.000000</td>\n",
              "      <td>720.000000</td>\n",
              "      <td>720.000000</td>\n",
              "      <td>720.000000</td>\n",
              "    </tr>\n",
              "    <tr>\n",
              "      <th>mean</th>\n",
              "      <td>60.626389</td>\n",
              "      <td>430.450000</td>\n",
              "      <td>37.551389</td>\n",
              "      <td>17.306944</td>\n",
              "      <td>72.313889</td>\n",
              "    </tr>\n",
              "    <tr>\n",
              "      <th>std</th>\n",
              "      <td>33.242994</td>\n",
              "      <td>240.508762</td>\n",
              "      <td>34.767179</td>\n",
              "      <td>7.670108</td>\n",
              "      <td>11.395108</td>\n",
              "    </tr>\n",
              "    <tr>\n",
              "      <th>min</th>\n",
              "      <td>0.000000</td>\n",
              "      <td>0.000000</td>\n",
              "      <td>0.000000</td>\n",
              "      <td>0.000000</td>\n",
              "      <td>70.000000</td>\n",
              "    </tr>\n",
              "    <tr>\n",
              "      <th>25%</th>\n",
              "      <td>36.000000</td>\n",
              "      <td>260.000000</td>\n",
              "      <td>7.000000</td>\n",
              "      <td>13.000000</td>\n",
              "      <td>70.000000</td>\n",
              "    </tr>\n",
              "    <tr>\n",
              "      <th>50%</th>\n",
              "      <td>61.000000</td>\n",
              "      <td>424.000000</td>\n",
              "      <td>30.000000</td>\n",
              "      <td>17.000000</td>\n",
              "      <td>70.000000</td>\n",
              "    </tr>\n",
              "    <tr>\n",
              "      <th>75%</th>\n",
              "      <td>80.000000</td>\n",
              "      <td>565.250000</td>\n",
              "      <td>61.000000</td>\n",
              "      <td>21.000000</td>\n",
              "      <td>70.000000</td>\n",
              "    </tr>\n",
              "    <tr>\n",
              "      <th>max</th>\n",
              "      <td>191.000000</td>\n",
              "      <td>1369.000000</td>\n",
              "      <td>166.000000</td>\n",
              "      <td>46.000000</td>\n",
              "      <td>182.000000</td>\n",
              "    </tr>\n",
              "  </tbody>\n",
              "</table>\n",
              "</div>"
            ],
            "text/plain": [
              "       calls_made  call_duration  messages_sent     gb_used     revenue\n",
              "count  720.000000     720.000000     720.000000  720.000000  720.000000\n",
              "mean    60.626389     430.450000      37.551389   17.306944   72.313889\n",
              "std     33.242994     240.508762      34.767179    7.670108   11.395108\n",
              "min      0.000000       0.000000       0.000000    0.000000   70.000000\n",
              "25%     36.000000     260.000000       7.000000   13.000000   70.000000\n",
              "50%     61.000000     424.000000      30.000000   17.000000   70.000000\n",
              "75%     80.000000     565.250000      61.000000   21.000000   70.000000\n",
              "max    191.000000    1369.000000     166.000000   46.000000  182.000000"
            ]
          },
          "execution_count": 66,
          "metadata": {},
          "output_type": "execute_result"
        }
      ],
      "source": [
        "data_plan_ultimate = data.query(\"plan_name == 'ultimate'\")\n",
        "plan_ultimate = data_plan_ultimate[['calls_made', 'call_duration', 'messages_sent', 'gb_used', 'revenue']]\n",
        "plan_ultimate.describe()"
      ]
    },
    {
      "cell_type": "markdown",
      "metadata": {
        "id": "NB0YggRq-h3_"
      },
      "source": [
        "Para los clientes que cuentan con el plan ultimate existe un promedio 60 llamadas realizadas al mes, un promedio de minutos usados al mes de 382 minutos. un promedio de 37 mensajes enviados mensualamente y 17 Gb de uso promedio mensual. En un plano general ningún cliente llega al limite de sus datos. excepto un grupo que se excede en gb usados mensualmente."
      ]
    },
    {
      "cell_type": "code",
      "execution_count": null,
      "metadata": {
        "colab": {
          "base_uri": "https://localhost:8080/",
          "height": 300
        },
        "id": "3TOoyEqGwilh",
        "outputId": "90085672-1a76-4f7e-f2d9-abe6e883b02e"
      },
      "outputs": [
        {
          "data": {
            "text/html": [
              "<div>\n",
              "<style scoped>\n",
              "    .dataframe tbody tr th:only-of-type {\n",
              "        vertical-align: middle;\n",
              "    }\n",
              "\n",
              "    .dataframe tbody tr th {\n",
              "        vertical-align: top;\n",
              "    }\n",
              "\n",
              "    .dataframe thead th {\n",
              "        text-align: right;\n",
              "    }\n",
              "</style>\n",
              "<table border=\"1\" class=\"dataframe\">\n",
              "  <thead>\n",
              "    <tr style=\"text-align: right;\">\n",
              "      <th></th>\n",
              "      <th>calls_made</th>\n",
              "      <th>call_duration</th>\n",
              "      <th>messages_sent</th>\n",
              "      <th>gb_used</th>\n",
              "      <th>revenue</th>\n",
              "    </tr>\n",
              "  </thead>\n",
              "  <tbody>\n",
              "    <tr>\n",
              "      <th>count</th>\n",
              "      <td>1573.000000</td>\n",
              "      <td>1573.000000</td>\n",
              "      <td>1573.000000</td>\n",
              "      <td>1573.000000</td>\n",
              "      <td>1573.000000</td>\n",
              "    </tr>\n",
              "    <tr>\n",
              "      <th>mean</th>\n",
              "      <td>59.811825</td>\n",
              "      <td>428.749523</td>\n",
              "      <td>31.159568</td>\n",
              "      <td>16.670693</td>\n",
              "      <td>60.706408</td>\n",
              "    </tr>\n",
              "    <tr>\n",
              "      <th>std</th>\n",
              "      <td>32.017989</td>\n",
              "      <td>234.453150</td>\n",
              "      <td>33.566717</td>\n",
              "      <td>7.847522</td>\n",
              "      <td>55.388042</td>\n",
              "    </tr>\n",
              "    <tr>\n",
              "      <th>min</th>\n",
              "      <td>0.000000</td>\n",
              "      <td>0.000000</td>\n",
              "      <td>0.000000</td>\n",
              "      <td>0.000000</td>\n",
              "      <td>20.000000</td>\n",
              "    </tr>\n",
              "    <tr>\n",
              "      <th>25%</th>\n",
              "      <td>39.000000</td>\n",
              "      <td>272.000000</td>\n",
              "      <td>3.000000</td>\n",
              "      <td>12.000000</td>\n",
              "      <td>20.000000</td>\n",
              "    </tr>\n",
              "    <tr>\n",
              "      <th>50%</th>\n",
              "      <td>60.000000</td>\n",
              "      <td>425.000000</td>\n",
              "      <td>24.000000</td>\n",
              "      <td>17.000000</td>\n",
              "      <td>40.360000</td>\n",
              "    </tr>\n",
              "    <tr>\n",
              "      <th>75%</th>\n",
              "      <td>79.000000</td>\n",
              "      <td>576.000000</td>\n",
              "      <td>47.000000</td>\n",
              "      <td>21.000000</td>\n",
              "      <td>80.360000</td>\n",
              "    </tr>\n",
              "    <tr>\n",
              "      <th>max</th>\n",
              "      <td>205.000000</td>\n",
              "      <td>1510.000000</td>\n",
              "      <td>266.000000</td>\n",
              "      <td>70.000000</td>\n",
              "      <td>590.370000</td>\n",
              "    </tr>\n",
              "  </tbody>\n",
              "</table>\n",
              "</div>"
            ],
            "text/plain": [
              "        calls_made  call_duration  messages_sent      gb_used      revenue\n",
              "count  1573.000000    1573.000000    1573.000000  1573.000000  1573.000000\n",
              "mean     59.811825     428.749523      31.159568    16.670693    60.706408\n",
              "std      32.017989     234.453150      33.566717     7.847522    55.388042\n",
              "min       0.000000       0.000000       0.000000     0.000000    20.000000\n",
              "25%      39.000000     272.000000       3.000000    12.000000    20.000000\n",
              "50%      60.000000     425.000000      24.000000    17.000000    40.360000\n",
              "75%      79.000000     576.000000      47.000000    21.000000    80.360000\n",
              "max     205.000000    1510.000000     266.000000    70.000000   590.370000"
            ]
          },
          "execution_count": 67,
          "metadata": {},
          "output_type": "execute_result"
        }
      ],
      "source": [
        "data_plan_surf = data.query(\"plan_name == 'surf'\")\n",
        "plan_surf = data_plan_surf[['calls_made', 'call_duration', 'messages_sent', 'gb_used', 'revenue']]\n",
        "plan_surf.describe()"
      ]
    },
    {
      "cell_type": "markdown",
      "metadata": {
        "id": "BkF9GNzY-h4A"
      },
      "source": [
        "Para los usuarios del plan surf se registra un promedio mensual de 60 llamadas,con un promedio de 381 minutos usados al mes,31 mensajes enviados mensualmente y consumo promedio mensual de 16 Gb. Un 25% de los clientes sobrepasa el limite de minutos de su plan y mas del 50% sobrepasa sus Gb disponibles."
      ]
    },
    {
      "cell_type": "code",
      "execution_count": null,
      "metadata": {
        "colab": {
          "base_uri": "https://localhost:8080/",
          "height": 143
        },
        "id": "aL0b93ztx2F0",
        "outputId": "c5b7c2dc-10bd-44f7-893c-46d69395d8a1"
      },
      "outputs": [
        {
          "data": {
            "text/html": [
              "<div>\n",
              "<style scoped>\n",
              "    .dataframe tbody tr th:only-of-type {\n",
              "        vertical-align: middle;\n",
              "    }\n",
              "\n",
              "    .dataframe tbody tr th {\n",
              "        vertical-align: top;\n",
              "    }\n",
              "\n",
              "    .dataframe thead th {\n",
              "        text-align: right;\n",
              "    }\n",
              "</style>\n",
              "<table border=\"1\" class=\"dataframe\">\n",
              "  <thead>\n",
              "    <tr style=\"text-align: right;\">\n",
              "      <th></th>\n",
              "      <th>mean</th>\n",
              "      <th>var</th>\n",
              "      <th>std</th>\n",
              "    </tr>\n",
              "    <tr>\n",
              "      <th>plan_name</th>\n",
              "      <th></th>\n",
              "      <th></th>\n",
              "      <th></th>\n",
              "    </tr>\n",
              "  </thead>\n",
              "  <tbody>\n",
              "    <tr>\n",
              "      <th>surf</th>\n",
              "      <td>428.749523</td>\n",
              "      <td>54968.279461</td>\n",
              "      <td>234.453150</td>\n",
              "    </tr>\n",
              "    <tr>\n",
              "      <th>ultimate</th>\n",
              "      <td>430.450000</td>\n",
              "      <td>57844.464812</td>\n",
              "      <td>240.508762</td>\n",
              "    </tr>\n",
              "  </tbody>\n",
              "</table>\n",
              "</div>"
            ],
            "text/plain": [
              "                 mean           var         std\n",
              "plan_name                                      \n",
              "surf       428.749523  54968.279461  234.453150\n",
              "ultimate   430.450000  57844.464812  240.508762"
            ]
          },
          "execution_count": 68,
          "metadata": {},
          "output_type": "execute_result"
        }
      ],
      "source": [
        "data.groupby('plan_name')['call_duration'].agg([np.mean, np.var, np.std])"
      ]
    },
    {
      "cell_type": "markdown",
      "metadata": {
        "id": "ZZg53_0FyRHL"
      },
      "source": [
        "media, varianza y desviación estándar, minutos usados"
      ]
    },
    {
      "cell_type": "code",
      "execution_count": null,
      "metadata": {
        "colab": {
          "base_uri": "https://localhost:8080/",
          "height": 143
        },
        "id": "mjTAgLEVyYgd",
        "outputId": "f8196de1-b68e-45ad-e6f2-76794559c9b0",
        "scrolled": true
      },
      "outputs": [
        {
          "data": {
            "text/html": [
              "<div>\n",
              "<style scoped>\n",
              "    .dataframe tbody tr th:only-of-type {\n",
              "        vertical-align: middle;\n",
              "    }\n",
              "\n",
              "    .dataframe tbody tr th {\n",
              "        vertical-align: top;\n",
              "    }\n",
              "\n",
              "    .dataframe thead th {\n",
              "        text-align: right;\n",
              "    }\n",
              "</style>\n",
              "<table border=\"1\" class=\"dataframe\">\n",
              "  <thead>\n",
              "    <tr style=\"text-align: right;\">\n",
              "      <th></th>\n",
              "      <th>count</th>\n",
              "      <th>mean</th>\n",
              "      <th>std</th>\n",
              "      <th>min</th>\n",
              "      <th>25%</th>\n",
              "      <th>50%</th>\n",
              "      <th>75%</th>\n",
              "      <th>max</th>\n",
              "    </tr>\n",
              "    <tr>\n",
              "      <th>plan_name</th>\n",
              "      <th></th>\n",
              "      <th></th>\n",
              "      <th></th>\n",
              "      <th></th>\n",
              "      <th></th>\n",
              "      <th></th>\n",
              "      <th></th>\n",
              "      <th></th>\n",
              "    </tr>\n",
              "  </thead>\n",
              "  <tbody>\n",
              "    <tr>\n",
              "      <th>surf</th>\n",
              "      <td>1573.0</td>\n",
              "      <td>428.749523</td>\n",
              "      <td>234.453150</td>\n",
              "      <td>0.0</td>\n",
              "      <td>272.0</td>\n",
              "      <td>425.0</td>\n",
              "      <td>576.00</td>\n",
              "      <td>1510.0</td>\n",
              "    </tr>\n",
              "    <tr>\n",
              "      <th>ultimate</th>\n",
              "      <td>720.0</td>\n",
              "      <td>430.450000</td>\n",
              "      <td>240.508762</td>\n",
              "      <td>0.0</td>\n",
              "      <td>260.0</td>\n",
              "      <td>424.0</td>\n",
              "      <td>565.25</td>\n",
              "      <td>1369.0</td>\n",
              "    </tr>\n",
              "  </tbody>\n",
              "</table>\n",
              "</div>"
            ],
            "text/plain": [
              "            count        mean         std  min    25%    50%     75%     max\n",
              "plan_name                                                                   \n",
              "surf       1573.0  428.749523  234.453150  0.0  272.0  425.0  576.00  1510.0\n",
              "ultimate    720.0  430.450000  240.508762  0.0  260.0  424.0  565.25  1369.0"
            ]
          },
          "execution_count": 69,
          "metadata": {},
          "output_type": "execute_result"
        }
      ],
      "source": [
        "data.groupby('plan_name')['call_duration'].describe()"
      ]
    },
    {
      "cell_type": "markdown",
      "metadata": {
        "id": "rFdn7MzD-h4D"
      },
      "source": [
        "Aqui podemos ver una gran diferencia entre los planes, la primera diferencia es que los clientes del plan surf realizan más del doble de llamadas que los clientes del plan ultímate, su mediana están casi iguales con la diferencia que el plan ultime contiene 3000 minutos versus los 500 del plan surf, y lo más relevante que el 50% de los clientes surf, consumen casi la totalidad de minutos de su plan y que en el tercer cuartil, los clientes del plan surf ya están consumiendo minutos adicionales versus los clientes ultímate que no utilizan minutos adicionales, al contrario le sobran minutos."
      ]
    },
    {
      "cell_type": "code",
      "execution_count": null,
      "metadata": {
        "colab": {
          "base_uri": "https://localhost:8080/",
          "height": 404
        },
        "id": "0-oBOOMGyvGR",
        "outputId": "c182843f-1761-44af-8d3c-2610e33fbd4a",
        "scrolled": true
      },
      "outputs": [
        {
          "data": {
            "image/png": "[encoded data removed]",
            "text/plain": [
              "<Figure size 432x432 with 1 Axes>"
            ]
          },
          "metadata": {
            "needs_background": "light"
          },
          "output_type": "display_data"
        }
      ],
      "source": [
        "plt.figure(figsize=(6,6))\n",
        "plt.hist(plan_ultimate['call_duration'], bins=50, alpha=1, label='ultimate')\n",
        "plt.hist(plan_surf['call_duration'], bins=50, alpha=0.5, label='surf')\n",
        "\n",
        "plt.xlabel('Call duration', size=10)\n",
        "plt.ylabel('Count', size=10)\n",
        "plt.title('Comparación de planes por minutos usados')\n",
        "plt.legend(loc='upper right');"
      ]
    },
    {
      "cell_type": "markdown",
      "metadata": {
        "id": "lNcnby-1-h4E"
      },
      "source": [
        "Como muestra los histogramas de minutos usados en ambos planes, existe una distribución de sesgo positivo que se afirma diciendo que la media de ambas distribuciones es mayor que la mediana."
      ]
    },
    {
      "cell_type": "code",
      "execution_count": null,
      "metadata": {
        "colab": {
          "base_uri": "https://localhost:8080/",
          "height": 143
        },
        "id": "0ROPMHsCz-iw",
        "outputId": "9612e82a-61dc-40d1-db69-1708b1a015c2"
      },
      "outputs": [
        {
          "data": {
            "text/html": [
              "<div>\n",
              "<style scoped>\n",
              "    .dataframe tbody tr th:only-of-type {\n",
              "        vertical-align: middle;\n",
              "    }\n",
              "\n",
              "    .dataframe tbody tr th {\n",
              "        vertical-align: top;\n",
              "    }\n",
              "\n",
              "    .dataframe thead th {\n",
              "        text-align: right;\n",
              "    }\n",
              "</style>\n",
              "<table border=\"1\" class=\"dataframe\">\n",
              "  <thead>\n",
              "    <tr style=\"text-align: right;\">\n",
              "      <th></th>\n",
              "      <th>mean</th>\n",
              "      <th>var</th>\n",
              "      <th>std</th>\n",
              "    </tr>\n",
              "    <tr>\n",
              "      <th>plan_name</th>\n",
              "      <th></th>\n",
              "      <th></th>\n",
              "      <th></th>\n",
              "    </tr>\n",
              "  </thead>\n",
              "  <tbody>\n",
              "    <tr>\n",
              "      <th>surf</th>\n",
              "      <td>31.159568</td>\n",
              "      <td>1126.724522</td>\n",
              "      <td>33.566717</td>\n",
              "    </tr>\n",
              "    <tr>\n",
              "      <th>ultimate</th>\n",
              "      <td>37.551389</td>\n",
              "      <td>1208.756744</td>\n",
              "      <td>34.767179</td>\n",
              "    </tr>\n",
              "  </tbody>\n",
              "</table>\n",
              "</div>"
            ],
            "text/plain": [
              "                mean          var        std\n",
              "plan_name                                   \n",
              "surf       31.159568  1126.724522  33.566717\n",
              "ultimate   37.551389  1208.756744  34.767179"
            ]
          },
          "execution_count": 71,
          "metadata": {},
          "output_type": "execute_result"
        }
      ],
      "source": [
        "data.groupby('plan_name')['messages_sent'].agg([np.mean, np.var, np.std])"
      ]
    },
    {
      "cell_type": "markdown",
      "metadata": {
        "id": "zLq8AUUH0IaU"
      },
      "source": [
        "Media, varianza y Desviación estándar para los mensajes enviados "
      ]
    },
    {
      "cell_type": "code",
      "execution_count": null,
      "metadata": {
        "colab": {
          "base_uri": "https://localhost:8080/",
          "height": 143
        },
        "id": "yasydkno0SwX",
        "outputId": "298b9a92-2ad2-4ae7-dd40-71b800aaf24c"
      },
      "outputs": [
        {
          "data": {
            "text/html": [
              "<div>\n",
              "<style scoped>\n",
              "    .dataframe tbody tr th:only-of-type {\n",
              "        vertical-align: middle;\n",
              "    }\n",
              "\n",
              "    .dataframe tbody tr th {\n",
              "        vertical-align: top;\n",
              "    }\n",
              "\n",
              "    .dataframe thead th {\n",
              "        text-align: right;\n",
              "    }\n",
              "</style>\n",
              "<table border=\"1\" class=\"dataframe\">\n",
              "  <thead>\n",
              "    <tr style=\"text-align: right;\">\n",
              "      <th></th>\n",
              "      <th>count</th>\n",
              "      <th>mean</th>\n",
              "      <th>std</th>\n",
              "      <th>min</th>\n",
              "      <th>25%</th>\n",
              "      <th>50%</th>\n",
              "      <th>75%</th>\n",
              "      <th>max</th>\n",
              "    </tr>\n",
              "    <tr>\n",
              "      <th>plan_name</th>\n",
              "      <th></th>\n",
              "      <th></th>\n",
              "      <th></th>\n",
              "      <th></th>\n",
              "      <th></th>\n",
              "      <th></th>\n",
              "      <th></th>\n",
              "      <th></th>\n",
              "    </tr>\n",
              "  </thead>\n",
              "  <tbody>\n",
              "    <tr>\n",
              "      <th>surf</th>\n",
              "      <td>1573.0</td>\n",
              "      <td>31.159568</td>\n",
              "      <td>33.566717</td>\n",
              "      <td>0.0</td>\n",
              "      <td>3.0</td>\n",
              "      <td>24.0</td>\n",
              "      <td>47.0</td>\n",
              "      <td>266.0</td>\n",
              "    </tr>\n",
              "    <tr>\n",
              "      <th>ultimate</th>\n",
              "      <td>720.0</td>\n",
              "      <td>37.551389</td>\n",
              "      <td>34.767179</td>\n",
              "      <td>0.0</td>\n",
              "      <td>7.0</td>\n",
              "      <td>30.0</td>\n",
              "      <td>61.0</td>\n",
              "      <td>166.0</td>\n",
              "    </tr>\n",
              "  </tbody>\n",
              "</table>\n",
              "</div>"
            ],
            "text/plain": [
              "            count       mean        std  min  25%   50%   75%    max\n",
              "plan_name                                                           \n",
              "surf       1573.0  31.159568  33.566717  0.0  3.0  24.0  47.0  266.0\n",
              "ultimate    720.0  37.551389  34.767179  0.0  7.0  30.0  61.0  166.0"
            ]
          },
          "execution_count": 72,
          "metadata": {},
          "output_type": "execute_result"
        }
      ],
      "source": [
        "data.groupby('plan_name')['messages_sent'].describe()"
      ]
    },
    {
      "cell_type": "markdown",
      "metadata": {
        "id": "F6ka_QdJ0iAs"
      },
      "source": [
        "Diferencia de la media, mensual de los mensajes "
      ]
    },
    {
      "cell_type": "code",
      "execution_count": null,
      "metadata": {
        "colab": {
          "base_uri": "https://localhost:8080/",
          "height": 404
        },
        "id": "O5qq1Ndv0rOJ",
        "outputId": "8eb9f9e0-40db-4319-f69c-ee08bb610d13"
      },
      "outputs": [
        {
          "data": {
            "image/png": "[encoded data removed]",
            "text/plain": [
              "<Figure size 432x432 with 1 Axes>"
            ]
          },
          "metadata": {
            "needs_background": "light"
          },
          "output_type": "display_data"
        }
      ],
      "source": [
        "plt.figure(figsize=(6,6))\n",
        "plt.hist(plan_ultimate['messages_sent'], bins=20, alpha=1, label='ultimate')\n",
        "plt.hist(plan_surf['messages_sent'], bins=20, alpha=0.5, label='surf')\n",
        "\n",
        "plt.xlabel('Messages sent', size=10)\n",
        "plt.ylabel('Count', size=10)\n",
        "plt.title('Comparación de planes por mensajes enviados')\n",
        "plt.legend(loc='upper right');"
      ]
    },
    {
      "cell_type": "markdown",
      "metadata": {
        "id": "P2KZ70Ue-h4G"
      },
      "source": [
        "Para la comparación de mensajes enviados de ambos planes,También existe un sesgo positivo."
      ]
    },
    {
      "cell_type": "code",
      "execution_count": null,
      "metadata": {
        "colab": {
          "base_uri": "https://localhost:8080/",
          "height": 143
        },
        "id": "w7vpjPzi11Io",
        "outputId": "ab550190-764b-451c-ef38-0d46fdf5b06d"
      },
      "outputs": [
        {
          "data": {
            "text/html": [
              "<div>\n",
              "<style scoped>\n",
              "    .dataframe tbody tr th:only-of-type {\n",
              "        vertical-align: middle;\n",
              "    }\n",
              "\n",
              "    .dataframe tbody tr th {\n",
              "        vertical-align: top;\n",
              "    }\n",
              "\n",
              "    .dataframe thead th {\n",
              "        text-align: right;\n",
              "    }\n",
              "</style>\n",
              "<table border=\"1\" class=\"dataframe\">\n",
              "  <thead>\n",
              "    <tr style=\"text-align: right;\">\n",
              "      <th></th>\n",
              "      <th>mean</th>\n",
              "      <th>var</th>\n",
              "      <th>std</th>\n",
              "    </tr>\n",
              "    <tr>\n",
              "      <th>plan_name</th>\n",
              "      <th></th>\n",
              "      <th></th>\n",
              "      <th></th>\n",
              "    </tr>\n",
              "  </thead>\n",
              "  <tbody>\n",
              "    <tr>\n",
              "      <th>surf</th>\n",
              "      <td>16.670693</td>\n",
              "      <td>61.58360</td>\n",
              "      <td>7.847522</td>\n",
              "    </tr>\n",
              "    <tr>\n",
              "      <th>ultimate</th>\n",
              "      <td>17.306944</td>\n",
              "      <td>58.83055</td>\n",
              "      <td>7.670108</td>\n",
              "    </tr>\n",
              "  </tbody>\n",
              "</table>\n",
              "</div>"
            ],
            "text/plain": [
              "                mean       var       std\n",
              "plan_name                               \n",
              "surf       16.670693  61.58360  7.847522\n",
              "ultimate   17.306944  58.83055  7.670108"
            ]
          },
          "execution_count": 74,
          "metadata": {},
          "output_type": "execute_result"
        }
      ],
      "source": [
        " data.groupby('plan_name')['gb_used'].agg([np.mean, np.var, np.std])"
      ]
    },
    {
      "cell_type": "markdown",
      "metadata": {
        "id": "m9kR7Rnj154k"
      },
      "source": [
        "Media, varianza y desviación estándar para los datos consumidos"
      ]
    },
    {
      "cell_type": "code",
      "execution_count": null,
      "metadata": {
        "colab": {
          "base_uri": "https://localhost:8080/",
          "height": 143
        },
        "id": "HQqLmXy62DKp",
        "outputId": "8623e224-3403-48b7-9b1f-8def0766f60f"
      },
      "outputs": [
        {
          "data": {
            "text/html": [
              "<div>\n",
              "<style scoped>\n",
              "    .dataframe tbody tr th:only-of-type {\n",
              "        vertical-align: middle;\n",
              "    }\n",
              "\n",
              "    .dataframe tbody tr th {\n",
              "        vertical-align: top;\n",
              "    }\n",
              "\n",
              "    .dataframe thead th {\n",
              "        text-align: right;\n",
              "    }\n",
              "</style>\n",
              "<table border=\"1\" class=\"dataframe\">\n",
              "  <thead>\n",
              "    <tr style=\"text-align: right;\">\n",
              "      <th></th>\n",
              "      <th>count</th>\n",
              "      <th>mean</th>\n",
              "      <th>std</th>\n",
              "      <th>min</th>\n",
              "      <th>25%</th>\n",
              "      <th>50%</th>\n",
              "      <th>75%</th>\n",
              "      <th>max</th>\n",
              "    </tr>\n",
              "    <tr>\n",
              "      <th>plan_name</th>\n",
              "      <th></th>\n",
              "      <th></th>\n",
              "      <th></th>\n",
              "      <th></th>\n",
              "      <th></th>\n",
              "      <th></th>\n",
              "      <th></th>\n",
              "      <th></th>\n",
              "    </tr>\n",
              "  </thead>\n",
              "  <tbody>\n",
              "    <tr>\n",
              "      <th>surf</th>\n",
              "      <td>1573.0</td>\n",
              "      <td>16.670693</td>\n",
              "      <td>7.847522</td>\n",
              "      <td>0.0</td>\n",
              "      <td>12.0</td>\n",
              "      <td>17.0</td>\n",
              "      <td>21.0</td>\n",
              "      <td>70.0</td>\n",
              "    </tr>\n",
              "    <tr>\n",
              "      <th>ultimate</th>\n",
              "      <td>720.0</td>\n",
              "      <td>17.306944</td>\n",
              "      <td>7.670108</td>\n",
              "      <td>0.0</td>\n",
              "      <td>13.0</td>\n",
              "      <td>17.0</td>\n",
              "      <td>21.0</td>\n",
              "      <td>46.0</td>\n",
              "    </tr>\n",
              "  </tbody>\n",
              "</table>\n",
              "</div>"
            ],
            "text/plain": [
              "            count       mean       std  min   25%   50%   75%   max\n",
              "plan_name                                                          \n",
              "surf       1573.0  16.670693  7.847522  0.0  12.0  17.0  21.0  70.0\n",
              "ultimate    720.0  17.306944  7.670108  0.0  13.0  17.0  21.0  46.0"
            ]
          },
          "execution_count": 75,
          "metadata": {},
          "output_type": "execute_result"
        }
      ],
      "source": [
        "data.groupby('plan_name')['gb_used'].describe()"
      ]
    },
    {
      "cell_type": "markdown",
      "metadata": {
        "id": "vZSYAHaV3Mfu"
      },
      "source": [
        "Diferencia de la media de los datos usados"
      ]
    },
    {
      "cell_type": "code",
      "execution_count": null,
      "metadata": {
        "colab": {
          "base_uri": "https://localhost:8080/",
          "height": 404
        },
        "id": "tG8_ASmL3S1V",
        "outputId": "af87bd6c-304b-4069-859a-9161fdad867a"
      },
      "outputs": [
        {
          "data": {
            "image/png": "[encoded data removed]",
            "text/plain": [
              "<Figure size 432x432 with 1 Axes>"
            ]
          },
          "metadata": {
            "needs_background": "light"
          },
          "output_type": "display_data"
        }
      ],
      "source": [
        "plt.figure(figsize=(6,6))\n",
        "plt.hist(plan_ultimate['gb_used'], bins=50, alpha=1, label='ultimate')\n",
        "plt.hist(plan_surf['gb_used'], bins=50, alpha=0.5, label='surf')\n",
        "\n",
        "plt.xlabel('Gb used', size=10)\n",
        "plt.ylabel('Count', size=10)\n",
        "plt.title('Comparación de planes por GB usados')\n",
        "plt.legend(loc='upper right');"
      ]
    },
    {
      "cell_type": "markdown",
      "metadata": {
        "id": "fuduKW56-h4I"
      },
      "source": [
        "Según muestra el histograma de comparación de Gb usados, ambos gráficos muestran una distribución muy cercana a una distribución normal pero el histograma de surf tiene un leve sesgo negativo y el histograma de ultimate un leve sesgo positivo."
      ]
    },
    {
      "cell_type": "markdown",
      "metadata": {
        "id": "P5dR1atx-h4J"
      },
      "source": [
        "Como se mencionó más arriba, los planes tienen una distribución muy similar porque los clientes del plan surf, utilizan su plan de una forma muy similar que los clientes ultímate, con la diferencia que el plan surf es más limitado en cuanto a minutos mensajes y mg, lo que hace que se realicen gastos extras para los clientes surf"
      ]
    },
    {
      "cell_type": "markdown",
      "metadata": {
        "id": "fNnYfnxW4KNl"
      },
      "source": [
        "### Conclusión General Parte 3"
      ]
    },
    {
      "cell_type": "markdown",
      "metadata": {
        "id": "cVl8QkvC4i7E"
      },
      "source": [
        "Como conclusión en esta parte podemos decir que el plan 'ultime' que tienen un promedio 60 llamadas realizadas al mes, un promedio de minutos usados al mes de 382 minutos. un promedio de 37 mensajes enviados mensualmente y 16.6 Gb de uso promedio mensual. En un plano general ningún cliente llega al límite de sus datos. excepto un grupo que se excede en BG usados mensualmente, generando cobros extras. Para los clientes del plan surf podemos decir que tienen un promedio mensual de 59,8, llamadas, con un promedio de 381 minutos usados al mes,31 mensajes enviados mensualmente y consumo promedio mensual de 16.6 Gb. Un 25% de los clientes sobrepasa el límite de minutos de su plan y más del 50% sobrepasa sus Gb disponibles, generando muchos más cobros extras que el plan ultímate, que lo hace que el plan surf, sea más rentable para la compañía."
      ]
    },
    {
      "cell_type": "markdown",
      "metadata": {
        "id": "xpFmWYoS63Vy"
      },
      "source": [
        "## Prueba de hipótesis"
      ]
    },
    {
      "cell_type": "markdown",
      "metadata": {
        "id": "r48sW8GkRXWW"
      },
      "source": [
        "El ingreso promedio de los usuarios de las tarifas Ultimate y Surf difiere.\n",
        "El ingreso promedio de los usuarios en el área de estados Nueva York-Nueva Jersey es diferente al de los usuarios de otras regiones.\n",
        "Tú decides qué valor alfa usar."
      ]
    },
    {
      "cell_type": "code",
      "execution_count": null,
      "metadata": {
        "colab": {
          "base_uri": "https://localhost:8080/",
          "height": 404
        },
        "id": "PSXJGeaIRuef",
        "outputId": "586b214b-bc6d-4adc-a57d-db63fc23e09c"
      },
      "outputs": [
        {
          "data": {
            "image/png": "[encoded data removed]",
            "text/plain": [
              "<Figure size 432x432 with 1 Axes>"
            ]
          },
          "metadata": {
            "needs_background": "light"
          },
          "output_type": "display_data"
        }
      ],
      "source": [
        "plt.figure(figsize=(6,6))\n",
        "plt.hist(plan_ultimate['revenue'], bins=10, alpha=1, label='ultimate')\n",
        "plt.hist(plan_surf['revenue'], bins=30, alpha=0.5, label='surf')\n",
        "\n",
        "plt.xlabel('Ingresos', size=10)\n",
        "plt.ylabel('Count', size=10)\n",
        "plt.title('Comparación de ingresos')\n",
        "plt.legend(loc='upper right');"
      ]
    },
    {
      "cell_type": "code",
      "execution_count": null,
      "metadata": {
        "colab": {
          "base_uri": "https://localhost:8080/"
        },
        "id": "K3eC3pgoSJjS",
        "outputId": "1cd4a769-0ee3-4056-b43f-422f4f553277"
      },
      "outputs": [
        {
          "data": {
            "text/plain": [
              "5.028876110654919e-83"
            ]
          },
          "execution_count": 78,
          "metadata": {},
          "output_type": "execute_result"
        }
      ],
      "source": [
        "# Prueba de levene\n",
        "ultimate = plan_ultimate['revenue']\n",
        "surf = plan_surf['revenue']\n",
        "\n",
        "stat, p = levene(ultimate, surf)\n",
        "p"
      ]
    },
    {
      "cell_type": "code",
      "execution_count": null,
      "metadata": {
        "colab": {
          "base_uri": "https://localhost:8080/"
        },
        "id": "SmPIElq-WL2E",
        "outputId": "ac0e0cdc-05cd-4a9b-f202-50c2b2694cac"
      },
      "outputs": [
        {
          "data": {
            "text/plain": [
              "[129.8484855509195, 3067.835152293878]"
            ]
          },
          "execution_count": 79,
          "metadata": {},
          "output_type": "execute_result"
        }
      ],
      "source": [
        "[np.var(x, ddof=1) for x in [ultimate, surf]]"
      ]
    },
    {
      "cell_type": "markdown",
      "metadata": {
        "id": "nMMYXPhlWe4k"
      },
      "source": [
        "Según la prueba de levene, el valor de p esta por debajo de las varianzas por ende el equal_var es False"
      ]
    },
    {
      "cell_type": "code",
      "execution_count": null,
      "metadata": {
        "colab": {
          "base_uri": "https://localhost:8080/"
        },
        "id": "7Zp6yPmr7L3P",
        "outputId": "870b03ff-5300-4403-8e3a-8c341d5db36a"
      },
      "outputs": [
        {
          "name": "stdout",
          "output_type": "stream",
          "text": [
            "El valor de p es: 3.17039054811355e-15\n",
            "Rechazamos la hipótesis nula\n"
          ]
        }
      ],
      "source": [
        "# prueba de hipótesis\n",
        "ultimate = plan_ultimate['revenue']\n",
        "surf = plan_surf['revenue']\n",
        "\n",
        "# establecer un nivel crítico \n",
        "alpha = 0.05\n",
        "\n",
        "# probar la hipótesis de que las medias de las dos poblaciones independientes son iguales\n",
        "results = st.ttest_ind(ultimate, surf, equal_var = False)\n",
        "print('El valor de p es: {}'.format(results.pvalue))\n",
        "\n",
        "# comparar el valor p con el nivel de significancia\n",
        "if (results.pvalue < alpha):\n",
        "    print('Rechazamos la hipótesis nula')\n",
        "else:\n",
        "    print('No se rechazamos la hipótesis nula')"
      ]
    },
    {
      "cell_type": "markdown",
      "metadata": {
        "id": "705-gqh98Uyb"
      },
      "source": [
        "Formulamos la hipótesis nula afirmando que no hay diferencia entre los ingresos promedio de los usuarios de los planes de llamadas Ultimate y Surf. Utilizamos un nivel de significación de 0,05. Dado que el valor p es inferior a 0,05, significa que el grupo es diferente, por lo que rechazamos la hipótesis nula. Nuestro análisis sugiere que los ingresos promedio de los usuarios de los planes de llamadas Ultimate y Surf difieren."
      ]
    },
    {
      "cell_type": "code",
      "execution_count": null,
      "metadata": {
        "colab": {
          "base_uri": "https://localhost:8080/"
        },
        "id": "6hqZ2PVw8f5I",
        "outputId": "74bafd5c-be47-4201-f36e-82d4b8f2cc92"
      },
      "outputs": [
        {
          "name": "stdout",
          "output_type": "stream",
          "text": [
            "El ingreso promedio de los usuarios en el área de Nueva York-Nueva Jersey es $59.92\n",
            "El ingreso promedio de los usuarios de otras regiones es $65.22\n"
          ]
        }
      ],
      "source": [
        "newyork_jersey = nuevo_data.query('city == \"New York-Newark-Jersey City, NY-NJ-PA MSA\"')['revenue'] # ingreso de ususarios in NY-NJ\n",
        "not_newyork_jersey = nuevo_data.query('city != \"New York-Newark-Jersey City, NY-NJ-PA MSA\"')['revenue'] # ingreso de usuarios que no son de  NY-NJ\n",
        "print('El ingreso promedio de los usuarios en el área de Nueva York-Nueva Jersey es ${:.2f}'.format(newyork_jersey.mean()))\n",
        "print('El ingreso promedio de los usuarios de otras regiones es ${:.2f}'.format(not_newyork_jersey.mean()))"
      ]
    },
    {
      "cell_type": "code",
      "execution_count": null,
      "metadata": {
        "colab": {
          "base_uri": "https://localhost:8080/"
        },
        "id": "x8yXm5LUXUoW",
        "outputId": "5949da9b-ca20-44b9-8c2f-f161a9af33b9"
      },
      "outputs": [
        {
          "data": {
            "text/plain": [
              "0.12580091109612837"
            ]
          },
          "execution_count": 82,
          "metadata": {},
          "output_type": "execute_result"
        }
      ],
      "source": [
        "# Prueba de levene\n",
        "a = newyork_jersey\n",
        "b = not_newyork_jersey\n",
        "\n",
        "stat, p = levene(a, b)\n",
        "p"
      ]
    },
    {
      "cell_type": "code",
      "execution_count": null,
      "metadata": {
        "colab": {
          "base_uri": "https://localhost:8080/"
        },
        "id": "v4IcvuRCXa8s",
        "outputId": "b8f496c2-b7b7-4737-9209-5018edcd8262"
      },
      "outputs": [
        {
          "data": {
            "text/plain": [
              "[1895.5456899204246, 2225.0479943518917]"
            ]
          },
          "execution_count": 83,
          "metadata": {},
          "output_type": "execute_result"
        }
      ],
      "source": [
        "[np.var(x, ddof=1) for x in [a, b]]"
      ]
    },
    {
      "cell_type": "markdown",
      "metadata": {
        "id": "wTclZGLCX4_z"
      },
      "source": [
        "Según la prueba de levene, el valor de p esta por encima de las varianzas por ende el equal_var es True"
      ]
    },
    {
      "cell_type": "code",
      "execution_count": null,
      "metadata": {
        "colab": {
          "base_uri": "https://localhost:8080/"
        },
        "id": "RFs6X0yW-NoL",
        "outputId": "ddaea951-3967-470e-ad2c-75c751ed5918"
      },
      "outputs": [
        {
          "name": "stdout",
          "output_type": "stream",
          "text": [
            "The p-value is: 0.03352561588530057\n",
            "Rechazamos la hipótesis nula\n"
          ]
        }
      ],
      "source": [
        "# Prueva de hipotesis \n",
        "newyork_jersey = nuevo_data.query('city == \"New York-Newark-Jersey City, NY-NJ-PA MSA\"')['revenue'] \n",
        "not_newyork_jersey = nuevo_data.query('city != \"New York-Newark-Jersey City, NY-NJ-PA MSA\"')['revenue'] \n",
        "\n",
        "# nivel de significación estadística\n",
        "alpha = 0.05\n",
        "\n",
        "# probar la hipótesis de que las medias de las dos poblaciones independientes son iguales\n",
        "results = st.ttest_ind(newyork_jersey, not_newyork_jersey, equal_var = False)\n",
        "print('The p-value is: {}'.format(results.pvalue))\n",
        "\n",
        "# comparar el valor p con el nivel de significancia\n",
        "if (results.pvalue < alpha):\n",
        "    print('Rechazamos la hipótesis nula')\n",
        "else:\n",
        "    print('Nosotros no rechazamos la hipótesis nula')"
      ]
    },
    {
      "cell_type": "markdown",
      "metadata": {
        "id": "AayuYYcHJ31Q"
      },
      "source": [
        "### Conclusión General Parte 4"
      ]
    },
    {
      "cell_type": "markdown",
      "metadata": {
        "id": "_phGXXuc-nU3"
      },
      "source": [
        "Formulamos nuestra hipótesis nula afirmando que no hay diferencia entre los ingresos promedio de los usuarios en el área de Nueva York-Nueva Jersey y los usuarios de otras regiones. Usamos una prueba t para probar la hipótesis usando un nivel de significancia de 0.05. Dado que el valor p es inferior a 0,05, significa que el grupo es diferente, por lo que rechazamos la hipótesis nula. Es posible que no sepamos el tamaño de la diferencia entre los ingresos promedio de los usuarios en el área de Nueva York-Nueva Jersey y los usuarios de otras regiones. Todo lo que la prueba nos dice es que son diferentes. Sin embargo, al calcular el número promedio de ingresos de los usuarios en ambos grupos, podemos decir con certeza que la media de los ingresos entre los dos grupos es significativamente diferente."
      ]
    },
    {
      "cell_type": "markdown",
      "metadata": {
        "id": "vb1E6v37-0pN"
      },
      "source": [
        "## Conclusión Final "
      ]
    },
    {
      "cell_type": "markdown",
      "metadata": {
        "id": "bxCUO6nM-8wL"
      },
      "source": [
        "Tanto los cliente del plan surf y el plan Ultimate, utilizan en promedio la misma cantidad de minutos y datos y mensajes, pero la gran diferencia es que el plan ultímate, contine más minutos, más mensajes y más BG, lo que hace con una muy pequeña población de ellos generen cobros extras o necesiten extender algún servicio, por el otro lado el plan surf, al ser más limitado en minutos, mensajes y BG, los clientes son más propensos a generar cobros extras, por ende es más rentable para la compañía, además de tener más usuarios. Como un plan de entrada está bien pensado, debido que el cargo fijo es más bajo, pero a medida que el cliente va necesitando más la compañía podría fidelizarlo ofreciendo el plan ultímate. \n",
        "El ingreso promedio de los usuarios en otras regiones es mayor que el ingreso de los usuarios en el área de Nueva York-Nueva Jersey. El departamento comercial debe invertir en más anuncios en otras regiones ya que Megaline gana más dinero en esa área que el área de Nueva York-Nueva Jersey.\n"
      ]
    },
    {
      "cell_type": "code",
      "execution_count": null,
      "metadata": {
        "id": "oE6kzMlP-h4U"
      },
      "outputs": [],
      "source": []
    }
  ],
  "metadata": {
    "colab": {
      "provenance": []
    },
    "kernelspec": {
      "display_name": "Python 3 (ipykernel)",
      "language": "python",
      "name": "python3"
    },
    "language_info": {
      "codemirror_mode": {
        "name": "ipython",
        "version": 3
      },
      "file_extension": ".py",
      "mimetype": "text/x-python",
      "name": "python",
      "nbconvert_exporter": "python",
      "pygments_lexer": "ipython3",
      "version": "3.9.5"
    },
    "toc": {
      "base_numbering": 1,
      "nav_menu": {},
      "number_sections": true,
      "sideBar": true,
      "skip_h1_title": true,
      "title_cell": "Table of Contents",
      "title_sidebar": "Contents",
      "toc_cell": false,
      "toc_position": {},
      "toc_section_display": true,
      "toc_window_display": false
    }
  },
  "nbformat": 4,
  "nbformat_minor": 0
}