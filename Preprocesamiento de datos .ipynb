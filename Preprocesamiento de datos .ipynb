{
  "cells": [
    {
      "cell_type": "markdown",
      "metadata": {
        "id": "w0WwJuDvl3dk"
      },
      "source": [
        "# Contents <a id='back'></a>\n",
        "\n",
        "* [Introducción](#intro)\n",
        "* [1. Descripción de los datos](#data_review)\n",
        "* [2. Exploración de datos](#data_preprocessing)\n",
        "    * [2.1 Ejercicio 1](#header_style)\n",
        "    * [2.2 Conclusiones](#data_preprocessing_conclusions)\n",
        "* [3. Exploración de datos](#hypotheses) \n",
        "    * [3.1 Restaurar valores ausentes en total_income](#activity)\n",
        "    * [3.2 Restaurar valores en days_employed](#week) \n",
        "* [4. Clasificación de datos](#hypotheses)\n",
        "* [5. Comprobación de las hipótesis](#hypotheses)\n",
        "    * [3.1 Hipótesis 1: ¿Existe una correlación entre tener hijos y pagar a tiempo?](#activity)\n",
        "    * [3.2 Hipótesis 2: ¿Existe una correlación entre la situación familiar y el pago a tiempo?](#week)\n",
        "    * [3.3 Hipótesis 3: ¿Existe una correlación entre el nivel de ingresos y el pago a tiempo?](#genre)\n",
        "      [3.4 Hipótesis 3: ¿afecta el propósito del crédito a la tasa de incumplimiento?](#genre)\n",
        "* [Conclusiones](#end)"
      ]
    },
    {
      "cell_type": "markdown",
      "metadata": {
        "id": "Z0xrQUl5l3dl"
      },
      "source": [
        "Introducción\n",
        "\n",
        "Este Trabajo consiste en preparar un informe para la división de préstamos de un banco.\n",
        "Vamos a averiguar si el estado civil y el número de hijos de un cliente tienen un impacto en el incumplimiento de pago de un préstamo. El banco ya tiene algunos datos sobre la solvencia crediticia de los clientes.\n",
        "Este informe se tendrá en cuenta al crear una puntuación de crédito para un cliente potencial. Se utiliza una puntuación de crédito para evaluar la capacidad de un prestatario potencial para pagar su préstamo.\n",
        "Para poder desarrollar este informe, lo primero será preprocesamiento de datos, identificando y completando los valores ausentes, reemplazando el tipo de datos de número real con el tipo de número entero, eliminar datos duplicados, y por último clasificar los datos, para poder responder nuestra hipótesis.\n",
        "\n"
      ]
    },
    {
      "cell_type": "markdown",
      "source": [
        "# Descripción de los datos:\n",
        "- children: el número de hijos en la familia\n",
        "- days_employed: por cuánto tiempo ha estado trabajando el cliente\n",
        "- dob_years: la edad del cliente\n",
        "- education: el nivel educativo del cliente\n",
        "- education_id: identificador de la educación del cliente\n",
        "- family_status: estado civil del cliente\n",
        "- family_status_id: identificador del estado civil del cliente\n",
        "- gender: el género del cliente\n",
        "- income_type: el tipo de ingreso del cliente\n",
        "- debt: si el cliente ha incumplido alguna vez un préstamo\n",
        "- total_income: ingresos mensuales\n",
        "- purpose: motivo por el que se solicita un préstamo"
      ],
      "metadata": {
        "id": "AbDZkd0l6wYv"
      }
    },
    {
      "cell_type": "code",
      "execution_count": null,
      "metadata": {
        "id": "eF5rwIU0l3dm",
        "scrolled": true
      },
      "outputs": [],
      "source": [
        "import pandas as pd\n",
        "\n",
        "# Carga los datos"
      ]
    },
    {
      "cell_type": "code",
      "execution_count": null,
      "metadata": {
        "id": "bdRJ8HVpl3dn"
      },
      "outputs": [],
      "source": [
        "df = pd.read_csv('/datasets/credit_scoring_eng.csv') "
      ]
    },
    {
      "cell_type": "code",
      "execution_count": null,
      "metadata": {
        "id": "nULUbUanl3do",
        "outputId": "355fc775-55f6-42a5-ac00-6c1f1758b5fa",
        "scrolled": true
      },
      "outputs": [
        {
          "data": {
            "text/plain": [
              "(21525, 12)"
            ]
          },
          "execution_count": 3,
          "metadata": {},
          "output_type": "execute_result"
        }
      ],
      "source": [
        "# Vamos a ver cuántas filas y columnas tiene nuestro conjunto de datos\n",
        "df.shape"
      ]
    },
    {
      "cell_type": "code",
      "execution_count": null,
      "metadata": {
        "id": "RrvvHtVjl3dp",
        "outputId": "e89248e5-fa18-406e-a7c9-4d0502a2025a",
        "scrolled": true
      },
      "outputs": [
        {
          "data": {
            "text/html": [
              "<div>\n",
              "<style scoped>\n",
              "    .dataframe tbody tr th:only-of-type {\n",
              "        vertical-align: middle;\n",
              "    }\n",
              "\n",
              "    .dataframe tbody tr th {\n",
              "        vertical-align: top;\n",
              "    }\n",
              "\n",
              "    .dataframe thead th {\n",
              "        text-align: right;\n",
              "    }\n",
              "</style>\n",
              "<table border=\"1\" class=\"dataframe\">\n",
              "  <thead>\n",
              "    <tr style=\"text-align: right;\">\n",
              "      <th></th>\n",
              "      <th>children</th>\n",
              "      <th>days_employed</th>\n",
              "      <th>dob_years</th>\n",
              "      <th>education</th>\n",
              "      <th>education_id</th>\n",
              "      <th>family_status</th>\n",
              "      <th>family_status_id</th>\n",
              "      <th>gender</th>\n",
              "      <th>income_type</th>\n",
              "      <th>debt</th>\n",
              "      <th>total_income</th>\n",
              "      <th>purpose</th>\n",
              "    </tr>\n",
              "  </thead>\n",
              "  <tbody>\n",
              "    <tr>\n",
              "      <th>0</th>\n",
              "      <td>1</td>\n",
              "      <td>-8437.673028</td>\n",
              "      <td>42</td>\n",
              "      <td>bachelor's degree</td>\n",
              "      <td>0</td>\n",
              "      <td>married</td>\n",
              "      <td>0</td>\n",
              "      <td>F</td>\n",
              "      <td>employee</td>\n",
              "      <td>0</td>\n",
              "      <td>40620.102</td>\n",
              "      <td>purchase of the house</td>\n",
              "    </tr>\n",
              "    <tr>\n",
              "      <th>1</th>\n",
              "      <td>1</td>\n",
              "      <td>-4024.803754</td>\n",
              "      <td>36</td>\n",
              "      <td>secondary education</td>\n",
              "      <td>1</td>\n",
              "      <td>married</td>\n",
              "      <td>0</td>\n",
              "      <td>F</td>\n",
              "      <td>employee</td>\n",
              "      <td>0</td>\n",
              "      <td>17932.802</td>\n",
              "      <td>car purchase</td>\n",
              "    </tr>\n",
              "    <tr>\n",
              "      <th>2</th>\n",
              "      <td>0</td>\n",
              "      <td>-5623.422610</td>\n",
              "      <td>33</td>\n",
              "      <td>Secondary Education</td>\n",
              "      <td>1</td>\n",
              "      <td>married</td>\n",
              "      <td>0</td>\n",
              "      <td>M</td>\n",
              "      <td>employee</td>\n",
              "      <td>0</td>\n",
              "      <td>23341.752</td>\n",
              "      <td>purchase of the house</td>\n",
              "    </tr>\n",
              "    <tr>\n",
              "      <th>3</th>\n",
              "      <td>3</td>\n",
              "      <td>-4124.747207</td>\n",
              "      <td>32</td>\n",
              "      <td>secondary education</td>\n",
              "      <td>1</td>\n",
              "      <td>married</td>\n",
              "      <td>0</td>\n",
              "      <td>M</td>\n",
              "      <td>employee</td>\n",
              "      <td>0</td>\n",
              "      <td>42820.568</td>\n",
              "      <td>supplementary education</td>\n",
              "    </tr>\n",
              "    <tr>\n",
              "      <th>4</th>\n",
              "      <td>0</td>\n",
              "      <td>340266.072047</td>\n",
              "      <td>53</td>\n",
              "      <td>secondary education</td>\n",
              "      <td>1</td>\n",
              "      <td>civil partnership</td>\n",
              "      <td>1</td>\n",
              "      <td>F</td>\n",
              "      <td>retiree</td>\n",
              "      <td>0</td>\n",
              "      <td>25378.572</td>\n",
              "      <td>to have a wedding</td>\n",
              "    </tr>\n",
              "    <tr>\n",
              "      <th>5</th>\n",
              "      <td>0</td>\n",
              "      <td>-926.185831</td>\n",
              "      <td>27</td>\n",
              "      <td>bachelor's degree</td>\n",
              "      <td>0</td>\n",
              "      <td>civil partnership</td>\n",
              "      <td>1</td>\n",
              "      <td>M</td>\n",
              "      <td>business</td>\n",
              "      <td>0</td>\n",
              "      <td>40922.170</td>\n",
              "      <td>purchase of the house</td>\n",
              "    </tr>\n",
              "    <tr>\n",
              "      <th>6</th>\n",
              "      <td>0</td>\n",
              "      <td>-2879.202052</td>\n",
              "      <td>43</td>\n",
              "      <td>bachelor's degree</td>\n",
              "      <td>0</td>\n",
              "      <td>married</td>\n",
              "      <td>0</td>\n",
              "      <td>F</td>\n",
              "      <td>business</td>\n",
              "      <td>0</td>\n",
              "      <td>38484.156</td>\n",
              "      <td>housing transactions</td>\n",
              "    </tr>\n",
              "    <tr>\n",
              "      <th>7</th>\n",
              "      <td>0</td>\n",
              "      <td>-152.779569</td>\n",
              "      <td>50</td>\n",
              "      <td>SECONDARY EDUCATION</td>\n",
              "      <td>1</td>\n",
              "      <td>married</td>\n",
              "      <td>0</td>\n",
              "      <td>M</td>\n",
              "      <td>employee</td>\n",
              "      <td>0</td>\n",
              "      <td>21731.829</td>\n",
              "      <td>education</td>\n",
              "    </tr>\n",
              "    <tr>\n",
              "      <th>8</th>\n",
              "      <td>2</td>\n",
              "      <td>-6929.865299</td>\n",
              "      <td>35</td>\n",
              "      <td>BACHELOR'S DEGREE</td>\n",
              "      <td>0</td>\n",
              "      <td>civil partnership</td>\n",
              "      <td>1</td>\n",
              "      <td>F</td>\n",
              "      <td>employee</td>\n",
              "      <td>0</td>\n",
              "      <td>15337.093</td>\n",
              "      <td>having a wedding</td>\n",
              "    </tr>\n",
              "    <tr>\n",
              "      <th>9</th>\n",
              "      <td>0</td>\n",
              "      <td>-2188.756445</td>\n",
              "      <td>41</td>\n",
              "      <td>secondary education</td>\n",
              "      <td>1</td>\n",
              "      <td>married</td>\n",
              "      <td>0</td>\n",
              "      <td>M</td>\n",
              "      <td>employee</td>\n",
              "      <td>0</td>\n",
              "      <td>23108.150</td>\n",
              "      <td>purchase of the house for my family</td>\n",
              "    </tr>\n",
              "  </tbody>\n",
              "</table>\n",
              "</div>"
            ],
            "text/plain": [
              "   children  days_employed  dob_years            education  education_id  \\\n",
              "0         1   -8437.673028         42    bachelor's degree             0   \n",
              "1         1   -4024.803754         36  secondary education             1   \n",
              "2         0   -5623.422610         33  Secondary Education             1   \n",
              "3         3   -4124.747207         32  secondary education             1   \n",
              "4         0  340266.072047         53  secondary education             1   \n",
              "5         0    -926.185831         27    bachelor's degree             0   \n",
              "6         0   -2879.202052         43    bachelor's degree             0   \n",
              "7         0    -152.779569         50  SECONDARY EDUCATION             1   \n",
              "8         2   -6929.865299         35    BACHELOR'S DEGREE             0   \n",
              "9         0   -2188.756445         41  secondary education             1   \n",
              "\n",
              "       family_status  family_status_id gender income_type  debt  total_income  \\\n",
              "0            married                 0      F    employee     0     40620.102   \n",
              "1            married                 0      F    employee     0     17932.802   \n",
              "2            married                 0      M    employee     0     23341.752   \n",
              "3            married                 0      M    employee     0     42820.568   \n",
              "4  civil partnership                 1      F     retiree     0     25378.572   \n",
              "5  civil partnership                 1      M    business     0     40922.170   \n",
              "6            married                 0      F    business     0     38484.156   \n",
              "7            married                 0      M    employee     0     21731.829   \n",
              "8  civil partnership                 1      F    employee     0     15337.093   \n",
              "9            married                 0      M    employee     0     23108.150   \n",
              "\n",
              "                               purpose  \n",
              "0                purchase of the house  \n",
              "1                         car purchase  \n",
              "2                purchase of the house  \n",
              "3              supplementary education  \n",
              "4                    to have a wedding  \n",
              "5                purchase of the house  \n",
              "6                 housing transactions  \n",
              "7                            education  \n",
              "8                     having a wedding  \n",
              "9  purchase of the house for my family  "
            ]
          },
          "execution_count": 4,
          "metadata": {},
          "output_type": "execute_result"
        }
      ],
      "source": [
        "# vamos a mostrar las primeras filas N\n",
        "\n",
        "df.head(10)"
      ]
    },
    {
      "cell_type": "markdown",
      "metadata": {
        "id": "6oKfC0v7l3dp"
      },
      "source": [
        "En la comumna 'days_employed' tiene numeros negativos y la columna 'education' esta escrita con mayuscula y miniscula ademas se repiten los nombres."
      ]
    },
    {
      "cell_type": "code",
      "execution_count": null,
      "metadata": {
        "id": "SHa8hBNZl3dq",
        "outputId": "765316fb-7a5e-4725-a992-82d30eedcc05",
        "scrolled": false
      },
      "outputs": [
        {
          "name": "stdout",
          "output_type": "stream",
          "text": [
            "<class 'pandas.core.frame.DataFrame'>\n",
            "RangeIndex: 21525 entries, 0 to 21524\n",
            "Data columns (total 12 columns):\n",
            " #   Column            Non-Null Count  Dtype  \n",
            "---  ------            --------------  -----  \n",
            " 0   children          21525 non-null  int64  \n",
            " 1   days_employed     19351 non-null  float64\n",
            " 2   dob_years         21525 non-null  int64  \n",
            " 3   education         21525 non-null  object \n",
            " 4   education_id      21525 non-null  int64  \n",
            " 5   family_status     21525 non-null  object \n",
            " 6   family_status_id  21525 non-null  int64  \n",
            " 7   gender            21525 non-null  object \n",
            " 8   income_type       21525 non-null  object \n",
            " 9   debt              21525 non-null  int64  \n",
            " 10  total_income      19351 non-null  float64\n",
            " 11  purpose           21525 non-null  object \n",
            "dtypes: float64(2), int64(5), object(5)\n",
            "memory usage: 2.0+ MB\n"
          ]
        }
      ],
      "source": [
        "# Obtener información sobre los datos\n",
        "df.info()\n"
      ]
    },
    {
      "cell_type": "markdown",
      "metadata": {
        "id": "u2RlyTuXl3dq"
      },
      "source": [
        "solo en 2 en la columna 'days_employed' y en la columna 'total_income' se encuentran valores ausentes"
      ]
    },
    {
      "cell_type": "code",
      "execution_count": null,
      "metadata": {
        "id": "Voa3Ng-el3dq",
        "outputId": "f8de9703-1413-4128-8c65-3bb54e9ce429",
        "scrolled": true
      },
      "outputs": [
        {
          "data": {
            "text/html": [
              "<div>\n",
              "<style scoped>\n",
              "    .dataframe tbody tr th:only-of-type {\n",
              "        vertical-align: middle;\n",
              "    }\n",
              "\n",
              "    .dataframe tbody tr th {\n",
              "        vertical-align: top;\n",
              "    }\n",
              "\n",
              "    .dataframe thead th {\n",
              "        text-align: right;\n",
              "    }\n",
              "</style>\n",
              "<table border=\"1\" class=\"dataframe\">\n",
              "  <thead>\n",
              "    <tr style=\"text-align: right;\">\n",
              "      <th></th>\n",
              "      <th>children</th>\n",
              "      <th>days_employed</th>\n",
              "      <th>dob_years</th>\n",
              "      <th>education</th>\n",
              "      <th>education_id</th>\n",
              "      <th>family_status</th>\n",
              "      <th>family_status_id</th>\n",
              "      <th>gender</th>\n",
              "      <th>income_type</th>\n",
              "      <th>debt</th>\n",
              "      <th>total_income</th>\n",
              "      <th>purpose</th>\n",
              "    </tr>\n",
              "  </thead>\n",
              "  <tbody>\n",
              "    <tr>\n",
              "      <th>12</th>\n",
              "      <td>0</td>\n",
              "      <td>NaN</td>\n",
              "      <td>65</td>\n",
              "      <td>secondary education</td>\n",
              "      <td>1</td>\n",
              "      <td>civil partnership</td>\n",
              "      <td>1</td>\n",
              "      <td>M</td>\n",
              "      <td>retiree</td>\n",
              "      <td>0</td>\n",
              "      <td>NaN</td>\n",
              "      <td>to have a wedding</td>\n",
              "    </tr>\n",
              "    <tr>\n",
              "      <th>26</th>\n",
              "      <td>0</td>\n",
              "      <td>NaN</td>\n",
              "      <td>41</td>\n",
              "      <td>secondary education</td>\n",
              "      <td>1</td>\n",
              "      <td>married</td>\n",
              "      <td>0</td>\n",
              "      <td>M</td>\n",
              "      <td>civil servant</td>\n",
              "      <td>0</td>\n",
              "      <td>NaN</td>\n",
              "      <td>education</td>\n",
              "    </tr>\n",
              "    <tr>\n",
              "      <th>29</th>\n",
              "      <td>0</td>\n",
              "      <td>NaN</td>\n",
              "      <td>63</td>\n",
              "      <td>secondary education</td>\n",
              "      <td>1</td>\n",
              "      <td>unmarried</td>\n",
              "      <td>4</td>\n",
              "      <td>F</td>\n",
              "      <td>retiree</td>\n",
              "      <td>0</td>\n",
              "      <td>NaN</td>\n",
              "      <td>building a real estate</td>\n",
              "    </tr>\n",
              "    <tr>\n",
              "      <th>41</th>\n",
              "      <td>0</td>\n",
              "      <td>NaN</td>\n",
              "      <td>50</td>\n",
              "      <td>secondary education</td>\n",
              "      <td>1</td>\n",
              "      <td>married</td>\n",
              "      <td>0</td>\n",
              "      <td>F</td>\n",
              "      <td>civil servant</td>\n",
              "      <td>0</td>\n",
              "      <td>NaN</td>\n",
              "      <td>second-hand car purchase</td>\n",
              "    </tr>\n",
              "    <tr>\n",
              "      <th>55</th>\n",
              "      <td>0</td>\n",
              "      <td>NaN</td>\n",
              "      <td>54</td>\n",
              "      <td>secondary education</td>\n",
              "      <td>1</td>\n",
              "      <td>civil partnership</td>\n",
              "      <td>1</td>\n",
              "      <td>F</td>\n",
              "      <td>retiree</td>\n",
              "      <td>1</td>\n",
              "      <td>NaN</td>\n",
              "      <td>to have a wedding</td>\n",
              "    </tr>\n",
              "    <tr>\n",
              "      <th>...</th>\n",
              "      <td>...</td>\n",
              "      <td>...</td>\n",
              "      <td>...</td>\n",
              "      <td>...</td>\n",
              "      <td>...</td>\n",
              "      <td>...</td>\n",
              "      <td>...</td>\n",
              "      <td>...</td>\n",
              "      <td>...</td>\n",
              "      <td>...</td>\n",
              "      <td>...</td>\n",
              "      <td>...</td>\n",
              "    </tr>\n",
              "    <tr>\n",
              "      <th>21489</th>\n",
              "      <td>2</td>\n",
              "      <td>NaN</td>\n",
              "      <td>47</td>\n",
              "      <td>Secondary Education</td>\n",
              "      <td>1</td>\n",
              "      <td>married</td>\n",
              "      <td>0</td>\n",
              "      <td>M</td>\n",
              "      <td>business</td>\n",
              "      <td>0</td>\n",
              "      <td>NaN</td>\n",
              "      <td>purchase of a car</td>\n",
              "    </tr>\n",
              "    <tr>\n",
              "      <th>21495</th>\n",
              "      <td>1</td>\n",
              "      <td>NaN</td>\n",
              "      <td>50</td>\n",
              "      <td>secondary education</td>\n",
              "      <td>1</td>\n",
              "      <td>civil partnership</td>\n",
              "      <td>1</td>\n",
              "      <td>F</td>\n",
              "      <td>employee</td>\n",
              "      <td>0</td>\n",
              "      <td>NaN</td>\n",
              "      <td>wedding ceremony</td>\n",
              "    </tr>\n",
              "    <tr>\n",
              "      <th>21497</th>\n",
              "      <td>0</td>\n",
              "      <td>NaN</td>\n",
              "      <td>48</td>\n",
              "      <td>BACHELOR'S DEGREE</td>\n",
              "      <td>0</td>\n",
              "      <td>married</td>\n",
              "      <td>0</td>\n",
              "      <td>F</td>\n",
              "      <td>business</td>\n",
              "      <td>0</td>\n",
              "      <td>NaN</td>\n",
              "      <td>building a property</td>\n",
              "    </tr>\n",
              "    <tr>\n",
              "      <th>21502</th>\n",
              "      <td>1</td>\n",
              "      <td>NaN</td>\n",
              "      <td>42</td>\n",
              "      <td>secondary education</td>\n",
              "      <td>1</td>\n",
              "      <td>married</td>\n",
              "      <td>0</td>\n",
              "      <td>F</td>\n",
              "      <td>employee</td>\n",
              "      <td>0</td>\n",
              "      <td>NaN</td>\n",
              "      <td>building a real estate</td>\n",
              "    </tr>\n",
              "    <tr>\n",
              "      <th>21510</th>\n",
              "      <td>2</td>\n",
              "      <td>NaN</td>\n",
              "      <td>28</td>\n",
              "      <td>secondary education</td>\n",
              "      <td>1</td>\n",
              "      <td>married</td>\n",
              "      <td>0</td>\n",
              "      <td>F</td>\n",
              "      <td>employee</td>\n",
              "      <td>0</td>\n",
              "      <td>NaN</td>\n",
              "      <td>car purchase</td>\n",
              "    </tr>\n",
              "  </tbody>\n",
              "</table>\n",
              "<p>2174 rows × 12 columns</p>\n",
              "</div>"
            ],
            "text/plain": [
              "       children  days_employed  dob_years            education  education_id  \\\n",
              "12            0            NaN         65  secondary education             1   \n",
              "26            0            NaN         41  secondary education             1   \n",
              "29            0            NaN         63  secondary education             1   \n",
              "41            0            NaN         50  secondary education             1   \n",
              "55            0            NaN         54  secondary education             1   \n",
              "...         ...            ...        ...                  ...           ...   \n",
              "21489         2            NaN         47  Secondary Education             1   \n",
              "21495         1            NaN         50  secondary education             1   \n",
              "21497         0            NaN         48    BACHELOR'S DEGREE             0   \n",
              "21502         1            NaN         42  secondary education             1   \n",
              "21510         2            NaN         28  secondary education             1   \n",
              "\n",
              "           family_status  family_status_id gender    income_type  debt  \\\n",
              "12     civil partnership                 1      M        retiree     0   \n",
              "26               married                 0      M  civil servant     0   \n",
              "29             unmarried                 4      F        retiree     0   \n",
              "41               married                 0      F  civil servant     0   \n",
              "55     civil partnership                 1      F        retiree     1   \n",
              "...                  ...               ...    ...            ...   ...   \n",
              "21489            married                 0      M       business     0   \n",
              "21495  civil partnership                 1      F       employee     0   \n",
              "21497            married                 0      F       business     0   \n",
              "21502            married                 0      F       employee     0   \n",
              "21510            married                 0      F       employee     0   \n",
              "\n",
              "       total_income                   purpose  \n",
              "12              NaN         to have a wedding  \n",
              "26              NaN                 education  \n",
              "29              NaN    building a real estate  \n",
              "41              NaN  second-hand car purchase  \n",
              "55              NaN         to have a wedding  \n",
              "...             ...                       ...  \n",
              "21489           NaN         purchase of a car  \n",
              "21495           NaN          wedding ceremony  \n",
              "21497           NaN       building a property  \n",
              "21502           NaN    building a real estate  \n",
              "21510           NaN              car purchase  \n",
              "\n",
              "[2174 rows x 12 columns]"
            ]
          },
          "execution_count": 6,
          "metadata": {},
          "output_type": "execute_result"
        }
      ],
      "source": [
        "# Veamos la tabla filtrada con valores ausentes de la primera columna donde faltan datos\n",
        "df[df['days_employed'].isna()]"
      ]
    },
    {
      "cell_type": "markdown",
      "metadata": {
        "id": "w8EOGU1Ul3dr"
      },
      "source": [
        "Si, los valores son simetricos faltan 2174 en ambas columnas tanto en la columna 'days_employed' como en la columna 'total_income', ademas deben estar relacionadas los valores ausentes."
      ]
    },
    {
      "cell_type": "code",
      "execution_count": null,
      "metadata": {
        "id": "UO8Gmcxgl3dr",
        "outputId": "9fb09094-6cc8-417a-c979-062939d587a6"
      },
      "outputs": [
        {
          "name": "stdout",
          "output_type": "stream",
          "text": [
            "Tenemos un total de 2174 datos ausentes\n"
          ]
        }
      ],
      "source": [
        "# Apliquemos múltiples condiciones para filtrar datos y veamos el número de filas en la tabla filtrada.\n",
        "df_filtered = df[(df['days_employed'].isnull()) & (df['total_income'].isnull())]\n",
        "print(f'Tenemos un total de {len(df_filtered)} datos ausentes')"
      ]
    },
    {
      "cell_type": "code",
      "execution_count": null,
      "metadata": {
        "id": "J0AeAEF4l3dr",
        "outputId": "4cb64c7d-a91a-4391-9e31-f8a30aad02dd"
      },
      "outputs": [
        {
          "name": "stdout",
          "output_type": "stream",
          "text": [
            "Los valores ausentes equivalen a un 10.1% del total de los datos\n"
          ]
        }
      ],
      "source": [
        "por_ausentes = round(len(df_filtered) / len(df) * 100,1)\n",
        "print(f'Los valores ausentes equivalen a un {por_ausentes}% del total de los datos')"
      ]
    },
    {
      "cell_type": "markdown",
      "metadata": {
        "id": "UTABLI0Fl3ds"
      },
      "source": [
        "Si, coincide los valores ausentes en la tabla filtrada, aún es muy pronto para saber que hacer con los valores ausentes, seguire avanzando, para tener un mejor análisis."
      ]
    },
    {
      "cell_type": "markdown",
      "metadata": {
        "id": "U30PcDKCl3ds"
      },
      "source": [
        "en los proximos pasos, analisare los datos ausentes, para tener los datos limpios y ademas Ahora crearé 2 tablas una sin valores ausentes y otra filtrada con valores ausentes."
      ]
    },
    {
      "cell_type": "code",
      "execution_count": null,
      "metadata": {
        "id": "KnFajW7Jl3ds",
        "outputId": "316826d1-2f21-4c42-9d19-0e7ea3c4a3bf"
      },
      "outputs": [
        {
          "name": "stdout",
          "output_type": "stream",
          "text": [
            "<class 'pandas.core.frame.DataFrame'>\n",
            "Int64Index: 19351 entries, 0 to 21524\n",
            "Data columns (total 12 columns):\n",
            " #   Column            Non-Null Count  Dtype  \n",
            "---  ------            --------------  -----  \n",
            " 0   children          19351 non-null  int64  \n",
            " 1   days_employed     19351 non-null  float64\n",
            " 2   dob_years         19351 non-null  int64  \n",
            " 3   education         19351 non-null  object \n",
            " 4   education_id      19351 non-null  int64  \n",
            " 5   family_status     19351 non-null  object \n",
            " 6   family_status_id  19351 non-null  int64  \n",
            " 7   gender            19351 non-null  object \n",
            " 8   income_type       19351 non-null  object \n",
            " 9   debt              19351 non-null  int64  \n",
            " 10  total_income      19351 non-null  float64\n",
            " 11  purpose           19351 non-null  object \n",
            "dtypes: float64(2), int64(5), object(5)\n",
            "memory usage: 1.9+ MB\n"
          ]
        }
      ],
      "source": [
        "# Vamos a investigar a los clientes que no tienen datos sobre la característica identificada y la columna con los valores ausentes\n",
        "\n",
        "df_drop = df.dropna()\n",
        "df_drop.info()"
      ]
    },
    {
      "cell_type": "code",
      "execution_count": null,
      "metadata": {
        "id": "cehBAEs-l3ds",
        "outputId": "af48e936-b7be-47de-eddd-9d95bfb73a01"
      },
      "outputs": [
        {
          "name": "stdout",
          "output_type": "stream",
          "text": [
            "1    13693\n",
            "0     4716\n",
            "2      675\n",
            "3      261\n",
            "4        6\n",
            "Name: education_id, dtype: int64\n",
            "1    1540\n",
            "0     544\n",
            "2      69\n",
            "3      21\n",
            "Name: education_id, dtype: int64\n"
          ]
        }
      ],
      "source": [
        "variable = 'education_id'\n",
        "\n",
        "serie_limpia = df_drop[variable]\n",
        "serie_filtrada = df_filtered[variable]\n",
        "\n",
        "print(serie_limpia.value_counts())\n",
        "print(serie_filtrada.value_counts())\n",
        "# Ahora crearé 2 tablas una sin valores ausentes y otra filtrada con valores ausentes"
      ]
    },
    {
      "cell_type": "code",
      "execution_count": null,
      "metadata": {
        "id": "6PgHGLlll3dt",
        "outputId": "b9c667e0-8d34-46ca-919a-337e98d3a9f8"
      },
      "outputs": [
        {
          "name": "stdout",
          "output_type": "stream",
          "text": [
            "1    70.76\n",
            "0    24.37\n",
            "2     3.49\n",
            "3     1.35\n",
            "4     0.03\n",
            "Name: education_id, dtype: float64\n",
            "\n",
            "1    70.84\n",
            "0    25.02\n",
            "2     3.17\n",
            "3     0.97\n",
            "Name: education_id, dtype: float64\n"
          ]
        }
      ],
      "source": [
        "# Comprobación de la distribución\n",
        "\n",
        "n_serie_limpia = len(serie_limpia)\n",
        "n_serie_filtrada = len(serie_filtrada)\n",
        "\n",
        "print(round(serie_limpia.value_counts() / n_serie_limpia * 100,2))\n",
        "print()\n",
        "print(round(serie_filtrada.value_counts() / n_serie_filtrada * 100,2))"
      ]
    },
    {
      "cell_type": "markdown",
      "metadata": {
        "id": "bguV67Osl3dt"
      },
      "source": [
        "Al comprobar la distribución podemos apreciar que la diferencia entre una tabla sin valores ausentes y otra con valores ausentes, sus diferencias son mínimas también observamos que los valores faltantes exhiben un patrón 'sistemático'. Para cada fila con datos faltantes, faltan los valores de días_empleados y total_ingresos. Esto significa que los datos \"no faltan al azar (MNAR)\".Apesar que el tamaño de la muestra es lo suficientemente grande, no podemos descartar el 10 % de los datos que faltan sin una pérdida sustancial del análisis estadístico."
      ]
    },
    {
      "cell_type": "code",
      "execution_count": null,
      "metadata": {
        "id": "H7fVQlCal3dt",
        "outputId": "20c6aa41-ad7f-4cac-8db6-8e29b61be77e"
      },
      "outputs": [
        {
          "name": "stdout",
          "output_type": "stream",
          "text": [
            "secondary education    63.8\n",
            "bachelor's degree      21.8\n",
            "SECONDARY EDUCATION     3.6\n",
            "Secondary Education     3.3\n",
            "some college            3.2\n",
            "BACHELOR'S DEGREE       1.3\n",
            "Bachelor's Degree       1.3\n",
            "primary education       1.2\n",
            "Some College            0.2\n",
            "SOME COLLEGE            0.1\n",
            "PRIMARY EDUCATION       0.1\n",
            "Primary Education       0.1\n",
            "graduate degree         0.0\n",
            "Graduate Degree         0.0\n",
            "GRADUATE DEGREE         0.0\n",
            "Name: education, dtype: float64\n",
            "--------------------------------------------------------------\n",
            "secondary education    64.8\n",
            "bachelor's degree      22.8\n",
            "SECONDARY EDUCATION     3.1\n",
            "Secondary Education     3.0\n",
            "some college            2.5\n",
            "Bachelor's Degree       1.1\n",
            "BACHELOR'S DEGREE       1.1\n",
            "primary education       0.9\n",
            "SOME COLLEGE            0.3\n",
            "Some College            0.3\n",
            "Primary Education       0.0\n",
            "PRIMARY EDUCATION       0.0\n",
            "Name: education, dtype: float64\n"
          ]
        }
      ],
      "source": [
        "# Comprobando la distribución en el conjunto de datos entero\n",
        "\n",
        "variable = 'education'\n",
        "serie_limpia = df_drop[variable]\n",
        "serie_filtrada = df_filtered[variable]\n",
        "\n",
        "n_serie_limpia = len(serie_limpia)\n",
        "n_serie_filtrada = len(serie_filtrada)\n",
        "\n",
        "print(round(serie_limpia.value_counts() / n_serie_limpia * 100,1))\n",
        "print('--------------------------------------------------------------')\n",
        "print(round(serie_filtrada.value_counts() / n_serie_filtrada * 100,1))"
      ]
    },
    {
      "cell_type": "markdown",
      "metadata": {
        "id": "k1-EqHSsl3du"
      },
      "source": [
        "Si la distribución de datos es similar, por el momento la conclusión que puedo sacar es que los datos ausentes son aleatorios y no son significativos para el análisis de datos."
      ]
    },
    {
      "cell_type": "code",
      "execution_count": null,
      "metadata": {
        "id": "6coyZ35Yl3du",
        "outputId": "0681a46a-37be-49c8-859e-a9deade7a34b"
      },
      "outputs": [
        {
          "name": "stdout",
          "output_type": "stream",
          "text": [
            "employee         1105\n",
            "business          508\n",
            "retiree           413\n",
            "civil servant     147\n",
            "entrepreneur        1\n",
            "Name: income_type, dtype: int64\n",
            "----------------------------------\n",
            "employee                       11119\n",
            "business                        5085\n",
            "retiree                         3856\n",
            "civil servant                   1459\n",
            "unemployed                         2\n",
            "entrepreneur                       2\n",
            "student                            1\n",
            "paternity / maternity leave        1\n",
            "Name: income_type, dtype: int64\n"
          ]
        }
      ],
      "source": [
        "# Comprueba otras razones y patrones que podrían llevar a valores ausentes\n",
        "\n",
        "print(df_filtered['income_type'].value_counts())\n",
        "print('----------------------------------')\n",
        "print(df['income_type'].value_counts())\n",
        "# Las personas cesantes,estudiantes y con fueros maternales, No presentan valores ausentes"
      ]
    },
    {
      "cell_type": "markdown",
      "metadata": {
        "id": "MMMfy-3el3du"
      },
      "source": [
        "Los datos ausentes están más en la columna 'employee' que en las otras columnas, pero también en la base de datos es proporcional a la cantidad de datos, por ende se podría concluir que los datos ausentes son aleatorios, además que no significa una gran cantidad de datos a comparación con la base de datos"
      ]
    },
    {
      "cell_type": "markdown",
      "metadata": {
        "id": "JqYcqvv8l3du"
      },
      "source": [
        "Se imputarán los datos duplicados, se corregir los datos mal escritos y se analizaran los datos ausentes"
      ]
    },
    {
      "cell_type": "code",
      "execution_count": null,
      "metadata": {
        "id": "G5gP6lyOl3dv",
        "outputId": "df475d52-264c-443c-abf6-aa62b790abbe"
      },
      "outputs": [
        {
          "data": {
            "text/plain": [
              "array([\"bachelor's degree\", 'secondary education', 'Secondary Education',\n",
              "       'SECONDARY EDUCATION', \"BACHELOR'S DEGREE\", 'some college',\n",
              "       'primary education', \"Bachelor's Degree\", 'SOME COLLEGE',\n",
              "       'Some College', 'PRIMARY EDUCATION', 'Primary Education',\n",
              "       'Graduate Degree', 'GRADUATE DEGREE', 'graduate degree'],\n",
              "      dtype=object)"
            ]
          },
          "execution_count": 15,
          "metadata": {},
          "output_type": "execute_result"
        }
      ],
      "source": [
        "# Veamos todos los valores en la columna de educación para verificar si será necesario corregir la ortografía y qué habrá que corregir exactamente\n",
        "df['education'].unique()"
      ]
    },
    {
      "cell_type": "code",
      "execution_count": null,
      "metadata": {
        "id": "uaU4rUz9l3dv",
        "scrolled": true
      },
      "outputs": [],
      "source": [
        "# Arregla los registros si es necesario\n",
        "df['education'] = df['education'].str.lower()"
      ]
    },
    {
      "cell_type": "code",
      "execution_count": null,
      "metadata": {
        "id": "NfplX5T0l3dv",
        "outputId": "cf4ce74d-3314-4595-9f88-3d061609d6db",
        "scrolled": true
      },
      "outputs": [
        {
          "data": {
            "text/plain": [
              "array([\"bachelor's degree\", 'secondary education', 'some college',\n",
              "       'primary education', 'graduate degree'], dtype=object)"
            ]
          },
          "execution_count": 17,
          "metadata": {},
          "output_type": "execute_result"
        }
      ],
      "source": [
        "# Comprobar todos los valores en la columna para asegurarnos de que los hayamos corregido\n",
        "\n",
        "df['education'].unique()"
      ]
    },
    {
      "cell_type": "code",
      "execution_count": null,
      "metadata": {
        "id": "bi4qAipul3dw",
        "outputId": "1fc46704-db94-43e4-aa1b-675298a9bf65"
      },
      "outputs": [
        {
          "data": {
            "text/plain": [
              "array([ 1,  0,  3,  2, -1,  4, 20,  5])"
            ]
          },
          "execution_count": 18,
          "metadata": {},
          "output_type": "execute_result"
        }
      ],
      "source": [
        "# Veamos la distribución de los valores en la columna `children`\n",
        "df['children'].unique()"
      ]
    },
    {
      "cell_type": "code",
      "execution_count": null,
      "metadata": {
        "id": "mTtoRd42l3dw",
        "outputId": "09a1031e-1507-42a6-e2da-09f43ecbdd40"
      },
      "outputs": [
        {
          "data": {
            "text/plain": [
              " 0     14149\n",
              " 1      4818\n",
              " 2      2055\n",
              " 3       330\n",
              " 20       76\n",
              "-1        47\n",
              " 4        41\n",
              " 5         9\n",
              "Name: children, dtype: int64"
            ]
          },
          "execution_count": 19,
          "metadata": {},
          "output_type": "execute_result"
        }
      ],
      "source": [
        "df['children'].value_counts()"
      ]
    },
    {
      "cell_type": "markdown",
      "metadata": {
        "id": "OVxsCNogl3dw"
      },
      "source": [
        "Si, se encuentra un numero negativo y un numero grande para la variable que estamos preguntando que es 'children', \n",
        "ahora bien son insignificantes a comparación de la cantidad de otros datos, por ende se eliminaran sin afectar nuestro analisis"
      ]
    },
    {
      "cell_type": "code",
      "execution_count": null,
      "metadata": {
        "id": "73PdcpQUl3dw",
        "scrolled": true
      },
      "outputs": [],
      "source": [
        "# [arregla los datos según tu decisión]\n",
        "df.loc[df['children'] == -1,'children'] = 1"
      ]
    },
    {
      "cell_type": "code",
      "execution_count": null,
      "metadata": {
        "id": "tKWe5xzdl3dw"
      },
      "outputs": [],
      "source": [
        "df.loc[df['children'] == 20,'children'] = 2\n"
      ]
    },
    {
      "cell_type": "code",
      "execution_count": null,
      "metadata": {
        "id": "3afNux8Il3dx",
        "outputId": "67a1cfaa-6770-44c6-e197-6394f8a1636a"
      },
      "outputs": [
        {
          "data": {
            "text/plain": [
              "array([1, 0, 3, 2, 4, 5])"
            ]
          },
          "execution_count": 22,
          "metadata": {},
          "output_type": "execute_result"
        }
      ],
      "source": [
        "# Comprobar la columna `children` de nuevo para asegurarnos de que todo está arreglado\n",
        "\n",
        "df['children'].unique()"
      ]
    },
    {
      "cell_type": "code",
      "execution_count": null,
      "metadata": {
        "id": "JmOBBzm4l3dx",
        "outputId": "74d1663b-6dc6-4a93-aab4-e909ccbc6e16"
      },
      "outputs": [
        {
          "data": {
            "text/plain": [
              "array([-8437.67302776, -4024.80375385, -5623.42261023, ...,\n",
              "       -2113.3468877 , -3112.4817052 , -1984.50758853])"
            ]
          },
          "execution_count": 23,
          "metadata": {},
          "output_type": "execute_result"
        }
      ],
      "source": [
        "# Encuentra datos problemáticos en `days_employed`, si existen, y calcula el porcentaje\n",
        "df['days_employed'].unique()"
      ]
    },
    {
      "cell_type": "markdown",
      "metadata": {
        "id": "3XakLkZkl3dx"
      },
      "source": [
        "Aqui lo que vamos a hacer es pasar los números a positivos debido que el alto el % de la columna con estos números, de esta forma nos aseguramos que los datos no generen problema para nuestro análisis"
      ]
    },
    {
      "cell_type": "code",
      "execution_count": null,
      "metadata": {
        "id": "3kukLGqil3dx",
        "outputId": "1db919ee-cb37-458a-f2d1-8e4fe9dc0777",
        "scrolled": false
      },
      "outputs": [
        {
          "data": {
            "text/plain": [
              "children            15906\n",
              "days_employed       15906\n",
              "dob_years           15906\n",
              "education           15906\n",
              "education_id        15906\n",
              "family_status       15906\n",
              "family_status_id    15906\n",
              "gender              15906\n",
              "income_type         15906\n",
              "debt                15906\n",
              "total_income        15906\n",
              "purpose             15906\n",
              "dtype: int64"
            ]
          },
          "execution_count": 24,
          "metadata": {},
          "output_type": "execute_result"
        }
      ],
      "source": [
        "# Aborda los valores problemáticos, si existen.\n",
        "df[df['days_employed'] <= 0].count()\n",
        "# En la columna 'days_employed' existen 15809 registro negativos"
      ]
    },
    {
      "cell_type": "code",
      "execution_count": null,
      "metadata": {
        "id": "fgjChvUKl3dx",
        "outputId": "63951944-6a99-4fad-bbf9-27c6370e6ece",
        "scrolled": true
      },
      "outputs": [
        {
          "name": "stdout",
          "output_type": "stream",
          "text": [
            "El porcentaje de participacion de numeros negativos dentro de la columna es 82%\n"
          ]
        }
      ],
      "source": [
        "datos_negativos = 15906\n",
        "total_datos = 19351\n",
        "resultado = round(datos_negativos / total_datos * 100)\n",
        "print(f'El porcentaje de participacion de numeros negativos dentro de la columna es {resultado}%')"
      ]
    },
    {
      "cell_type": "code",
      "execution_count": null,
      "metadata": {
        "id": "l6U_XmBRl3dy",
        "scrolled": false
      },
      "outputs": [],
      "source": [
        "df['days_employed'] = df['days_employed']"
      ]
    },
    {
      "cell_type": "code",
      "execution_count": null,
      "metadata": {
        "id": "jdJZPTlal3dy",
        "scrolled": false
      },
      "outputs": [],
      "source": [
        "filtro = df['days_employed']>0"
      ]
    },
    {
      "cell_type": "code",
      "execution_count": null,
      "metadata": {
        "id": "p2z0hTuvl3dy",
        "scrolled": true
      },
      "outputs": [],
      "source": [
        "df.loc[filtro,'days_employed'] = df.loc[filtro,'days_employed'] / 24"
      ]
    },
    {
      "cell_type": "code",
      "execution_count": null,
      "metadata": {
        "id": "AUbBFGYil3dy",
        "outputId": "608f284f-8df1-4595-8e17-76f024c41257",
        "scrolled": false
      },
      "outputs": [
        {
          "data": {
            "text/plain": [
              "count    19351.000000\n",
              "mean       773.409931\n",
              "std       7045.147683\n",
              "min     -18388.949901\n",
              "25%      -2747.423625\n",
              "50%      -1203.369529\n",
              "75%       -291.095954\n",
              "max      16739.808353\n",
              "Name: days_employed, dtype: float64"
            ]
          },
          "execution_count": 29,
          "metadata": {},
          "output_type": "execute_result"
        }
      ],
      "source": [
        "df['days_employed'].describe()"
      ]
    },
    {
      "cell_type": "code",
      "execution_count": null,
      "metadata": {
        "id": "bmzLRug3l3dy",
        "scrolled": false
      },
      "outputs": [],
      "source": [
        "df['days_employed'] = df['days_employed'].abs()\n"
      ]
    },
    {
      "cell_type": "code",
      "execution_count": null,
      "metadata": {
        "id": "8dNbTiaGl3dy",
        "outputId": "02fb85a4-3097-4165-e98b-6bc588b2d384",
        "scrolled": true
      },
      "outputs": [
        {
          "data": {
            "text/plain": [
              "count    19351.000000\n",
              "mean      4641.641176\n",
              "std       5355.964289\n",
              "min         24.141633\n",
              "25%        927.009265\n",
              "50%       2194.220567\n",
              "75%       5537.882441\n",
              "max      18388.949901\n",
              "Name: days_employed, dtype: float64"
            ]
          },
          "execution_count": 31,
          "metadata": {},
          "output_type": "execute_result"
        }
      ],
      "source": [
        "df['days_employed'].describe()"
      ]
    },
    {
      "cell_type": "markdown",
      "metadata": {
        "id": "9MRk_Rddl3dz"
      },
      "source": [
        "para resolver este problema, los números positivos se pasaron a días, una vez solucionado ese problemas los números negativos fueron transformados en positivos, solucionando los inconvenientes de la columna days_employed"
      ]
    },
    {
      "cell_type": "markdown",
      "metadata": {
        "id": "NDiO1mPll3dz"
      },
      "source": [
        "Tenemos un numero 0 el cual no corresponde a la edad de un cliente "
      ]
    },
    {
      "cell_type": "code",
      "execution_count": null,
      "metadata": {
        "id": "56LqFZxcl3dz",
        "outputId": "c68ce9ff-6267-4ea3-81de-dd8408536af5",
        "scrolled": true
      },
      "outputs": [
        {
          "data": {
            "text/plain": [
              "35    617\n",
              "40    609\n",
              "41    607\n",
              "34    603\n",
              "38    598\n",
              "42    597\n",
              "33    581\n",
              "39    573\n",
              "31    560\n",
              "36    555\n",
              "44    547\n",
              "29    545\n",
              "30    540\n",
              "48    538\n",
              "37    537\n",
              "50    514\n",
              "43    513\n",
              "32    510\n",
              "49    508\n",
              "28    503\n",
              "45    497\n",
              "27    493\n",
              "56    487\n",
              "52    484\n",
              "47    480\n",
              "54    479\n",
              "46    475\n",
              "58    461\n",
              "57    460\n",
              "53    459\n",
              "51    448\n",
              "59    444\n",
              "55    443\n",
              "26    408\n",
              "60    377\n",
              "25    357\n",
              "61    355\n",
              "62    352\n",
              "63    269\n",
              "64    265\n",
              "24    264\n",
              "23    254\n",
              "65    194\n",
              "66    183\n",
              "22    183\n",
              "67    167\n",
              "21    111\n",
              "0     101\n",
              "68     99\n",
              "69     85\n",
              "70     65\n",
              "71     58\n",
              "20     51\n",
              "72     33\n",
              "19     14\n",
              "73      8\n",
              "74      6\n",
              "75      1\n",
              "Name: dob_years, dtype: int64"
            ]
          },
          "execution_count": 32,
          "metadata": {},
          "output_type": "execute_result"
        }
      ],
      "source": [
        "# Revisa `dob_years` en busca de valores sospechosos y cuenta el porcentaje\n",
        "df['dob_years'].value_counts()\n"
      ]
    },
    {
      "cell_type": "markdown",
      "metadata": {
        "id": "V5MFFhGcl3dz"
      },
      "source": [
        "los datos con edad de 0 son solo el 2% de la base de datos por ende se eliminan "
      ]
    },
    {
      "cell_type": "code",
      "execution_count": null,
      "metadata": {
        "id": "aSpdSXF-l3d0",
        "outputId": "29fffcdf-8c19-42ef-fc2b-b98c9fa2d9f1",
        "scrolled": false
      },
      "outputs": [
        {
          "name": "stdout",
          "output_type": "stream",
          "text": [
            "El porcentaje de participacion de numeros cero dentro de la columna es 0.4692218350754936%\n"
          ]
        }
      ],
      "source": [
        "# Resuelve los problemas en la columna `dob_years`, si existen\n",
        "total_0 = 101\n",
        "total_datos = 21525\n",
        "resultado = (total_0 / total_datos *100)\n",
        "print(f'El porcentaje de participacion de numeros cero dentro de la columna es {resultado}%')\n",
        " "
      ]
    },
    {
      "cell_type": "code",
      "execution_count": null,
      "metadata": {
        "id": "Et1IhSSgl3d0"
      },
      "outputs": [],
      "source": [
        "df = df.drop(df[df['dob_years']== 0].index)\n",
        "# elimine el valor 0 de la columna por el valor None. de esta forma no interfiere en nuestros calculos "
      ]
    },
    {
      "cell_type": "code",
      "execution_count": null,
      "metadata": {
        "id": "xsGqlaI3l3d0",
        "outputId": "9721448c-83ad-4456-ea0a-d4f1bd66eadd"
      },
      "outputs": [
        {
          "data": {
            "text/plain": [
              "array([42, 36, 33, 32, 53, 27, 43, 50, 35, 41, 40, 65, 54, 56, 26, 48, 24,\n",
              "       21, 57, 67, 28, 63, 62, 47, 34, 68, 25, 31, 30, 20, 49, 37, 45, 61,\n",
              "       64, 44, 52, 46, 23, 38, 39, 51, 59, 29, 60, 55, 58, 71, 22, 73, 66,\n",
              "       69, 19, 72, 70, 74, 75])"
            ]
          },
          "execution_count": 35,
          "metadata": {},
          "output_type": "execute_result"
        }
      ],
      "source": [
        "# Comprueba el resultado - asegúrate de que esté arreglado\n",
        "df['dob_years'].unique()"
      ]
    },
    {
      "cell_type": "markdown",
      "metadata": {
        "id": "WCVvEVXul3d0"
      },
      "source": [
        "las clasificaciones de dos palabras no están separadas por _ se va a corregir"
      ]
    },
    {
      "cell_type": "code",
      "execution_count": null,
      "metadata": {
        "id": "PkFI84Mvl3d0",
        "outputId": "5ca7329b-6985-4f06-d7a6-a32007b1c121"
      },
      "outputs": [
        {
          "data": {
            "text/plain": [
              "array(['married', 'civil partnership', 'widow / widower', 'divorced',\n",
              "       'unmarried'], dtype=object)"
            ]
          },
          "execution_count": 36,
          "metadata": {},
          "output_type": "execute_result"
        }
      ],
      "source": [
        "# Veamos los valores de la columna\n",
        "df['family_status'].unique()\n"
      ]
    },
    {
      "cell_type": "code",
      "execution_count": null,
      "metadata": {
        "id": "YzqIUPoml3d1"
      },
      "outputs": [],
      "source": [
        "# Aborda los valores problemáticos en `family_status`, si existen\n",
        "\n",
        "df['family_status'] = df['family_status'].replace('civil partnership','civil_partnership')"
      ]
    },
    {
      "cell_type": "code",
      "execution_count": null,
      "metadata": {
        "id": "bJ9NH7LYl3d1",
        "outputId": "97be82b0-c478-4460-f7dd-7743f30154e2"
      },
      "outputs": [
        {
          "data": {
            "text/plain": [
              "array(['married', 'civil_partnership', 'widow / widower', 'divorced',\n",
              "       'unmarried'], dtype=object)"
            ]
          },
          "execution_count": 38,
          "metadata": {},
          "output_type": "execute_result"
        }
      ],
      "source": [
        "# Comprueba el resultado - asegúrate de que esté arreglado\n",
        "df['family_status'].unique()"
      ]
    },
    {
      "cell_type": "markdown",
      "metadata": {
        "id": "hnsOcKRpl3d1"
      },
      "source": [
        "tenemos una clasificación que no corresponde 'XNA', se eliminara "
      ]
    },
    {
      "cell_type": "code",
      "execution_count": null,
      "metadata": {
        "id": "r9nIORGsl3d1",
        "outputId": "957cf463-b97d-490a-d676-f0926df0db7d"
      },
      "outputs": [
        {
          "data": {
            "text/plain": [
              "array(['F', 'M', 'XNA'], dtype=object)"
            ]
          },
          "execution_count": 39,
          "metadata": {},
          "output_type": "execute_result"
        }
      ],
      "source": [
        "# Veamos los valores en la columna\n",
        "df['gender'].unique()"
      ]
    },
    {
      "cell_type": "code",
      "execution_count": null,
      "metadata": {
        "id": "v9HolAH3l3d1",
        "outputId": "1e44a689-3d05-4bf3-e8b5-01884c0f2637",
        "scrolled": true
      },
      "outputs": [
        {
          "data": {
            "text/plain": [
              "children            1\n",
              "days_employed       1\n",
              "dob_years           1\n",
              "education           1\n",
              "education_id        1\n",
              "family_status       1\n",
              "family_status_id    1\n",
              "gender              1\n",
              "income_type         1\n",
              "debt                1\n",
              "total_income        1\n",
              "purpose             1\n",
              "dtype: int64"
            ]
          },
          "execution_count": 40,
          "metadata": {},
          "output_type": "execute_result"
        }
      ],
      "source": [
        "# Aborda los valores problemáticos, si existen\n",
        "df[df['gender'] == 'XNA'].count()"
      ]
    },
    {
      "cell_type": "code",
      "execution_count": null,
      "metadata": {
        "id": "ADIFeuSZl3d2"
      },
      "outputs": [],
      "source": [
        "df = df.drop(df[df['gender']== 'XNA'].index)\n",
        "# Al encontyrar solo un registro con el valor XNA procedo a eliminar."
      ]
    },
    {
      "cell_type": "code",
      "execution_count": null,
      "metadata": {
        "id": "rNpBi3lNl3d2",
        "outputId": "e395e468-faa8-48a3-be34-be6d0f5a2e31"
      },
      "outputs": [
        {
          "data": {
            "text/plain": [
              "array(['F', 'M'], dtype=object)"
            ]
          },
          "execution_count": 42,
          "metadata": {},
          "output_type": "execute_result"
        }
      ],
      "source": [
        "# Comprueba el resultado - asegúrate de que esté arreglado\n",
        "df['gender'].unique()"
      ]
    },
    {
      "cell_type": "markdown",
      "metadata": {
        "id": "KSjanObrl3d2"
      },
      "source": [
        "las clasificaciones de dos palabras no están separadas por _ se va a corregir"
      ]
    },
    {
      "cell_type": "code",
      "execution_count": null,
      "metadata": {
        "id": "cKW-ywnil3d2",
        "outputId": "cd3a2c78-5bec-497f-ab5e-46a0f3ec35c0"
      },
      "outputs": [
        {
          "data": {
            "text/plain": [
              "array(['employee', 'retiree', 'business', 'civil servant', 'unemployed',\n",
              "       'entrepreneur', 'student', 'paternity / maternity leave'],\n",
              "      dtype=object)"
            ]
          },
          "execution_count": 43,
          "metadata": {},
          "output_type": "execute_result"
        }
      ],
      "source": [
        "# Veamos los valores en la columna\n",
        "df['income_type'].unique()"
      ]
    },
    {
      "cell_type": "code",
      "execution_count": null,
      "metadata": {
        "id": "nOVO9ihsl3d2"
      },
      "outputs": [],
      "source": [
        "# Aborda los valores problemáticos, si existen\n",
        "df['income_type'] = df['income_type'].replace('civil servant','civil_servant')"
      ]
    },
    {
      "cell_type": "code",
      "execution_count": null,
      "metadata": {
        "id": "UipBglA-l3d2",
        "outputId": "a23378b9-4c22-4502-ee29-52e0832b5dda"
      },
      "outputs": [
        {
          "data": {
            "text/plain": [
              "array(['employee', 'retiree', 'business', 'civil_servant', 'unemployed',\n",
              "       'entrepreneur', 'student', 'paternity / maternity leave'],\n",
              "      dtype=object)"
            ]
          },
          "execution_count": 45,
          "metadata": {},
          "output_type": "execute_result"
        }
      ],
      "source": [
        "# Comprueba el resultado - asegúrate de que esté arreglado\n",
        "\n",
        "df['income_type'].unique()"
      ]
    },
    {
      "cell_type": "markdown",
      "metadata": {
        "id": "uZh6pxkFl3d3"
      },
      "source": [
        "Si tenemos la cantidad de 71 datos duplicados de un universo de más 20.000 datos \n",
        "por ende, se eliminarán sin afectar a nuestro análisis"
      ]
    },
    {
      "cell_type": "code",
      "execution_count": null,
      "metadata": {
        "id": "eq3OnXFJl3d3",
        "outputId": "3ec161d9-3d16-41cb-c0aa-8a502c55464c"
      },
      "outputs": [
        {
          "data": {
            "text/plain": [
              "71"
            ]
          },
          "execution_count": 46,
          "metadata": {},
          "output_type": "execute_result"
        }
      ],
      "source": [
        "# Comprobar los duplicados\n",
        "\n",
        "df.duplicated().sum()"
      ]
    },
    {
      "cell_type": "code",
      "execution_count": null,
      "metadata": {
        "id": "nHtYG9prl3d3",
        "scrolled": false
      },
      "outputs": [],
      "source": [
        "# Aborda los duplicados, si existen\n",
        "df = df.drop_duplicates().reset_index(drop= True)"
      ]
    },
    {
      "cell_type": "code",
      "execution_count": null,
      "metadata": {
        "id": "cheeXRhdl3d3",
        "outputId": "f6e5e3f3-f424-4cba-8f0a-4958a020f8a2"
      },
      "outputs": [
        {
          "data": {
            "text/plain": [
              "0"
            ]
          },
          "execution_count": 48,
          "metadata": {},
          "output_type": "execute_result"
        }
      ],
      "source": [
        "# Última comprobación para ver si tenemos duplicados\n",
        "df.duplicated().sum()"
      ]
    },
    {
      "cell_type": "code",
      "execution_count": null,
      "metadata": {
        "id": "jBtOBq0Fl3d3",
        "outputId": "d795fe17-d380-4154-e510-e7f4b0d93928",
        "scrolled": true
      },
      "outputs": [
        {
          "data": {
            "text/plain": [
              "(21352, 12)"
            ]
          },
          "execution_count": 49,
          "metadata": {},
          "output_type": "execute_result"
        }
      ],
      "source": [
        "# Comprueba el tamaño del conjunto de datos que tienes ahora, después de haber ejecutado estas primeras manipulaciones\n",
        "df.shape"
      ]
    },
    {
      "cell_type": "markdown",
      "metadata": {
        "id": "Jby7WSZnl3d4"
      },
      "source": [
        "Efectivamente mis datos cambiaron, disminuyeron debido a la eliminación de los datos duplicados, el % es significante para nuestro análisis"
      ]
    },
    {
      "cell_type": "markdown",
      "metadata": {
        "id": "d55SshV3l3d4"
      },
      "source": [
        "# Trabajar con valores ausentes"
      ]
    },
    {
      "cell_type": "code",
      "execution_count": null,
      "metadata": {
        "id": "7MxgVu92l3d4",
        "scrolled": true
      },
      "outputs": [],
      "source": [
        "family_dic = {'married': 0 , 'civil_partnership':1, 'widow / widower':2, 'divorced':3, 'unmarried':4}\n",
        "education_dic = {\"bachelor's degree\":0, 'secondary education':1, 'some college':2, 'primary education':3, 'graduate degree':4}"
      ]
    },
    {
      "cell_type": "markdown",
      "metadata": {
        "id": "EADkiw31l3d7"
      },
      "source": [
        "### Restaurar valores ausentes en `total_income`"
      ]
    },
    {
      "cell_type": "code",
      "execution_count": null,
      "metadata": {
        "id": "J52wdM2gl3d7"
      },
      "outputs": [],
      "source": [
        "# Vamos a escribir una función que calcule la categoría de edad\n",
        "def age_group(age):\n",
        "    if age <= 35:\n",
        "        return 'joven'\n",
        "    if age <= 65:\n",
        "        return 'adulto'\n",
        "    return 'mayor'    "
      ]
    },
    {
      "cell_type": "code",
      "execution_count": null,
      "metadata": {
        "id": "0KhEsU_al3d7",
        "outputId": "eda71180-8860-493f-ada2-75721b84cc1c"
      },
      "outputs": [
        {
          "name": "stdout",
          "output_type": "stream",
          "text": [
            "joven\n"
          ]
        }
      ],
      "source": [
        "# Prueba si la función funciona bien\n",
        "print(age_group(20))"
      ]
    },
    {
      "cell_type": "code",
      "execution_count": null,
      "metadata": {
        "id": "2JMEti1Yl3d7"
      },
      "outputs": [],
      "source": [
        "# Crear una nueva columna basada en la función\n",
        "\n",
        "df['category'] = df['dob_years'].apply(age_group)"
      ]
    },
    {
      "cell_type": "code",
      "execution_count": null,
      "metadata": {
        "id": "gBqa0ERbl3d8",
        "outputId": "a03f8cf9-996e-463c-c308-f013b83512c5"
      },
      "outputs": [
        {
          "data": {
            "text/plain": [
              "array(['adulto', 'joven', 'mayor'], dtype=object)"
            ]
          },
          "execution_count": 54,
          "metadata": {},
          "output_type": "execute_result"
        }
      ],
      "source": [
        "# Comprobar cómo los valores en la nueva columna\n",
        "df['category'].unique()\n"
      ]
    },
    {
      "cell_type": "code",
      "execution_count": null,
      "metadata": {
        "id": "o_AfNs67l3d8",
        "outputId": "72f25758-c94c-41d5-fa8c-26dd996df4a1"
      },
      "outputs": [
        {
          "data": {
            "text/html": [
              "<div>\n",
              "<style scoped>\n",
              "    .dataframe tbody tr th:only-of-type {\n",
              "        vertical-align: middle;\n",
              "    }\n",
              "\n",
              "    .dataframe tbody tr th {\n",
              "        vertical-align: top;\n",
              "    }\n",
              "\n",
              "    .dataframe thead th {\n",
              "        text-align: right;\n",
              "    }\n",
              "</style>\n",
              "<table border=\"1\" class=\"dataframe\">\n",
              "  <thead>\n",
              "    <tr style=\"text-align: right;\">\n",
              "      <th></th>\n",
              "      <th>children</th>\n",
              "      <th>days_employed</th>\n",
              "      <th>dob_years</th>\n",
              "      <th>education</th>\n",
              "      <th>education_id</th>\n",
              "      <th>family_status</th>\n",
              "      <th>family_status_id</th>\n",
              "      <th>gender</th>\n",
              "      <th>income_type</th>\n",
              "      <th>debt</th>\n",
              "      <th>total_income</th>\n",
              "      <th>purpose</th>\n",
              "    </tr>\n",
              "  </thead>\n",
              "  <tbody>\n",
              "    <tr>\n",
              "      <th>0</th>\n",
              "      <td>1</td>\n",
              "      <td>-8437.673028</td>\n",
              "      <td>42</td>\n",
              "      <td>bachelor's degree</td>\n",
              "      <td>0</td>\n",
              "      <td>married</td>\n",
              "      <td>0</td>\n",
              "      <td>F</td>\n",
              "      <td>employee</td>\n",
              "      <td>0</td>\n",
              "      <td>40620.102</td>\n",
              "      <td>purchase of the house</td>\n",
              "    </tr>\n",
              "    <tr>\n",
              "      <th>1</th>\n",
              "      <td>1</td>\n",
              "      <td>-4024.803754</td>\n",
              "      <td>36</td>\n",
              "      <td>secondary education</td>\n",
              "      <td>1</td>\n",
              "      <td>married</td>\n",
              "      <td>0</td>\n",
              "      <td>F</td>\n",
              "      <td>employee</td>\n",
              "      <td>0</td>\n",
              "      <td>17932.802</td>\n",
              "      <td>car purchase</td>\n",
              "    </tr>\n",
              "    <tr>\n",
              "      <th>2</th>\n",
              "      <td>0</td>\n",
              "      <td>-5623.422610</td>\n",
              "      <td>33</td>\n",
              "      <td>Secondary Education</td>\n",
              "      <td>1</td>\n",
              "      <td>married</td>\n",
              "      <td>0</td>\n",
              "      <td>M</td>\n",
              "      <td>employee</td>\n",
              "      <td>0</td>\n",
              "      <td>23341.752</td>\n",
              "      <td>purchase of the house</td>\n",
              "    </tr>\n",
              "    <tr>\n",
              "      <th>3</th>\n",
              "      <td>3</td>\n",
              "      <td>-4124.747207</td>\n",
              "      <td>32</td>\n",
              "      <td>secondary education</td>\n",
              "      <td>1</td>\n",
              "      <td>married</td>\n",
              "      <td>0</td>\n",
              "      <td>M</td>\n",
              "      <td>employee</td>\n",
              "      <td>0</td>\n",
              "      <td>42820.568</td>\n",
              "      <td>supplementary education</td>\n",
              "    </tr>\n",
              "    <tr>\n",
              "      <th>4</th>\n",
              "      <td>0</td>\n",
              "      <td>340266.072047</td>\n",
              "      <td>53</td>\n",
              "      <td>secondary education</td>\n",
              "      <td>1</td>\n",
              "      <td>civil partnership</td>\n",
              "      <td>1</td>\n",
              "      <td>F</td>\n",
              "      <td>retiree</td>\n",
              "      <td>0</td>\n",
              "      <td>25378.572</td>\n",
              "      <td>to have a wedding</td>\n",
              "    </tr>\n",
              "    <tr>\n",
              "      <th>...</th>\n",
              "      <td>...</td>\n",
              "      <td>...</td>\n",
              "      <td>...</td>\n",
              "      <td>...</td>\n",
              "      <td>...</td>\n",
              "      <td>...</td>\n",
              "      <td>...</td>\n",
              "      <td>...</td>\n",
              "      <td>...</td>\n",
              "      <td>...</td>\n",
              "      <td>...</td>\n",
              "      <td>...</td>\n",
              "    </tr>\n",
              "    <tr>\n",
              "      <th>21520</th>\n",
              "      <td>1</td>\n",
              "      <td>-4529.316663</td>\n",
              "      <td>43</td>\n",
              "      <td>secondary education</td>\n",
              "      <td>1</td>\n",
              "      <td>civil partnership</td>\n",
              "      <td>1</td>\n",
              "      <td>F</td>\n",
              "      <td>business</td>\n",
              "      <td>0</td>\n",
              "      <td>35966.698</td>\n",
              "      <td>housing transactions</td>\n",
              "    </tr>\n",
              "    <tr>\n",
              "      <th>21521</th>\n",
              "      <td>0</td>\n",
              "      <td>343937.404131</td>\n",
              "      <td>67</td>\n",
              "      <td>secondary education</td>\n",
              "      <td>1</td>\n",
              "      <td>married</td>\n",
              "      <td>0</td>\n",
              "      <td>F</td>\n",
              "      <td>retiree</td>\n",
              "      <td>0</td>\n",
              "      <td>24959.969</td>\n",
              "      <td>purchase of a car</td>\n",
              "    </tr>\n",
              "    <tr>\n",
              "      <th>21522</th>\n",
              "      <td>1</td>\n",
              "      <td>-2113.346888</td>\n",
              "      <td>38</td>\n",
              "      <td>secondary education</td>\n",
              "      <td>1</td>\n",
              "      <td>civil partnership</td>\n",
              "      <td>1</td>\n",
              "      <td>M</td>\n",
              "      <td>employee</td>\n",
              "      <td>1</td>\n",
              "      <td>14347.610</td>\n",
              "      <td>property</td>\n",
              "    </tr>\n",
              "    <tr>\n",
              "      <th>21523</th>\n",
              "      <td>3</td>\n",
              "      <td>-3112.481705</td>\n",
              "      <td>38</td>\n",
              "      <td>secondary education</td>\n",
              "      <td>1</td>\n",
              "      <td>married</td>\n",
              "      <td>0</td>\n",
              "      <td>M</td>\n",
              "      <td>employee</td>\n",
              "      <td>1</td>\n",
              "      <td>39054.888</td>\n",
              "      <td>buying my own car</td>\n",
              "    </tr>\n",
              "    <tr>\n",
              "      <th>21524</th>\n",
              "      <td>2</td>\n",
              "      <td>-1984.507589</td>\n",
              "      <td>40</td>\n",
              "      <td>secondary education</td>\n",
              "      <td>1</td>\n",
              "      <td>married</td>\n",
              "      <td>0</td>\n",
              "      <td>F</td>\n",
              "      <td>employee</td>\n",
              "      <td>0</td>\n",
              "      <td>13127.587</td>\n",
              "      <td>to buy a car</td>\n",
              "    </tr>\n",
              "  </tbody>\n",
              "</table>\n",
              "<p>19351 rows × 12 columns</p>\n",
              "</div>"
            ],
            "text/plain": [
              "       children  days_employed  dob_years            education  education_id  \\\n",
              "0             1   -8437.673028         42    bachelor's degree             0   \n",
              "1             1   -4024.803754         36  secondary education             1   \n",
              "2             0   -5623.422610         33  Secondary Education             1   \n",
              "3             3   -4124.747207         32  secondary education             1   \n",
              "4             0  340266.072047         53  secondary education             1   \n",
              "...         ...            ...        ...                  ...           ...   \n",
              "21520         1   -4529.316663         43  secondary education             1   \n",
              "21521         0  343937.404131         67  secondary education             1   \n",
              "21522         1   -2113.346888         38  secondary education             1   \n",
              "21523         3   -3112.481705         38  secondary education             1   \n",
              "21524         2   -1984.507589         40  secondary education             1   \n",
              "\n",
              "           family_status  family_status_id gender income_type  debt  \\\n",
              "0                married                 0      F    employee     0   \n",
              "1                married                 0      F    employee     0   \n",
              "2                married                 0      M    employee     0   \n",
              "3                married                 0      M    employee     0   \n",
              "4      civil partnership                 1      F     retiree     0   \n",
              "...                  ...               ...    ...         ...   ...   \n",
              "21520  civil partnership                 1      F    business     0   \n",
              "21521            married                 0      F     retiree     0   \n",
              "21522  civil partnership                 1      M    employee     1   \n",
              "21523            married                 0      M    employee     1   \n",
              "21524            married                 0      F    employee     0   \n",
              "\n",
              "       total_income                  purpose  \n",
              "0         40620.102    purchase of the house  \n",
              "1         17932.802             car purchase  \n",
              "2         23341.752    purchase of the house  \n",
              "3         42820.568  supplementary education  \n",
              "4         25378.572        to have a wedding  \n",
              "...             ...                      ...  \n",
              "21520     35966.698     housing transactions  \n",
              "21521     24959.969        purchase of a car  \n",
              "21522     14347.610                 property  \n",
              "21523     39054.888        buying my own car  \n",
              "21524     13127.587             to buy a car  \n",
              "\n",
              "[19351 rows x 12 columns]"
            ]
          },
          "execution_count": 55,
          "metadata": {},
          "output_type": "execute_result"
        }
      ],
      "source": [
        "# Crea una tabla sin valores ausentes y muestra algunas de sus filas para asegurarte de que se ve bien\n",
        "df_drop"
      ]
    },
    {
      "cell_type": "code",
      "execution_count": null,
      "metadata": {
        "id": "ivQMZXSFl3d8",
        "outputId": "4139bb19-5925-492d-bbcc-d053ff7eb368"
      },
      "outputs": [
        {
          "data": {
            "text/plain": [
              "23202.87"
            ]
          },
          "execution_count": 56,
          "metadata": {},
          "output_type": "execute_result"
        }
      ],
      "source": [
        "# Examina los valores medios de los ingresos en función de los factores que identificaste\n",
        "df_drop['total_income'].median()"
      ]
    },
    {
      "cell_type": "code",
      "execution_count": null,
      "metadata": {
        "id": "3yxyIER6l3d8",
        "outputId": "8b995ee0-784e-4b64-82a1-87bc3bcd25da",
        "scrolled": true
      },
      "outputs": [
        {
          "data": {
            "text/plain": [
              "26787.568354658673"
            ]
          },
          "execution_count": 57,
          "metadata": {},
          "output_type": "execute_result"
        }
      ],
      "source": [
        "# Examina los valores medianos de los ingresos en función de los factores que identificaste\n",
        "df_drop['total_income'].mean()"
      ]
    },
    {
      "cell_type": "code",
      "execution_count": null,
      "metadata": {
        "id": "tmia_QVKl3d9",
        "outputId": "d0ba6ef6-6d45-45cf-8de6-65d0f20accec"
      },
      "outputs": [
        {
          "name": "stdout",
          "output_type": "stream",
          "text": [
            "3306.762\n",
            "----------------------------\n",
            "362496.645\n"
          ]
        }
      ],
      "source": [
        "print(df_drop['total_income'].min())\n",
        "print('----------------------------')\n",
        "print(df_drop['total_income'].max())"
      ]
    },
    {
      "cell_type": "code",
      "execution_count": null,
      "metadata": {
        "id": "IqsbeGczl3d9",
        "outputId": "64f79d48-85b4-4a4e-9a10-3a4faf3110ab",
        "scrolled": false
      },
      "outputs": [
        {
          "name": "stdout",
          "output_type": "stream",
          "text": [
            "<class 'pandas.core.frame.DataFrame'>\n",
            "RangeIndex: 21352 entries, 0 to 21351\n",
            "Data columns (total 13 columns):\n",
            " #   Column            Non-Null Count  Dtype  \n",
            "---  ------            --------------  -----  \n",
            " 0   children          21352 non-null  int64  \n",
            " 1   days_employed     19259 non-null  float64\n",
            " 2   dob_years         21352 non-null  int64  \n",
            " 3   education         21352 non-null  object \n",
            " 4   education_id      21352 non-null  int64  \n",
            " 5   family_status     21352 non-null  object \n",
            " 6   family_status_id  21352 non-null  int64  \n",
            " 7   gender            21352 non-null  object \n",
            " 8   income_type       21352 non-null  object \n",
            " 9   debt              21352 non-null  int64  \n",
            " 10  total_income      19259 non-null  float64\n",
            " 11  purpose           21352 non-null  object \n",
            " 12  category          21352 non-null  object \n",
            "dtypes: float64(2), int64(5), object(6)\n",
            "memory usage: 2.1+ MB\n"
          ]
        }
      ],
      "source": [
        "df.info()"
      ]
    },
    {
      "cell_type": "code",
      "execution_count": null,
      "metadata": {
        "id": "4AtpLf8El3d9"
      },
      "outputs": [],
      "source": [
        "def rango_edad (row):\n",
        "    if row['dob_years'] < 10:\n",
        "        return '< 10'\n",
        "    elif row['dob_years'] < 20:\n",
        "        return '10-20'\n",
        "    elif row['dob_years'] < 30:\n",
        "        return '20-30'\n",
        "    elif row['dob_years'] < 40:\n",
        "        return '30-40'\n",
        "    elif row['dob_years'] < 50:\n",
        "        return '40-50'\n",
        "    elif row['dob_years'] < 60:\n",
        "        return '50-60'\n",
        "    else: \n",
        "        return '60+'"
      ]
    },
    {
      "cell_type": "code",
      "execution_count": null,
      "metadata": {
        "id": "8qEyIA0Wl3d9",
        "scrolled": true
      },
      "outputs": [],
      "source": [
        "df['rango_years'] = df.apply(rango_edad, axis = 1)"
      ]
    },
    {
      "cell_type": "code",
      "execution_count": null,
      "metadata": {
        "id": "XE7om7uVl3d-",
        "outputId": "2549b1bf-d001-4056-dd32-77a36786fa04",
        "scrolled": true
      },
      "outputs": [
        {
          "name": "stdout",
          "output_type": "stream",
          "text": [
            "rango_years\n",
            "10-20    16993.942462\n",
            "20-30    25570.172966\n",
            "30-40    28312.479963\n",
            "40-50    28551.375635\n",
            "50-60    25811.700327\n",
            "60+      23021.639994\n",
            "Name: total_income, dtype: float64\n"
          ]
        }
      ],
      "source": [
        "# comprueba si la funcion funciona\n",
        "means = df.groupby('rango_years')['total_income'].mean() \n",
        "print(means)"
      ]
    },
    {
      "cell_type": "code",
      "execution_count": null,
      "metadata": {
        "id": "FVYa_kW-l3d-"
      },
      "outputs": [],
      "source": [
        "# Aplícalo a cada fila\n",
        "def replace_total_income_means(df):\n",
        "    means = df.groupby('rango_years')['total_income'].mean()\n",
        "    \n",
        "    df.loc[(df['rango_years']==  '10-20') & (df['total_income'].isna()), 'total_income'] = means['10-20']\n",
        "    df.loc[(df['rango_years']==  '20-30') & (df['total_income'].isna()), 'total_income'] = means['20-30']\n",
        "    df.loc[(df['rango_years']==  '30-40') & (df['total_income'].isna()), 'total_income'] = means['30-40']\n",
        "    df.loc[(df['rango_years']==  '40-50') & (df['total_income'].isna()), 'total_income'] = means['40-50']\n",
        "    df.loc[(df['rango_years']==  '50-60') & (df['total_income'].isna()), 'total_income'] = means['50-60']\n",
        "    df.loc[(df['rango_years']==  '60+') & (df['total_income'].isna()), 'total_income'] = means['60+']\n",
        "    \n",
        "    return df"
      ]
    },
    {
      "cell_type": "code",
      "execution_count": null,
      "metadata": {
        "id": "WIz036j7l3d_",
        "outputId": "54da2e5a-354c-4e1d-a59f-3461d19eef1e",
        "scrolled": true
      },
      "outputs": [
        {
          "data": {
            "text/plain": [
              "children                              0\n",
              "days_employed                       NaN\n",
              "dob_years                            65\n",
              "education           secondary education\n",
              "education_id                          1\n",
              "family_status         civil_partnership\n",
              "family_status_id                      1\n",
              "gender                                M\n",
              "income_type                     retiree\n",
              "debt                                  0\n",
              "total_income               23021.639994\n",
              "purpose               to have a wedding\n",
              "category                         adulto\n",
              "rango_years                         60+\n",
              "Name: 12, dtype: object"
            ]
          },
          "execution_count": 64,
          "metadata": {},
          "output_type": "execute_result"
        }
      ],
      "source": [
        "# Comprueba si tenemos algún error\n",
        "replace_total_income_means(df).loc[12]"
      ]
    },
    {
      "cell_type": "code",
      "execution_count": null,
      "metadata": {
        "id": "0_CPWQ40l3d_",
        "outputId": "b3f69cad-cb4a-4f51-a2d6-20d06d939357"
      },
      "outputs": [
        {
          "data": {
            "text/html": [
              "<div>\n",
              "<style scoped>\n",
              "    .dataframe tbody tr th:only-of-type {\n",
              "        vertical-align: middle;\n",
              "    }\n",
              "\n",
              "    .dataframe tbody tr th {\n",
              "        vertical-align: top;\n",
              "    }\n",
              "\n",
              "    .dataframe thead th {\n",
              "        text-align: right;\n",
              "    }\n",
              "</style>\n",
              "<table border=\"1\" class=\"dataframe\">\n",
              "  <thead>\n",
              "    <tr style=\"text-align: right;\">\n",
              "      <th></th>\n",
              "      <th>children</th>\n",
              "      <th>days_employed</th>\n",
              "      <th>dob_years</th>\n",
              "      <th>education_id</th>\n",
              "      <th>family_status_id</th>\n",
              "      <th>debt</th>\n",
              "      <th>total_income</th>\n",
              "    </tr>\n",
              "  </thead>\n",
              "  <tbody>\n",
              "    <tr>\n",
              "      <th>count</th>\n",
              "      <td>21352.000000</td>\n",
              "      <td>19259.000000</td>\n",
              "      <td>21352.000000</td>\n",
              "      <td>21352.000000</td>\n",
              "      <td>21352.000000</td>\n",
              "      <td>21352.000000</td>\n",
              "      <td>21352.000000</td>\n",
              "    </tr>\n",
              "    <tr>\n",
              "      <th>mean</th>\n",
              "      <td>0.480517</td>\n",
              "      <td>4641.903245</td>\n",
              "      <td>43.476817</td>\n",
              "      <td>0.817722</td>\n",
              "      <td>0.972649</td>\n",
              "      <td>0.081163</td>\n",
              "      <td>26793.556938</td>\n",
              "    </tr>\n",
              "    <tr>\n",
              "      <th>std</th>\n",
              "      <td>0.755846</td>\n",
              "      <td>5355.803028</td>\n",
              "      <td>12.241877</td>\n",
              "      <td>0.548717</td>\n",
              "      <td>1.421020</td>\n",
              "      <td>0.273092</td>\n",
              "      <td>15676.054112</td>\n",
              "    </tr>\n",
              "    <tr>\n",
              "      <th>min</th>\n",
              "      <td>0.000000</td>\n",
              "      <td>24.141633</td>\n",
              "      <td>19.000000</td>\n",
              "      <td>0.000000</td>\n",
              "      <td>0.000000</td>\n",
              "      <td>0.000000</td>\n",
              "      <td>3306.762000</td>\n",
              "    </tr>\n",
              "    <tr>\n",
              "      <th>25%</th>\n",
              "      <td>0.000000</td>\n",
              "      <td>926.823974</td>\n",
              "      <td>33.000000</td>\n",
              "      <td>1.000000</td>\n",
              "      <td>0.000000</td>\n",
              "      <td>0.000000</td>\n",
              "      <td>17222.623000</td>\n",
              "    </tr>\n",
              "    <tr>\n",
              "      <th>50%</th>\n",
              "      <td>0.000000</td>\n",
              "      <td>2197.320350</td>\n",
              "      <td>43.000000</td>\n",
              "      <td>1.000000</td>\n",
              "      <td>0.000000</td>\n",
              "      <td>0.000000</td>\n",
              "      <td>24563.263500</td>\n",
              "    </tr>\n",
              "    <tr>\n",
              "      <th>75%</th>\n",
              "      <td>1.000000</td>\n",
              "      <td>5540.399763</td>\n",
              "      <td>53.000000</td>\n",
              "      <td>1.000000</td>\n",
              "      <td>1.000000</td>\n",
              "      <td>0.000000</td>\n",
              "      <td>31321.653000</td>\n",
              "    </tr>\n",
              "    <tr>\n",
              "      <th>max</th>\n",
              "      <td>5.000000</td>\n",
              "      <td>18388.949901</td>\n",
              "      <td>75.000000</td>\n",
              "      <td>4.000000</td>\n",
              "      <td>4.000000</td>\n",
              "      <td>1.000000</td>\n",
              "      <td>362496.645000</td>\n",
              "    </tr>\n",
              "  </tbody>\n",
              "</table>\n",
              "</div>"
            ],
            "text/plain": [
              "           children  days_employed     dob_years  education_id  \\\n",
              "count  21352.000000   19259.000000  21352.000000  21352.000000   \n",
              "mean       0.480517    4641.903245     43.476817      0.817722   \n",
              "std        0.755846    5355.803028     12.241877      0.548717   \n",
              "min        0.000000      24.141633     19.000000      0.000000   \n",
              "25%        0.000000     926.823974     33.000000      1.000000   \n",
              "50%        0.000000    2197.320350     43.000000      1.000000   \n",
              "75%        1.000000    5540.399763     53.000000      1.000000   \n",
              "max        5.000000   18388.949901     75.000000      4.000000   \n",
              "\n",
              "       family_status_id          debt   total_income  \n",
              "count      21352.000000  21352.000000   21352.000000  \n",
              "mean           0.972649      0.081163   26793.556938  \n",
              "std            1.421020      0.273092   15676.054112  \n",
              "min            0.000000      0.000000    3306.762000  \n",
              "25%            0.000000      0.000000   17222.623000  \n",
              "50%            0.000000      0.000000   24563.263500  \n",
              "75%            1.000000      0.000000   31321.653000  \n",
              "max            4.000000      1.000000  362496.645000  "
            ]
          },
          "execution_count": 65,
          "metadata": {},
          "output_type": "execute_result"
        }
      ],
      "source": [
        "# Reemplazar los valores ausentes si hay algún error\n",
        "df.describe()"
      ]
    },
    {
      "cell_type": "code",
      "execution_count": null,
      "metadata": {
        "id": "rNrMogdol3eA",
        "outputId": "82f255d3-c10b-4461-eab3-42dbb07b4c91"
      },
      "outputs": [
        {
          "name": "stdout",
          "output_type": "stream",
          "text": [
            "<class 'pandas.core.frame.DataFrame'>\n",
            "RangeIndex: 21352 entries, 0 to 21351\n",
            "Data columns (total 14 columns):\n",
            " #   Column            Non-Null Count  Dtype  \n",
            "---  ------            --------------  -----  \n",
            " 0   children          21352 non-null  int64  \n",
            " 1   days_employed     19259 non-null  float64\n",
            " 2   dob_years         21352 non-null  int64  \n",
            " 3   education         21352 non-null  object \n",
            " 4   education_id      21352 non-null  int64  \n",
            " 5   family_status     21352 non-null  object \n",
            " 6   family_status_id  21352 non-null  int64  \n",
            " 7   gender            21352 non-null  object \n",
            " 8   income_type       21352 non-null  object \n",
            " 9   debt              21352 non-null  int64  \n",
            " 10  total_income      21352 non-null  float64\n",
            " 11  purpose           21352 non-null  object \n",
            " 12  category          21352 non-null  object \n",
            " 13  rango_years       21352 non-null  object \n",
            "dtypes: float64(2), int64(5), object(7)\n",
            "memory usage: 2.3+ MB\n"
          ]
        }
      ],
      "source": [
        "# Comprobar el número de entradas en las columnas\n",
        "\n",
        "df.info()"
      ]
    },
    {
      "cell_type": "markdown",
      "metadata": {
        "id": "jn4Qxg36l3eA"
      },
      "source": [
        "###  Restaurar valores en `days_employed`"
      ]
    },
    {
      "cell_type": "code",
      "execution_count": null,
      "metadata": {
        "id": "8A7ktybYl3eA",
        "outputId": "d0edee1b-6e98-46e4-a597-f0d85d80e1b0",
        "pycharm": {
          "name": "#%%\n"
        }
      },
      "outputs": [
        {
          "data": {
            "text/plain": [
              "2197"
            ]
          },
          "execution_count": 67,
          "metadata": {},
          "output_type": "execute_result"
        }
      ],
      "source": [
        "# Distribución de las medianas de `days_employed` en función de los parámetros identificados\n",
        "days_median = round(df['days_employed'].median())\n",
        "days_median"
      ]
    },
    {
      "cell_type": "code",
      "execution_count": null,
      "metadata": {
        "id": "zDeSPsT1l3eA",
        "outputId": "555edcca-73a2-44e5-bb93-645d9261edd8"
      },
      "outputs": [
        {
          "data": {
            "text/plain": [
              "4642"
            ]
          },
          "execution_count": 68,
          "metadata": {},
          "output_type": "execute_result"
        }
      ],
      "source": [
        "# Distribución de las medias de `days_employed` en función de los parámetros identificados\n",
        "round(df['days_employed'].mean())"
      ]
    },
    {
      "cell_type": "code",
      "execution_count": null,
      "metadata": {
        "id": "lmT-aYQ0l3eB",
        "outputId": "7b718fe6-7ff7-44ab-cc55-eeae45ac6fd1",
        "scrolled": true
      },
      "outputs": [
        {
          "data": {
            "text/plain": [
              "count    19259.000000\n",
              "mean      4641.903245\n",
              "std       5355.803028\n",
              "min         24.141633\n",
              "25%        926.823974\n",
              "50%       2197.320350\n",
              "75%       5540.399763\n",
              "max      18388.949901\n",
              "Name: days_employed, dtype: float64"
            ]
          },
          "execution_count": 69,
          "metadata": {},
          "output_type": "execute_result"
        }
      ],
      "source": [
        "df['days_employed'].describe()\n",
        "# La ejecución muestra un max de 18388 dias"
      ]
    },
    {
      "cell_type": "code",
      "execution_count": null,
      "metadata": {
        "id": "JpD6nM6Sl3eB",
        "scrolled": false
      },
      "outputs": [],
      "source": [
        "# Escribamos una función que calcule medias o medianas (dependiendo de tu decisión) según el parámetro identificado\n",
        "def rango_niños (row):\n",
        "    if row['children'] == 0:\n",
        "        return '0'\n",
        "    elif row['children'] < 1:\n",
        "        return '0-1'\n",
        "    elif row['children'] < 2:\n",
        "        return '1-2'\n",
        "    elif row['children'] < 3:\n",
        "        return '2-3'\n",
        "    elif row['children'] < 4:\n",
        "        return '3-4'\n",
        "    else: \n",
        "        return '4+'"
      ]
    },
    {
      "cell_type": "code",
      "execution_count": null,
      "metadata": {
        "id": "gqUdSukCl3eB",
        "scrolled": true
      },
      "outputs": [],
      "source": [
        "df['range_children'] = df.apply(rango_niños, axis = 1)"
      ]
    },
    {
      "cell_type": "code",
      "execution_count": null,
      "metadata": {
        "id": "yhiOljuql3eC",
        "outputId": "cb96ec80-0dc8-451c-a740-835e53ded25b",
        "scrolled": true
      },
      "outputs": [
        {
          "name": "stdout",
          "output_type": "stream",
          "text": [
            "range_children\n",
            "0      5644.108228\n",
            "1-2    2933.576370\n",
            "2-3    2296.742518\n",
            "3-4    2433.795725\n",
            "4+     2381.855349\n",
            "Name: days_employed, dtype: float64\n"
          ]
        }
      ],
      "source": [
        "# Comprueba si la función funcionó\n",
        "new_means = df.groupby('range_children')['days_employed'].mean() \n",
        "print(new_means)\n"
      ]
    },
    {
      "cell_type": "code",
      "execution_count": null,
      "metadata": {
        "id": "tkeiYQH6l3eC"
      },
      "outputs": [],
      "source": [
        "# Reemplazar valores ausentes\n",
        "\n",
        "def replace_days_employed_new_means(df):\n",
        "    new_means = df.groupby('range_children')['days_employed'].mean()\n",
        "    \n",
        "    df.loc[(df['range_children']==  '0') & (df['days_employed'].isna()), 'days_employed'] = new_means['0']\n",
        "    df.loc[(df['range_children']==  '1-2') & (df['days_employed'].isna()), 'days_employed'] = new_means['1-2']\n",
        "    df.loc[(df['range_children']==  '2-3') & (df['days_employed'].isna()), 'days_employed'] = new_means['2-3']\n",
        "    df.loc[(df['range_children']==  '3-4') & (df['days_employed'].isna()), 'days_employed'] = new_means['3-4']\n",
        "    df.loc[(df['range_children']==  '4+') & (df['days_employed'].isna()), 'days_employed'] = new_means['4+']\n",
        "    \n",
        "    return df"
      ]
    },
    {
      "cell_type": "code",
      "execution_count": null,
      "metadata": {
        "id": "z8cmZm2Dl3eC",
        "outputId": "c3edc262-239d-49ac-9c27-22344d5c8ea3",
        "scrolled": false
      },
      "outputs": [
        {
          "name": "stdout",
          "output_type": "stream",
          "text": [
            "<class 'pandas.core.frame.DataFrame'>\n",
            "RangeIndex: 21352 entries, 0 to 21351\n",
            "Data columns (total 15 columns):\n",
            " #   Column            Non-Null Count  Dtype  \n",
            "---  ------            --------------  -----  \n",
            " 0   children          21352 non-null  int64  \n",
            " 1   days_employed     21352 non-null  float64\n",
            " 2   dob_years         21352 non-null  int64  \n",
            " 3   education         21352 non-null  object \n",
            " 4   education_id      21352 non-null  int64  \n",
            " 5   family_status     21352 non-null  object \n",
            " 6   family_status_id  21352 non-null  int64  \n",
            " 7   gender            21352 non-null  object \n",
            " 8   income_type       21352 non-null  object \n",
            " 9   debt              21352 non-null  int64  \n",
            " 10  total_income      21352 non-null  float64\n",
            " 11  purpose           21352 non-null  object \n",
            " 12  category          21352 non-null  object \n",
            " 13  rango_years       21352 non-null  object \n",
            " 14  range_children    21352 non-null  object \n",
            "dtypes: float64(2), int64(5), object(8)\n",
            "memory usage: 2.4+ MB\n"
          ]
        }
      ],
      "source": [
        "# Comprueba las entradas en todas las columnas: asegúrate de que hayamos corregido todos los valores ausentes\n",
        "replace_days_employed_new_means(df).info()"
      ]
    },
    {
      "cell_type": "code",
      "execution_count": null,
      "metadata": {
        "id": "bNOpXI45l3eC",
        "outputId": "b6a6824d-5df7-49f1-cb7b-00cc1e50f1bc",
        "scrolled": true
      },
      "outputs": [
        {
          "data": {
            "text/html": [
              "<div>\n",
              "<style scoped>\n",
              "    .dataframe tbody tr th:only-of-type {\n",
              "        vertical-align: middle;\n",
              "    }\n",
              "\n",
              "    .dataframe tbody tr th {\n",
              "        vertical-align: top;\n",
              "    }\n",
              "\n",
              "    .dataframe thead th {\n",
              "        text-align: right;\n",
              "    }\n",
              "</style>\n",
              "<table border=\"1\" class=\"dataframe\">\n",
              "  <thead>\n",
              "    <tr style=\"text-align: right;\">\n",
              "      <th></th>\n",
              "      <th>purpose</th>\n",
              "      <th>family_status</th>\n",
              "    </tr>\n",
              "  </thead>\n",
              "  <tbody>\n",
              "    <tr>\n",
              "      <th>0</th>\n",
              "      <td>purchase of the house</td>\n",
              "      <td>married</td>\n",
              "    </tr>\n",
              "    <tr>\n",
              "      <th>1</th>\n",
              "      <td>car purchase</td>\n",
              "      <td>married</td>\n",
              "    </tr>\n",
              "    <tr>\n",
              "      <th>2</th>\n",
              "      <td>purchase of the house</td>\n",
              "      <td>married</td>\n",
              "    </tr>\n",
              "    <tr>\n",
              "      <th>3</th>\n",
              "      <td>supplementary education</td>\n",
              "      <td>married</td>\n",
              "    </tr>\n",
              "    <tr>\n",
              "      <th>4</th>\n",
              "      <td>to have a wedding</td>\n",
              "      <td>civil_partnership</td>\n",
              "    </tr>\n",
              "    <tr>\n",
              "      <th>...</th>\n",
              "      <td>...</td>\n",
              "      <td>...</td>\n",
              "    </tr>\n",
              "    <tr>\n",
              "      <th>21347</th>\n",
              "      <td>housing transactions</td>\n",
              "      <td>civil_partnership</td>\n",
              "    </tr>\n",
              "    <tr>\n",
              "      <th>21348</th>\n",
              "      <td>purchase of a car</td>\n",
              "      <td>married</td>\n",
              "    </tr>\n",
              "    <tr>\n",
              "      <th>21349</th>\n",
              "      <td>property</td>\n",
              "      <td>civil_partnership</td>\n",
              "    </tr>\n",
              "    <tr>\n",
              "      <th>21350</th>\n",
              "      <td>buying my own car</td>\n",
              "      <td>married</td>\n",
              "    </tr>\n",
              "    <tr>\n",
              "      <th>21351</th>\n",
              "      <td>to buy a car</td>\n",
              "      <td>married</td>\n",
              "    </tr>\n",
              "  </tbody>\n",
              "</table>\n",
              "<p>21352 rows × 2 columns</p>\n",
              "</div>"
            ],
            "text/plain": [
              "                       purpose      family_status\n",
              "0        purchase of the house            married\n",
              "1                 car purchase            married\n",
              "2        purchase of the house            married\n",
              "3      supplementary education            married\n",
              "4            to have a wedding  civil_partnership\n",
              "...                        ...                ...\n",
              "21347     housing transactions  civil_partnership\n",
              "21348        purchase of a car            married\n",
              "21349                 property  civil_partnership\n",
              "21350        buying my own car            married\n",
              "21351             to buy a car            married\n",
              "\n",
              "[21352 rows x 2 columns]"
            ]
          },
          "execution_count": 75,
          "metadata": {},
          "output_type": "execute_result"
        }
      ],
      "source": [
        "# Muestra los valores de los datos seleccionados para la clasificación\n",
        "grupo1 = df[['purpose','family_status']]\n",
        "grupo1"
      ]
    },
    {
      "cell_type": "code",
      "execution_count": null,
      "metadata": {
        "id": "nhn6TxMil3eD",
        "outputId": "ddeed670-dd50-423d-8bba-a8ed7920fe35"
      },
      "outputs": [
        {
          "name": "stdout",
          "output_type": "stream",
          "text": [
            "wedding ceremony                            786\n",
            "having a wedding                            764\n",
            "to have a wedding                           760\n",
            "real estate transactions                    672\n",
            "buy commercial real estate                  658\n",
            "buying property for renting out             649\n",
            "transactions with commercial real estate    648\n",
            "housing transactions                        646\n",
            "housing                                     640\n",
            "purchase of the house                       640\n",
            "purchase of the house for my family         637\n",
            "construction of own property                633\n",
            "property                                    629\n",
            "transactions with my real estate            627\n",
            "building a real estate                      621\n",
            "building a property                         619\n",
            "purchase of my own house                    619\n",
            "buy real estate                             617\n",
            "housing renovation                          605\n",
            "buy residential real estate                 603\n",
            "buying my own car                           502\n",
            "going to university                         493\n",
            "car                                         490\n",
            "second-hand car purchase                    484\n",
            "buying a second-hand car                    478\n",
            "cars                                        476\n",
            "to own a car                                475\n",
            "to buy a car                                466\n",
            "car purchase                                459\n",
            "supplementary education                     458\n",
            "purchase of a car                           454\n",
            "university education                        449\n",
            "to get a supplementary education            444\n",
            "education                                   444\n",
            "getting an education                        441\n",
            "profile education                           435\n",
            "getting higher education                    424\n",
            "to become educated                          407\n",
            "Name: purpose, dtype: int64\n",
            "\n",
            "married              12290\n",
            "civil_partnership     4129\n",
            "unmarried             2794\n",
            "divorced              1185\n",
            "widow / widower        954\n",
            "Name: family_status, dtype: int64\n"
          ]
        }
      ],
      "source": [
        "# Comprobar los valores únicos\n",
        "print(grupo1['purpose'].value_counts())\n",
        "print()\n",
        "print(grupo1['family_status'].value_counts())"
      ]
    },
    {
      "cell_type": "code",
      "execution_count": null,
      "metadata": {
        "id": "_8Mc-ft9l3eD"
      },
      "outputs": [],
      "source": [
        "# Escribamos una función para clasificar los datos en función de temas comunes\n",
        "def tem_com(comun):\n",
        "    if comun == 'purchase of the house' or comun == \"purchase of the house for my family\" or comun == \"construction of own property\" or comun == \"property\" or comun == \"building a property\" or comun == \"purchase of my own house\" or comun == \"housing renovation\" or comun == \"housing\":\n",
        "        return \"propiedad\"\n",
        "    if comun == \"car purchase\" or comun == \"buying a second-hand car\" or comun == \"buying my own car\" or comun == \"cars\" or comun == \"second-hand car purchase\" or comun == \"car\" or comun == \"to own a car\" or comun == \"purchase of a car\" or comun == \"to buy a car\":\n",
        "        return \"vehiculo\"\n",
        "    if comun == \"supplementary education\" or comun == \"education\" or comun == \"to become educated\" or comun == \"getting an education\" or comun == \"to get a supplementary education\" or comun == \"getting higher education\" or comun == \"profile education\" or comun == \"university education\" or comun == \"going to university\":\n",
        "        return \"educacion\"\n",
        "    if comun == \"to have a wedding\" or comun == \"having a wedding\" or comun == \"wedding ceremony\":\n",
        "        return \"matrimonio\"\n",
        "    if comun == \"housing transactions\" or comun == \"buy real estate\" or comun == \"buy commercial real estate\" or comun == \"buy residential real estate\" or comun == \"transactions with commercial real estate\" or comun == \"building a real estate\" or comun == \"transactions with my real estate\" or comun == \"real estate transactions\" or comun == \"buying property for renting out\":\n",
        "        return \"negocio\""
      ]
    },
    {
      "cell_type": "code",
      "execution_count": null,
      "metadata": {
        "id": "a5fFfkyRl3eD",
        "outputId": "6bb21b4a-eb3e-4af2-afe0-8b64718b48ba"
      },
      "outputs": [
        {
          "data": {
            "text/plain": [
              "negocio       5741\n",
              "propiedad     5022\n",
              "vehiculo      4284\n",
              "educacion     3995\n",
              "matrimonio    2310\n",
              "Name: category_comun, dtype: int64"
            ]
          },
          "execution_count": 78,
          "metadata": {},
          "output_type": "execute_result"
        }
      ],
      "source": [
        "# Crea una columna con las categorías y cuenta los valores en ellas\n",
        "\n",
        "df['category_comun'] = df['purpose'].apply(tem_com)\n",
        "df['category_comun'].value_counts()"
      ]
    },
    {
      "cell_type": "code",
      "execution_count": null,
      "metadata": {
        "id": "mUACe2ppl3eE",
        "outputId": "d38754e2-a9e0-4201-82a1-b3c8d6146de2"
      },
      "outputs": [
        {
          "data": {
            "text/html": [
              "<div>\n",
              "<style scoped>\n",
              "    .dataframe tbody tr th:only-of-type {\n",
              "        vertical-align: middle;\n",
              "    }\n",
              "\n",
              "    .dataframe tbody tr th {\n",
              "        vertical-align: top;\n",
              "    }\n",
              "\n",
              "    .dataframe thead th {\n",
              "        text-align: right;\n",
              "    }\n",
              "</style>\n",
              "<table border=\"1\" class=\"dataframe\">\n",
              "  <thead>\n",
              "    <tr style=\"text-align: right;\">\n",
              "      <th></th>\n",
              "      <th>children</th>\n",
              "      <th>debt</th>\n",
              "      <th>total_income</th>\n",
              "    </tr>\n",
              "  </thead>\n",
              "  <tbody>\n",
              "    <tr>\n",
              "      <th>0</th>\n",
              "      <td>1</td>\n",
              "      <td>0</td>\n",
              "      <td>40620.102</td>\n",
              "    </tr>\n",
              "    <tr>\n",
              "      <th>1</th>\n",
              "      <td>1</td>\n",
              "      <td>0</td>\n",
              "      <td>17932.802</td>\n",
              "    </tr>\n",
              "    <tr>\n",
              "      <th>2</th>\n",
              "      <td>0</td>\n",
              "      <td>0</td>\n",
              "      <td>23341.752</td>\n",
              "    </tr>\n",
              "    <tr>\n",
              "      <th>3</th>\n",
              "      <td>3</td>\n",
              "      <td>0</td>\n",
              "      <td>42820.568</td>\n",
              "    </tr>\n",
              "    <tr>\n",
              "      <th>4</th>\n",
              "      <td>0</td>\n",
              "      <td>0</td>\n",
              "      <td>25378.572</td>\n",
              "    </tr>\n",
              "    <tr>\n",
              "      <th>...</th>\n",
              "      <td>...</td>\n",
              "      <td>...</td>\n",
              "      <td>...</td>\n",
              "    </tr>\n",
              "    <tr>\n",
              "      <th>21347</th>\n",
              "      <td>1</td>\n",
              "      <td>0</td>\n",
              "      <td>35966.698</td>\n",
              "    </tr>\n",
              "    <tr>\n",
              "      <th>21348</th>\n",
              "      <td>0</td>\n",
              "      <td>0</td>\n",
              "      <td>24959.969</td>\n",
              "    </tr>\n",
              "    <tr>\n",
              "      <th>21349</th>\n",
              "      <td>1</td>\n",
              "      <td>1</td>\n",
              "      <td>14347.610</td>\n",
              "    </tr>\n",
              "    <tr>\n",
              "      <th>21350</th>\n",
              "      <td>3</td>\n",
              "      <td>1</td>\n",
              "      <td>39054.888</td>\n",
              "    </tr>\n",
              "    <tr>\n",
              "      <th>21351</th>\n",
              "      <td>2</td>\n",
              "      <td>0</td>\n",
              "      <td>13127.587</td>\n",
              "    </tr>\n",
              "  </tbody>\n",
              "</table>\n",
              "<p>21352 rows × 3 columns</p>\n",
              "</div>"
            ],
            "text/plain": [
              "       children  debt  total_income\n",
              "0             1     0     40620.102\n",
              "1             1     0     17932.802\n",
              "2             0     0     23341.752\n",
              "3             3     0     42820.568\n",
              "4             0     0     25378.572\n",
              "...         ...   ...           ...\n",
              "21347         1     0     35966.698\n",
              "21348         0     0     24959.969\n",
              "21349         1     1     14347.610\n",
              "21350         3     1     39054.888\n",
              "21351         2     0     13127.587\n",
              "\n",
              "[21352 rows x 3 columns]"
            ]
          },
          "execution_count": 79,
          "metadata": {},
          "output_type": "execute_result"
        }
      ],
      "source": [
        "# Revisar todos los datos numéricos en la columna seleccionada para la clasificación\n",
        "grupo2 = df[['children','debt','total_income']]\n",
        "grupo2"
      ]
    },
    {
      "cell_type": "code",
      "execution_count": null,
      "metadata": {
        "id": "hJNiVx1dl3eE",
        "outputId": "539956d6-8407-4448-c2b5-0ee114a2b10b"
      },
      "outputs": [
        {
          "data": {
            "text/html": [
              "<div>\n",
              "<style scoped>\n",
              "    .dataframe tbody tr th:only-of-type {\n",
              "        vertical-align: middle;\n",
              "    }\n",
              "\n",
              "    .dataframe tbody tr th {\n",
              "        vertical-align: top;\n",
              "    }\n",
              "\n",
              "    .dataframe thead th {\n",
              "        text-align: right;\n",
              "    }\n",
              "</style>\n",
              "<table border=\"1\" class=\"dataframe\">\n",
              "  <thead>\n",
              "    <tr style=\"text-align: right;\">\n",
              "      <th></th>\n",
              "      <th>children</th>\n",
              "      <th>debt</th>\n",
              "      <th>total_income</th>\n",
              "    </tr>\n",
              "  </thead>\n",
              "  <tbody>\n",
              "    <tr>\n",
              "      <th>count</th>\n",
              "      <td>21352.000000</td>\n",
              "      <td>21352.000000</td>\n",
              "      <td>21352.000000</td>\n",
              "    </tr>\n",
              "    <tr>\n",
              "      <th>mean</th>\n",
              "      <td>0.480517</td>\n",
              "      <td>0.081163</td>\n",
              "      <td>26793.556938</td>\n",
              "    </tr>\n",
              "    <tr>\n",
              "      <th>std</th>\n",
              "      <td>0.755846</td>\n",
              "      <td>0.273092</td>\n",
              "      <td>15676.054112</td>\n",
              "    </tr>\n",
              "    <tr>\n",
              "      <th>min</th>\n",
              "      <td>0.000000</td>\n",
              "      <td>0.000000</td>\n",
              "      <td>3306.762000</td>\n",
              "    </tr>\n",
              "    <tr>\n",
              "      <th>25%</th>\n",
              "      <td>0.000000</td>\n",
              "      <td>0.000000</td>\n",
              "      <td>17222.623000</td>\n",
              "    </tr>\n",
              "    <tr>\n",
              "      <th>50%</th>\n",
              "      <td>0.000000</td>\n",
              "      <td>0.000000</td>\n",
              "      <td>24563.263500</td>\n",
              "    </tr>\n",
              "    <tr>\n",
              "      <th>75%</th>\n",
              "      <td>1.000000</td>\n",
              "      <td>0.000000</td>\n",
              "      <td>31321.653000</td>\n",
              "    </tr>\n",
              "    <tr>\n",
              "      <th>max</th>\n",
              "      <td>5.000000</td>\n",
              "      <td>1.000000</td>\n",
              "      <td>362496.645000</td>\n",
              "    </tr>\n",
              "  </tbody>\n",
              "</table>\n",
              "</div>"
            ],
            "text/plain": [
              "           children          debt   total_income\n",
              "count  21352.000000  21352.000000   21352.000000\n",
              "mean       0.480517      0.081163   26793.556938\n",
              "std        0.755846      0.273092   15676.054112\n",
              "min        0.000000      0.000000    3306.762000\n",
              "25%        0.000000      0.000000   17222.623000\n",
              "50%        0.000000      0.000000   24563.263500\n",
              "75%        1.000000      0.000000   31321.653000\n",
              "max        5.000000      1.000000  362496.645000"
            ]
          },
          "execution_count": 80,
          "metadata": {},
          "output_type": "execute_result"
        }
      ],
      "source": [
        "# Obtener estadísticas resumidas para la columna\n",
        "grupo2.describe()"
      ]
    },
    {
      "cell_type": "code",
      "execution_count": null,
      "metadata": {
        "id": "3v1b0-83l3eE",
        "outputId": "e519ffca-e637-4832-cba2-0f3d9170fbc6"
      },
      "outputs": [
        {
          "name": "stdout",
          "output_type": "stream",
          "text": [
            "Salario bajo\n"
          ]
        }
      ],
      "source": [
        "# Crear una función para clasificar en diferentes grupos numéricos basándose en rangos\n",
        "\n",
        "def salary_rang(salary):\n",
        "    if salary <= 20000:\n",
        "        return 'Salario bajo'\n",
        "    if salary <= 100000:\n",
        "        return 'Salario medio'\n",
        "    if salary <= 363000:\n",
        "        return 'Salario alto'\n",
        "    \n",
        "print(salary_rang(5000))"
      ]
    },
    {
      "cell_type": "code",
      "execution_count": null,
      "metadata": {
        "id": "EuQXlctTl3eE",
        "outputId": "0d7c32a5-3528-4678-bbf4-5cca5f09391b"
      },
      "outputs": [
        {
          "data": {
            "text/plain": [
              "Index(['children', 'days_employed', 'dob_years', 'education', 'education_id',\n",
              "       'family_status', 'family_status_id', 'gender', 'income_type', 'debt',\n",
              "       'total_income', 'purpose', 'category', 'rango_years', 'range_children',\n",
              "       'category_comun', 'salary_level'],\n",
              "      dtype='object')"
            ]
          },
          "execution_count": 82,
          "metadata": {},
          "output_type": "execute_result"
        }
      ],
      "source": [
        "# Crear una columna con categorías\n",
        "df['salary_level'] = df['total_income'].apply(salary_rang)\n",
        "df.columns"
      ]
    },
    {
      "cell_type": "code",
      "execution_count": null,
      "metadata": {
        "id": "GkyyCxOFl3eE",
        "outputId": "b87f6f46-701d-429c-e5bd-7546a79bf519",
        "scrolled": true
      },
      "outputs": [
        {
          "name": "stdout",
          "output_type": "stream",
          "text": [
            "adulto    14068\n",
            "joven      6582\n",
            "mayor       702\n",
            "Name: category, dtype: int64\n",
            "-----\n",
            "negocio       5741\n",
            "propiedad     5022\n",
            "vehiculo      4284\n",
            "educacion     3995\n",
            "matrimonio    2310\n",
            "Name: category_comun, dtype: int64\n",
            "-----\n",
            "Salario medio    13920\n",
            "Salario bajo      7333\n",
            "Salario alto        99\n",
            "Name: salary_level, dtype: int64\n"
          ]
        }
      ],
      "source": [
        "# Contar los valores de cada categoría para ver la distribución\n",
        "print(df['category'].value_counts())\n",
        "print(\"-----\")\n",
        "print(df['category_comun'].value_counts())\n",
        "print(\"-----\")\n",
        "print(df['salary_level'].value_counts())"
      ]
    },
    {
      "cell_type": "code",
      "execution_count": null,
      "metadata": {
        "id": "oCiMmO3Dl3eF",
        "outputId": "faa1de13-a0cd-474c-e6c6-5e7799fdaddd",
        "scrolled": true
      },
      "outputs": [
        {
          "name": "stdout",
          "output_type": "stream",
          "text": [
            "children  debt\n",
            "0         0       12963\n",
            "          1        1058\n",
            "1         0        4397\n",
            "          1         442\n",
            "2         0        1912\n",
            "          1         202\n",
            "3         0         301\n",
            "          1          27\n",
            "4         0          37\n",
            "          1           4\n",
            "5         0           9\n",
            "Name: debt, dtype: int64\n",
            "\n",
            "0.0\n",
            "\n",
            "La tasa de incumplimiento para quienes tienen 0 hijos es de 8.1 %\n",
            "La tasa de incumplimiento para quienes tienen 1 hijos es de 10.1 %\n",
            "La tasa de incumplimiento para quienes tienen 2 hijos es de 10.4 %\n",
            "La tasa de incumplimiento para quienes tienen 3 hijos es de 8.9 %\n",
            "La tasa de incumplimiento para quienes tienen 4 hijos es de 10.8 %\n",
            "La tasa de incumplimiento para quienes tienen 5 hijos es de 0 %\n"
          ]
        }
      ],
      "source": [
        "# Comprueba los datos sobre los hijos y los pagos puntuales\n",
        "print(df.groupby('children')['debt'].value_counts())\n",
        "print()\n",
        "# Calcular la tasa de incumplimiento en función del número de hijos\n",
        "def porcent(nopay, pay):\n",
        "    pago = nopay / pay *100\n",
        "    return pago\n",
        "\n",
        "print(porcent(0,9))\n",
        "print()\n",
        "print('La tasa de incumplimiento para quienes tienen 0 hijos es de 8.1 %')\n",
        "print('La tasa de incumplimiento para quienes tienen 1 hijos es de 10.1 %')\n",
        "print('La tasa de incumplimiento para quienes tienen 2 hijos es de 10.4 %')\n",
        "print('La tasa de incumplimiento para quienes tienen 3 hijos es de 8.9 %')\n",
        "print('La tasa de incumplimiento para quienes tienen 4 hijos es de 10.8 %')\n",
        "print('La tasa de incumplimiento para quienes tienen 5 hijos es de 0 %')\n"
      ]
    },
    {
      "cell_type": "code",
      "execution_count": null,
      "metadata": {
        "id": "r36w-Mhhl3eF",
        "outputId": "88582c34-0d5e-4f37-b9f1-bb6e7a5c23b1"
      },
      "outputs": [
        {
          "data": {
            "text/html": [
              "<div>\n",
              "<style scoped>\n",
              "    .dataframe tbody tr th:only-of-type {\n",
              "        vertical-align: middle;\n",
              "    }\n",
              "\n",
              "    .dataframe tbody tr th {\n",
              "        vertical-align: top;\n",
              "    }\n",
              "\n",
              "    .dataframe thead th {\n",
              "        text-align: right;\n",
              "    }\n",
              "</style>\n",
              "<table border=\"1\" class=\"dataframe\">\n",
              "  <thead>\n",
              "    <tr style=\"text-align: right;\">\n",
              "      <th></th>\n",
              "      <th>days_employed</th>\n",
              "      <th>debt</th>\n",
              "      <th>dob_years</th>\n",
              "      <th>education_id</th>\n",
              "      <th>family_status_id</th>\n",
              "      <th>total_income</th>\n",
              "    </tr>\n",
              "    <tr>\n",
              "      <th>children</th>\n",
              "      <th></th>\n",
              "      <th></th>\n",
              "      <th></th>\n",
              "      <th></th>\n",
              "      <th></th>\n",
              "      <th></th>\n",
              "    </tr>\n",
              "  </thead>\n",
              "  <tbody>\n",
              "    <tr>\n",
              "      <th>0</th>\n",
              "      <td>5644.108228</td>\n",
              "      <td>0.075458</td>\n",
              "      <td>46.461237</td>\n",
              "      <td>0.831610</td>\n",
              "      <td>1.121675</td>\n",
              "      <td>26419.390799</td>\n",
              "    </tr>\n",
              "    <tr>\n",
              "      <th>1</th>\n",
              "      <td>2933.576370</td>\n",
              "      <td>0.091341</td>\n",
              "      <td>38.542054</td>\n",
              "      <td>0.787766</td>\n",
              "      <td>0.807812</td>\n",
              "      <td>27393.950472</td>\n",
              "    </tr>\n",
              "    <tr>\n",
              "      <th>2</th>\n",
              "      <td>2296.742518</td>\n",
              "      <td>0.095553</td>\n",
              "      <td>36.223746</td>\n",
              "      <td>0.792337</td>\n",
              "      <td>0.461684</td>\n",
              "      <td>27506.914954</td>\n",
              "    </tr>\n",
              "    <tr>\n",
              "      <th>3</th>\n",
              "      <td>2433.795725</td>\n",
              "      <td>0.082317</td>\n",
              "      <td>36.509146</td>\n",
              "      <td>0.823171</td>\n",
              "      <td>0.405488</td>\n",
              "      <td>29237.332874</td>\n",
              "    </tr>\n",
              "    <tr>\n",
              "      <th>4</th>\n",
              "      <td>2567.124958</td>\n",
              "      <td>0.097561</td>\n",
              "      <td>36.048780</td>\n",
              "      <td>0.780488</td>\n",
              "      <td>0.512195</td>\n",
              "      <td>27420.914027</td>\n",
              "    </tr>\n",
              "    <tr>\n",
              "      <th>5</th>\n",
              "      <td>1537.849351</td>\n",
              "      <td>0.000000</td>\n",
              "      <td>38.777778</td>\n",
              "      <td>1.222222</td>\n",
              "      <td>0.222222</td>\n",
              "      <td>27411.350404</td>\n",
              "    </tr>\n",
              "  </tbody>\n",
              "</table>\n",
              "</div>"
            ],
            "text/plain": [
              "          days_employed      debt  dob_years  education_id  family_status_id  \\\n",
              "children                                                                       \n",
              "0           5644.108228  0.075458  46.461237      0.831610          1.121675   \n",
              "1           2933.576370  0.091341  38.542054      0.787766          0.807812   \n",
              "2           2296.742518  0.095553  36.223746      0.792337          0.461684   \n",
              "3           2433.795725  0.082317  36.509146      0.823171          0.405488   \n",
              "4           2567.124958  0.097561  36.048780      0.780488          0.512195   \n",
              "5           1537.849351  0.000000  38.777778      1.222222          0.222222   \n",
              "\n",
              "          total_income  \n",
              "children                \n",
              "0         26419.390799  \n",
              "1         27393.950472  \n",
              "2         27506.914954  \n",
              "3         29237.332874  \n",
              "4         27420.914027  \n",
              "5         27411.350404  "
            ]
          },
          "execution_count": 85,
          "metadata": {},
          "output_type": "execute_result"
        }
      ],
      "source": [
        "pd.pivot_table(df, index = ['children'])"
      ]
    },
    {
      "cell_type": "markdown",
      "metadata": {
        "id": "CDYnGTlEl3eF"
      },
      "source": [
        "aqui si se puede ver una relación de no pago por el número de hijos, por ejemplo los que tienen 5 hijos ellos tienen un % de \n",
        "cero, pero los que tienen 2 hijos tienen una probabilidad de 10,4% de no pago, aunque entre los que tiene 0 a 4 hijos el \n",
        "porcentaje es muy similar, lo que esto me da como conclusión que los que tienen mas de 5 hijos son personas de altos ingresos \n",
        "y no así los de 4 o menos hijos"
      ]
    },
    {
      "cell_type": "markdown",
      "metadata": {
        "id": "ZqCXzQRZl3eF"
      },
      "source": [
        "**¿Existe una correlación entre la situación familiar y el pago a tiempo?**"
      ]
    },
    {
      "cell_type": "code",
      "execution_count": null,
      "metadata": {
        "id": "M75xRvB1l3eF",
        "outputId": "f9abfcac-5f9c-45b9-de28-3adfe0c1b348"
      },
      "outputs": [
        {
          "name": "stdout",
          "output_type": "stream",
          "text": [
            "family_status      debt\n",
            "civil_partnership  0        3743\n",
            "                   1         386\n",
            "divorced           0        1100\n",
            "                   1          85\n",
            "married            0       11363\n",
            "                   1         927\n",
            "unmarried          0        2521\n",
            "                   1         273\n",
            "widow / widower    0         892\n",
            "                   1          62\n",
            "Name: debt, dtype: int64\n",
            "\n",
            "7.086614173228346\n",
            "\n",
            "La tasa de incumplimiento para quienes estan unidos civilmente es de 10.1 %\n",
            "La tasa de incumplimiento para quienes estan divorciados es de 7.6 %\n",
            "La tasa de incumplimiento para quienes estan casados es de 8.1 %\n",
            "La tasa de incumplimiento para quienes estan solteros es de 10.8 %\n",
            "La tasa de incumplimiento para quienes estan viudos es de 7.0 %\n"
          ]
        }
      ],
      "source": [
        "# Comprueba los datos del estado familiar y los pagos a tiempo\n",
        "print(df.groupby('family_status')['debt'].value_counts())\n",
        "print()\n",
        "# Calcular la tasa de incumplimiento basada en el estado familiar\n",
        "def porcent(nopay, pay):\n",
        "    pago = nopay / pay *100\n",
        "    return pago\n",
        "\n",
        "print(porcent(63,889))\n",
        "print()\n",
        "print('La tasa de incumplimiento para quienes estan unidos civilmente es de 10.1 %')\n",
        "print('La tasa de incumplimiento para quienes estan divorciados es de 7.6 %')\n",
        "print('La tasa de incumplimiento para quienes estan casados es de 8.1 %')\n",
        "print('La tasa de incumplimiento para quienes estan solteros es de 10.8 %')\n",
        "print('La tasa de incumplimiento para quienes estan viudos es de 7.0 %')\n",
        "\n"
      ]
    },
    {
      "cell_type": "code",
      "execution_count": null,
      "metadata": {
        "id": "snkbkr1ml3eG",
        "outputId": "bed249d1-7502-46ec-e4da-cacaed599fc3",
        "scrolled": true
      },
      "outputs": [
        {
          "data": {
            "text/html": [
              "<div>\n",
              "<style scoped>\n",
              "    .dataframe tbody tr th:only-of-type {\n",
              "        vertical-align: middle;\n",
              "    }\n",
              "\n",
              "    .dataframe tbody tr th {\n",
              "        vertical-align: top;\n",
              "    }\n",
              "\n",
              "    .dataframe thead th {\n",
              "        text-align: right;\n",
              "    }\n",
              "</style>\n",
              "<table border=\"1\" class=\"dataframe\">\n",
              "  <thead>\n",
              "    <tr style=\"text-align: right;\">\n",
              "      <th></th>\n",
              "      <th>children</th>\n",
              "      <th>days_employed</th>\n",
              "      <th>debt</th>\n",
              "      <th>dob_years</th>\n",
              "      <th>education_id</th>\n",
              "      <th>family_status_id</th>\n",
              "      <th>total_income</th>\n",
              "    </tr>\n",
              "    <tr>\n",
              "      <th>family_status</th>\n",
              "      <th></th>\n",
              "      <th></th>\n",
              "      <th></th>\n",
              "      <th></th>\n",
              "      <th></th>\n",
              "      <th></th>\n",
              "      <th></th>\n",
              "    </tr>\n",
              "  </thead>\n",
              "  <tbody>\n",
              "    <tr>\n",
              "      <th>civil_partnership</th>\n",
              "      <td>0.462582</td>\n",
              "      <td>4302.760845</td>\n",
              "      <td>0.093485</td>\n",
              "      <td>42.287721</td>\n",
              "      <td>0.837249</td>\n",
              "      <td>1</td>\n",
              "      <td>26718.570966</td>\n",
              "    </tr>\n",
              "    <tr>\n",
              "      <th>divorced</th>\n",
              "      <td>0.433755</td>\n",
              "      <td>4767.201610</td>\n",
              "      <td>0.071730</td>\n",
              "      <td>45.902110</td>\n",
              "      <td>0.800000</td>\n",
              "      <td>3</td>\n",
              "      <td>27173.991376</td>\n",
              "    </tr>\n",
              "    <tr>\n",
              "      <th>married</th>\n",
              "      <td>0.572417</td>\n",
              "      <td>4596.536807</td>\n",
              "      <td>0.075427</td>\n",
              "      <td>43.720749</td>\n",
              "      <td>0.805370</td>\n",
              "      <td>0</td>\n",
              "      <td>27032.517076</td>\n",
              "    </tr>\n",
              "    <tr>\n",
              "      <th>unmarried</th>\n",
              "      <td>0.232641</td>\n",
              "      <td>3660.630894</td>\n",
              "      <td>0.097709</td>\n",
              "      <td>38.583393</td>\n",
              "      <td>0.809950</td>\n",
              "      <td>4</td>\n",
              "      <td>26917.929702</td>\n",
              "    </tr>\n",
              "    <tr>\n",
              "      <th>widow / widower</th>\n",
              "      <td>0.158281</td>\n",
              "      <td>9402.343249</td>\n",
              "      <td>0.064990</td>\n",
              "      <td>56.799790</td>\n",
              "      <td>0.937107</td>\n",
              "      <td>2</td>\n",
              "      <td>23202.870016</td>\n",
              "    </tr>\n",
              "  </tbody>\n",
              "</table>\n",
              "</div>"
            ],
            "text/plain": [
              "                   children  days_employed      debt  dob_years  education_id  \\\n",
              "family_status                                                                   \n",
              "civil_partnership  0.462582    4302.760845  0.093485  42.287721      0.837249   \n",
              "divorced           0.433755    4767.201610  0.071730  45.902110      0.800000   \n",
              "married            0.572417    4596.536807  0.075427  43.720749      0.805370   \n",
              "unmarried          0.232641    3660.630894  0.097709  38.583393      0.809950   \n",
              "widow / widower    0.158281    9402.343249  0.064990  56.799790      0.937107   \n",
              "\n",
              "                   family_status_id  total_income  \n",
              "family_status                                      \n",
              "civil_partnership                 1  26718.570966  \n",
              "divorced                          3  27173.991376  \n",
              "married                           0  27032.517076  \n",
              "unmarried                         4  26917.929702  \n",
              "widow / widower                   2  23202.870016  "
            ]
          },
          "execution_count": 87,
          "metadata": {},
          "output_type": "execute_result"
        }
      ],
      "source": [
        "pd.pivot_table(df, index = ['family_status'])"
      ]
    },
    {
      "cell_type": "markdown",
      "metadata": {
        "id": "L0r0crpml3eG"
      },
      "source": [
        "no logro ver una relación de no pago del crédito relacionado al estado civil de las personas ya que él % es solo de 3% \n",
        "entre una categoría a otra, pero si es un echo que los están unidos civilmente tienen mas probabilidad de no pagar el, \n",
        "crédito que una persona viuda "
      ]
    },
    {
      "cell_type": "markdown",
      "metadata": {
        "id": "I-qn_dkrl3eG"
      },
      "source": [
        "**¿Existe una correlación entre el nivel de ingresos y el pago a tiempo?**"
      ]
    },
    {
      "cell_type": "code",
      "execution_count": null,
      "metadata": {
        "id": "T5z4E81fl3eG",
        "outputId": "36586e7b-ab4a-4f9c-8eaa-d1c4c3e5237a"
      },
      "outputs": [
        {
          "name": "stdout",
          "output_type": "stream",
          "text": [
            "salary_level   debt\n",
            "Salario alto   0          93\n",
            "               1           6\n",
            "Salario bajo   0        6728\n",
            "               1         605\n",
            "Salario medio  0       12798\n",
            "               1        1122\n",
            "Name: debt, dtype: int64\n",
            "\n",
            "6.451612903225806\n",
            "\n",
            "La tasa de incumplimiento para quienes tienen un salario alto es de 6.4 %\n",
            "La tasa de incumplimiento para quienes tienen un salario medio es de 9.0 %\n",
            "La tasa de incumplimiento para quienes tienen un salario bajo es de 8.7 %\n"
          ]
        }
      ],
      "source": [
        "# Comprueba los datos del nivel de ingresos y los pagos a tiempo\n",
        "print(df.groupby('salary_level')['debt'].value_counts())\n",
        "print()\n",
        "\n",
        "# Calcular la tasa de incumplimiento basada en el nivel de ingresos\n",
        "def porcent(nopay, pay):\n",
        "    pago = nopay / pay *100\n",
        "    return pago\n",
        "\n",
        "print(porcent(6,93))\n",
        "print()\n",
        "print('La tasa de incumplimiento para quienes tienen un salario alto es de 6.4 %')\n",
        "print('La tasa de incumplimiento para quienes tienen un salario medio es de 9.0 %')\n",
        "print('La tasa de incumplimiento para quienes tienen un salario bajo es de 8.7 %')\n",
        "\n"
      ]
    },
    {
      "cell_type": "code",
      "execution_count": null,
      "metadata": {
        "id": "1zWtxdxwl3eG",
        "outputId": "128c8e0c-bcb3-4675-ad64-945c879638f0"
      },
      "outputs": [
        {
          "data": {
            "text/html": [
              "<div>\n",
              "<style scoped>\n",
              "    .dataframe tbody tr th:only-of-type {\n",
              "        vertical-align: middle;\n",
              "    }\n",
              "\n",
              "    .dataframe tbody tr th {\n",
              "        vertical-align: top;\n",
              "    }\n",
              "\n",
              "    .dataframe thead th {\n",
              "        text-align: right;\n",
              "    }\n",
              "</style>\n",
              "<table border=\"1\" class=\"dataframe\">\n",
              "  <thead>\n",
              "    <tr style=\"text-align: right;\">\n",
              "      <th></th>\n",
              "      <th>children</th>\n",
              "      <th>days_employed</th>\n",
              "      <th>debt</th>\n",
              "      <th>dob_years</th>\n",
              "      <th>education_id</th>\n",
              "      <th>family_status_id</th>\n",
              "      <th>total_income</th>\n",
              "    </tr>\n",
              "    <tr>\n",
              "      <th>salary_level</th>\n",
              "      <th></th>\n",
              "      <th></th>\n",
              "      <th></th>\n",
              "      <th></th>\n",
              "      <th></th>\n",
              "      <th></th>\n",
              "      <th></th>\n",
              "    </tr>\n",
              "  </thead>\n",
              "  <tbody>\n",
              "    <tr>\n",
              "      <th>Salario alto</th>\n",
              "      <td>0.666667</td>\n",
              "      <td>3389.589419</td>\n",
              "      <td>0.060606</td>\n",
              "      <td>42.171717</td>\n",
              "      <td>0.313131</td>\n",
              "      <td>0.949495</td>\n",
              "      <td>141555.075859</td>\n",
              "    </tr>\n",
              "    <tr>\n",
              "      <th>Salario bajo</th>\n",
              "      <td>0.453021</td>\n",
              "      <td>5545.130861</td>\n",
              "      <td>0.082504</td>\n",
              "      <td>44.698895</td>\n",
              "      <td>0.915587</td>\n",
              "      <td>0.980363</td>\n",
              "      <td>14473.316793</td>\n",
              "    </tr>\n",
              "    <tr>\n",
              "      <th>Salario medio</th>\n",
              "      <td>0.493678</td>\n",
              "      <td>4174.302803</td>\n",
              "      <td>0.080603</td>\n",
              "      <td>42.842313</td>\n",
              "      <td>0.769756</td>\n",
              "      <td>0.968750</td>\n",
              "      <td>32467.618046</td>\n",
              "    </tr>\n",
              "  </tbody>\n",
              "</table>\n",
              "</div>"
            ],
            "text/plain": [
              "               children  days_employed      debt  dob_years  education_id  \\\n",
              "salary_level                                                                \n",
              "Salario alto   0.666667    3389.589419  0.060606  42.171717      0.313131   \n",
              "Salario bajo   0.453021    5545.130861  0.082504  44.698895      0.915587   \n",
              "Salario medio  0.493678    4174.302803  0.080603  42.842313      0.769756   \n",
              "\n",
              "               family_status_id   total_income  \n",
              "salary_level                                    \n",
              "Salario alto           0.949495  141555.075859  \n",
              "Salario bajo           0.980363   14473.316793  \n",
              "Salario medio          0.968750   32467.618046  "
            ]
          },
          "execution_count": 89,
          "metadata": {},
          "output_type": "execute_result"
        }
      ],
      "source": [
        "pd.pivot_table(df, index = ['salary_level'])"
      ]
    },
    {
      "cell_type": "markdown",
      "metadata": {
        "id": "QQmC8C4Rl3eG"
      },
      "source": [
        "no logro ver una relación de no pago del crédito relacionado al nivel de ingresos de las personas ya que él % es menor al 3% entre una categoría a otra, pero si es un hecho que los tienen un salario medio tienen más probabilidad de no pagar el, crédito que una persona con salario alto"
      ]
    },
    {
      "cell_type": "markdown",
      "metadata": {
        "id": "AaH1By4Ul3eG"
      },
      "source": [
        "**¿Cómo afecta el propósito del crédito a la tasa de incumplimiento?**"
      ]
    },
    {
      "cell_type": "code",
      "execution_count": null,
      "metadata": {
        "id": "yVNUnUprl3eG",
        "outputId": "69c03872-8f2e-402f-8334-7aed83b430d7"
      },
      "outputs": [
        {
          "name": "stdout",
          "output_type": "stream",
          "text": [
            "category_comun  debt\n",
            "educacion       0       3625\n",
            "                1        370\n",
            "matrimonio      0       2126\n",
            "                1        184\n",
            "negocio         0       5306\n",
            "                1        435\n",
            "propiedad       0       4678\n",
            "                1        344\n",
            "vehiculo        0       3884\n",
            "                1        400\n",
            "Name: debt, dtype: int64\n",
            "\n",
            "10.2880658436214\n",
            "\n",
            "La tasa de incumplimiento para el proposito educación es de 10.1 %\n",
            "La tasa de incumplimiento para el proposito matrimonio es de 8.4 %\n",
            "La tasa de incumplimiento para el proposito negocio es de 8.1 %\n",
            "La tasa de incumplimiento para el proposito propiedad es de 7.3 %\n",
            "La tasa de incumplimiento para el proposito vehiculo es de 10.2 %\n"
          ]
        }
      ],
      "source": [
        "# Consulta los porcentajes de tasa de incumplimiento para cada propósito del crédito y analízalos\n",
        "print(df.groupby('category_comun')['debt'].value_counts())\n",
        "print()\n",
        "\n",
        "def porcent(nopay, pay):\n",
        "    pago = nopay / pay *100\n",
        "    return pago\n",
        "\n",
        "print(porcent(400,3888))\n",
        "print()\n",
        "print('La tasa de incumplimiento para el proposito educación es de 10.1 %')\n",
        "print('La tasa de incumplimiento para el proposito matrimonio es de 8.4 %')\n",
        "print('La tasa de incumplimiento para el proposito negocio es de 8.1 %')\n",
        "print('La tasa de incumplimiento para el proposito propiedad es de 7.3 %')\n",
        "print('La tasa de incumplimiento para el proposito vehiculo es de 10.2 %')\n",
        "\n"
      ]
    },
    {
      "cell_type": "code",
      "execution_count": null,
      "metadata": {
        "id": "Pga4LKZyl3eH",
        "outputId": "e9bb1f30-0ff6-4638-bc76-87afd59382cf"
      },
      "outputs": [
        {
          "data": {
            "text/html": [
              "<div>\n",
              "<style scoped>\n",
              "    .dataframe tbody tr th:only-of-type {\n",
              "        vertical-align: middle;\n",
              "    }\n",
              "\n",
              "    .dataframe tbody tr th {\n",
              "        vertical-align: top;\n",
              "    }\n",
              "\n",
              "    .dataframe thead th {\n",
              "        text-align: right;\n",
              "    }\n",
              "</style>\n",
              "<table border=\"1\" class=\"dataframe\">\n",
              "  <thead>\n",
              "    <tr style=\"text-align: right;\">\n",
              "      <th></th>\n",
              "      <th>children</th>\n",
              "      <th>days_employed</th>\n",
              "      <th>debt</th>\n",
              "      <th>dob_years</th>\n",
              "      <th>education_id</th>\n",
              "      <th>family_status_id</th>\n",
              "      <th>total_income</th>\n",
              "    </tr>\n",
              "    <tr>\n",
              "      <th>category_comun</th>\n",
              "      <th></th>\n",
              "      <th></th>\n",
              "      <th></th>\n",
              "      <th></th>\n",
              "      <th></th>\n",
              "      <th></th>\n",
              "      <th></th>\n",
              "    </tr>\n",
              "  </thead>\n",
              "  <tbody>\n",
              "    <tr>\n",
              "      <th>educacion</th>\n",
              "      <td>0.487359</td>\n",
              "      <td>4661.333451</td>\n",
              "      <td>0.092616</td>\n",
              "      <td>43.598498</td>\n",
              "      <td>0.829287</td>\n",
              "      <td>0.951189</td>\n",
              "      <td>26387.349679</td>\n",
              "    </tr>\n",
              "    <tr>\n",
              "      <th>matrimonio</th>\n",
              "      <td>0.472727</td>\n",
              "      <td>4677.165737</td>\n",
              "      <td>0.079654</td>\n",
              "      <td>43.388745</td>\n",
              "      <td>0.800433</td>\n",
              "      <td>1.000000</td>\n",
              "      <td>26558.455313</td>\n",
              "    </tr>\n",
              "    <tr>\n",
              "      <th>negocio</th>\n",
              "      <td>0.480230</td>\n",
              "      <td>4642.297509</td>\n",
              "      <td>0.075771</td>\n",
              "      <td>43.475875</td>\n",
              "      <td>0.820937</td>\n",
              "      <td>0.972479</td>\n",
              "      <td>27083.815708</td>\n",
              "    </tr>\n",
              "    <tr>\n",
              "      <th>propiedad</th>\n",
              "      <td>0.486061</td>\n",
              "      <td>4553.166915</td>\n",
              "      <td>0.068499</td>\n",
              "      <td>43.232776</td>\n",
              "      <td>0.809837</td>\n",
              "      <td>0.963959</td>\n",
              "      <td>26900.766697</td>\n",
              "    </tr>\n",
              "    <tr>\n",
              "      <th>vehiculo</th>\n",
              "      <td>0.472222</td>\n",
              "      <td>4706.021180</td>\n",
              "      <td>0.093371</td>\n",
              "      <td>43.698179</td>\n",
              "      <td>0.821195</td>\n",
              "      <td>0.988329</td>\n",
              "      <td>26784.476582</td>\n",
              "    </tr>\n",
              "  </tbody>\n",
              "</table>\n",
              "</div>"
            ],
            "text/plain": [
              "                children  days_employed      debt  dob_years  education_id  \\\n",
              "category_comun                                                               \n",
              "educacion       0.487359    4661.333451  0.092616  43.598498      0.829287   \n",
              "matrimonio      0.472727    4677.165737  0.079654  43.388745      0.800433   \n",
              "negocio         0.480230    4642.297509  0.075771  43.475875      0.820937   \n",
              "propiedad       0.486061    4553.166915  0.068499  43.232776      0.809837   \n",
              "vehiculo        0.472222    4706.021180  0.093371  43.698179      0.821195   \n",
              "\n",
              "                family_status_id  total_income  \n",
              "category_comun                                  \n",
              "educacion               0.951189  26387.349679  \n",
              "matrimonio              1.000000  26558.455313  \n",
              "negocio                 0.972479  27083.815708  \n",
              "propiedad               0.963959  26900.766697  \n",
              "vehiculo                0.988329  26784.476582  "
            ]
          },
          "execution_count": 91,
          "metadata": {},
          "output_type": "execute_result"
        }
      ],
      "source": [
        "pd.pivot_table(df, index = ['category_comun'])"
      ]
    },
    {
      "cell_type": "markdown",
      "metadata": {
        "id": "PaQ_X3XEl3eH"
      },
      "source": [
        "no logro ver una relación de no pago del crédito relacionado al nivel de propósito común ya que él % es menor al 3% entre una categoría a otra, pero si es un hecho de los que están en la categoría propósito común vehículo tienen más probabilidad de no pagar el crédito, de los que están en la categoría propiedad."
      ]
    },
    {
      "cell_type": "markdown",
      "metadata": {
        "id": "t5Ozp-lhl3eH"
      },
      "source": [
        "conclusión final"
      ]
    },
    {
      "cell_type": "markdown",
      "metadata": {
        "id": "N2NYASspl3eH"
      },
      "source": [
        "lo primero que se realizo fue analizar los datos, e ir limpiando de apoco la base de datos hasta lograr lo que estabamos buscando para ello, se realizaron eliminacion de datos aunsentes, y duplicados, ademas de corregir datos en la base de datos que pudieron ser simplemente error de digitalizcion, como conclusion al trabajo se puede decir :\n",
        "1° la base de datos en su gran % estaban bien los datos, por esa razon se eliminaron datos ausentes y duplicados, datos mal ingresados debido que eran insignificantes para nuestro analisis\n",
        "2° se corrigieron los datosnegativos que claramente fue un error, y de algunas categorias que estaban mal escritas o simplemente nocorrespondian a su clasificacion\n",
        "3° con respecto a la hipotesis, en lo prsonal no logro ver correlacion de no pago de los creditos independiente de su trabajo, nivel eduacional, cantidad de hijos o cualquier otra clasificacion realizada, debido que los % eran muy similares entre ellos, lo que podria decir que el banco tiene un % de no pago entre el 7% y el 10% en general de sus clientes.\n",
        "\n",
        "\n",
        "\n",
        "\n",
        "\n",
        "\n"
      ]
    }
  ],
  "metadata": {
    "ExecuteTimeLog": [
      {
        "duration": 2741,
        "start_time": "2021-10-21T01:08:49.480Z"
      },
      {
        "duration": 52,
        "start_time": "2021-10-21T01:08:53.315Z"
      },
      {
        "duration": 49,
        "start_time": "2021-10-21T01:08:57.432Z"
      },
      {
        "duration": 70,
        "start_time": "2021-10-21T01:09:07.706Z"
      }
    ],
    "colab": {
      "provenance": []
    },
    "kernelspec": {
      "display_name": "Python 3 (ipykernel)",
      "language": "python",
      "name": "python3"
    },
    "language_info": {
      "codemirror_mode": {
        "name": "ipython",
        "version": 3
      },
      "file_extension": ".py",
      "mimetype": "text/x-python",
      "name": "python",
      "nbconvert_exporter": "python",
      "pygments_lexer": "ipython3",
      "version": "3.10.7"
    },
    "toc": {
      "base_numbering": 1,
      "nav_menu": {},
      "number_sections": true,
      "sideBar": true,
      "skip_h1_title": true,
      "title_cell": "Table of Contents",
      "title_sidebar": "Contents",
      "toc_cell": false,
      "toc_position": {},
      "toc_section_display": true,
      "toc_window_display": false
    }
  },
  "nbformat": 4,
  "nbformat_minor": 0
}