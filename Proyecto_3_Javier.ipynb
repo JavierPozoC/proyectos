{
  "cells": [
    {
      "cell_type": "markdown",
      "metadata": {
        "id": "U6xOsaygp-3H"
      },
      "source": [
        "# Contents <a id='back'></a>\n",
        "\n",
        "* [Introducción](#intro)\n",
        "* [1. Inicialización](#data_review)\n",
        "    * [1.1 Cargar datos](#data_preprocessing)\n",
        "    * [1.2 Explorar datos iniciales](#header_style)\n",
        "    * [1.3 Conclusiones y suiguentes pasos](#data_preprocessing_conclusions)\n",
        "* [2. Tratar los valores ausentes (si hay)](#hypotheses) \n",
        "* [3. Corregir los tipos de datos](#activity)\n",
        "* [4. Enriquecer datos](#activity)\n",
        "* [5. Comprobar datos limpios](#week) \n",
        "* [6. Estudiar parámetros principales](#hypotheses)\n",
        "* [7. Estudiar y tratar valores atípicos](#hypotheses)\n",
        "* [8. Estudiar parámetros principales sin valores atípicos](#activity)\n",
        "* [9. Periodo de colocación de los anuncios](#week)\n",
        "* [10. Precio promedio por cada tipo de vehiculo](#genre)\n",
        "* [11. Factores de precio](#genre)\n",
        "* [Conclusión general](#end)"
      ]
    },
    {
      "cell_type": "markdown",
      "metadata": {
        "id": "4aLI-Nywp-3I"
      },
      "source": [
        "# Introducción \n",
        "\n",
        "Eres un analista en Crankshaft List. Cientos de anuncios gratuitos de vehículos se publican en tu sitio web cada día. Necesitas estudiar los datos recopilados durante los últimos años y determinar qué factores influyen en el precio de un vehículo.\n",
        "\n",
        "Analizaremos los datos que tenemos para poder responder a la pregunta ¿que vende un coche?, y que factores influyen en el precio de un vehículo, para esto, en algunos casos hay una forma obvia de reemplazar valores ausentes. Por ejemplo, si un campo booleano contiene solo valores True, es razonable asumir que los valores ausentes son False. Para otros tipos de datos no hay arreglos tan obvios, y hay casos en los que el hecho de que haya un valor ausente es significativo. En tales casos, no sustituyas los valores. Cuando sea apropiado, sustituye los valores. Explica por qué has decidido hacerlo así y cómo has seleccionado los valores sustitutos. Describe los factores que puedan haber resultado en valores ausentes"
      ]
    },
    {
      "cell_type": "markdown",
      "metadata": {
        "id": "k9iPYif7p-3I"
      },
      "source": [
        "## Inicialización"
      ]
    },
    {
      "cell_type": "code",
      "execution_count": null,
      "metadata": {
        "id": "TAidzXz4p-3J"
      },
      "outputs": [],
      "source": [
        "# Cargar todas las librerías\n",
        "import pandas as pd"
      ]
    },
    {
      "cell_type": "code",
      "execution_count": null,
      "metadata": {
        "id": "lyCt1QaHp-3K"
      },
      "outputs": [],
      "source": [
        "import matplotlib.pyplot as plt"
      ]
    },
    {
      "cell_type": "code",
      "execution_count": null,
      "metadata": {
        "id": "lSiLIwZ2p-3K"
      },
      "outputs": [],
      "source": [
        "import numpy as np"
      ]
    },
    {
      "cell_type": "markdown",
      "metadata": {
        "id": "Ie8ztVXpp-3K"
      },
      "source": [
        "### Cargar datos"
      ]
    },
    {
      "cell_type": "code",
      "execution_count": null,
      "metadata": {
        "id": "lIK4QaKvp-3L"
      },
      "outputs": [],
      "source": [
        "# Carga el archivo de datos en un DataFrame\n",
        "try:\n",
        "    df_clean = pd.read_csv(\"vehicles_us.csv\")\n",
        "except:\n",
        "    df_clean = pd.read_csv(\"/datasets/vehicles_us.csv\")"
      ]
    },
    {
      "cell_type": "markdown",
      "metadata": {
        "id": "qKSrbfhup-3L"
      },
      "source": [
        "### Explorar datos iniciales"
      ]
    },
    {
      "cell_type": "code",
      "execution_count": null,
      "metadata": {
        "id": "wUpnpcX0p-3M",
        "outputId": "ad3899b5-5ec6-4501-e00c-27051dc5cf48"
      },
      "outputs": [
        {
          "name": "stdout",
          "output_type": "stream",
          "text": [
            "<class 'pandas.core.frame.DataFrame'>\n",
            "RangeIndex: 51525 entries, 0 to 51524\n",
            "Data columns (total 13 columns):\n",
            " #   Column        Non-Null Count  Dtype  \n",
            "---  ------        --------------  -----  \n",
            " 0   price         51525 non-null  int64  \n",
            " 1   model_year    47906 non-null  float64\n",
            " 2   model         51525 non-null  object \n",
            " 3   condition     51525 non-null  object \n",
            " 4   cylinders     46265 non-null  float64\n",
            " 5   fuel          51525 non-null  object \n",
            " 6   odometer      43633 non-null  float64\n",
            " 7   transmission  51525 non-null  object \n",
            " 8   type          51525 non-null  object \n",
            " 9   paint_color   42258 non-null  object \n",
            " 10  is_4wd        25572 non-null  float64\n",
            " 11  date_posted   51525 non-null  object \n",
            " 12  days_listed   51525 non-null  int64  \n",
            "dtypes: float64(4), int64(2), object(7)\n",
            "memory usage: 5.1+ MB\n"
          ]
        }
      ],
      "source": [
        "# imprime la información general/resumida sobre el DataFrame\n",
        "\n",
        "df_clean.info()"
      ]
    },
    {
      "cell_type": "code",
      "execution_count": null,
      "metadata": {
        "id": "tUyvs2QEp-3M",
        "outputId": "36a6d297-1103-47ab-eda0-e0e086ff8ab8"
      },
      "outputs": [
        {
          "data": {
            "text/html": [
              "<div>\n",
              "<style scoped>\n",
              "    .dataframe tbody tr th:only-of-type {\n",
              "        vertical-align: middle;\n",
              "    }\n",
              "\n",
              "    .dataframe tbody tr th {\n",
              "        vertical-align: top;\n",
              "    }\n",
              "\n",
              "    .dataframe thead th {\n",
              "        text-align: right;\n",
              "    }\n",
              "</style>\n",
              "<table border=\"1\" class=\"dataframe\">\n",
              "  <thead>\n",
              "    <tr style=\"text-align: right;\">\n",
              "      <th></th>\n",
              "      <th>price</th>\n",
              "      <th>model_year</th>\n",
              "      <th>model</th>\n",
              "      <th>condition</th>\n",
              "      <th>cylinders</th>\n",
              "      <th>fuel</th>\n",
              "      <th>odometer</th>\n",
              "      <th>transmission</th>\n",
              "      <th>type</th>\n",
              "      <th>paint_color</th>\n",
              "      <th>is_4wd</th>\n",
              "      <th>date_posted</th>\n",
              "      <th>days_listed</th>\n",
              "    </tr>\n",
              "  </thead>\n",
              "  <tbody>\n",
              "    <tr>\n",
              "      <th>0</th>\n",
              "      <td>9400</td>\n",
              "      <td>2011.0</td>\n",
              "      <td>bmw x5</td>\n",
              "      <td>good</td>\n",
              "      <td>6.0</td>\n",
              "      <td>gas</td>\n",
              "      <td>145000.0</td>\n",
              "      <td>automatic</td>\n",
              "      <td>SUV</td>\n",
              "      <td>NaN</td>\n",
              "      <td>1.0</td>\n",
              "      <td>2018-06-23</td>\n",
              "      <td>19</td>\n",
              "    </tr>\n",
              "    <tr>\n",
              "      <th>1</th>\n",
              "      <td>25500</td>\n",
              "      <td>NaN</td>\n",
              "      <td>ford f-150</td>\n",
              "      <td>good</td>\n",
              "      <td>6.0</td>\n",
              "      <td>gas</td>\n",
              "      <td>88705.0</td>\n",
              "      <td>automatic</td>\n",
              "      <td>pickup</td>\n",
              "      <td>white</td>\n",
              "      <td>1.0</td>\n",
              "      <td>2018-10-19</td>\n",
              "      <td>50</td>\n",
              "    </tr>\n",
              "    <tr>\n",
              "      <th>2</th>\n",
              "      <td>5500</td>\n",
              "      <td>2013.0</td>\n",
              "      <td>hyundai sonata</td>\n",
              "      <td>like new</td>\n",
              "      <td>4.0</td>\n",
              "      <td>gas</td>\n",
              "      <td>110000.0</td>\n",
              "      <td>automatic</td>\n",
              "      <td>sedan</td>\n",
              "      <td>red</td>\n",
              "      <td>NaN</td>\n",
              "      <td>2019-02-07</td>\n",
              "      <td>79</td>\n",
              "    </tr>\n",
              "    <tr>\n",
              "      <th>3</th>\n",
              "      <td>1500</td>\n",
              "      <td>2003.0</td>\n",
              "      <td>ford f-150</td>\n",
              "      <td>fair</td>\n",
              "      <td>8.0</td>\n",
              "      <td>gas</td>\n",
              "      <td>NaN</td>\n",
              "      <td>automatic</td>\n",
              "      <td>pickup</td>\n",
              "      <td>NaN</td>\n",
              "      <td>NaN</td>\n",
              "      <td>2019-03-22</td>\n",
              "      <td>9</td>\n",
              "    </tr>\n",
              "    <tr>\n",
              "      <th>4</th>\n",
              "      <td>14900</td>\n",
              "      <td>2017.0</td>\n",
              "      <td>chrysler 200</td>\n",
              "      <td>excellent</td>\n",
              "      <td>4.0</td>\n",
              "      <td>gas</td>\n",
              "      <td>80903.0</td>\n",
              "      <td>automatic</td>\n",
              "      <td>sedan</td>\n",
              "      <td>black</td>\n",
              "      <td>NaN</td>\n",
              "      <td>2019-04-02</td>\n",
              "      <td>28</td>\n",
              "    </tr>\n",
              "    <tr>\n",
              "      <th>5</th>\n",
              "      <td>14990</td>\n",
              "      <td>2014.0</td>\n",
              "      <td>chrysler 300</td>\n",
              "      <td>excellent</td>\n",
              "      <td>6.0</td>\n",
              "      <td>gas</td>\n",
              "      <td>57954.0</td>\n",
              "      <td>automatic</td>\n",
              "      <td>sedan</td>\n",
              "      <td>black</td>\n",
              "      <td>1.0</td>\n",
              "      <td>2018-06-20</td>\n",
              "      <td>15</td>\n",
              "    </tr>\n",
              "    <tr>\n",
              "      <th>6</th>\n",
              "      <td>12990</td>\n",
              "      <td>2015.0</td>\n",
              "      <td>toyota camry</td>\n",
              "      <td>excellent</td>\n",
              "      <td>4.0</td>\n",
              "      <td>gas</td>\n",
              "      <td>79212.0</td>\n",
              "      <td>automatic</td>\n",
              "      <td>sedan</td>\n",
              "      <td>white</td>\n",
              "      <td>NaN</td>\n",
              "      <td>2018-12-27</td>\n",
              "      <td>73</td>\n",
              "    </tr>\n",
              "    <tr>\n",
              "      <th>7</th>\n",
              "      <td>15990</td>\n",
              "      <td>2013.0</td>\n",
              "      <td>honda pilot</td>\n",
              "      <td>excellent</td>\n",
              "      <td>6.0</td>\n",
              "      <td>gas</td>\n",
              "      <td>109473.0</td>\n",
              "      <td>automatic</td>\n",
              "      <td>SUV</td>\n",
              "      <td>black</td>\n",
              "      <td>1.0</td>\n",
              "      <td>2019-01-07</td>\n",
              "      <td>68</td>\n",
              "    </tr>\n",
              "    <tr>\n",
              "      <th>8</th>\n",
              "      <td>11500</td>\n",
              "      <td>2012.0</td>\n",
              "      <td>kia sorento</td>\n",
              "      <td>excellent</td>\n",
              "      <td>4.0</td>\n",
              "      <td>gas</td>\n",
              "      <td>104174.0</td>\n",
              "      <td>automatic</td>\n",
              "      <td>SUV</td>\n",
              "      <td>NaN</td>\n",
              "      <td>1.0</td>\n",
              "      <td>2018-07-16</td>\n",
              "      <td>19</td>\n",
              "    </tr>\n",
              "    <tr>\n",
              "      <th>9</th>\n",
              "      <td>9200</td>\n",
              "      <td>2008.0</td>\n",
              "      <td>honda pilot</td>\n",
              "      <td>excellent</td>\n",
              "      <td>NaN</td>\n",
              "      <td>gas</td>\n",
              "      <td>147191.0</td>\n",
              "      <td>automatic</td>\n",
              "      <td>SUV</td>\n",
              "      <td>blue</td>\n",
              "      <td>1.0</td>\n",
              "      <td>2019-02-15</td>\n",
              "      <td>17</td>\n",
              "    </tr>\n",
              "  </tbody>\n",
              "</table>\n",
              "</div>"
            ],
            "text/plain": [
              "   price  model_year           model  condition  cylinders fuel  odometer  \\\n",
              "0   9400      2011.0          bmw x5       good        6.0  gas  145000.0   \n",
              "1  25500         NaN      ford f-150       good        6.0  gas   88705.0   \n",
              "2   5500      2013.0  hyundai sonata   like new        4.0  gas  110000.0   \n",
              "3   1500      2003.0      ford f-150       fair        8.0  gas       NaN   \n",
              "4  14900      2017.0    chrysler 200  excellent        4.0  gas   80903.0   \n",
              "5  14990      2014.0    chrysler 300  excellent        6.0  gas   57954.0   \n",
              "6  12990      2015.0    toyota camry  excellent        4.0  gas   79212.0   \n",
              "7  15990      2013.0     honda pilot  excellent        6.0  gas  109473.0   \n",
              "8  11500      2012.0     kia sorento  excellent        4.0  gas  104174.0   \n",
              "9   9200      2008.0     honda pilot  excellent        NaN  gas  147191.0   \n",
              "\n",
              "  transmission    type paint_color  is_4wd date_posted  days_listed  \n",
              "0    automatic     SUV         NaN     1.0  2018-06-23           19  \n",
              "1    automatic  pickup       white     1.0  2018-10-19           50  \n",
              "2    automatic   sedan         red     NaN  2019-02-07           79  \n",
              "3    automatic  pickup         NaN     NaN  2019-03-22            9  \n",
              "4    automatic   sedan       black     NaN  2019-04-02           28  \n",
              "5    automatic   sedan       black     1.0  2018-06-20           15  \n",
              "6    automatic   sedan       white     NaN  2018-12-27           73  \n",
              "7    automatic     SUV       black     1.0  2019-01-07           68  \n",
              "8    automatic     SUV         NaN     1.0  2018-07-16           19  \n",
              "9    automatic     SUV        blue     1.0  2019-02-15           17  "
            ]
          },
          "execution_count": 324,
          "metadata": {},
          "output_type": "execute_result"
        }
      ],
      "source": [
        "# imprimir una muestra de datos\n",
        "\n",
        "df_clean.head(10)"
      ]
    },
    {
      "cell_type": "code",
      "execution_count": null,
      "metadata": {
        "id": "6dWkTtBcp-3N",
        "outputId": "f0f51654-d9a0-4f3b-937e-8eb830b64fd3"
      },
      "outputs": [
        {
          "data": {
            "text/html": [
              "<div>\n",
              "<style scoped>\n",
              "    .dataframe tbody tr th:only-of-type {\n",
              "        vertical-align: middle;\n",
              "    }\n",
              "\n",
              "    .dataframe tbody tr th {\n",
              "        vertical-align: top;\n",
              "    }\n",
              "\n",
              "    .dataframe thead th {\n",
              "        text-align: right;\n",
              "    }\n",
              "</style>\n",
              "<table border=\"1\" class=\"dataframe\">\n",
              "  <thead>\n",
              "    <tr style=\"text-align: right;\">\n",
              "      <th></th>\n",
              "      <th>price</th>\n",
              "      <th>model_year</th>\n",
              "      <th>cylinders</th>\n",
              "      <th>odometer</th>\n",
              "      <th>is_4wd</th>\n",
              "      <th>days_listed</th>\n",
              "    </tr>\n",
              "  </thead>\n",
              "  <tbody>\n",
              "    <tr>\n",
              "      <th>count</th>\n",
              "      <td>51525.000000</td>\n",
              "      <td>47906.000000</td>\n",
              "      <td>46265.000000</td>\n",
              "      <td>43633.000000</td>\n",
              "      <td>25572.0</td>\n",
              "      <td>51525.00000</td>\n",
              "    </tr>\n",
              "    <tr>\n",
              "      <th>mean</th>\n",
              "      <td>12132.464920</td>\n",
              "      <td>2009.750470</td>\n",
              "      <td>6.125235</td>\n",
              "      <td>115553.461738</td>\n",
              "      <td>1.0</td>\n",
              "      <td>39.55476</td>\n",
              "    </tr>\n",
              "    <tr>\n",
              "      <th>std</th>\n",
              "      <td>10040.803015</td>\n",
              "      <td>6.282065</td>\n",
              "      <td>1.660360</td>\n",
              "      <td>65094.611341</td>\n",
              "      <td>0.0</td>\n",
              "      <td>28.20427</td>\n",
              "    </tr>\n",
              "    <tr>\n",
              "      <th>min</th>\n",
              "      <td>1.000000</td>\n",
              "      <td>1908.000000</td>\n",
              "      <td>3.000000</td>\n",
              "      <td>0.000000</td>\n",
              "      <td>1.0</td>\n",
              "      <td>0.00000</td>\n",
              "    </tr>\n",
              "    <tr>\n",
              "      <th>25%</th>\n",
              "      <td>5000.000000</td>\n",
              "      <td>2006.000000</td>\n",
              "      <td>4.000000</td>\n",
              "      <td>70000.000000</td>\n",
              "      <td>1.0</td>\n",
              "      <td>19.00000</td>\n",
              "    </tr>\n",
              "    <tr>\n",
              "      <th>50%</th>\n",
              "      <td>9000.000000</td>\n",
              "      <td>2011.000000</td>\n",
              "      <td>6.000000</td>\n",
              "      <td>113000.000000</td>\n",
              "      <td>1.0</td>\n",
              "      <td>33.00000</td>\n",
              "    </tr>\n",
              "    <tr>\n",
              "      <th>75%</th>\n",
              "      <td>16839.000000</td>\n",
              "      <td>2014.000000</td>\n",
              "      <td>8.000000</td>\n",
              "      <td>155000.000000</td>\n",
              "      <td>1.0</td>\n",
              "      <td>53.00000</td>\n",
              "    </tr>\n",
              "    <tr>\n",
              "      <th>max</th>\n",
              "      <td>375000.000000</td>\n",
              "      <td>2019.000000</td>\n",
              "      <td>12.000000</td>\n",
              "      <td>990000.000000</td>\n",
              "      <td>1.0</td>\n",
              "      <td>271.00000</td>\n",
              "    </tr>\n",
              "  </tbody>\n",
              "</table>\n",
              "</div>"
            ],
            "text/plain": [
              "               price    model_year     cylinders       odometer   is_4wd  \\\n",
              "count   51525.000000  47906.000000  46265.000000   43633.000000  25572.0   \n",
              "mean    12132.464920   2009.750470      6.125235  115553.461738      1.0   \n",
              "std     10040.803015      6.282065      1.660360   65094.611341      0.0   \n",
              "min         1.000000   1908.000000      3.000000       0.000000      1.0   \n",
              "25%      5000.000000   2006.000000      4.000000   70000.000000      1.0   \n",
              "50%      9000.000000   2011.000000      6.000000  113000.000000      1.0   \n",
              "75%     16839.000000   2014.000000      8.000000  155000.000000      1.0   \n",
              "max    375000.000000   2019.000000     12.000000  990000.000000      1.0   \n",
              "\n",
              "       days_listed  \n",
              "count  51525.00000  \n",
              "mean      39.55476  \n",
              "std       28.20427  \n",
              "min        0.00000  \n",
              "25%       19.00000  \n",
              "50%       33.00000  \n",
              "75%       53.00000  \n",
              "max      271.00000  "
            ]
          },
          "execution_count": 325,
          "metadata": {},
          "output_type": "execute_result"
        }
      ],
      "source": [
        "df_clean.describe()"
      ]
    },
    {
      "cell_type": "code",
      "execution_count": null,
      "metadata": {
        "scrolled": false,
        "id": "mXhE2yLbp-3N",
        "outputId": "d5c3cd2b-e83b-4e5b-d9f2-28adc6e93f9c"
      },
      "outputs": [
        {
          "data": {
            "text/plain": [
              "model                     condition  fuel  transmission  type    paint_color\n",
              "ford f-150                good       gas   automatic     truck   white          236\n",
              "chevrolet silverado 1500  excellent  gas   automatic     truck   white          213\n",
              "ford f-150                excellent  gas   automatic     truck   white          201\n",
              "                                                                 black          146\n",
              "chevrolet silverado 1500  good       gas   automatic     truck   white          139\n",
              "                                                                               ... \n",
              "ford ranger               like new   gas   automatic     pickup  white            1\n",
              "                                                         truck   black            1\n",
              "                                                                 grey             1\n",
              "                                                                 orange           1\n",
              "volkswagen passat         salvage    gas   automatic     wagon   blue             1\n",
              "Length: 6628, dtype: int64"
            ]
          },
          "execution_count": 326,
          "metadata": {},
          "output_type": "execute_result"
        }
      ],
      "source": [
        "df_clean[['model','condition','fuel','transmission','type','paint_color']].value_counts()"
      ]
    },
    {
      "cell_type": "markdown",
      "metadata": {
        "id": "WhMPkUx8p-3N"
      },
      "source": [
        "el DataFrame, contine valores ausentes en algunas columnas, y en otras columnas errores de formato de ingresos de datos"
      ]
    },
    {
      "cell_type": "markdown",
      "metadata": {
        "id": "QQW8Ngujp-3N"
      },
      "source": [
        "La columna model_year, cylinders y odometer estan como float64 . La columna date_posted muestra datos object"
      ]
    },
    {
      "cell_type": "markdown",
      "metadata": {
        "id": "1kswozTAp-3O"
      },
      "source": [
        "La columna is_4wd es la que más datos ausentes tiene, después paint_color,odometer,cylinders y model_year respectivamente, son 5 columnas con datos ausentes en total."
      ]
    },
    {
      "cell_type": "markdown",
      "metadata": {
        "id": "6Bno8XvIp-3O"
      },
      "source": [
        "### Conclusiones y siguientes pasos"
      ]
    },
    {
      "cell_type": "markdown",
      "metadata": {
        "id": "e9u39-uhp-3O"
      },
      "source": [
        "Aqui podemos ver varias cosas la primera el dataframe tiene datos ausentes en las 5 columnas antes mencionadas, ademas de tener error de tipo de dato en las columnas model_year, cylinders, odometer y date_posted. También al llamar el metodo describe se aprecia que la columna is_4wd muestra solo un numero unico, y con el metodo head, se aprecia que tiene valores ausentes.\n",
        "los proximos pasos seran, refelejar el total de ausentes por columnas, revisar los ausentes por columnas, determinar que hacer con los ausentes en cada columna, tratar los valores ausentes en cada columna"
      ]
    },
    {
      "cell_type": "markdown",
      "metadata": {
        "id": "R2q_QIbqp-3O"
      },
      "source": [
        "## Tratar los valores ausentes (si hay)"
      ]
    },
    {
      "cell_type": "code",
      "execution_count": null,
      "metadata": {
        "id": "Jc2e73nxp-3O",
        "outputId": "8b6044ff-e693-495b-884f-e9665d361a55"
      },
      "outputs": [
        {
          "data": {
            "text/plain": [
              "price               0\n",
              "model_year       3619\n",
              "model               0\n",
              "condition           0\n",
              "cylinders        5260\n",
              "fuel                0\n",
              "odometer         7892\n",
              "transmission        0\n",
              "type                0\n",
              "paint_color      9267\n",
              "is_4wd          25953\n",
              "date_posted         0\n",
              "days_listed         0\n",
              "dtype: int64"
            ]
          },
          "execution_count": 327,
          "metadata": {},
          "output_type": "execute_result"
        }
      ],
      "source": [
        "df_clean.isnull().sum()"
      ]
    },
    {
      "cell_type": "code",
      "execution_count": null,
      "metadata": {
        "scrolled": false,
        "id": "VlS_4Mdup-3P",
        "outputId": "d6fe33b6-8cd4-46a3-9693-3e35ff93f304"
      },
      "outputs": [
        {
          "name": "stdout",
          "output_type": "stream",
          "text": [
            "price            0.000000\n",
            "model_year       7.023775\n",
            "model            0.000000\n",
            "condition        0.000000\n",
            "cylinders       10.208637\n",
            "fuel             0.000000\n",
            "odometer        15.316836\n",
            "transmission     0.000000\n",
            "type             0.000000\n",
            "paint_color     17.985444\n",
            "is_4wd          50.369723\n",
            "date_posted      0.000000\n",
            "days_listed      0.000000\n",
            "dtype: float64\n"
          ]
        }
      ],
      "source": [
        "porcentaje_datos_null = df_clean.isnull().sum() / len(df_clean) * 100\n",
        "print(porcentaje_datos_null)"
      ]
    },
    {
      "cell_type": "code",
      "execution_count": null,
      "metadata": {
        "scrolled": true,
        "id": "tX3g5fW0p-3P",
        "outputId": "07acc067-4958-4564-8826-217de7f29f54"
      },
      "outputs": [
        {
          "data": {
            "text/html": [
              "<div>\n",
              "<style scoped>\n",
              "    .dataframe tbody tr th:only-of-type {\n",
              "        vertical-align: middle;\n",
              "    }\n",
              "\n",
              "    .dataframe tbody tr th {\n",
              "        vertical-align: top;\n",
              "    }\n",
              "\n",
              "    .dataframe thead th {\n",
              "        text-align: right;\n",
              "    }\n",
              "</style>\n",
              "<table border=\"1\" class=\"dataframe\">\n",
              "  <thead>\n",
              "    <tr style=\"text-align: right;\">\n",
              "      <th></th>\n",
              "      <th>price</th>\n",
              "      <th>model_year</th>\n",
              "      <th>model</th>\n",
              "      <th>condition</th>\n",
              "      <th>cylinders</th>\n",
              "      <th>fuel</th>\n",
              "      <th>odometer</th>\n",
              "      <th>transmission</th>\n",
              "      <th>type</th>\n",
              "      <th>paint_color</th>\n",
              "      <th>is_4wd</th>\n",
              "      <th>date_posted</th>\n",
              "      <th>days_listed</th>\n",
              "    </tr>\n",
              "  </thead>\n",
              "  <tbody>\n",
              "    <tr>\n",
              "      <th>0</th>\n",
              "      <td>9400</td>\n",
              "      <td>2011.0</td>\n",
              "      <td>bmw x5</td>\n",
              "      <td>good</td>\n",
              "      <td>6.0</td>\n",
              "      <td>gas</td>\n",
              "      <td>145000.0</td>\n",
              "      <td>automatic</td>\n",
              "      <td>SUV</td>\n",
              "      <td>NaN</td>\n",
              "      <td>1.0</td>\n",
              "      <td>2018-06-23</td>\n",
              "      <td>19</td>\n",
              "    </tr>\n",
              "    <tr>\n",
              "      <th>1</th>\n",
              "      <td>25500</td>\n",
              "      <td>NaN</td>\n",
              "      <td>ford f-150</td>\n",
              "      <td>good</td>\n",
              "      <td>6.0</td>\n",
              "      <td>gas</td>\n",
              "      <td>88705.0</td>\n",
              "      <td>automatic</td>\n",
              "      <td>pickup</td>\n",
              "      <td>white</td>\n",
              "      <td>1.0</td>\n",
              "      <td>2018-10-19</td>\n",
              "      <td>50</td>\n",
              "    </tr>\n",
              "    <tr>\n",
              "      <th>2</th>\n",
              "      <td>5500</td>\n",
              "      <td>2013.0</td>\n",
              "      <td>hyundai sonata</td>\n",
              "      <td>like new</td>\n",
              "      <td>4.0</td>\n",
              "      <td>gas</td>\n",
              "      <td>110000.0</td>\n",
              "      <td>automatic</td>\n",
              "      <td>sedan</td>\n",
              "      <td>red</td>\n",
              "      <td>0.0</td>\n",
              "      <td>2019-02-07</td>\n",
              "      <td>79</td>\n",
              "    </tr>\n",
              "    <tr>\n",
              "      <th>3</th>\n",
              "      <td>1500</td>\n",
              "      <td>2003.0</td>\n",
              "      <td>ford f-150</td>\n",
              "      <td>fair</td>\n",
              "      <td>8.0</td>\n",
              "      <td>gas</td>\n",
              "      <td>NaN</td>\n",
              "      <td>automatic</td>\n",
              "      <td>pickup</td>\n",
              "      <td>NaN</td>\n",
              "      <td>0.0</td>\n",
              "      <td>2019-03-22</td>\n",
              "      <td>9</td>\n",
              "    </tr>\n",
              "    <tr>\n",
              "      <th>4</th>\n",
              "      <td>14900</td>\n",
              "      <td>2017.0</td>\n",
              "      <td>chrysler 200</td>\n",
              "      <td>excellent</td>\n",
              "      <td>4.0</td>\n",
              "      <td>gas</td>\n",
              "      <td>80903.0</td>\n",
              "      <td>automatic</td>\n",
              "      <td>sedan</td>\n",
              "      <td>black</td>\n",
              "      <td>0.0</td>\n",
              "      <td>2019-04-02</td>\n",
              "      <td>28</td>\n",
              "    </tr>\n",
              "  </tbody>\n",
              "</table>\n",
              "</div>"
            ],
            "text/plain": [
              "   price  model_year           model  condition  cylinders fuel  odometer  \\\n",
              "0   9400      2011.0          bmw x5       good        6.0  gas  145000.0   \n",
              "1  25500         NaN      ford f-150       good        6.0  gas   88705.0   \n",
              "2   5500      2013.0  hyundai sonata   like new        4.0  gas  110000.0   \n",
              "3   1500      2003.0      ford f-150       fair        8.0  gas       NaN   \n",
              "4  14900      2017.0    chrysler 200  excellent        4.0  gas   80903.0   \n",
              "\n",
              "  transmission    type paint_color  is_4wd date_posted  days_listed  \n",
              "0    automatic     SUV         NaN     1.0  2018-06-23           19  \n",
              "1    automatic  pickup       white     1.0  2018-10-19           50  \n",
              "2    automatic   sedan         red     0.0  2019-02-07           79  \n",
              "3    automatic  pickup         NaN     0.0  2019-03-22            9  \n",
              "4    automatic   sedan       black     0.0  2019-04-02           28  "
            ]
          },
          "execution_count": 329,
          "metadata": {},
          "output_type": "execute_result"
        }
      ],
      "source": [
        "df_clean['is_4wd'].fillna(0, inplace = True)\n",
        "df_clean.head()"
      ]
    },
    {
      "cell_type": "markdown",
      "metadata": {
        "id": "h8kGKmBIp-3P"
      },
      "source": [
        "En este caso la columna is_4wd se concluye que falta el dato 0 que es equivalente a sin trasmisión 4wd"
      ]
    },
    {
      "cell_type": "code",
      "execution_count": null,
      "metadata": {
        "id": "vTPbpSokp-3Q"
      },
      "outputs": [],
      "source": [
        "median_model_year = df_clean.groupby('model')['model_year'].transform('median') "
      ]
    },
    {
      "cell_type": "code",
      "execution_count": null,
      "metadata": {
        "id": "dxecaf4_p-3Q"
      },
      "outputs": [],
      "source": [
        "df_clean['model_year'] = df_clean['model_year'].fillna(median_model_year)"
      ]
    },
    {
      "cell_type": "code",
      "execution_count": null,
      "metadata": {
        "scrolled": true,
        "id": "Z4H-qy52p-3Q",
        "outputId": "843c4185-636c-45b6-a78b-26a4e1d1ae61"
      },
      "outputs": [
        {
          "data": {
            "text/plain": [
              "0"
            ]
          },
          "execution_count": 332,
          "metadata": {},
          "output_type": "execute_result"
        }
      ],
      "source": [
        "df_clean['model_year'].isna().sum()"
      ]
    },
    {
      "cell_type": "code",
      "execution_count": null,
      "metadata": {
        "id": "jQ4v2JFup-3Q"
      },
      "outputs": [],
      "source": [
        "median_cylinders = df_clean.groupby('fuel')['cylinders'].transform('median') "
      ]
    },
    {
      "cell_type": "code",
      "execution_count": null,
      "metadata": {
        "id": "WbOIln3Wp-3Q"
      },
      "outputs": [],
      "source": [
        "df_clean['cylinders'] = df_clean['cylinders'].fillna(median_cylinders)"
      ]
    },
    {
      "cell_type": "code",
      "execution_count": null,
      "metadata": {
        "id": "OyAITulWp-3Q",
        "outputId": "9ccc61c2-f8dd-4fad-8031-c1f8801c944e"
      },
      "outputs": [
        {
          "data": {
            "text/plain": [
              "0"
            ]
          },
          "execution_count": 335,
          "metadata": {},
          "output_type": "execute_result"
        }
      ],
      "source": [
        "df_clean['cylinders'].isna().sum()"
      ]
    },
    {
      "cell_type": "markdown",
      "metadata": {
        "id": "qMiPd8ohp-3R"
      },
      "source": [
        "Ejecute el método transform y no arrojo resultado favorable, sin embargo cambie la media por la mediana"
      ]
    },
    {
      "cell_type": "markdown",
      "metadata": {
        "id": "piULDYzyp-3R"
      },
      "source": [
        "Para las columnas model_year y cylinders se toma la decisión de imputar los datos ausentes, por la mediana para tener un análisis más certero."
      ]
    },
    {
      "cell_type": "code",
      "execution_count": null,
      "metadata": {
        "id": "lGt7-9qXp-3R"
      },
      "outputs": [],
      "source": [
        " df_clean['paint_color'] = df_clean['paint_color'].fillna(value='others')"
      ]
    },
    {
      "cell_type": "markdown",
      "metadata": {
        "id": "H7gkOMbnp-3R"
      },
      "source": [
        "En la columna paint_color, Al ser una columna categórica se pasan los ausentes a otros"
      ]
    },
    {
      "cell_type": "code",
      "execution_count": null,
      "metadata": {
        "id": "TsyH-uPlp-3R"
      },
      "outputs": [],
      "source": [
        "median_odometer = df_clean.groupby('condition')['odometer'].transform('median') "
      ]
    },
    {
      "cell_type": "code",
      "execution_count": null,
      "metadata": {
        "id": "_-GnJKdZp-3R"
      },
      "outputs": [],
      "source": [
        "df_clean['odometer'] = df_clean['odometer'].fillna(median_odometer)"
      ]
    },
    {
      "cell_type": "code",
      "execution_count": null,
      "metadata": {
        "id": "-SP6yxnDp-3S",
        "outputId": "7c79b461-8718-494a-c537-9094eda00209"
      },
      "outputs": [
        {
          "data": {
            "text/plain": [
              "0"
            ]
          },
          "execution_count": 339,
          "metadata": {},
          "output_type": "execute_result"
        }
      ],
      "source": [
        "df_clean['odometer'].isna().sum()"
      ]
    },
    {
      "cell_type": "markdown",
      "metadata": {
        "id": "BkUp3X_rp-3S"
      },
      "source": [
        "Se reemplaza los datos atípicos en la columna odometer por la mediana"
      ]
    },
    {
      "cell_type": "code",
      "execution_count": null,
      "metadata": {
        "id": "-S2bKDH7p-3S",
        "outputId": "137fa9b4-39ed-4494-ac76-34da4f313a53"
      },
      "outputs": [
        {
          "data": {
            "text/plain": [
              "price           0\n",
              "model_year      0\n",
              "model           0\n",
              "condition       0\n",
              "cylinders       0\n",
              "fuel            0\n",
              "odometer        0\n",
              "transmission    0\n",
              "type            0\n",
              "paint_color     0\n",
              "is_4wd          0\n",
              "date_posted     0\n",
              "days_listed     0\n",
              "dtype: int64"
            ]
          },
          "execution_count": 340,
          "metadata": {},
          "output_type": "execute_result"
        }
      ],
      "source": [
        "df_clean.isna().sum()"
      ]
    },
    {
      "cell_type": "markdown",
      "metadata": {
        "id": "6Q4f-E8Mp-3S"
      },
      "source": [
        "## Corregir los tipos de datos"
      ]
    },
    {
      "cell_type": "code",
      "execution_count": null,
      "metadata": {
        "id": "tNFKxVcep-3S",
        "outputId": "ed64c6d2-9930-48c9-9bb1-1994687ada57"
      },
      "outputs": [
        {
          "data": {
            "text/plain": [
              "price             int64\n",
              "model_year      float64\n",
              "model            object\n",
              "condition        object\n",
              "cylinders       float64\n",
              "fuel             object\n",
              "odometer        float64\n",
              "transmission     object\n",
              "type             object\n",
              "paint_color      object\n",
              "is_4wd          float64\n",
              "date_posted      object\n",
              "days_listed       int64\n",
              "dtype: object"
            ]
          },
          "execution_count": 341,
          "metadata": {},
          "output_type": "execute_result"
        }
      ],
      "source": [
        "df_clean.dtypes"
      ]
    },
    {
      "cell_type": "code",
      "execution_count": null,
      "metadata": {
        "id": "XmGjXTdap-3T"
      },
      "outputs": [],
      "source": [
        "df_clean['model_year'] = df_clean['model_year'].astype('int64')\n",
        "df_clean['cylinders'] = df_clean['cylinders'].astype('int64')\n",
        "df_clean['odometer'] = df_clean['odometer'].astype('int64')\n",
        "df_clean['is_4wd'] = df_clean['is_4wd'].astype('bool')\n",
        "df_clean['date_posted'] = pd.to_datetime(df_clean['date_posted'], format='%Y-%m-%d %H:%M:%S', errors='raise')"
      ]
    },
    {
      "cell_type": "code",
      "execution_count": null,
      "metadata": {
        "scrolled": true,
        "id": "VKTCobOJp-3T",
        "outputId": "117c3264-c2a7-4cca-cf7c-6961610d8dee"
      },
      "outputs": [
        {
          "name": "stdout",
          "output_type": "stream",
          "text": [
            "<class 'pandas.core.frame.DataFrame'>\n",
            "RangeIndex: 51525 entries, 0 to 51524\n",
            "Data columns (total 13 columns):\n",
            " #   Column        Non-Null Count  Dtype         \n",
            "---  ------        --------------  -----         \n",
            " 0   price         51525 non-null  int64         \n",
            " 1   model_year    51525 non-null  int64         \n",
            " 2   model         51525 non-null  object        \n",
            " 3   condition     51525 non-null  object        \n",
            " 4   cylinders     51525 non-null  int64         \n",
            " 5   fuel          51525 non-null  object        \n",
            " 6   odometer      51525 non-null  int64         \n",
            " 7   transmission  51525 non-null  object        \n",
            " 8   type          51525 non-null  object        \n",
            " 9   paint_color   51525 non-null  object        \n",
            " 10  is_4wd        51525 non-null  bool          \n",
            " 11  date_posted   51525 non-null  datetime64[ns]\n",
            " 12  days_listed   51525 non-null  int64         \n",
            "dtypes: bool(1), datetime64[ns](1), int64(5), object(6)\n",
            "memory usage: 4.8+ MB\n"
          ]
        }
      ],
      "source": [
        "df_clean.info()"
      ]
    },
    {
      "cell_type": "markdown",
      "metadata": {
        "id": "9WQL68PAp-3T"
      },
      "source": [
        "## Enriquecer datos"
      ]
    },
    {
      "cell_type": "code",
      "execution_count": null,
      "metadata": {
        "id": "zcyaz45ap-3T"
      },
      "outputs": [],
      "source": [
        "# Agrega valores de fecha y hora para cuando se colocó el anuncio\n",
        "df_clean['dow'] = df_clean['date_posted'].dt.dayofweek  # dia de la semana que se colocó el anuncio \n",
        "df_clean['week'] = df_clean['date_posted'].dt.isocalendar().week # semana en se colocó el anuncio\n",
        "df_clean['month'] = df_clean['date_posted'].dt.month  # mes que se colocó el anuncio\n",
        "df_clean['year'] = df_clean['date_posted'].dt.year  # año que se colocó el anuncio"
      ]
    },
    {
      "cell_type": "code",
      "execution_count": null,
      "metadata": {
        "scrolled": true,
        "id": "tEigOnGsp-3T"
      },
      "outputs": [],
      "source": [
        "# Agrega los años del vehículo cuando el anuncio se colocó\n",
        "df_clean['age_of_car'] = 1+ df_clean['year'] - df_clean['model_year']"
      ]
    },
    {
      "cell_type": "markdown",
      "metadata": {
        "id": "4RmEtyzAp-3T"
      },
      "source": [
        "Sume 1+ a la resta, pero la avg_miles_year sigue presentando valores cero, debido que la columna odometer, registra varios valores en cero."
      ]
    },
    {
      "cell_type": "code",
      "execution_count": null,
      "metadata": {
        "id": "HKWSR9rVp-3T"
      },
      "outputs": [],
      "source": [
        "df_clean['avg_miles_year'] = df_clean['odometer'] / df_clean['age_of_car']"
      ]
    },
    {
      "cell_type": "code",
      "execution_count": null,
      "metadata": {
        "id": "K4fcifP6p-3U",
        "outputId": "ef7a7704-1956-4b4c-9be8-45f06cfcbf57"
      },
      "outputs": [
        {
          "data": {
            "text/plain": [
              "array(['good', 'like new', 'fair', 'excellent', 'salvage', 'new'],\n",
              "      dtype=object)"
            ]
          },
          "execution_count": 347,
          "metadata": {},
          "output_type": "execute_result"
        }
      ],
      "source": [
        "# Podría ser útil reemplazar los valores de condición con algo que se pueda manipular más fácilmente\n",
        "df_clean['condition'].unique()"
      ]
    },
    {
      "cell_type": "code",
      "execution_count": null,
      "metadata": {
        "id": "ws-z6RUip-3U"
      },
      "outputs": [],
      "source": [
        "df_clean['condition'] = df_clean['condition'].replace(['new', 'like new', 'excellent', 'good', 'fair', 'salvage'], [5, 4, 3, 2, 1, 0])"
      ]
    },
    {
      "cell_type": "markdown",
      "metadata": {
        "id": "qJTLKWq8p-3U"
      },
      "source": [
        "## Comprobar datos limpios"
      ]
    },
    {
      "cell_type": "code",
      "execution_count": null,
      "metadata": {
        "id": "cUjJARKEp-3U"
      },
      "outputs": [],
      "source": [
        "df_clean.dropna(inplace=True) "
      ]
    },
    {
      "cell_type": "code",
      "execution_count": null,
      "metadata": {
        "id": "Fvof7Lq6p-3U",
        "outputId": "cf64ef50-ba9c-4893-e83c-34b45c9dd92f"
      },
      "outputs": [
        {
          "data": {
            "text/plain": [
              "count     51525.000000\n",
              "mean      15378.480570\n",
              "std       11808.751864\n",
              "min           0.000000\n",
              "25%        9363.636364\n",
              "50%       13036.181818\n",
              "75%       18222.222222\n",
              "max      373200.000000\n",
              "Name: avg_miles_year, dtype: float64"
            ]
          },
          "execution_count": 350,
          "metadata": {},
          "output_type": "execute_result"
        }
      ],
      "source": [
        "df_clean['avg_miles_year'].describe()"
      ]
    },
    {
      "cell_type": "code",
      "execution_count": null,
      "metadata": {
        "id": "JoB-k838p-3U",
        "outputId": "2278cb72-209f-419f-fb4d-c913fa24dd90"
      },
      "outputs": [
        {
          "data": {
            "text/html": [
              "<div>\n",
              "<style scoped>\n",
              "    .dataframe tbody tr th:only-of-type {\n",
              "        vertical-align: middle;\n",
              "    }\n",
              "\n",
              "    .dataframe tbody tr th {\n",
              "        vertical-align: top;\n",
              "    }\n",
              "\n",
              "    .dataframe thead th {\n",
              "        text-align: right;\n",
              "    }\n",
              "</style>\n",
              "<table border=\"1\" class=\"dataframe\">\n",
              "  <thead>\n",
              "    <tr style=\"text-align: right;\">\n",
              "      <th></th>\n",
              "      <th>price</th>\n",
              "      <th>model_year</th>\n",
              "      <th>model</th>\n",
              "      <th>condition</th>\n",
              "      <th>cylinders</th>\n",
              "      <th>fuel</th>\n",
              "      <th>odometer</th>\n",
              "      <th>transmission</th>\n",
              "      <th>type</th>\n",
              "      <th>paint_color</th>\n",
              "      <th>is_4wd</th>\n",
              "      <th>date_posted</th>\n",
              "      <th>days_listed</th>\n",
              "      <th>dow</th>\n",
              "      <th>week</th>\n",
              "      <th>month</th>\n",
              "      <th>year</th>\n",
              "      <th>age_of_car</th>\n",
              "      <th>avg_miles_year</th>\n",
              "    </tr>\n",
              "  </thead>\n",
              "  <tbody>\n",
              "    <tr>\n",
              "      <th>0</th>\n",
              "      <td>9400</td>\n",
              "      <td>2011</td>\n",
              "      <td>bmw x5</td>\n",
              "      <td>2</td>\n",
              "      <td>6</td>\n",
              "      <td>gas</td>\n",
              "      <td>145000</td>\n",
              "      <td>automatic</td>\n",
              "      <td>SUV</td>\n",
              "      <td>others</td>\n",
              "      <td>True</td>\n",
              "      <td>2018-06-23</td>\n",
              "      <td>19</td>\n",
              "      <td>5</td>\n",
              "      <td>25</td>\n",
              "      <td>6</td>\n",
              "      <td>2018</td>\n",
              "      <td>8</td>\n",
              "      <td>18125.000000</td>\n",
              "    </tr>\n",
              "    <tr>\n",
              "      <th>1</th>\n",
              "      <td>25500</td>\n",
              "      <td>2011</td>\n",
              "      <td>ford f-150</td>\n",
              "      <td>2</td>\n",
              "      <td>6</td>\n",
              "      <td>gas</td>\n",
              "      <td>88705</td>\n",
              "      <td>automatic</td>\n",
              "      <td>pickup</td>\n",
              "      <td>white</td>\n",
              "      <td>True</td>\n",
              "      <td>2018-10-19</td>\n",
              "      <td>50</td>\n",
              "      <td>4</td>\n",
              "      <td>42</td>\n",
              "      <td>10</td>\n",
              "      <td>2018</td>\n",
              "      <td>8</td>\n",
              "      <td>11088.125000</td>\n",
              "    </tr>\n",
              "    <tr>\n",
              "      <th>2</th>\n",
              "      <td>5500</td>\n",
              "      <td>2013</td>\n",
              "      <td>hyundai sonata</td>\n",
              "      <td>4</td>\n",
              "      <td>4</td>\n",
              "      <td>gas</td>\n",
              "      <td>110000</td>\n",
              "      <td>automatic</td>\n",
              "      <td>sedan</td>\n",
              "      <td>red</td>\n",
              "      <td>False</td>\n",
              "      <td>2019-02-07</td>\n",
              "      <td>79</td>\n",
              "      <td>3</td>\n",
              "      <td>6</td>\n",
              "      <td>2</td>\n",
              "      <td>2019</td>\n",
              "      <td>7</td>\n",
              "      <td>15714.285714</td>\n",
              "    </tr>\n",
              "    <tr>\n",
              "      <th>3</th>\n",
              "      <td>1500</td>\n",
              "      <td>2003</td>\n",
              "      <td>ford f-150</td>\n",
              "      <td>1</td>\n",
              "      <td>8</td>\n",
              "      <td>gas</td>\n",
              "      <td>181613</td>\n",
              "      <td>automatic</td>\n",
              "      <td>pickup</td>\n",
              "      <td>others</td>\n",
              "      <td>False</td>\n",
              "      <td>2019-03-22</td>\n",
              "      <td>9</td>\n",
              "      <td>4</td>\n",
              "      <td>12</td>\n",
              "      <td>3</td>\n",
              "      <td>2019</td>\n",
              "      <td>17</td>\n",
              "      <td>10683.117647</td>\n",
              "    </tr>\n",
              "    <tr>\n",
              "      <th>4</th>\n",
              "      <td>14900</td>\n",
              "      <td>2017</td>\n",
              "      <td>chrysler 200</td>\n",
              "      <td>3</td>\n",
              "      <td>4</td>\n",
              "      <td>gas</td>\n",
              "      <td>80903</td>\n",
              "      <td>automatic</td>\n",
              "      <td>sedan</td>\n",
              "      <td>black</td>\n",
              "      <td>False</td>\n",
              "      <td>2019-04-02</td>\n",
              "      <td>28</td>\n",
              "      <td>1</td>\n",
              "      <td>14</td>\n",
              "      <td>4</td>\n",
              "      <td>2019</td>\n",
              "      <td>3</td>\n",
              "      <td>26967.666667</td>\n",
              "    </tr>\n",
              "    <tr>\n",
              "      <th>...</th>\n",
              "      <td>...</td>\n",
              "      <td>...</td>\n",
              "      <td>...</td>\n",
              "      <td>...</td>\n",
              "      <td>...</td>\n",
              "      <td>...</td>\n",
              "      <td>...</td>\n",
              "      <td>...</td>\n",
              "      <td>...</td>\n",
              "      <td>...</td>\n",
              "      <td>...</td>\n",
              "      <td>...</td>\n",
              "      <td>...</td>\n",
              "      <td>...</td>\n",
              "      <td>...</td>\n",
              "      <td>...</td>\n",
              "      <td>...</td>\n",
              "      <td>...</td>\n",
              "      <td>...</td>\n",
              "    </tr>\n",
              "    <tr>\n",
              "      <th>51520</th>\n",
              "      <td>9249</td>\n",
              "      <td>2013</td>\n",
              "      <td>nissan maxima</td>\n",
              "      <td>4</td>\n",
              "      <td>6</td>\n",
              "      <td>gas</td>\n",
              "      <td>88136</td>\n",
              "      <td>automatic</td>\n",
              "      <td>sedan</td>\n",
              "      <td>black</td>\n",
              "      <td>False</td>\n",
              "      <td>2018-10-03</td>\n",
              "      <td>37</td>\n",
              "      <td>2</td>\n",
              "      <td>40</td>\n",
              "      <td>10</td>\n",
              "      <td>2018</td>\n",
              "      <td>6</td>\n",
              "      <td>14689.333333</td>\n",
              "    </tr>\n",
              "    <tr>\n",
              "      <th>51521</th>\n",
              "      <td>2700</td>\n",
              "      <td>2002</td>\n",
              "      <td>honda civic</td>\n",
              "      <td>0</td>\n",
              "      <td>4</td>\n",
              "      <td>gas</td>\n",
              "      <td>181500</td>\n",
              "      <td>automatic</td>\n",
              "      <td>sedan</td>\n",
              "      <td>white</td>\n",
              "      <td>False</td>\n",
              "      <td>2018-11-14</td>\n",
              "      <td>22</td>\n",
              "      <td>2</td>\n",
              "      <td>46</td>\n",
              "      <td>11</td>\n",
              "      <td>2018</td>\n",
              "      <td>17</td>\n",
              "      <td>10676.470588</td>\n",
              "    </tr>\n",
              "    <tr>\n",
              "      <th>51522</th>\n",
              "      <td>3950</td>\n",
              "      <td>2009</td>\n",
              "      <td>hyundai sonata</td>\n",
              "      <td>3</td>\n",
              "      <td>4</td>\n",
              "      <td>gas</td>\n",
              "      <td>128000</td>\n",
              "      <td>automatic</td>\n",
              "      <td>sedan</td>\n",
              "      <td>blue</td>\n",
              "      <td>False</td>\n",
              "      <td>2018-11-15</td>\n",
              "      <td>32</td>\n",
              "      <td>3</td>\n",
              "      <td>46</td>\n",
              "      <td>11</td>\n",
              "      <td>2018</td>\n",
              "      <td>10</td>\n",
              "      <td>12800.000000</td>\n",
              "    </tr>\n",
              "    <tr>\n",
              "      <th>51523</th>\n",
              "      <td>7455</td>\n",
              "      <td>2013</td>\n",
              "      <td>toyota corolla</td>\n",
              "      <td>2</td>\n",
              "      <td>4</td>\n",
              "      <td>gas</td>\n",
              "      <td>139573</td>\n",
              "      <td>automatic</td>\n",
              "      <td>sedan</td>\n",
              "      <td>black</td>\n",
              "      <td>False</td>\n",
              "      <td>2018-07-02</td>\n",
              "      <td>71</td>\n",
              "      <td>0</td>\n",
              "      <td>27</td>\n",
              "      <td>7</td>\n",
              "      <td>2018</td>\n",
              "      <td>6</td>\n",
              "      <td>23262.166667</td>\n",
              "    </tr>\n",
              "    <tr>\n",
              "      <th>51524</th>\n",
              "      <td>6300</td>\n",
              "      <td>2014</td>\n",
              "      <td>nissan altima</td>\n",
              "      <td>2</td>\n",
              "      <td>4</td>\n",
              "      <td>gas</td>\n",
              "      <td>129000</td>\n",
              "      <td>automatic</td>\n",
              "      <td>sedan</td>\n",
              "      <td>others</td>\n",
              "      <td>False</td>\n",
              "      <td>2018-06-05</td>\n",
              "      <td>10</td>\n",
              "      <td>1</td>\n",
              "      <td>23</td>\n",
              "      <td>6</td>\n",
              "      <td>2018</td>\n",
              "      <td>5</td>\n",
              "      <td>25800.000000</td>\n",
              "    </tr>\n",
              "  </tbody>\n",
              "</table>\n",
              "<p>51525 rows × 19 columns</p>\n",
              "</div>"
            ],
            "text/plain": [
              "       price  model_year           model  condition  cylinders fuel  odometer  \\\n",
              "0       9400        2011          bmw x5          2          6  gas    145000   \n",
              "1      25500        2011      ford f-150          2          6  gas     88705   \n",
              "2       5500        2013  hyundai sonata          4          4  gas    110000   \n",
              "3       1500        2003      ford f-150          1          8  gas    181613   \n",
              "4      14900        2017    chrysler 200          3          4  gas     80903   \n",
              "...      ...         ...             ...        ...        ...  ...       ...   \n",
              "51520   9249        2013   nissan maxima          4          6  gas     88136   \n",
              "51521   2700        2002     honda civic          0          4  gas    181500   \n",
              "51522   3950        2009  hyundai sonata          3          4  gas    128000   \n",
              "51523   7455        2013  toyota corolla          2          4  gas    139573   \n",
              "51524   6300        2014   nissan altima          2          4  gas    129000   \n",
              "\n",
              "      transmission    type paint_color  is_4wd date_posted  days_listed  dow  \\\n",
              "0        automatic     SUV      others    True  2018-06-23           19    5   \n",
              "1        automatic  pickup       white    True  2018-10-19           50    4   \n",
              "2        automatic   sedan         red   False  2019-02-07           79    3   \n",
              "3        automatic  pickup      others   False  2019-03-22            9    4   \n",
              "4        automatic   sedan       black   False  2019-04-02           28    1   \n",
              "...            ...     ...         ...     ...         ...          ...  ...   \n",
              "51520    automatic   sedan       black   False  2018-10-03           37    2   \n",
              "51521    automatic   sedan       white   False  2018-11-14           22    2   \n",
              "51522    automatic   sedan        blue   False  2018-11-15           32    3   \n",
              "51523    automatic   sedan       black   False  2018-07-02           71    0   \n",
              "51524    automatic   sedan      others   False  2018-06-05           10    1   \n",
              "\n",
              "       week  month  year  age_of_car  avg_miles_year  \n",
              "0        25      6  2018           8    18125.000000  \n",
              "1        42     10  2018           8    11088.125000  \n",
              "2         6      2  2019           7    15714.285714  \n",
              "3        12      3  2019          17    10683.117647  \n",
              "4        14      4  2019           3    26967.666667  \n",
              "...     ...    ...   ...         ...             ...  \n",
              "51520    40     10  2018           6    14689.333333  \n",
              "51521    46     11  2018          17    10676.470588  \n",
              "51522    46     11  2018          10    12800.000000  \n",
              "51523    27      7  2018           6    23262.166667  \n",
              "51524    23      6  2018           5    25800.000000  \n",
              "\n",
              "[51525 rows x 19 columns]"
            ]
          },
          "execution_count": 351,
          "metadata": {},
          "output_type": "execute_result"
        }
      ],
      "source": [
        "# imprimir una muestra de datos\n",
        "df_clean"
      ]
    },
    {
      "cell_type": "code",
      "execution_count": null,
      "metadata": {
        "id": "OIrBiOAMp-3V"
      },
      "outputs": [],
      "source": [
        "df_clean['avg_miles_year'] = df_clean['avg_miles_year'].astype('int64')"
      ]
    },
    {
      "cell_type": "code",
      "execution_count": null,
      "metadata": {
        "id": "yGi5Ld7Kp-3V",
        "outputId": "3284ba8c-ed00-4d1c-899e-417073e61846"
      },
      "outputs": [
        {
          "name": "stdout",
          "output_type": "stream",
          "text": [
            "<class 'pandas.core.frame.DataFrame'>\n",
            "Int64Index: 51525 entries, 0 to 51524\n",
            "Data columns (total 19 columns):\n",
            " #   Column          Non-Null Count  Dtype         \n",
            "---  ------          --------------  -----         \n",
            " 0   price           51525 non-null  int64         \n",
            " 1   model_year      51525 non-null  int64         \n",
            " 2   model           51525 non-null  object        \n",
            " 3   condition       51525 non-null  int64         \n",
            " 4   cylinders       51525 non-null  int64         \n",
            " 5   fuel            51525 non-null  object        \n",
            " 6   odometer        51525 non-null  int64         \n",
            " 7   transmission    51525 non-null  object        \n",
            " 8   type            51525 non-null  object        \n",
            " 9   paint_color     51525 non-null  object        \n",
            " 10  is_4wd          51525 non-null  bool          \n",
            " 11  date_posted     51525 non-null  datetime64[ns]\n",
            " 12  days_listed     51525 non-null  int64         \n",
            " 13  dow             51525 non-null  int64         \n",
            " 14  week            51525 non-null  UInt32        \n",
            " 15  month           51525 non-null  int64         \n",
            " 16  year            51525 non-null  int64         \n",
            " 17  age_of_car      51525 non-null  int64         \n",
            " 18  avg_miles_year  51525 non-null  int64         \n",
            "dtypes: UInt32(1), bool(1), datetime64[ns](1), int64(11), object(5)\n",
            "memory usage: 7.4+ MB\n"
          ]
        }
      ],
      "source": [
        "df_clean.info()"
      ]
    },
    {
      "cell_type": "markdown",
      "metadata": {
        "id": "ak0ojz3Ip-3V"
      },
      "source": [
        "## Estudiar parámetros principales\n",
        "\n",
        "[Elige un enfoque apropiado para estudiar los parámetros enumerados a continuación, presta especial atención a cómo los valores atípicos afectan la forma y la legibilidad de los histogramas.]\n",
        "\n",
        "Los parámetros son:\n",
        "- Precio\n",
        "- Los años del vehículo cuando el anuncio se colocó\n",
        "- Millaje\n",
        "- Número de cilindros\n",
        "- Estado"
      ]
    },
    {
      "cell_type": "code",
      "execution_count": null,
      "metadata": {
        "id": "Gmhimmcsp-3V",
        "outputId": "36c169c0-5499-473d-ef3a-11487766a65d"
      },
      "outputs": [
        {
          "data": {
            "image/png": "[encoded data removed]",
            "text/plain": [
              "<Figure size 1080x720 with 6 Axes>"
            ]
          },
          "metadata": {
            "needs_background": "light"
          },
          "output_type": "display_data"
        }
      ],
      "source": [
        "# Vista general Histogramas de variables seleccionadas\n",
        "df_clean[['price', 'odometer', 'age_of_car','cylinders', 'condition']].hist(bins=30, figsize=(15, 10))\n",
        "plt.suptitle('Histograma de variables seleccionadas', y= 1);"
      ]
    },
    {
      "cell_type": "markdown",
      "metadata": {
        "id": "vuTYpxM0p-3V"
      },
      "source": [
        "Analicemos una a una las variables"
      ]
    },
    {
      "cell_type": "code",
      "execution_count": null,
      "metadata": {
        "id": "tYtCajelp-3V",
        "outputId": "a58f4045-ea3e-4f9f-f11e-9881007aee53"
      },
      "outputs": [
        {
          "data": {
            "text/plain": [
              "count     51525.000000\n",
              "mean      12132.464920\n",
              "std       10040.803015\n",
              "min           1.000000\n",
              "25%        5000.000000\n",
              "50%        9000.000000\n",
              "75%       16839.000000\n",
              "max      375000.000000\n",
              "Name: price, dtype: float64"
            ]
          },
          "execution_count": 355,
          "metadata": {},
          "output_type": "execute_result"
        }
      ],
      "source": [
        "df_clean['price'].describe()"
      ]
    },
    {
      "cell_type": "code",
      "execution_count": null,
      "metadata": {
        "scrolled": false,
        "id": "eGREAG8ep-3W",
        "outputId": "197026ae-54e5-4c76-8b0f-d7bbb91999dc"
      },
      "outputs": [
        {
          "data": {
            "image/png": "[encoded data removed]",
            "text/plain": [
              "<Figure size 432x288 with 1 Axes>"
            ]
          },
          "metadata": {
            "needs_background": "light"
          },
          "output_type": "display_data"
        }
      ],
      "source": [
        "# histograma de precio\n",
        "df_clean['price'].hist(bins=100, range=[0, 70000])\n",
        "\n",
        "plt.xlabel('Precio')\n",
        "plt.ylabel('Frecuencia')\n",
        "plt.title(\"Histograma de precio\");"
      ]
    },
    {
      "cell_type": "markdown",
      "metadata": {
        "id": "qR0qy6CWp-3W"
      },
      "source": [
        "Aqui lo que muestra el grafico de precio es el promedio de la columna está en 11.500 sin embargo existen datos atípicos significativos debido que tenemos valores de 1 a 375.000."
      ]
    },
    {
      "cell_type": "code",
      "execution_count": null,
      "metadata": {
        "id": "PuaN-odhp-3W",
        "outputId": "3781710d-9a26-4ef7-c474-a5ed50e600b1"
      },
      "outputs": [
        {
          "data": {
            "text/plain": [
              "count     51525.000000\n",
              "mean     115199.007278\n",
              "std       60484.868232\n",
              "min           0.000000\n",
              "25%       75668.000000\n",
              "50%      110908.000000\n",
              "75%      147821.000000\n",
              "max      990000.000000\n",
              "Name: odometer, dtype: float64"
            ]
          },
          "execution_count": 357,
          "metadata": {},
          "output_type": "execute_result"
        }
      ],
      "source": [
        "df_clean['odometer'].describe()"
      ]
    },
    {
      "cell_type": "code",
      "execution_count": null,
      "metadata": {
        "id": "SznsL6aXp-3W",
        "outputId": "9a20440b-5432-4216-8309-178da28f5990"
      },
      "outputs": [
        {
          "data": {
            "image/png": "[encoded data removed]",
            "text/plain": [
              "<Figure size 432x288 with 1 Axes>"
            ]
          },
          "metadata": {
            "needs_background": "light"
          },
          "output_type": "display_data"
        }
      ],
      "source": [
        "# histograma de millas\n",
        "df_clean['odometer'].hist(bins=50, range=[0, 500000])\n",
        "\n",
        "plt.xlabel('Millas')\n",
        "plt.ylabel('Frecuencia')\n",
        "plt.title(\"Histograma de millas\");"
      ]
    },
    {
      "cell_type": "markdown",
      "metadata": {
        "id": "BWuCtYfPp-3W"
      },
      "source": [
        "Aqui lo que muestra el grafico de millas es la mayor cantidad de datos se concentra entre 0 y 200.000, El promedio de la columna está en 118.000, pero aqui también tenemos datos atípicos significativos debido que tenemos datos desde 0 a 990.000 millas."
      ]
    },
    {
      "cell_type": "code",
      "execution_count": null,
      "metadata": {
        "id": "tvWdM2oup-3X",
        "outputId": "29df06e4-1c7c-4005-f427-3e05c8734096"
      },
      "outputs": [
        {
          "data": {
            "text/plain": [
              "count    51525.000000\n",
              "mean         9.513906\n",
              "std          6.112976\n",
              "min          1.000000\n",
              "25%          5.000000\n",
              "50%          9.000000\n",
              "75%         13.000000\n",
              "max        111.000000\n",
              "Name: age_of_car, dtype: float64"
            ]
          },
          "execution_count": 359,
          "metadata": {},
          "output_type": "execute_result"
        }
      ],
      "source": [
        "df_clean['age_of_car'].describe()"
      ]
    },
    {
      "cell_type": "code",
      "execution_count": null,
      "metadata": {
        "id": "mwZOXrqJp-3X",
        "outputId": "d481e388-6bf1-40e0-c08a-e1ac4286526c"
      },
      "outputs": [
        {
          "data": {
            "image/png": "[encoded data removed]",
            "text/plain": [
              "<Figure size 432x288 with 1 Axes>"
            ]
          },
          "metadata": {
            "needs_background": "light"
          },
          "output_type": "display_data"
        }
      ],
      "source": [
        "# histograma de edad del vehiculo\n",
        "df_clean['age_of_car'].hist(bins=50, range=[0, 70])\n",
        "\n",
        "plt.xlabel('Edad del vehiculo')\n",
        "plt.ylabel('Frecuencia')\n",
        "plt.title(\"Histograma de edad del vehiculo\");"
      ]
    },
    {
      "cell_type": "markdown",
      "metadata": {
        "id": "yiRL1f5xp-3X"
      },
      "source": [
        "Aqui lo que muestra el grafico de edad del vehículo, que la mayor cantidad de datos se concentra entre 0 y 18 años, El promedio de la columna está en 8.9, además de concluir que también tenemos datos atípico significativos debido que van desde el 1 a 110 años."
      ]
    },
    {
      "cell_type": "code",
      "execution_count": null,
      "metadata": {
        "id": "AUoZFP-Ap-3X",
        "outputId": "d39a036b-23a6-4686-8042-dfabb4ab7b8d"
      },
      "outputs": [
        {
          "data": {
            "text/plain": [
              "count    51525.000000\n",
              "mean         6.126230\n",
              "std          1.583377\n",
              "min          3.000000\n",
              "25%          4.000000\n",
              "50%          6.000000\n",
              "75%          8.000000\n",
              "max         12.000000\n",
              "Name: cylinders, dtype: float64"
            ]
          },
          "execution_count": 361,
          "metadata": {},
          "output_type": "execute_result"
        }
      ],
      "source": [
        "df_clean['cylinders'].describe()"
      ]
    },
    {
      "cell_type": "code",
      "execution_count": null,
      "metadata": {
        "id": "3xeNLiTzp-3X",
        "outputId": "576a1d60-3e8e-4805-d74a-891368ac9873"
      },
      "outputs": [
        {
          "data": {
            "image/png": "[encoded data removed]",
            "text/plain": [
              "<Figure size 432x288 with 1 Axes>"
            ]
          },
          "metadata": {
            "needs_background": "light"
          },
          "output_type": "display_data"
        }
      ],
      "source": [
        "# histograma de cilindros\n",
        "df_clean['cylinders'].hist(bins=12, range=[0, 12])\n",
        "\n",
        "plt.xlabel('cilindros')\n",
        "plt.ylabel('Frecuencia')\n",
        "plt.title(\"Histograma de cilindros\");"
      ]
    },
    {
      "cell_type": "markdown",
      "metadata": {
        "id": "WggQQUmHp-3X"
      },
      "source": [
        "Aqui lo que muestra el grafico de cilindros, es que los vehículos con 6 y 8 cilindros están mayoritariamente representados en los datos, El promedio de la columna está en 6.1, en esta columna no tenemos datos atípicos significativos."
      ]
    },
    {
      "cell_type": "code",
      "execution_count": null,
      "metadata": {
        "id": "SlQQtN6ep-3Y",
        "outputId": "8d1c6658-ab43-4ed4-8525-d4981500a27d"
      },
      "outputs": [
        {
          "data": {
            "text/plain": [
              "count    51525.000000\n",
              "mean         2.637535\n",
              "std          0.712447\n",
              "min          0.000000\n",
              "25%          2.000000\n",
              "50%          3.000000\n",
              "75%          3.000000\n",
              "max          5.000000\n",
              "Name: condition, dtype: float64"
            ]
          },
          "execution_count": 363,
          "metadata": {},
          "output_type": "execute_result"
        }
      ],
      "source": [
        "df_clean['condition'].describe()"
      ]
    },
    {
      "cell_type": "code",
      "execution_count": null,
      "metadata": {
        "id": "UhrDgErnp-3Y",
        "outputId": "d236d119-ab2d-4886-d5a4-431d01b0c337"
      },
      "outputs": [
        {
          "data": {
            "image/png": "[encoded data removed]",
            "text/plain": [
              "<Figure size 432x288 with 1 Axes>"
            ]
          },
          "metadata": {
            "needs_background": "light"
          },
          "output_type": "display_data"
        }
      ],
      "source": [
        "# histograma de condición\n",
        "df_clean['condition'].hist(bins=12, range=[0, 6])\n",
        " \n",
        "plt.xlabel('condición')\n",
        "plt.ylabel('Frecuencia')\n",
        "plt.title(\"Histograma de condición\");"
      ]
    },
    {
      "cell_type": "markdown",
      "metadata": {
        "id": "iUartKn8p-3Y"
      },
      "source": [
        "Aqui muestra el grafico de condición del vehículo, que la mayoría de los vehículos están en buenas o excelentes condiciones. El promedio de la columna está en 2.6, aunque existen datos desde 0 a 5 , lo que indica que no tenemos datos atípicos significativos. "
      ]
    },
    {
      "cell_type": "markdown",
      "metadata": {
        "id": "yKNpllaLp-3Y"
      },
      "source": [
        "## Estudiar y tratar valores atípicos"
      ]
    },
    {
      "cell_type": "code",
      "execution_count": null,
      "metadata": {
        "scrolled": false,
        "id": "AKlzgyoVp-3Y",
        "outputId": "8105be59-91a1-4fe3-9974-ea8ca71b8530"
      },
      "outputs": [
        {
          "data": {
            "image/png": "[encoded data removed]",
            "text/plain": [
              "<Figure size 432x288 with 1 Axes>"
            ]
          },
          "metadata": {
            "needs_background": "light"
          },
          "output_type": "display_data"
        }
      ],
      "source": [
        "# Determina los límites inferiores para valores atípicos\n",
        "plt.ylim(-13000, 35000)\n",
        "df_clean.boxplot(column='price');"
      ]
    },
    {
      "cell_type": "code",
      "execution_count": null,
      "metadata": {
        "id": "iNZpWwDdp-3Y",
        "outputId": "c6fe84f5-89ca-4f34-dd92-123bf88b24a2"
      },
      "outputs": [
        {
          "name": "stdout",
          "output_type": "stream",
          "text": [
            "-12758.5\n"
          ]
        }
      ],
      "source": [
        "Q1 = df_clean['price'].quantile(0.25)\n",
        "Q3 = df_clean['price'].quantile(0.75)\n",
        "IQR = Q3 - Q1\n",
        "Limite_inferior = Q1 - 1.5 * IQR\n",
        "print(Limite_inferior)"
      ]
    },
    {
      "cell_type": "code",
      "execution_count": null,
      "metadata": {
        "scrolled": true,
        "id": "TD82gYdGp-3Y",
        "outputId": "75309ed4-ed10-482b-fc49-a6a306bee88f"
      },
      "outputs": [
        {
          "data": {
            "image/png": "[encoded data removed]",
            "text/plain": [
              "<Figure size 432x288 with 1 Axes>"
            ]
          },
          "metadata": {
            "needs_background": "light"
          },
          "output_type": "display_data"
        }
      ],
      "source": [
        "plt.ylim(-33000, 258000)\n",
        "df_clean.boxplot(column='odometer');"
      ]
    },
    {
      "cell_type": "code",
      "execution_count": null,
      "metadata": {
        "id": "NsFiZDyQp-3Z",
        "outputId": "dc6f99a2-1555-482b-f40f-999a32ea5af0"
      },
      "outputs": [
        {
          "name": "stdout",
          "output_type": "stream",
          "text": [
            "-32561.5\n"
          ]
        }
      ],
      "source": [
        "Q1 = df_clean['odometer'].quantile(0.25)\n",
        "Q3 = df_clean['odometer'].quantile(0.75)\n",
        "IQR = Q3 - Q1\n",
        "Limite_inferior = Q1 - 1.5 * IQR\n",
        "print(Limite_inferior)"
      ]
    },
    {
      "cell_type": "code",
      "execution_count": null,
      "metadata": {
        "scrolled": false,
        "id": "qqXUImxLp-3Z",
        "outputId": "3dde28b5-60d6-4f8c-e6ec-ee3ff23da86e"
      },
      "outputs": [
        {
          "data": {
            "image/png": "[encoded data removed]",
            "text/plain": [
              "<Figure size 432x288 with 1 Axes>"
            ]
          },
          "metadata": {
            "needs_background": "light"
          },
          "output_type": "display_data"
        }
      ],
      "source": [
        "plt.ylim(-10, 27)\n",
        "df_clean.boxplot(column='age_of_car');"
      ]
    },
    {
      "cell_type": "code",
      "execution_count": null,
      "metadata": {
        "id": "6F9-L-typ-3Z",
        "outputId": "12631d40-6411-446a-e6f5-a37ab11054d1"
      },
      "outputs": [
        {
          "name": "stdout",
          "output_type": "stream",
          "text": [
            "-7.0\n"
          ]
        }
      ],
      "source": [
        "Q1 = df_clean['age_of_car'].quantile(0.25)\n",
        "Q3 = df_clean['age_of_car'].quantile(0.75)\n",
        "IQR = Q3 - Q1\n",
        "Limite_inferior = Q1 - 1.5 * IQR\n",
        "print(Limite_inferior)"
      ]
    },
    {
      "cell_type": "code",
      "execution_count": null,
      "metadata": {
        "scrolled": true,
        "id": "fZe18gixp-3Z",
        "outputId": "a35bad09-555a-418d-e316-342087b8b6e4"
      },
      "outputs": [
        {
          "data": {
            "image/png": "[encoded data removed]",
            "text/plain": [
              "<Figure size 432x288 with 1 Axes>"
            ]
          },
          "metadata": {
            "needs_background": "light"
          },
          "output_type": "display_data"
        }
      ],
      "source": [
        "# Determinar los límites superiores para valores atípicos\n",
        "plt.ylim(-100, 35000)\n",
        "df_clean.boxplot(column='price');"
      ]
    },
    {
      "cell_type": "code",
      "execution_count": null,
      "metadata": {
        "id": "ex00GOmZp-3Z",
        "outputId": "0893acd1-0e37-48b9-ae8e-89e18a82497c"
      },
      "outputs": [
        {
          "name": "stdout",
          "output_type": "stream",
          "text": [
            "34597.5\n"
          ]
        }
      ],
      "source": [
        "Q1 = df_clean['price'].quantile(0.25)\n",
        "Q3 = df_clean['price'].quantile(0.75)\n",
        "IQR = Q3 - Q1\n",
        "Limite_superior = Q3 + 1.5 * IQR\n",
        "print(Limite_superior)"
      ]
    },
    {
      "cell_type": "code",
      "execution_count": null,
      "metadata": {
        "scrolled": true,
        "id": "FGfz9elpp-3Z",
        "outputId": "76f9ccc8-a5dd-416a-de8e-ec933646a1f3"
      },
      "outputs": [
        {
          "data": {
            "image/png": "[encoded data removed]",
            "text/plain": [
              "<Figure size 432x288 with 1 Axes>"
            ]
          },
          "metadata": {
            "needs_background": "light"
          },
          "output_type": "display_data"
        }
      ],
      "source": [
        "plt.ylim(-100, 257000)\n",
        "df_clean.boxplot(column='odometer');"
      ]
    },
    {
      "cell_type": "code",
      "execution_count": null,
      "metadata": {
        "id": "-ZY8SFXpp-3a",
        "outputId": "57ea2597-369b-4b35-943f-a9b2dac5e02b"
      },
      "outputs": [
        {
          "name": "stdout",
          "output_type": "stream",
          "text": [
            "256050.5\n"
          ]
        }
      ],
      "source": [
        "Q1 = df_clean['odometer'].quantile(0.25)\n",
        "Q3 = df_clean['odometer'].quantile(0.75)\n",
        "IQR = Q3 - Q1\n",
        "Limite_superior = Q3 + 1.5 * IQR\n",
        "print(Limite_superior)"
      ]
    },
    {
      "cell_type": "code",
      "execution_count": null,
      "metadata": {
        "scrolled": true,
        "id": "mFamGctAp-3a",
        "outputId": "60fe1a60-e12e-415f-f91a-53610ddd470b"
      },
      "outputs": [
        {
          "data": {
            "image/png": "[encoded data removed]",
            "text/plain": [
              "<Figure size 432x288 with 1 Axes>"
            ]
          },
          "metadata": {
            "needs_background": "light"
          },
          "output_type": "display_data"
        }
      ],
      "source": [
        "plt.ylim(0, 27)\n",
        "df_clean.boxplot(column='age_of_car');"
      ]
    },
    {
      "cell_type": "code",
      "execution_count": null,
      "metadata": {
        "id": "aI7yLVNwp-3a",
        "outputId": "d71a2cd7-506a-4e0b-f221-37fe5dcb87ff"
      },
      "outputs": [
        {
          "name": "stdout",
          "output_type": "stream",
          "text": [
            "25.0\n"
          ]
        }
      ],
      "source": [
        "Q1 = df_clean['age_of_car'].quantile(0.25)\n",
        "Q3 = df_clean['age_of_car'].quantile(0.75)\n",
        "IQR = Q3 - Q1\n",
        "Limite_superior = Q3 + 1.5 * IQR\n",
        "print(Limite_superior)"
      ]
    },
    {
      "cell_type": "code",
      "execution_count": null,
      "metadata": {
        "scrolled": false,
        "id": "zCg54XESp-3a",
        "outputId": "2a84d7f1-3279-4616-9569-63599c71acf1"
      },
      "outputs": [
        {
          "name": "stdout",
          "output_type": "stream",
          "text": [
            "<class 'pandas.core.frame.DataFrame'>\n",
            "Int64Index: 48149 entries, 0 to 51524\n",
            "Data columns (total 19 columns):\n",
            " #   Column          Non-Null Count  Dtype         \n",
            "---  ------          --------------  -----         \n",
            " 0   price           48149 non-null  int64         \n",
            " 1   model_year      48149 non-null  int64         \n",
            " 2   model           48149 non-null  object        \n",
            " 3   condition       48149 non-null  int64         \n",
            " 4   cylinders       48149 non-null  int64         \n",
            " 5   fuel            48149 non-null  object        \n",
            " 6   odometer        48149 non-null  int64         \n",
            " 7   transmission    48149 non-null  object        \n",
            " 8   type            48149 non-null  object        \n",
            " 9   paint_color     48149 non-null  object        \n",
            " 10  is_4wd          48149 non-null  bool          \n",
            " 11  date_posted     48149 non-null  datetime64[ns]\n",
            " 12  days_listed     48149 non-null  int64         \n",
            " 13  dow             48149 non-null  int64         \n",
            " 14  week            48149 non-null  UInt32        \n",
            " 15  month           48149 non-null  int64         \n",
            " 16  year            48149 non-null  int64         \n",
            " 17  age_of_car      48149 non-null  int64         \n",
            " 18  avg_miles_year  48149 non-null  int64         \n",
            "dtypes: UInt32(1), bool(1), datetime64[ns](1), int64(11), object(5)\n",
            "memory usage: 6.9+ MB\n"
          ]
        }
      ],
      "source": [
        "# Almacena los datos sin valores atípicos en un DataFrame separado\n",
        "new_df = df_clean.query('price < 34598 and odometer < 256050 and age_of_car < 25')\n",
        "new_df.info()"
      ]
    },
    {
      "cell_type": "markdown",
      "metadata": {
        "id": "4oN5wysdp-3a"
      },
      "source": [
        "## Estudiar parámetros principales sin valores atípicos"
      ]
    },
    {
      "cell_type": "code",
      "execution_count": null,
      "metadata": {
        "scrolled": true,
        "id": "Mx3L93qup-3b",
        "outputId": "08f6de8b-ac91-462a-e4d9-411e6c79018e"
      },
      "outputs": [
        {
          "data": {
            "image/png": "[encoded data removed]",
            "text/plain": [
              "<Figure size 432x288 with 1 Axes>"
            ]
          },
          "metadata": {
            "needs_background": "light"
          },
          "output_type": "display_data"
        }
      ],
      "source": [
        "df_clean['price'].hist(bins=25)\n",
        "new_df['price'].hist(bins=25);"
      ]
    },
    {
      "cell_type": "code",
      "execution_count": null,
      "metadata": {
        "id": "GDqr7vupp-3b",
        "outputId": "5e1c97e8-f06f-4f8d-ade9-b0c938d58aa5"
      },
      "outputs": [
        {
          "name": "stdout",
          "output_type": "stream",
          "text": [
            "count     51525.000000\n",
            "mean      12132.464920\n",
            "std       10040.803015\n",
            "min           1.000000\n",
            "25%        5000.000000\n",
            "50%        9000.000000\n",
            "75%       16839.000000\n",
            "max      375000.000000\n",
            "Name: price, dtype: float64\n",
            "----------------------\n",
            "count    48149.000000\n",
            "mean     11255.842281\n",
            "std       7829.979364\n",
            "min          1.000000\n",
            "25%       5000.000000\n",
            "50%       8995.000000\n",
            "75%      15995.000000\n",
            "max      34595.000000\n",
            "Name: price, dtype: float64\n"
          ]
        }
      ],
      "source": [
        "print(df_clean['price'].describe())\n",
        "print('----------------------')\n",
        "print(new_df['price'].describe())"
      ]
    },
    {
      "cell_type": "markdown",
      "metadata": {
        "id": "3emvg3Qup-3b"
      },
      "source": [
        "Al ver los dos gráficos de datos limpios(new_df) con el grafico de datos sin limpiar(df_clean) Se reduce eficiente los datos atípicos. La media pasó de 12132 a 11255, lo que nos permite realizar un análisis más certero."
      ]
    },
    {
      "cell_type": "code",
      "execution_count": null,
      "metadata": {
        "id": "yJCXZaFYp-3b",
        "outputId": "84a5ccb3-d2ff-4bc0-985c-36db9d0090c6"
      },
      "outputs": [
        {
          "data": {
            "image/png": "[encoded data removed]",
            "text/plain": [
              "<Figure size 432x288 with 1 Axes>"
            ]
          },
          "metadata": {
            "needs_background": "light"
          },
          "output_type": "display_data"
        }
      ],
      "source": [
        "df_clean['odometer'].hist(bins=25)\n",
        "new_df['odometer'].hist(bins=25);"
      ]
    },
    {
      "cell_type": "code",
      "execution_count": null,
      "metadata": {
        "id": "ItgdjXUgp-3b",
        "outputId": "a009f859-578d-4ad5-dfb4-50f4a1db0d2f"
      },
      "outputs": [
        {
          "name": "stdout",
          "output_type": "stream",
          "text": [
            "count     51525.000000\n",
            "mean     115199.007278\n",
            "std       60484.868232\n",
            "min           0.000000\n",
            "25%       75668.000000\n",
            "50%      110908.000000\n",
            "75%      147821.000000\n",
            "max      990000.000000\n",
            "Name: odometer, dtype: float64\n",
            "----------------------\n",
            "count     48149.000000\n",
            "mean     113626.881098\n",
            "std       53103.590367\n",
            "min           0.000000\n",
            "25%       78600.000000\n",
            "50%      111833.000000\n",
            "75%      146000.000000\n",
            "max      256000.000000\n",
            "Name: odometer, dtype: float64\n"
          ]
        }
      ],
      "source": [
        "print(df_clean['odometer'].describe())\n",
        "print('----------------------')\n",
        "print(new_df['odometer'].describe())"
      ]
    },
    {
      "cell_type": "markdown",
      "metadata": {
        "id": "j0vFbo0Np-3b"
      },
      "source": [
        "Al comparar ambos gráficos de la columna odometer, podemos ver que al eliminar 2636 registro fuera de norma, la media se trasladó de 115199 a 113626."
      ]
    },
    {
      "cell_type": "code",
      "execution_count": null,
      "metadata": {
        "id": "13qhsIb3p-3c",
        "outputId": "8d2ba104-ef4d-4ca0-a9cb-e1468be02b2a"
      },
      "outputs": [
        {
          "data": {
            "image/png": "[encoded data removed]",
            "text/plain": [
              "<Figure size 432x288 with 1 Axes>"
            ]
          },
          "metadata": {
            "needs_background": "light"
          },
          "output_type": "display_data"
        }
      ],
      "source": [
        "df_clean['age_of_car'].hist(bins=25)\n",
        "new_df['age_of_car'].hist(bins=25);"
      ]
    },
    {
      "cell_type": "code",
      "execution_count": null,
      "metadata": {
        "id": "7SYdZ2zPp-3c",
        "outputId": "fda3e03a-59f9-457f-a11d-32de0b801c06"
      },
      "outputs": [
        {
          "name": "stdout",
          "output_type": "stream",
          "text": [
            "count    51525.000000\n",
            "mean         9.513906\n",
            "std          6.112976\n",
            "min          1.000000\n",
            "25%          5.000000\n",
            "50%          9.000000\n",
            "75%         13.000000\n",
            "max        111.000000\n",
            "Name: age_of_car, dtype: float64\n",
            "----------------------\n",
            "count    48149.000000\n",
            "mean         9.176182\n",
            "std          4.982878\n",
            "min          1.000000\n",
            "25%          5.000000\n",
            "50%          8.000000\n",
            "75%         12.000000\n",
            "max         24.000000\n",
            "Name: age_of_car, dtype: float64\n"
          ]
        }
      ],
      "source": [
        "print(df_clean['age_of_car'].describe())\n",
        "print('----------------------')\n",
        "print(new_df['age_of_car'].describe())"
      ]
    },
    {
      "cell_type": "markdown",
      "metadata": {
        "id": "OG3PaN-kp-3c"
      },
      "source": [
        "Aqui no podemos ver mucha diferencia entre un gráfico y otro, debido que la distribución de la columna es más equilibrada que en las anteriores columnas, lo que si se eliminó los datos atípicos."
      ]
    },
    {
      "cell_type": "markdown",
      "metadata": {
        "id": "9Nq2f7Bnp-3c"
      },
      "source": [
        "## Periodo de colocación de los anuncios"
      ]
    },
    {
      "cell_type": "code",
      "execution_count": null,
      "metadata": {
        "id": "2ZikganWp-3c",
        "outputId": "f9196956-8666-49a7-cfba-e6930d8ff851"
      },
      "outputs": [
        {
          "data": {
            "text/plain": [
              "count    51525.00000\n",
              "mean        39.55476\n",
              "std         28.20427\n",
              "min          0.00000\n",
              "25%         19.00000\n",
              "50%         33.00000\n",
              "75%         53.00000\n",
              "max        271.00000\n",
              "Name: days_listed, dtype: float64"
            ]
          },
          "execution_count": 384,
          "metadata": {},
          "output_type": "execute_result"
        }
      ],
      "source": [
        "df_clean['days_listed'].describe()"
      ]
    },
    {
      "cell_type": "code",
      "execution_count": null,
      "metadata": {
        "id": "ZYHbgRv1p-3c",
        "outputId": "41982f22-0ea4-458e-9aba-9d07f38512b6"
      },
      "outputs": [
        {
          "data": {
            "image/png": "[encoded data removed]",
            "text/plain": [
              "<Figure size 432x288 with 1 Axes>"
            ]
          },
          "metadata": {
            "needs_background": "light"
          },
          "output_type": "display_data"
        }
      ],
      "source": [
        "df_clean['days_listed'].hist();"
      ]
    },
    {
      "cell_type": "code",
      "execution_count": null,
      "metadata": {
        "id": "4UymiYVBp-3c",
        "outputId": "6f9f9cda-05e5-46ad-f497-aab4c74440d2"
      },
      "outputs": [
        {
          "name": "stdout",
          "output_type": "stream",
          "text": [
            "39.55475982532751\n",
            "33.0\n"
          ]
        }
      ],
      "source": [
        "print(df_clean['days_listed'].mean())\n",
        "print(df_clean['days_listed'].median())"
      ]
    },
    {
      "cell_type": "code",
      "execution_count": null,
      "metadata": {
        "scrolled": true,
        "id": "CwTa1itGp-3c",
        "outputId": "ef5b4565-85f9-4ea5-9cfe-c7b69d028ef4"
      },
      "outputs": [
        {
          "data": {
            "text/html": [
              "<div>\n",
              "<style scoped>\n",
              "    .dataframe tbody tr th:only-of-type {\n",
              "        vertical-align: middle;\n",
              "    }\n",
              "\n",
              "    .dataframe tbody tr th {\n",
              "        vertical-align: top;\n",
              "    }\n",
              "\n",
              "    .dataframe thead th {\n",
              "        text-align: right;\n",
              "    }\n",
              "</style>\n",
              "<table border=\"1\" class=\"dataframe\">\n",
              "  <thead>\n",
              "    <tr style=\"text-align: right;\">\n",
              "      <th></th>\n",
              "      <th>price</th>\n",
              "      <th>model_year</th>\n",
              "      <th>model</th>\n",
              "      <th>condition</th>\n",
              "      <th>cylinders</th>\n",
              "      <th>fuel</th>\n",
              "      <th>odometer</th>\n",
              "      <th>transmission</th>\n",
              "      <th>type</th>\n",
              "      <th>paint_color</th>\n",
              "      <th>is_4wd</th>\n",
              "      <th>date_posted</th>\n",
              "      <th>days_listed</th>\n",
              "      <th>dow</th>\n",
              "      <th>week</th>\n",
              "      <th>month</th>\n",
              "      <th>year</th>\n",
              "      <th>age_of_car</th>\n",
              "      <th>avg_miles_year</th>\n",
              "    </tr>\n",
              "  </thead>\n",
              "  <tbody>\n",
              "    <tr>\n",
              "      <th>39</th>\n",
              "      <td>8000</td>\n",
              "      <td>2009</td>\n",
              "      <td>ford f-150</td>\n",
              "      <td>2</td>\n",
              "      <td>8</td>\n",
              "      <td>gas</td>\n",
              "      <td>234000</td>\n",
              "      <td>automatic</td>\n",
              "      <td>truck</td>\n",
              "      <td>black</td>\n",
              "      <td>True</td>\n",
              "      <td>2019-03-31</td>\n",
              "      <td>1</td>\n",
              "      <td>6</td>\n",
              "      <td>13</td>\n",
              "      <td>3</td>\n",
              "      <td>2019</td>\n",
              "      <td>11</td>\n",
              "      <td>21272</td>\n",
              "    </tr>\n",
              "    <tr>\n",
              "      <th>59</th>\n",
              "      <td>5200</td>\n",
              "      <td>2006</td>\n",
              "      <td>toyota highlander</td>\n",
              "      <td>2</td>\n",
              "      <td>6</td>\n",
              "      <td>gas</td>\n",
              "      <td>186000</td>\n",
              "      <td>automatic</td>\n",
              "      <td>SUV</td>\n",
              "      <td>green</td>\n",
              "      <td>False</td>\n",
              "      <td>2018-12-20</td>\n",
              "      <td>2</td>\n",
              "      <td>3</td>\n",
              "      <td>51</td>\n",
              "      <td>12</td>\n",
              "      <td>2018</td>\n",
              "      <td>13</td>\n",
              "      <td>14307</td>\n",
              "    </tr>\n",
              "    <tr>\n",
              "      <th>75</th>\n",
              "      <td>6950</td>\n",
              "      <td>2005</td>\n",
              "      <td>chevrolet tahoe</td>\n",
              "      <td>3</td>\n",
              "      <td>6</td>\n",
              "      <td>gas</td>\n",
              "      <td>186021</td>\n",
              "      <td>automatic</td>\n",
              "      <td>SUV</td>\n",
              "      <td>others</td>\n",
              "      <td>True</td>\n",
              "      <td>2018-10-30</td>\n",
              "      <td>3</td>\n",
              "      <td>1</td>\n",
              "      <td>44</td>\n",
              "      <td>10</td>\n",
              "      <td>2018</td>\n",
              "      <td>14</td>\n",
              "      <td>13287</td>\n",
              "    </tr>\n",
              "    <tr>\n",
              "      <th>84</th>\n",
              "      <td>4995</td>\n",
              "      <td>2013</td>\n",
              "      <td>hyundai elantra</td>\n",
              "      <td>4</td>\n",
              "      <td>4</td>\n",
              "      <td>gas</td>\n",
              "      <td>151223</td>\n",
              "      <td>automatic</td>\n",
              "      <td>sedan</td>\n",
              "      <td>custom</td>\n",
              "      <td>False</td>\n",
              "      <td>2018-09-15</td>\n",
              "      <td>1</td>\n",
              "      <td>5</td>\n",
              "      <td>37</td>\n",
              "      <td>9</td>\n",
              "      <td>2018</td>\n",
              "      <td>6</td>\n",
              "      <td>25203</td>\n",
              "    </tr>\n",
              "    <tr>\n",
              "      <th>120</th>\n",
              "      <td>33900</td>\n",
              "      <td>2018</td>\n",
              "      <td>chevrolet silverado 1500 crew</td>\n",
              "      <td>2</td>\n",
              "      <td>8</td>\n",
              "      <td>gas</td>\n",
              "      <td>11315</td>\n",
              "      <td>other</td>\n",
              "      <td>pickup</td>\n",
              "      <td>white</td>\n",
              "      <td>True</td>\n",
              "      <td>2019-03-01</td>\n",
              "      <td>2</td>\n",
              "      <td>4</td>\n",
              "      <td>9</td>\n",
              "      <td>3</td>\n",
              "      <td>2019</td>\n",
              "      <td>2</td>\n",
              "      <td>5657</td>\n",
              "    </tr>\n",
              "  </tbody>\n",
              "</table>\n",
              "</div>"
            ],
            "text/plain": [
              "     price  model_year                          model  condition  cylinders  \\\n",
              "39    8000        2009                     ford f-150          2          8   \n",
              "59    5200        2006              toyota highlander          2          6   \n",
              "75    6950        2005                chevrolet tahoe          3          6   \n",
              "84    4995        2013                hyundai elantra          4          4   \n",
              "120  33900        2018  chevrolet silverado 1500 crew          2          8   \n",
              "\n",
              "    fuel  odometer transmission    type paint_color  is_4wd date_posted  \\\n",
              "39   gas    234000    automatic   truck       black    True  2019-03-31   \n",
              "59   gas    186000    automatic     SUV       green   False  2018-12-20   \n",
              "75   gas    186021    automatic     SUV      others    True  2018-10-30   \n",
              "84   gas    151223    automatic   sedan      custom   False  2018-09-15   \n",
              "120  gas     11315        other  pickup       white    True  2019-03-01   \n",
              "\n",
              "     days_listed  dow  week  month  year  age_of_car  avg_miles_year  \n",
              "39             1    6    13      3  2019          11           21272  \n",
              "59             2    3    51     12  2018          13           14307  \n",
              "75             3    1    44     10  2018          14           13287  \n",
              "84             1    5    37      9  2018           6           25203  \n",
              "120            2    4     9      3  2019           2            5657  "
            ]
          },
          "execution_count": 387,
          "metadata": {},
          "output_type": "execute_result"
        }
      ],
      "source": [
        "df_clean.query('days_listed <5').head()"
      ]
    },
    {
      "cell_type": "code",
      "execution_count": null,
      "metadata": {
        "scrolled": false,
        "id": "VRlWPJpJp-3d",
        "outputId": "df533aa7-1772-4d8a-fd44-5d848160e912"
      },
      "outputs": [
        {
          "data": {
            "text/html": [
              "<div>\n",
              "<style scoped>\n",
              "    .dataframe tbody tr th:only-of-type {\n",
              "        vertical-align: middle;\n",
              "    }\n",
              "\n",
              "    .dataframe tbody tr th {\n",
              "        vertical-align: top;\n",
              "    }\n",
              "\n",
              "    .dataframe thead th {\n",
              "        text-align: right;\n",
              "    }\n",
              "</style>\n",
              "<table border=\"1\" class=\"dataframe\">\n",
              "  <thead>\n",
              "    <tr style=\"text-align: right;\">\n",
              "      <th></th>\n",
              "      <th>price</th>\n",
              "      <th>model_year</th>\n",
              "      <th>model</th>\n",
              "      <th>condition</th>\n",
              "      <th>cylinders</th>\n",
              "      <th>fuel</th>\n",
              "      <th>odometer</th>\n",
              "      <th>transmission</th>\n",
              "      <th>type</th>\n",
              "      <th>paint_color</th>\n",
              "      <th>is_4wd</th>\n",
              "      <th>date_posted</th>\n",
              "      <th>days_listed</th>\n",
              "      <th>dow</th>\n",
              "      <th>week</th>\n",
              "      <th>month</th>\n",
              "      <th>year</th>\n",
              "      <th>age_of_car</th>\n",
              "      <th>avg_miles_year</th>\n",
              "    </tr>\n",
              "  </thead>\n",
              "  <tbody>\n",
              "    <tr>\n",
              "      <th>0</th>\n",
              "      <td>9400</td>\n",
              "      <td>2011</td>\n",
              "      <td>bmw x5</td>\n",
              "      <td>2</td>\n",
              "      <td>6</td>\n",
              "      <td>gas</td>\n",
              "      <td>145000</td>\n",
              "      <td>automatic</td>\n",
              "      <td>SUV</td>\n",
              "      <td>others</td>\n",
              "      <td>True</td>\n",
              "      <td>2018-06-23</td>\n",
              "      <td>19</td>\n",
              "      <td>5</td>\n",
              "      <td>25</td>\n",
              "      <td>6</td>\n",
              "      <td>2018</td>\n",
              "      <td>8</td>\n",
              "      <td>18125</td>\n",
              "    </tr>\n",
              "    <tr>\n",
              "      <th>1</th>\n",
              "      <td>25500</td>\n",
              "      <td>2011</td>\n",
              "      <td>ford f-150</td>\n",
              "      <td>2</td>\n",
              "      <td>6</td>\n",
              "      <td>gas</td>\n",
              "      <td>88705</td>\n",
              "      <td>automatic</td>\n",
              "      <td>pickup</td>\n",
              "      <td>white</td>\n",
              "      <td>True</td>\n",
              "      <td>2018-10-19</td>\n",
              "      <td>50</td>\n",
              "      <td>4</td>\n",
              "      <td>42</td>\n",
              "      <td>10</td>\n",
              "      <td>2018</td>\n",
              "      <td>8</td>\n",
              "      <td>11088</td>\n",
              "    </tr>\n",
              "    <tr>\n",
              "      <th>2</th>\n",
              "      <td>5500</td>\n",
              "      <td>2013</td>\n",
              "      <td>hyundai sonata</td>\n",
              "      <td>4</td>\n",
              "      <td>4</td>\n",
              "      <td>gas</td>\n",
              "      <td>110000</td>\n",
              "      <td>automatic</td>\n",
              "      <td>sedan</td>\n",
              "      <td>red</td>\n",
              "      <td>False</td>\n",
              "      <td>2019-02-07</td>\n",
              "      <td>79</td>\n",
              "      <td>3</td>\n",
              "      <td>6</td>\n",
              "      <td>2</td>\n",
              "      <td>2019</td>\n",
              "      <td>7</td>\n",
              "      <td>15714</td>\n",
              "    </tr>\n",
              "    <tr>\n",
              "      <th>3</th>\n",
              "      <td>1500</td>\n",
              "      <td>2003</td>\n",
              "      <td>ford f-150</td>\n",
              "      <td>1</td>\n",
              "      <td>8</td>\n",
              "      <td>gas</td>\n",
              "      <td>181613</td>\n",
              "      <td>automatic</td>\n",
              "      <td>pickup</td>\n",
              "      <td>others</td>\n",
              "      <td>False</td>\n",
              "      <td>2019-03-22</td>\n",
              "      <td>9</td>\n",
              "      <td>4</td>\n",
              "      <td>12</td>\n",
              "      <td>3</td>\n",
              "      <td>2019</td>\n",
              "      <td>17</td>\n",
              "      <td>10683</td>\n",
              "    </tr>\n",
              "    <tr>\n",
              "      <th>4</th>\n",
              "      <td>14900</td>\n",
              "      <td>2017</td>\n",
              "      <td>chrysler 200</td>\n",
              "      <td>3</td>\n",
              "      <td>4</td>\n",
              "      <td>gas</td>\n",
              "      <td>80903</td>\n",
              "      <td>automatic</td>\n",
              "      <td>sedan</td>\n",
              "      <td>black</td>\n",
              "      <td>False</td>\n",
              "      <td>2019-04-02</td>\n",
              "      <td>28</td>\n",
              "      <td>1</td>\n",
              "      <td>14</td>\n",
              "      <td>4</td>\n",
              "      <td>2019</td>\n",
              "      <td>3</td>\n",
              "      <td>26967</td>\n",
              "    </tr>\n",
              "  </tbody>\n",
              "</table>\n",
              "</div>"
            ],
            "text/plain": [
              "   price  model_year           model  condition  cylinders fuel  odometer  \\\n",
              "0   9400        2011          bmw x5          2          6  gas    145000   \n",
              "1  25500        2011      ford f-150          2          6  gas     88705   \n",
              "2   5500        2013  hyundai sonata          4          4  gas    110000   \n",
              "3   1500        2003      ford f-150          1          8  gas    181613   \n",
              "4  14900        2017    chrysler 200          3          4  gas     80903   \n",
              "\n",
              "  transmission    type paint_color  is_4wd date_posted  days_listed  dow  \\\n",
              "0    automatic     SUV      others    True  2018-06-23           19    5   \n",
              "1    automatic  pickup       white    True  2018-10-19           50    4   \n",
              "2    automatic   sedan         red   False  2019-02-07           79    3   \n",
              "3    automatic  pickup      others   False  2019-03-22            9    4   \n",
              "4    automatic   sedan       black   False  2019-04-02           28    1   \n",
              "\n",
              "   week  month  year  age_of_car  avg_miles_year  \n",
              "0    25      6  2018           8           18125  \n",
              "1    42     10  2018           8           11088  \n",
              "2     6      2  2019           7           15714  \n",
              "3    12      3  2019          17           10683  \n",
              "4    14      4  2019           3           26967  "
            ]
          },
          "execution_count": 388,
          "metadata": {},
          "output_type": "execute_result"
        }
      ],
      "source": [
        "df_clean.query('days_listed < 100').head()"
      ]
    },
    {
      "cell_type": "code",
      "execution_count": null,
      "metadata": {
        "id": "qMkKcfJop-3d",
        "outputId": "c8f3be50-b322-42c0-f773-53dc175a1865"
      },
      "outputs": [
        {
          "data": {
            "text/html": [
              "<div>\n",
              "<style scoped>\n",
              "    .dataframe tbody tr th:only-of-type {\n",
              "        vertical-align: middle;\n",
              "    }\n",
              "\n",
              "    .dataframe tbody tr th {\n",
              "        vertical-align: top;\n",
              "    }\n",
              "\n",
              "    .dataframe thead th {\n",
              "        text-align: right;\n",
              "    }\n",
              "</style>\n",
              "<table border=\"1\" class=\"dataframe\">\n",
              "  <thead>\n",
              "    <tr style=\"text-align: right;\">\n",
              "      <th></th>\n",
              "      <th>price</th>\n",
              "      <th>model_year</th>\n",
              "      <th>model</th>\n",
              "      <th>condition</th>\n",
              "      <th>cylinders</th>\n",
              "      <th>fuel</th>\n",
              "      <th>odometer</th>\n",
              "      <th>transmission</th>\n",
              "      <th>type</th>\n",
              "      <th>paint_color</th>\n",
              "      <th>is_4wd</th>\n",
              "      <th>date_posted</th>\n",
              "      <th>days_listed</th>\n",
              "      <th>dow</th>\n",
              "      <th>week</th>\n",
              "      <th>month</th>\n",
              "      <th>year</th>\n",
              "      <th>age_of_car</th>\n",
              "      <th>avg_miles_year</th>\n",
              "    </tr>\n",
              "  </thead>\n",
              "  <tbody>\n",
              "    <tr>\n",
              "      <th>0</th>\n",
              "      <td>9400</td>\n",
              "      <td>2011</td>\n",
              "      <td>bmw x5</td>\n",
              "      <td>2</td>\n",
              "      <td>6</td>\n",
              "      <td>gas</td>\n",
              "      <td>145000</td>\n",
              "      <td>automatic</td>\n",
              "      <td>SUV</td>\n",
              "      <td>others</td>\n",
              "      <td>True</td>\n",
              "      <td>2018-06-23</td>\n",
              "      <td>19</td>\n",
              "      <td>5</td>\n",
              "      <td>25</td>\n",
              "      <td>6</td>\n",
              "      <td>2018</td>\n",
              "      <td>8</td>\n",
              "      <td>18125</td>\n",
              "    </tr>\n",
              "    <tr>\n",
              "      <th>1</th>\n",
              "      <td>25500</td>\n",
              "      <td>2011</td>\n",
              "      <td>ford f-150</td>\n",
              "      <td>2</td>\n",
              "      <td>6</td>\n",
              "      <td>gas</td>\n",
              "      <td>88705</td>\n",
              "      <td>automatic</td>\n",
              "      <td>pickup</td>\n",
              "      <td>white</td>\n",
              "      <td>True</td>\n",
              "      <td>2018-10-19</td>\n",
              "      <td>50</td>\n",
              "      <td>4</td>\n",
              "      <td>42</td>\n",
              "      <td>10</td>\n",
              "      <td>2018</td>\n",
              "      <td>8</td>\n",
              "      <td>11088</td>\n",
              "    </tr>\n",
              "    <tr>\n",
              "      <th>2</th>\n",
              "      <td>5500</td>\n",
              "      <td>2013</td>\n",
              "      <td>hyundai sonata</td>\n",
              "      <td>4</td>\n",
              "      <td>4</td>\n",
              "      <td>gas</td>\n",
              "      <td>110000</td>\n",
              "      <td>automatic</td>\n",
              "      <td>sedan</td>\n",
              "      <td>red</td>\n",
              "      <td>False</td>\n",
              "      <td>2019-02-07</td>\n",
              "      <td>79</td>\n",
              "      <td>3</td>\n",
              "      <td>6</td>\n",
              "      <td>2</td>\n",
              "      <td>2019</td>\n",
              "      <td>7</td>\n",
              "      <td>15714</td>\n",
              "    </tr>\n",
              "    <tr>\n",
              "      <th>3</th>\n",
              "      <td>1500</td>\n",
              "      <td>2003</td>\n",
              "      <td>ford f-150</td>\n",
              "      <td>1</td>\n",
              "      <td>8</td>\n",
              "      <td>gas</td>\n",
              "      <td>181613</td>\n",
              "      <td>automatic</td>\n",
              "      <td>pickup</td>\n",
              "      <td>others</td>\n",
              "      <td>False</td>\n",
              "      <td>2019-03-22</td>\n",
              "      <td>9</td>\n",
              "      <td>4</td>\n",
              "      <td>12</td>\n",
              "      <td>3</td>\n",
              "      <td>2019</td>\n",
              "      <td>17</td>\n",
              "      <td>10683</td>\n",
              "    </tr>\n",
              "    <tr>\n",
              "      <th>4</th>\n",
              "      <td>14900</td>\n",
              "      <td>2017</td>\n",
              "      <td>chrysler 200</td>\n",
              "      <td>3</td>\n",
              "      <td>4</td>\n",
              "      <td>gas</td>\n",
              "      <td>80903</td>\n",
              "      <td>automatic</td>\n",
              "      <td>sedan</td>\n",
              "      <td>black</td>\n",
              "      <td>False</td>\n",
              "      <td>2019-04-02</td>\n",
              "      <td>28</td>\n",
              "      <td>1</td>\n",
              "      <td>14</td>\n",
              "      <td>4</td>\n",
              "      <td>2019</td>\n",
              "      <td>3</td>\n",
              "      <td>26967</td>\n",
              "    </tr>\n",
              "    <tr>\n",
              "      <th>...</th>\n",
              "      <td>...</td>\n",
              "      <td>...</td>\n",
              "      <td>...</td>\n",
              "      <td>...</td>\n",
              "      <td>...</td>\n",
              "      <td>...</td>\n",
              "      <td>...</td>\n",
              "      <td>...</td>\n",
              "      <td>...</td>\n",
              "      <td>...</td>\n",
              "      <td>...</td>\n",
              "      <td>...</td>\n",
              "      <td>...</td>\n",
              "      <td>...</td>\n",
              "      <td>...</td>\n",
              "      <td>...</td>\n",
              "      <td>...</td>\n",
              "      <td>...</td>\n",
              "      <td>...</td>\n",
              "    </tr>\n",
              "    <tr>\n",
              "      <th>51520</th>\n",
              "      <td>9249</td>\n",
              "      <td>2013</td>\n",
              "      <td>nissan maxima</td>\n",
              "      <td>4</td>\n",
              "      <td>6</td>\n",
              "      <td>gas</td>\n",
              "      <td>88136</td>\n",
              "      <td>automatic</td>\n",
              "      <td>sedan</td>\n",
              "      <td>black</td>\n",
              "      <td>False</td>\n",
              "      <td>2018-10-03</td>\n",
              "      <td>37</td>\n",
              "      <td>2</td>\n",
              "      <td>40</td>\n",
              "      <td>10</td>\n",
              "      <td>2018</td>\n",
              "      <td>6</td>\n",
              "      <td>14689</td>\n",
              "    </tr>\n",
              "    <tr>\n",
              "      <th>51521</th>\n",
              "      <td>2700</td>\n",
              "      <td>2002</td>\n",
              "      <td>honda civic</td>\n",
              "      <td>0</td>\n",
              "      <td>4</td>\n",
              "      <td>gas</td>\n",
              "      <td>181500</td>\n",
              "      <td>automatic</td>\n",
              "      <td>sedan</td>\n",
              "      <td>white</td>\n",
              "      <td>False</td>\n",
              "      <td>2018-11-14</td>\n",
              "      <td>22</td>\n",
              "      <td>2</td>\n",
              "      <td>46</td>\n",
              "      <td>11</td>\n",
              "      <td>2018</td>\n",
              "      <td>17</td>\n",
              "      <td>10676</td>\n",
              "    </tr>\n",
              "    <tr>\n",
              "      <th>51522</th>\n",
              "      <td>3950</td>\n",
              "      <td>2009</td>\n",
              "      <td>hyundai sonata</td>\n",
              "      <td>3</td>\n",
              "      <td>4</td>\n",
              "      <td>gas</td>\n",
              "      <td>128000</td>\n",
              "      <td>automatic</td>\n",
              "      <td>sedan</td>\n",
              "      <td>blue</td>\n",
              "      <td>False</td>\n",
              "      <td>2018-11-15</td>\n",
              "      <td>32</td>\n",
              "      <td>3</td>\n",
              "      <td>46</td>\n",
              "      <td>11</td>\n",
              "      <td>2018</td>\n",
              "      <td>10</td>\n",
              "      <td>12800</td>\n",
              "    </tr>\n",
              "    <tr>\n",
              "      <th>51523</th>\n",
              "      <td>7455</td>\n",
              "      <td>2013</td>\n",
              "      <td>toyota corolla</td>\n",
              "      <td>2</td>\n",
              "      <td>4</td>\n",
              "      <td>gas</td>\n",
              "      <td>139573</td>\n",
              "      <td>automatic</td>\n",
              "      <td>sedan</td>\n",
              "      <td>black</td>\n",
              "      <td>False</td>\n",
              "      <td>2018-07-02</td>\n",
              "      <td>71</td>\n",
              "      <td>0</td>\n",
              "      <td>27</td>\n",
              "      <td>7</td>\n",
              "      <td>2018</td>\n",
              "      <td>6</td>\n",
              "      <td>23262</td>\n",
              "    </tr>\n",
              "    <tr>\n",
              "      <th>51524</th>\n",
              "      <td>6300</td>\n",
              "      <td>2014</td>\n",
              "      <td>nissan altima</td>\n",
              "      <td>2</td>\n",
              "      <td>4</td>\n",
              "      <td>gas</td>\n",
              "      <td>129000</td>\n",
              "      <td>automatic</td>\n",
              "      <td>sedan</td>\n",
              "      <td>others</td>\n",
              "      <td>False</td>\n",
              "      <td>2018-06-05</td>\n",
              "      <td>10</td>\n",
              "      <td>1</td>\n",
              "      <td>23</td>\n",
              "      <td>6</td>\n",
              "      <td>2018</td>\n",
              "      <td>5</td>\n",
              "      <td>25800</td>\n",
              "    </tr>\n",
              "  </tbody>\n",
              "</table>\n",
              "<p>44647 rows × 19 columns</p>\n",
              "</div>"
            ],
            "text/plain": [
              "       price  model_year           model  condition  cylinders fuel  odometer  \\\n",
              "0       9400        2011          bmw x5          2          6  gas    145000   \n",
              "1      25500        2011      ford f-150          2          6  gas     88705   \n",
              "2       5500        2013  hyundai sonata          4          4  gas    110000   \n",
              "3       1500        2003      ford f-150          1          8  gas    181613   \n",
              "4      14900        2017    chrysler 200          3          4  gas     80903   \n",
              "...      ...         ...             ...        ...        ...  ...       ...   \n",
              "51520   9249        2013   nissan maxima          4          6  gas     88136   \n",
              "51521   2700        2002     honda civic          0          4  gas    181500   \n",
              "51522   3950        2009  hyundai sonata          3          4  gas    128000   \n",
              "51523   7455        2013  toyota corolla          2          4  gas    139573   \n",
              "51524   6300        2014   nissan altima          2          4  gas    129000   \n",
              "\n",
              "      transmission    type paint_color  is_4wd date_posted  days_listed  dow  \\\n",
              "0        automatic     SUV      others    True  2018-06-23           19    5   \n",
              "1        automatic  pickup       white    True  2018-10-19           50    4   \n",
              "2        automatic   sedan         red   False  2019-02-07           79    3   \n",
              "3        automatic  pickup      others   False  2019-03-22            9    4   \n",
              "4        automatic   sedan       black   False  2019-04-02           28    1   \n",
              "...            ...     ...         ...     ...         ...          ...  ...   \n",
              "51520    automatic   sedan       black   False  2018-10-03           37    2   \n",
              "51521    automatic   sedan       white   False  2018-11-14           22    2   \n",
              "51522    automatic   sedan        blue   False  2018-11-15           32    3   \n",
              "51523    automatic   sedan       black   False  2018-07-02           71    0   \n",
              "51524    automatic   sedan      others   False  2018-06-05           10    1   \n",
              "\n",
              "       week  month  year  age_of_car  avg_miles_year  \n",
              "0        25      6  2018           8           18125  \n",
              "1        42     10  2018           8           11088  \n",
              "2         6      2  2019           7           15714  \n",
              "3        12      3  2019          17           10683  \n",
              "4        14      4  2019           3           26967  \n",
              "...     ...    ...   ...         ...             ...  \n",
              "51520    40     10  2018           6           14689  \n",
              "51521    46     11  2018          17           10676  \n",
              "51522    46     11  2018          10           12800  \n",
              "51523    27      7  2018           6           23262  \n",
              "51524    23      6  2018           5           25800  \n",
              "\n",
              "[44647 rows x 19 columns]"
            ]
          },
          "execution_count": 389,
          "metadata": {},
          "output_type": "execute_result"
        }
      ],
      "source": [
        "new_df = new_df.query('5 < days_listed <= 100')\n",
        "new_df"
      ]
    },
    {
      "cell_type": "code",
      "execution_count": null,
      "metadata": {
        "id": "Uf14Y2pep-3d",
        "outputId": "715fd90b-ce0c-4663-f3fc-c7d1a32f6c66"
      },
      "outputs": [
        {
          "data": {
            "text/html": [
              "<div>\n",
              "<style scoped>\n",
              "    .dataframe tbody tr th:only-of-type {\n",
              "        vertical-align: middle;\n",
              "    }\n",
              "\n",
              "    .dataframe tbody tr th {\n",
              "        vertical-align: top;\n",
              "    }\n",
              "\n",
              "    .dataframe thead th {\n",
              "        text-align: right;\n",
              "    }\n",
              "</style>\n",
              "<table border=\"1\" class=\"dataframe\">\n",
              "  <thead>\n",
              "    <tr style=\"text-align: right;\">\n",
              "      <th></th>\n",
              "      <th>days_listed_mean</th>\n",
              "      <th>vehiculos</th>\n",
              "    </tr>\n",
              "    <tr>\n",
              "      <th>type</th>\n",
              "      <th></th>\n",
              "      <th></th>\n",
              "    </tr>\n",
              "  </thead>\n",
              "  <tbody>\n",
              "    <tr>\n",
              "      <th>bus</th>\n",
              "      <td>43.500000</td>\n",
              "      <td>24</td>\n",
              "    </tr>\n",
              "    <tr>\n",
              "      <th>hatchback</th>\n",
              "      <td>38.341863</td>\n",
              "      <td>977</td>\n",
              "    </tr>\n",
              "    <tr>\n",
              "      <th>wagon</th>\n",
              "      <td>37.591519</td>\n",
              "      <td>1415</td>\n",
              "    </tr>\n",
              "    <tr>\n",
              "      <th>pickup</th>\n",
              "      <td>37.344507</td>\n",
              "      <td>6563</td>\n",
              "    </tr>\n",
              "    <tr>\n",
              "      <th>truck</th>\n",
              "      <td>37.227794</td>\n",
              "      <td>11607</td>\n",
              "    </tr>\n",
              "    <tr>\n",
              "      <th>SUV</th>\n",
              "      <td>37.201137</td>\n",
              "      <td>11614</td>\n",
              "    </tr>\n",
              "    <tr>\n",
              "      <th>sedan</th>\n",
              "      <td>36.984718</td>\n",
              "      <td>11386</td>\n",
              "    </tr>\n",
              "    <tr>\n",
              "      <th>offroad</th>\n",
              "      <td>36.979695</td>\n",
              "      <td>197</td>\n",
              "    </tr>\n",
              "    <tr>\n",
              "      <th>other</th>\n",
              "      <td>36.816327</td>\n",
              "      <td>245</td>\n",
              "    </tr>\n",
              "    <tr>\n",
              "      <th>van</th>\n",
              "      <td>36.617347</td>\n",
              "      <td>588</td>\n",
              "    </tr>\n",
              "  </tbody>\n",
              "</table>\n",
              "</div>"
            ],
            "text/plain": [
              "           days_listed_mean  vehiculos\n",
              "type                                  \n",
              "bus               43.500000         24\n",
              "hatchback         38.341863        977\n",
              "wagon             37.591519       1415\n",
              "pickup            37.344507       6563\n",
              "truck             37.227794      11607\n",
              "SUV               37.201137      11614\n",
              "sedan             36.984718      11386\n",
              "offroad           36.979695        197\n",
              "other             36.816327        245\n",
              "van               36.617347        588"
            ]
          },
          "execution_count": 390,
          "metadata": {},
          "output_type": "execute_result"
        }
      ],
      "source": [
        "days_listed_new = df_clean.query('5 <= days_listed <= 100').pivot_table(index=\"type\", values=\"days_listed\", aggfunc=['mean', 'count'])\n",
        "days_listed_new.columns = ['days_listed_mean', 'vehiculos']\n",
        "days_listed_new.sort_values(by='days_listed_mean', ascending=False).head(10)"
      ]
    },
    {
      "cell_type": "markdown",
      "metadata": {
        "id": "i_fwQXIPp-3d"
      },
      "source": [
        "    Los anuncios fueron mostrados entre 0 y 270 días. La media está en 39.6 y la mediana en 33, Finalmente el periodo habitual de colocación es entre 5 y 100 días, Donde menos de 5 días es un periodo donde se eliminaron rápidamente las publicaciones y sobre 100 días equivale a un periodo largo de publicación.\n",
        "    \n",
        "    Se realizo una tabla filtrada con los vehículos que tuvieron más de 5 días de anuncio y los que tuvieron menos de 100 días, los filtraremos por tipo de vehículo, para mostrar en esta tabla filtrada las medias de días de anuncio son parecidos para todos los tipos de vehículos."
      ]
    },
    {
      "cell_type": "markdown",
      "metadata": {
        "id": "bCbTaJUEp-3e"
      },
      "source": [
        "## Precio promedio por cada tipo de vehículo"
      ]
    },
    {
      "cell_type": "code",
      "execution_count": null,
      "metadata": {
        "id": "ucxe_gdmp-3e",
        "outputId": "a34a1e6a-01a2-455e-a092-2ff67c9a397f"
      },
      "outputs": [
        {
          "name": "stdout",
          "output_type": "stream",
          "text": [
            "           type  days_listed_mean  vehiculos         price\n",
            "0           SUV         37.201137      11614  10466.562034\n",
            "1           bus         43.500000         24  18107.428571\n",
            "2   convertible         36.524038        416  13273.738170\n",
            "3         coupe         36.348751       2162  13526.557651\n",
            "4     hatchback         38.341863        977   6828.567742\n",
            "5      mini-van         36.496750       1077   8063.533906\n",
            "6       offroad         36.979695        197  14496.545455\n",
            "7         other         36.816327        245  10378.457014\n",
            "8        pickup         37.344507       6563  15137.996560\n",
            "9         sedan         36.984718      11386   6984.806773\n",
            "10        truck         37.227794      11607  15176.240748\n",
            "11          van         36.617347        588   8730.427203\n",
            "12        wagon         37.591519       1415   8997.426471\n"
          ]
        }
      ],
      "source": [
        "vehicles_stat_price = new_df.query('5 <= days_listed <= 100').pivot_table(\n",
        "    index='type', values = 'price', aggfunc = 'mean')\n",
        "vehicles_stat = days_listed_new.join(vehicles_stat_price, on='type').reset_index()\n",
        "print(vehicles_stat)"
      ]
    },
    {
      "cell_type": "code",
      "execution_count": null,
      "metadata": {
        "id": "XktXofdIp-3e",
        "outputId": "c3b8c0a8-2d4e-4ce1-f417-c1e93e274936"
      },
      "outputs": [
        {
          "data": {
            "text/html": [
              "<div>\n",
              "<style scoped>\n",
              "    .dataframe tbody tr th:only-of-type {\n",
              "        vertical-align: middle;\n",
              "    }\n",
              "\n",
              "    .dataframe tbody tr th {\n",
              "        vertical-align: top;\n",
              "    }\n",
              "\n",
              "    .dataframe thead th {\n",
              "        text-align: right;\n",
              "    }\n",
              "</style>\n",
              "<table border=\"1\" class=\"dataframe\">\n",
              "  <thead>\n",
              "    <tr style=\"text-align: right;\">\n",
              "      <th></th>\n",
              "      <th>price</th>\n",
              "    </tr>\n",
              "    <tr>\n",
              "      <th>type</th>\n",
              "      <th></th>\n",
              "    </tr>\n",
              "  </thead>\n",
              "  <tbody>\n",
              "    <tr>\n",
              "      <th>SUV</th>\n",
              "      <td>10466.562034</td>\n",
              "    </tr>\n",
              "    <tr>\n",
              "      <th>bus</th>\n",
              "      <td>18107.428571</td>\n",
              "    </tr>\n",
              "    <tr>\n",
              "      <th>convertible</th>\n",
              "      <td>13273.738170</td>\n",
              "    </tr>\n",
              "    <tr>\n",
              "      <th>coupe</th>\n",
              "      <td>13526.557651</td>\n",
              "    </tr>\n",
              "    <tr>\n",
              "      <th>hatchback</th>\n",
              "      <td>6828.567742</td>\n",
              "    </tr>\n",
              "    <tr>\n",
              "      <th>mini-van</th>\n",
              "      <td>8063.533906</td>\n",
              "    </tr>\n",
              "    <tr>\n",
              "      <th>offroad</th>\n",
              "      <td>14496.545455</td>\n",
              "    </tr>\n",
              "    <tr>\n",
              "      <th>other</th>\n",
              "      <td>10378.457014</td>\n",
              "    </tr>\n",
              "    <tr>\n",
              "      <th>pickup</th>\n",
              "      <td>15137.996560</td>\n",
              "    </tr>\n",
              "    <tr>\n",
              "      <th>sedan</th>\n",
              "      <td>6984.806773</td>\n",
              "    </tr>\n",
              "    <tr>\n",
              "      <th>truck</th>\n",
              "      <td>15176.240748</td>\n",
              "    </tr>\n",
              "    <tr>\n",
              "      <th>van</th>\n",
              "      <td>8730.427203</td>\n",
              "    </tr>\n",
              "    <tr>\n",
              "      <th>wagon</th>\n",
              "      <td>8997.426471</td>\n",
              "    </tr>\n",
              "  </tbody>\n",
              "</table>\n",
              "</div>"
            ],
            "text/plain": [
              "                    price\n",
              "type                     \n",
              "SUV          10466.562034\n",
              "bus          18107.428571\n",
              "convertible  13273.738170\n",
              "coupe        13526.557651\n",
              "hatchback     6828.567742\n",
              "mini-van      8063.533906\n",
              "offroad      14496.545455\n",
              "other        10378.457014\n",
              "pickup       15137.996560\n",
              "sedan         6984.806773\n",
              "truck        15176.240748\n",
              "van           8730.427203\n",
              "wagon         8997.426471"
            ]
          },
          "execution_count": 392,
          "metadata": {},
          "output_type": "execute_result"
        }
      ],
      "source": [
        "# precio promedio para cada tipo de vehículo\n",
        "avg_vehiculo = new_df.pivot_table(index='type', values='price', aggfunc='mean')\n",
        "avg_vehiculo"
      ]
    },
    {
      "cell_type": "code",
      "execution_count": null,
      "metadata": {
        "id": "FxM4yWHip-3e",
        "outputId": "8335dd8e-c24a-47b9-8c47-e6ddcd286b5d"
      },
      "outputs": [
        {
          "data": {
            "text/html": [
              "<div>\n",
              "<style scoped>\n",
              "    .dataframe tbody tr th:only-of-type {\n",
              "        vertical-align: middle;\n",
              "    }\n",
              "\n",
              "    .dataframe tbody tr th {\n",
              "        vertical-align: top;\n",
              "    }\n",
              "\n",
              "    .dataframe thead th {\n",
              "        text-align: right;\n",
              "    }\n",
              "</style>\n",
              "<table border=\"1\" class=\"dataframe\">\n",
              "  <thead>\n",
              "    <tr style=\"text-align: right;\">\n",
              "      <th></th>\n",
              "      <th>days_listed</th>\n",
              "    </tr>\n",
              "    <tr>\n",
              "      <th>type</th>\n",
              "      <th></th>\n",
              "    </tr>\n",
              "  </thead>\n",
              "  <tbody>\n",
              "    <tr>\n",
              "      <th>sedan</th>\n",
              "      <td>11132</td>\n",
              "    </tr>\n",
              "    <tr>\n",
              "      <th>SUV</th>\n",
              "      <td>10994</td>\n",
              "    </tr>\n",
              "    <tr>\n",
              "      <th>truck</th>\n",
              "      <td>10268</td>\n",
              "    </tr>\n",
              "    <tr>\n",
              "      <th>pickup</th>\n",
              "      <td>5814</td>\n",
              "    </tr>\n",
              "    <tr>\n",
              "      <th>coupe</th>\n",
              "      <td>1856</td>\n",
              "    </tr>\n",
              "    <tr>\n",
              "      <th>wagon</th>\n",
              "      <td>1360</td>\n",
              "    </tr>\n",
              "    <tr>\n",
              "      <th>mini-van</th>\n",
              "      <td>1047</td>\n",
              "    </tr>\n",
              "    <tr>\n",
              "      <th>hatchback</th>\n",
              "      <td>930</td>\n",
              "    </tr>\n",
              "    <tr>\n",
              "      <th>van</th>\n",
              "      <td>522</td>\n",
              "    </tr>\n",
              "    <tr>\n",
              "      <th>convertible</th>\n",
              "      <td>317</td>\n",
              "    </tr>\n",
              "    <tr>\n",
              "      <th>other</th>\n",
              "      <td>221</td>\n",
              "    </tr>\n",
              "    <tr>\n",
              "      <th>offroad</th>\n",
              "      <td>165</td>\n",
              "    </tr>\n",
              "    <tr>\n",
              "      <th>bus</th>\n",
              "      <td>21</td>\n",
              "    </tr>\n",
              "  </tbody>\n",
              "</table>\n",
              "</div>"
            ],
            "text/plain": [
              "             days_listed\n",
              "type                    \n",
              "sedan              11132\n",
              "SUV                10994\n",
              "truck              10268\n",
              "pickup              5814\n",
              "coupe               1856\n",
              "wagon               1360\n",
              "mini-van            1047\n",
              "hatchback            930\n",
              "van                  522\n",
              "convertible          317\n",
              "other                221\n",
              "offroad              165\n",
              "bus                   21"
            ]
          },
          "execution_count": 393,
          "metadata": {},
          "output_type": "execute_result"
        }
      ],
      "source": [
        "# cantida de anuncios por vehiculos\n",
        "new_df.query('5 <= days_listed <= 100').pivot_table(\n",
        "    index='type', values = 'days_listed', aggfunc = 'count').sort_values(by=\"days_listed\", ascending=False)"
      ]
    },
    {
      "cell_type": "code",
      "execution_count": null,
      "metadata": {
        "scrolled": true,
        "id": "vhXVfJUhp-3f",
        "outputId": "8a374813-8dbb-47c5-8402-3cac58965ac7"
      },
      "outputs": [
        {
          "data": {
            "image/png": "[encoded data removed]",
            "text/plain": [
              "<Figure size 432x288 with 1 Axes>"
            ]
          },
          "metadata": {
            "needs_background": "light"
          },
          "output_type": "display_data"
        }
      ],
      "source": [
        "vehicles_stat.sort_values(by='vehiculos',ascending = True).plot(x='type', y='vehiculos', title='Dependencia entre anuncios y vehiculos',kind='bar',grid=True);"
      ]
    },
    {
      "cell_type": "markdown",
      "metadata": {
        "id": "novEpW3vp-3f"
      },
      "source": [
        "Después de analizar los datos, las categorías de vehículos con más anuncios son SUV y Sedan."
      ]
    },
    {
      "cell_type": "markdown",
      "metadata": {
        "id": "P1Qasdnep-3f"
      },
      "source": [
        "## Factores de precio"
      ]
    },
    {
      "cell_type": "code",
      "execution_count": null,
      "metadata": {
        "id": "wgzA3SVAp-3f",
        "outputId": "48cc0c7a-fb89-4194-d3ce-2ba21293c456"
      },
      "outputs": [
        {
          "data": {
            "text/html": [
              "<div>\n",
              "<style scoped>\n",
              "    .dataframe tbody tr th:only-of-type {\n",
              "        vertical-align: middle;\n",
              "    }\n",
              "\n",
              "    .dataframe tbody tr th {\n",
              "        vertical-align: top;\n",
              "    }\n",
              "\n",
              "    .dataframe thead th {\n",
              "        text-align: right;\n",
              "    }\n",
              "</style>\n",
              "<table border=\"1\" class=\"dataframe\">\n",
              "  <thead>\n",
              "    <tr style=\"text-align: right;\">\n",
              "      <th></th>\n",
              "      <th>price</th>\n",
              "      <th>model_year</th>\n",
              "      <th>model</th>\n",
              "      <th>condition</th>\n",
              "      <th>cylinders</th>\n",
              "      <th>fuel</th>\n",
              "      <th>odometer</th>\n",
              "      <th>transmission</th>\n",
              "      <th>type</th>\n",
              "      <th>paint_color</th>\n",
              "      <th>is_4wd</th>\n",
              "      <th>date_posted</th>\n",
              "      <th>days_listed</th>\n",
              "      <th>dow</th>\n",
              "      <th>week</th>\n",
              "      <th>month</th>\n",
              "      <th>year</th>\n",
              "      <th>age_of_car</th>\n",
              "      <th>avg_miles_year</th>\n",
              "    </tr>\n",
              "  </thead>\n",
              "  <tbody>\n",
              "    <tr>\n",
              "      <th>0</th>\n",
              "      <td>9400</td>\n",
              "      <td>2011</td>\n",
              "      <td>bmw x5</td>\n",
              "      <td>2</td>\n",
              "      <td>6</td>\n",
              "      <td>gas</td>\n",
              "      <td>145000</td>\n",
              "      <td>automatic</td>\n",
              "      <td>SUV</td>\n",
              "      <td>others</td>\n",
              "      <td>True</td>\n",
              "      <td>2018-06-23</td>\n",
              "      <td>19</td>\n",
              "      <td>5</td>\n",
              "      <td>25</td>\n",
              "      <td>6</td>\n",
              "      <td>2018</td>\n",
              "      <td>8</td>\n",
              "      <td>18125</td>\n",
              "    </tr>\n",
              "    <tr>\n",
              "      <th>1</th>\n",
              "      <td>25500</td>\n",
              "      <td>2011</td>\n",
              "      <td>ford f-150</td>\n",
              "      <td>2</td>\n",
              "      <td>6</td>\n",
              "      <td>gas</td>\n",
              "      <td>88705</td>\n",
              "      <td>automatic</td>\n",
              "      <td>pickup</td>\n",
              "      <td>white</td>\n",
              "      <td>True</td>\n",
              "      <td>2018-10-19</td>\n",
              "      <td>50</td>\n",
              "      <td>4</td>\n",
              "      <td>42</td>\n",
              "      <td>10</td>\n",
              "      <td>2018</td>\n",
              "      <td>8</td>\n",
              "      <td>11088</td>\n",
              "    </tr>\n",
              "    <tr>\n",
              "      <th>2</th>\n",
              "      <td>5500</td>\n",
              "      <td>2013</td>\n",
              "      <td>hyundai sonata</td>\n",
              "      <td>4</td>\n",
              "      <td>4</td>\n",
              "      <td>gas</td>\n",
              "      <td>110000</td>\n",
              "      <td>automatic</td>\n",
              "      <td>sedan</td>\n",
              "      <td>red</td>\n",
              "      <td>False</td>\n",
              "      <td>2019-02-07</td>\n",
              "      <td>79</td>\n",
              "      <td>3</td>\n",
              "      <td>6</td>\n",
              "      <td>2</td>\n",
              "      <td>2019</td>\n",
              "      <td>7</td>\n",
              "      <td>15714</td>\n",
              "    </tr>\n",
              "    <tr>\n",
              "      <th>3</th>\n",
              "      <td>1500</td>\n",
              "      <td>2003</td>\n",
              "      <td>ford f-150</td>\n",
              "      <td>1</td>\n",
              "      <td>8</td>\n",
              "      <td>gas</td>\n",
              "      <td>181613</td>\n",
              "      <td>automatic</td>\n",
              "      <td>pickup</td>\n",
              "      <td>others</td>\n",
              "      <td>False</td>\n",
              "      <td>2019-03-22</td>\n",
              "      <td>9</td>\n",
              "      <td>4</td>\n",
              "      <td>12</td>\n",
              "      <td>3</td>\n",
              "      <td>2019</td>\n",
              "      <td>17</td>\n",
              "      <td>10683</td>\n",
              "    </tr>\n",
              "    <tr>\n",
              "      <th>4</th>\n",
              "      <td>14900</td>\n",
              "      <td>2017</td>\n",
              "      <td>chrysler 200</td>\n",
              "      <td>3</td>\n",
              "      <td>4</td>\n",
              "      <td>gas</td>\n",
              "      <td>80903</td>\n",
              "      <td>automatic</td>\n",
              "      <td>sedan</td>\n",
              "      <td>black</td>\n",
              "      <td>False</td>\n",
              "      <td>2019-04-02</td>\n",
              "      <td>28</td>\n",
              "      <td>1</td>\n",
              "      <td>14</td>\n",
              "      <td>4</td>\n",
              "      <td>2019</td>\n",
              "      <td>3</td>\n",
              "      <td>26967</td>\n",
              "    </tr>\n",
              "    <tr>\n",
              "      <th>...</th>\n",
              "      <td>...</td>\n",
              "      <td>...</td>\n",
              "      <td>...</td>\n",
              "      <td>...</td>\n",
              "      <td>...</td>\n",
              "      <td>...</td>\n",
              "      <td>...</td>\n",
              "      <td>...</td>\n",
              "      <td>...</td>\n",
              "      <td>...</td>\n",
              "      <td>...</td>\n",
              "      <td>...</td>\n",
              "      <td>...</td>\n",
              "      <td>...</td>\n",
              "      <td>...</td>\n",
              "      <td>...</td>\n",
              "      <td>...</td>\n",
              "      <td>...</td>\n",
              "      <td>...</td>\n",
              "    </tr>\n",
              "    <tr>\n",
              "      <th>51520</th>\n",
              "      <td>9249</td>\n",
              "      <td>2013</td>\n",
              "      <td>nissan maxima</td>\n",
              "      <td>4</td>\n",
              "      <td>6</td>\n",
              "      <td>gas</td>\n",
              "      <td>88136</td>\n",
              "      <td>automatic</td>\n",
              "      <td>sedan</td>\n",
              "      <td>black</td>\n",
              "      <td>False</td>\n",
              "      <td>2018-10-03</td>\n",
              "      <td>37</td>\n",
              "      <td>2</td>\n",
              "      <td>40</td>\n",
              "      <td>10</td>\n",
              "      <td>2018</td>\n",
              "      <td>6</td>\n",
              "      <td>14689</td>\n",
              "    </tr>\n",
              "    <tr>\n",
              "      <th>51521</th>\n",
              "      <td>2700</td>\n",
              "      <td>2002</td>\n",
              "      <td>honda civic</td>\n",
              "      <td>0</td>\n",
              "      <td>4</td>\n",
              "      <td>gas</td>\n",
              "      <td>181500</td>\n",
              "      <td>automatic</td>\n",
              "      <td>sedan</td>\n",
              "      <td>white</td>\n",
              "      <td>False</td>\n",
              "      <td>2018-11-14</td>\n",
              "      <td>22</td>\n",
              "      <td>2</td>\n",
              "      <td>46</td>\n",
              "      <td>11</td>\n",
              "      <td>2018</td>\n",
              "      <td>17</td>\n",
              "      <td>10676</td>\n",
              "    </tr>\n",
              "    <tr>\n",
              "      <th>51522</th>\n",
              "      <td>3950</td>\n",
              "      <td>2009</td>\n",
              "      <td>hyundai sonata</td>\n",
              "      <td>3</td>\n",
              "      <td>4</td>\n",
              "      <td>gas</td>\n",
              "      <td>128000</td>\n",
              "      <td>automatic</td>\n",
              "      <td>sedan</td>\n",
              "      <td>blue</td>\n",
              "      <td>False</td>\n",
              "      <td>2018-11-15</td>\n",
              "      <td>32</td>\n",
              "      <td>3</td>\n",
              "      <td>46</td>\n",
              "      <td>11</td>\n",
              "      <td>2018</td>\n",
              "      <td>10</td>\n",
              "      <td>12800</td>\n",
              "    </tr>\n",
              "    <tr>\n",
              "      <th>51523</th>\n",
              "      <td>7455</td>\n",
              "      <td>2013</td>\n",
              "      <td>toyota corolla</td>\n",
              "      <td>2</td>\n",
              "      <td>4</td>\n",
              "      <td>gas</td>\n",
              "      <td>139573</td>\n",
              "      <td>automatic</td>\n",
              "      <td>sedan</td>\n",
              "      <td>black</td>\n",
              "      <td>False</td>\n",
              "      <td>2018-07-02</td>\n",
              "      <td>71</td>\n",
              "      <td>0</td>\n",
              "      <td>27</td>\n",
              "      <td>7</td>\n",
              "      <td>2018</td>\n",
              "      <td>6</td>\n",
              "      <td>23262</td>\n",
              "    </tr>\n",
              "    <tr>\n",
              "      <th>51524</th>\n",
              "      <td>6300</td>\n",
              "      <td>2014</td>\n",
              "      <td>nissan altima</td>\n",
              "      <td>2</td>\n",
              "      <td>4</td>\n",
              "      <td>gas</td>\n",
              "      <td>129000</td>\n",
              "      <td>automatic</td>\n",
              "      <td>sedan</td>\n",
              "      <td>others</td>\n",
              "      <td>False</td>\n",
              "      <td>2018-06-05</td>\n",
              "      <td>10</td>\n",
              "      <td>1</td>\n",
              "      <td>23</td>\n",
              "      <td>6</td>\n",
              "      <td>2018</td>\n",
              "      <td>5</td>\n",
              "      <td>25800</td>\n",
              "    </tr>\n",
              "  </tbody>\n",
              "</table>\n",
              "<p>44647 rows × 19 columns</p>\n",
              "</div>"
            ],
            "text/plain": [
              "       price  model_year           model  condition  cylinders fuel  odometer  \\\n",
              "0       9400        2011          bmw x5          2          6  gas    145000   \n",
              "1      25500        2011      ford f-150          2          6  gas     88705   \n",
              "2       5500        2013  hyundai sonata          4          4  gas    110000   \n",
              "3       1500        2003      ford f-150          1          8  gas    181613   \n",
              "4      14900        2017    chrysler 200          3          4  gas     80903   \n",
              "...      ...         ...             ...        ...        ...  ...       ...   \n",
              "51520   9249        2013   nissan maxima          4          6  gas     88136   \n",
              "51521   2700        2002     honda civic          0          4  gas    181500   \n",
              "51522   3950        2009  hyundai sonata          3          4  gas    128000   \n",
              "51523   7455        2013  toyota corolla          2          4  gas    139573   \n",
              "51524   6300        2014   nissan altima          2          4  gas    129000   \n",
              "\n",
              "      transmission    type paint_color  is_4wd date_posted  days_listed  dow  \\\n",
              "0        automatic     SUV      others    True  2018-06-23           19    5   \n",
              "1        automatic  pickup       white    True  2018-10-19           50    4   \n",
              "2        automatic   sedan         red   False  2019-02-07           79    3   \n",
              "3        automatic  pickup      others   False  2019-03-22            9    4   \n",
              "4        automatic   sedan       black   False  2019-04-02           28    1   \n",
              "...            ...     ...         ...     ...         ...          ...  ...   \n",
              "51520    automatic   sedan       black   False  2018-10-03           37    2   \n",
              "51521    automatic   sedan       white   False  2018-11-14           22    2   \n",
              "51522    automatic   sedan        blue   False  2018-11-15           32    3   \n",
              "51523    automatic   sedan       black   False  2018-07-02           71    0   \n",
              "51524    automatic   sedan      others   False  2018-06-05           10    1   \n",
              "\n",
              "       week  month  year  age_of_car  avg_miles_year  \n",
              "0        25      6  2018           8           18125  \n",
              "1        42     10  2018           8           11088  \n",
              "2         6      2  2019           7           15714  \n",
              "3        12      3  2019          17           10683  \n",
              "4        14      4  2019           3           26967  \n",
              "...     ...    ...   ...         ...             ...  \n",
              "51520    40     10  2018           6           14689  \n",
              "51521    46     11  2018          17           10676  \n",
              "51522    46     11  2018          10           12800  \n",
              "51523    27      7  2018           6           23262  \n",
              "51524    23      6  2018           5           25800  \n",
              "\n",
              "[44647 rows x 19 columns]"
            ]
          },
          "execution_count": 395,
          "metadata": {},
          "output_type": "execute_result"
        }
      ],
      "source": [
        "popular_vehicles_filtered = new_df.query('5 <= days_listed <= 100')\n",
        "popular_vehicles_filtered"
      ]
    },
    {
      "cell_type": "code",
      "execution_count": null,
      "metadata": {
        "id": "u4Lul0vSp-3f",
        "outputId": "b62acf22-078d-45a1-be71-0a1b5b55e5a6"
      },
      "outputs": [
        {
          "name": "stdout",
          "output_type": "stream",
          "text": [
            "               price  age_of_car  odometer  condition\n",
            "price       1.000000   -0.509852 -0.406254   0.183362\n",
            "age_of_car -0.509852    1.000000  0.529047  -0.266868\n",
            "odometer   -0.406254    0.529047  1.000000  -0.303045\n",
            "condition   0.183362   -0.266868 -0.303045   1.000000\n"
          ]
        }
      ],
      "source": [
        "print(popular_vehicles_filtered[['price', 'age_of_car', 'odometer', 'transmission', 'paint_color', 'condition']].corr())"
      ]
    },
    {
      "cell_type": "code",
      "execution_count": null,
      "metadata": {
        "id": "AKvdq3xxp-3f",
        "outputId": "098dbc85-c232-4a80-82cd-b23fde93b393"
      },
      "outputs": [
        {
          "data": {
            "image/png": "[encoded data removed]",
            "text/plain": [
              "<Figure size 432x288 with 1 Axes>"
            ]
          },
          "metadata": {
            "needs_background": "light"
          },
          "output_type": "display_data"
        }
      ],
      "source": [
        "popular_vehicles_filtered.query('days_listed >= 50').plot.scatter(y= 'price', x= 'odometer', title= 'Correlación entre odometro y precio', alpha=0.05);"
      ]
    },
    {
      "cell_type": "code",
      "execution_count": null,
      "metadata": {
        "id": "CzIEC2Q5p-3f",
        "outputId": "d0b22cba-fb59-4347-b913-74a6ffea794e"
      },
      "outputs": [
        {
          "data": {
            "image/png": "[encoded data removed]",
            "text/plain": [
              "<Figure size 432x288 with 1 Axes>"
            ]
          },
          "metadata": {
            "needs_background": "light"
          },
          "output_type": "display_data"
        }
      ],
      "source": [
        "popular_vehicles_filtered.query('days_listed >= 50').plot.scatter(y= 'price', x= 'age_of_car', title= 'Correlación entre edad del vehiculo y precio', alpha=0.05);"
      ]
    },
    {
      "cell_type": "markdown",
      "metadata": {
        "id": "N96BDECVp-3g"
      },
      "source": [
        "Aqui al analizar el gráfico se puede saber que a mayor cantidad de años del vehículo menor es su precio."
      ]
    },
    {
      "cell_type": "code",
      "execution_count": null,
      "metadata": {
        "id": "HqqWokvNp-3g",
        "outputId": "068e5d73-2c2b-4288-8ad4-7342f13ff902"
      },
      "outputs": [
        {
          "data": {
            "image/png": "[encoded data removed]",
            "text/plain": [
              "<Figure size 432x288 with 1 Axes>"
            ]
          },
          "metadata": {
            "needs_background": "light"
          },
          "output_type": "display_data"
        }
      ],
      "source": [
        "(popular_vehicles_filtered.query('days_listed >= 50').boxplot(by='transmission', column='price'))\n",
        "plt.title('Gráfico de caja relación de price con transmisión')\n",
        "plt.show();"
      ]
    },
    {
      "cell_type": "markdown",
      "metadata": {
        "id": "qeAHIjJup-3g"
      },
      "source": [
        "Aqui podemos observar en el gráfico de caja, los vehículos automáticos son más caros que los vehículos de transmisión manual."
      ]
    },
    {
      "cell_type": "code",
      "execution_count": null,
      "metadata": {
        "id": "WXDtUl-Op-3g",
        "outputId": "66613e93-e7d9-4df8-b457-54d86f8a04a0"
      },
      "outputs": [
        {
          "data": {
            "image/png": "[encoded data removed]",
            "text/plain": [
              "<Figure size 576x432 with 1 Axes>"
            ]
          },
          "metadata": {
            "needs_background": "light"
          },
          "output_type": "display_data"
        }
      ],
      "source": [
        "(popular_vehicles_filtered.query('days_listed >= 50').boxplot(by='paint_color', column='price', figsize=(8,6)))\n",
        "plt.title('Gráfico de caja relación de price con color de vehículo')\n",
        "plt.show();"
      ]
    },
    {
      "cell_type": "markdown",
      "metadata": {
        "id": "qBxL_RJop-3g"
      },
      "source": [
        "Aqui podemos ver en el grafico que los colores amarillos y naranjo, son los vehículos más caros."
      ]
    },
    {
      "cell_type": "code",
      "execution_count": null,
      "metadata": {
        "id": "--3wxs7gp-3g",
        "outputId": "92e6d583-f383-4d98-8b9a-7ba236f68065"
      },
      "outputs": [
        {
          "data": {
            "image/png": "[encoded data removed]",
            "text/plain": [
              "<Figure size 432x288 with 1 Axes>"
            ]
          },
          "metadata": {
            "needs_background": "light"
          },
          "output_type": "display_data"
        }
      ],
      "source": [
        "popular_vehicles_filtered.query('days_listed >= 50').plot.scatter(y= 'price', x= 'condition', title= 'Correlación entre condición y precio', alpha=0.05);"
      ]
    },
    {
      "cell_type": "markdown",
      "metadata": {
        "id": "UjJpaUtrp-3g"
      },
      "source": [
        "Podemos concluir que los vehículos que están en estados buenos en general, Son los con mayor precio. si bien la condición 5(new)al no figurar en los precios más altos nos da a entender que este tipo de vehículos no se compran a traves de anuncios. Para las condiciones más deplorables(0 y 1) sus precios son más bajos."
      ]
    },
    {
      "cell_type": "markdown",
      "metadata": {
        "id": "i5NhoDDrp-3h"
      },
      "source": [
        "## Conclusión general"
      ]
    },
    {
      "cell_type": "markdown",
      "metadata": {
        "id": "OCiEhxaIp-3h"
      },
      "source": [
        "# 1-El gráfico de correlación con el kilometraje muestra una correlación negativa, a mayor kilometraje, menor es el precio.\n",
        "\n",
        "2-El gráfico de correlación de la edad del vehículo con el precio. Podemos ver que a medida que aumenta la edad de un vehículo, el precio disminuye. Por el contrario, la gráfica del precio indica que mientras más nuevo es el modelo del vehículo más aumenta el precio.\n",
        "\n",
        "3-El estado del vehículo también afecta al precio como pudimos ver en los datos, los vehículos con características de buenas, excelentes y como nuevas, tienen un valor más alto que en otras condiciones.\n",
        "\n",
        "4-El tipo de transmisión del vehículo también afecta el precio del vehículo, como se puede ver en el gráfico de caja de correlación del tipo de transmisión, podemos afirmar que los vehículos de transmisión automática son más caros que los vehículos de transmisión manual.\n",
        "\n",
        "5-El color del vehículo, no afecta significativamente en el precio del vehículo, debido que no existe una correlación entre el color y el precio\n",
        "\n",
        "  Se realizó lo siguiente:\n",
        "    \n",
        "-Primero se analizaron los datos ausentes de cada columna del df. Después se sacó el % de esos valores ausentes por columna, llegando a la conclusión que los datos ausentes de las columnas con menos %, \"model_year\" y \"cylinders\", se imputaron por la media . Las otras 3 columnas se transformaron los valores ya que él % de ausentes era mayor\n",
        "\n",
        "-Luego se trabajó cambiando las columnas con tipo float a int para realizar un mejor análisis.\n",
        "\n",
        "-Luego en la columna \"date_posted\", se cambió de tipo objeto a datatime. Además, creamos columnas de día de la semana, semana y mes de cuando fue publicado el anuncio\n",
        "\n",
        "-Luego se crearon columnas de \"age_of_car\" y \"avg_odometer_year\" y se cambiaron los parámetros de la columna \"condition\" por valores numéricos. En la columna \"avg_odometer_year\" aparecieron valores inf, por lo que los cambiamos a NaN y posteriormente cambiamos los NaN a valores 0.\n",
        "\n",
        "-Se realizaron histogramas de las columnas a analizar para tener una vista general. Luego, se hicieron diferentes histogramas para analizar los valores atípicos. Se evaluaron los valores atípicos con gráficos de caja y se empezó a trabajar con los valores filtrados sin valores atípicos.\n",
        "\n",
        "-comenzamos a trabajar con los días de publicación en nuestro nuevo dataframe, y comparamos con histogramas entre el antiguo dataframe y el nuevo.\n",
        "\n",
        "-Concluimos que con el nuevo dataframe, que la media de los días de anuncio era de 39 días, por lo que empezamos a trabajar desde ahí.\n",
        "\n",
        "-Comenzamos a ver la correlación entre el precio del vehículo con las columnas de edad, millaje, condición, tipo de transmisión y color del vehículo, teniendo solo en cuenta los vehículos con más de 50 anuncios.\n"
      ]
    }
  ],
  "metadata": {
    "ExecuteTimeLog": [
      {
        "duration": 828,
        "start_time": "2021-11-16T09:21:11.304Z"
      },
      {
        "duration": 893,
        "start_time": "2021-11-16T09:21:17.728Z"
      },
      {
        "duration": 1150,
        "start_time": "2021-11-16T09:21:29.568Z"
      },
      {
        "duration": 3,
        "start_time": "2021-11-16T09:24:14.495Z"
      },
      {
        "duration": 120,
        "start_time": "2021-11-16T09:24:46.630Z"
      },
      {
        "duration": 3,
        "start_time": "2021-11-16T09:28:27.882Z"
      },
      {
        "duration": 4,
        "start_time": "2021-11-16T09:29:54.281Z"
      },
      {
        "duration": 3,
        "start_time": "2021-11-16T09:30:45.936Z"
      },
      {
        "duration": 4,
        "start_time": "2021-11-16T09:31:06.300Z"
      },
      {
        "duration": 113,
        "start_time": "2021-11-16T09:31:37.208Z"
      },
      {
        "duration": 143,
        "start_time": "2021-11-16T09:31:48.656Z"
      },
      {
        "duration": 98,
        "start_time": "2021-11-16T09:31:55.678Z"
      },
      {
        "duration": 3,
        "start_time": "2021-11-16T09:32:08.535Z"
      },
      {
        "duration": 111,
        "start_time": "2021-11-16T09:32:10.120Z"
      },
      {
        "duration": 3,
        "start_time": "2021-11-16T09:32:15.732Z"
      },
      {
        "duration": 4,
        "start_time": "2021-11-16T09:32:29.423Z"
      },
      {
        "duration": 3,
        "start_time": "2021-11-16T10:03:03.074Z"
      },
      {
        "duration": 3,
        "start_time": "2021-11-16T10:10:01.288Z"
      },
      {
        "duration": 3,
        "start_time": "2021-11-16T10:10:46.923Z"
      },
      {
        "duration": 121,
        "start_time": "2021-11-16T10:37:46.494Z"
      },
      {
        "duration": 125,
        "start_time": "2021-11-16T10:38:20.632Z"
      },
      {
        "duration": 112,
        "start_time": "2021-11-16T10:46:53.001Z"
      },
      {
        "duration": 110,
        "start_time": "2021-11-16T10:48:25.775Z"
      },
      {
        "duration": 3,
        "start_time": "2021-11-16T10:50:18.720Z"
      },
      {
        "duration": 4,
        "start_time": "2021-11-16T10:50:37.649Z"
      },
      {
        "duration": 2,
        "start_time": "2021-11-16T10:50:51.884Z"
      },
      {
        "duration": 3,
        "start_time": "2021-11-16T10:51:56.237Z"
      },
      {
        "duration": 101,
        "start_time": "2021-11-16T10:53:13.791Z"
      },
      {
        "duration": 3,
        "start_time": "2021-11-16T10:55:59.186Z"
      },
      {
        "duration": 3,
        "start_time": "2021-11-16T10:56:10.751Z"
      },
      {
        "duration": 3,
        "start_time": "2021-11-16T10:56:49.038Z"
      },
      {
        "duration": 3,
        "start_time": "2021-11-16T10:56:49.174Z"
      },
      {
        "duration": 4,
        "start_time": "2021-11-16T10:56:49.414Z"
      },
      {
        "duration": 3,
        "start_time": "2021-11-16T10:56:49.680Z"
      },
      {
        "duration": 3,
        "start_time": "2021-11-16T10:56:50.370Z"
      },
      {
        "duration": 114,
        "start_time": "2021-11-16T10:59:34.518Z"
      },
      {
        "duration": 3,
        "start_time": "2021-11-16T11:01:41.201Z"
      },
      {
        "duration": 116,
        "start_time": "2021-11-16T11:01:48.754Z"
      },
      {
        "duration": 3,
        "start_time": "2021-11-16T11:02:16.685Z"
      },
      {
        "duration": 3,
        "start_time": "2021-11-16T11:02:19.479Z"
      },
      {
        "duration": 3,
        "start_time": "2021-11-16T11:02:47.067Z"
      },
      {
        "duration": 3,
        "start_time": "2021-11-16T11:02:49.353Z"
      },
      {
        "duration": 3,
        "start_time": "2021-11-16T11:03:07.835Z"
      },
      {
        "duration": 3,
        "start_time": "2021-11-16T11:03:07.953Z"
      },
      {
        "duration": 112,
        "start_time": "2021-11-16T11:07:52.072Z"
      },
      {
        "duration": 187,
        "start_time": "2021-11-16T11:09:23.468Z"
      },
      {
        "duration": 4,
        "start_time": "2021-11-16T11:10:01.455Z"
      },
      {
        "duration": 3,
        "start_time": "2021-11-16T11:10:05.069Z"
      },
      {
        "duration": 4,
        "start_time": "2021-11-16T11:10:13.376Z"
      },
      {
        "duration": 3,
        "start_time": "2021-11-16T11:10:14.434Z"
      },
      {
        "duration": 3,
        "start_time": "2021-11-16T11:10:22.853Z"
      },
      {
        "duration": 4,
        "start_time": "2021-11-16T11:27:29.279Z"
      },
      {
        "duration": 4,
        "start_time": "2021-11-16T11:29:08.919Z"
      },
      {
        "duration": 118,
        "start_time": "2021-11-16T11:29:46.703Z"
      },
      {
        "duration": 437,
        "start_time": "2021-11-16T11:36:02.181Z"
      },
      {
        "duration": 157,
        "start_time": "2021-11-16T11:36:14.388Z"
      },
      {
        "duration": 207,
        "start_time": "2021-11-16T11:47:15.898Z"
      },
      {
        "duration": 3,
        "start_time": "2021-11-16T11:53:52.092Z"
      },
      {
        "duration": 3,
        "start_time": "2021-11-16T11:53:52.236Z"
      },
      {
        "duration": 3,
        "start_time": "2021-11-16T11:59:12.005Z"
      },
      {
        "duration": 112,
        "start_time": "2021-11-16T12:00:33.446Z"
      },
      {
        "duration": 3,
        "start_time": "2021-11-16T12:02:14.453Z"
      },
      {
        "duration": 3,
        "start_time": "2021-11-16T12:02:39.512Z"
      },
      {
        "duration": 106,
        "start_time": "2021-11-16T12:03:03.460Z"
      }
    ],
    "kernelspec": {
      "display_name": "Python 3 (ipykernel)",
      "language": "python",
      "name": "python3"
    },
    "language_info": {
      "codemirror_mode": {
        "name": "ipython",
        "version": 3
      },
      "file_extension": ".py",
      "mimetype": "text/x-python",
      "name": "python",
      "nbconvert_exporter": "python",
      "pygments_lexer": "ipython3",
      "version": "3.9.5"
    },
    "toc": {
      "base_numbering": 1,
      "nav_menu": {},
      "number_sections": true,
      "sideBar": true,
      "skip_h1_title": true,
      "title_cell": "Table of Contents",
      "title_sidebar": "Contents",
      "toc_cell": false,
      "toc_position": {
        "height": "403px",
        "left": "135px",
        "top": "111.125px",
        "width": "215px"
      },
      "toc_section_display": true,
      "toc_window_display": true
    },
    "colab": {
      "provenance": []
    }
  },
  "nbformat": 4,
  "nbformat_minor": 0
}