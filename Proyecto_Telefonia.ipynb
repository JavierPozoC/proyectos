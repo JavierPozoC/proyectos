{
  "cells": [
    {
      "cell_type": "markdown",
      "metadata": {
        "id": "a5nH47Mj4YIE"
      },
      "source": [
        "# Descripción del proyecto\n",
        "El servicio de telefonía virtual CallMeMaybe está desarrollando una nueva función que brindará a los supervisores y las supervisores información sobre los operadores menos eficaces. \n",
        "\n",
        "Se considera que un operador es ineficaz si tiene una gran cantidad de llamadas entrantes perdidas (internas y externas) y un tiempo de espera prolongado para las llamadas entrantes. Además, si se supone que un operador debe realizar llamadas salientes, un número reducido de ellas también será un signo de ineficacia."
      ]
    },
    {
      "cell_type": "markdown",
      "metadata": {
        "id": "cfe_UukU4Zy_"
      },
      "source": [
        "# Objetivo:  \n",
        "Identificar los operadores menos eficaces.\n",
        "\n",
        "# Etapas \n",
        " \n",
        "El proyecto consistirá en 4 etapas:\n",
        " 1. Lleva a cabo el análisis exploratorio de datos\n",
        " 2. Identificar operadores ineficaces\n",
        " 3. Prueba las hipótesis estadísticas\n",
        " 4. Entregar la conclusión general"
      ]
    },
    {
      "cell_type": "markdown",
      "metadata": {
        "id": "EQw3XqS_6AXP"
      },
      "source": [
        "# Descripción de los datos\n",
        "\n",
        "El dataset comprimido `telecom_dataset_us.csv` contiene las siguientes columnas:\n",
        "\n",
        "- `user_id`: ID de la cuenta de cliente\n",
        "- `date`: fecha en la que se recuperaron las estadísticas\n",
        "- `direction`: \"dirección\" de llamada (`out` para saliente, `in` para entrante)\n",
        "- `internal`: si la llamada fue interna (entre los operadores de un cliente o clienta)\n",
        "- `operator_id`: identificador del operador\n",
        "- `is_missed_call`: si fue una llamada perdida\n",
        "- `calls_count`: número de llamadas\n",
        "- `call_duration`: duración de la llamada (sin incluir el tiempo de espera)\n",
        "- `total_call_duration`: duración de la llamada (incluido el tiempo de espera)\n",
        "\n",
        " \n",
        "\n",
        "El conjunto de datos `telecom_clients_us.csv` tiene las siguientes columnas:\n",
        "\n",
        "- `user_id`: ID de usuario/a\n",
        "- `tariff_plan`: tarifa actual de la clientela\n",
        "- `date_start`: fecha de registro de la clientela\n",
        "\n"
      ]
    },
    {
      "cell_type": "markdown",
      "metadata": {
        "id": "vvhTblPv7Dxl"
      },
      "source": [
        "# Etapa 1 Lleva a cabo el análisis exploratorio de datos"
      ]
    },
    {
      "cell_type": "code",
      "execution_count": null,
      "metadata": {
        "id": "zVIbLm3vEFGO"
      },
      "outputs": [],
      "source": [
        "import pandas as pd\n",
        "import seaborn as sns\n",
        "import matplotlib.pyplot as plt\n",
        "import plotly.express as px\n",
        "from plotly import graph_objects as go\n",
        "import scipy.stats as stats\n",
        "import math as mth\n",
        "from scipy import stats as st\n",
        "import numpy as np\n",
        "from scipy.stats import ttest_1samp"
      ]
    },
    {
      "cell_type": "code",
      "execution_count": null,
      "metadata": {
        "id": "Ai6qin_fJvgI"
      },
      "outputs": [],
      "source": [
        "cliente = pd.read_csv(\"/content/telecom_clients_us.csv\", parse_dates=['date_start'] )\n",
        "data = pd.read_csv(\"/content/telecom_dataset_us.csv\", parse_dates=['date'] )"
      ]
    },
    {
      "cell_type": "markdown",
      "metadata": {
        "id": "bURA9EpXsIh4"
      },
      "source": [
        "## 1.2 Visualización de Datos "
      ]
    },
    {
      "cell_type": "markdown",
      "metadata": {
        "id": "S_CZ8kTHKrjy"
      },
      "source": [
        "# Cliente"
      ]
    },
    {
      "cell_type": "code",
      "execution_count": null,
      "metadata": {
        "colab": {
          "base_uri": "https://localhost:8080/",
          "height": 464
        },
        "id": "msJy_6xCNfyl",
        "outputId": "5fe51ab4-d5ed-4b7e-e43f-aa1f79713457"
      },
      "outputs": [
        {
          "name": "stdout",
          "output_type": "stream",
          "text": [
            "<class 'pandas.core.frame.DataFrame'>\n",
            "RangeIndex: 732 entries, 0 to 731\n",
            "Data columns (total 3 columns):\n",
            " #   Column       Non-Null Count  Dtype         \n",
            "---  ------       --------------  -----         \n",
            " 0   user_id      732 non-null    int64         \n",
            " 1   tariff_plan  732 non-null    object        \n",
            " 2   date_start   732 non-null    datetime64[ns]\n",
            "dtypes: datetime64[ns](1), int64(1), object(1)\n",
            "memory usage: 17.3+ KB\n",
            "None\n",
            "-----------------------------------------------------------------------------------\n",
            "Datos duplicados 0\n",
            "-----------------------------------------------------------------------------------\n"
          ]
        },
        {
          "data": {
            "text/html": [
              "\n",
              "  <div id=\"df-82b0e906-a93a-4f5d-a7b5-7a27ea94e1a9\">\n",
              "    <div class=\"colab-df-container\">\n",
              "      <div>\n",
              "<style scoped>\n",
              "    .dataframe tbody tr th:only-of-type {\n",
              "        vertical-align: middle;\n",
              "    }\n",
              "\n",
              "    .dataframe tbody tr th {\n",
              "        vertical-align: top;\n",
              "    }\n",
              "\n",
              "    .dataframe thead th {\n",
              "        text-align: right;\n",
              "    }\n",
              "</style>\n",
              "<table border=\"1\" class=\"dataframe\">\n",
              "  <thead>\n",
              "    <tr style=\"text-align: right;\">\n",
              "      <th></th>\n",
              "      <th>user_id</th>\n",
              "      <th>tariff_plan</th>\n",
              "      <th>date_start</th>\n",
              "    </tr>\n",
              "  </thead>\n",
              "  <tbody>\n",
              "    <tr>\n",
              "      <th>0</th>\n",
              "      <td>166713</td>\n",
              "      <td>A</td>\n",
              "      <td>2019-08-15</td>\n",
              "    </tr>\n",
              "    <tr>\n",
              "      <th>1</th>\n",
              "      <td>166901</td>\n",
              "      <td>A</td>\n",
              "      <td>2019-08-23</td>\n",
              "    </tr>\n",
              "    <tr>\n",
              "      <th>2</th>\n",
              "      <td>168527</td>\n",
              "      <td>A</td>\n",
              "      <td>2019-10-29</td>\n",
              "    </tr>\n",
              "    <tr>\n",
              "      <th>3</th>\n",
              "      <td>167097</td>\n",
              "      <td>A</td>\n",
              "      <td>2019-09-01</td>\n",
              "    </tr>\n",
              "    <tr>\n",
              "      <th>4</th>\n",
              "      <td>168193</td>\n",
              "      <td>A</td>\n",
              "      <td>2019-10-16</td>\n",
              "    </tr>\n",
              "  </tbody>\n",
              "</table>\n",
              "</div>\n",
              "      <button class=\"colab-df-convert\" onclick=\"convertToInteractive('df-82b0e906-a93a-4f5d-a7b5-7a27ea94e1a9')\"\n",
              "              title=\"Convert this dataframe to an interactive table.\"\n",
              "              style=\"display:none;\">\n",
              "        \n",
              "  <svg xmlns=\"http://www.w3.org/2000/svg\" height=\"24px\"viewBox=\"0 0 24 24\"\n",
              "       width=\"24px\">\n",
              "    <path d=\"M0 0h24v24H0V0z\" fill=\"none\"/>\n",
              "    <path d=\"M18.56 5.44l.94 2.06.94-2.06 2.06-.94-2.06-.94-.94-2.06-.94 2.06-2.06.94zm-11 1L8.5 8.5l.94-2.06 2.06-.94-2.06-.94L8.5 2.5l-.94 2.06-2.06.94zm10 10l.94 2.06.94-2.06 2.06-.94-2.06-.94-.94-2.06-.94 2.06-2.06.94z\"/><path d=\"M17.41 7.96l-1.37-1.37c-.4-.4-.92-.59-1.43-.59-.52 0-1.04.2-1.43.59L10.3 9.45l-7.72 7.72c-.78.78-.78 2.05 0 2.83L4 21.41c.39.39.9.59 1.41.59.51 0 1.02-.2 1.41-.59l7.78-7.78 2.81-2.81c.8-.78.8-2.07 0-2.86zM5.41 20L4 18.59l7.72-7.72 1.47 1.35L5.41 20z\"/>\n",
              "  </svg>\n",
              "      </button>\n",
              "      \n",
              "  <style>\n",
              "    .colab-df-container {\n",
              "      display:flex;\n",
              "      flex-wrap:wrap;\n",
              "      gap: 12px;\n",
              "    }\n",
              "\n",
              "    .colab-df-convert {\n",
              "      background-color: #E8F0FE;\n",
              "      border: none;\n",
              "      border-radius: 50%;\n",
              "      cursor: pointer;\n",
              "      display: none;\n",
              "      fill: #1967D2;\n",
              "      height: 32px;\n",
              "      padding: 0 0 0 0;\n",
              "      width: 32px;\n",
              "    }\n",
              "\n",
              "    .colab-df-convert:hover {\n",
              "      background-color: #E2EBFA;\n",
              "      box-shadow: 0px 1px 2px rgba(60, 64, 67, 0.3), 0px 1px 3px 1px rgba(60, 64, 67, 0.15);\n",
              "      fill: #174EA6;\n",
              "    }\n",
              "\n",
              "    [theme=dark] .colab-df-convert {\n",
              "      background-color: #3B4455;\n",
              "      fill: #D2E3FC;\n",
              "    }\n",
              "\n",
              "    [theme=dark] .colab-df-convert:hover {\n",
              "      background-color: #434B5C;\n",
              "      box-shadow: 0px 1px 3px 1px rgba(0, 0, 0, 0.15);\n",
              "      filter: drop-shadow(0px 1px 2px rgba(0, 0, 0, 0.3));\n",
              "      fill: #FFFFFF;\n",
              "    }\n",
              "  </style>\n",
              "\n",
              "      <script>\n",
              "        const buttonEl =\n",
              "          document.querySelector('#df-82b0e906-a93a-4f5d-a7b5-7a27ea94e1a9 button.colab-df-convert');\n",
              "        buttonEl.style.display =\n",
              "          google.colab.kernel.accessAllowed ? 'block' : 'none';\n",
              "\n",
              "        async function convertToInteractive(key) {\n",
              "          const element = document.querySelector('#df-82b0e906-a93a-4f5d-a7b5-7a27ea94e1a9');\n",
              "          const dataTable =\n",
              "            await google.colab.kernel.invokeFunction('convertToInteractive',\n",
              "                                                     [key], {});\n",
              "          if (!dataTable) return;\n",
              "\n",
              "          const docLinkHtml = 'Like what you see? Visit the ' +\n",
              "            '<a target=\"_blank\" href=https://colab.research.google.com/notebooks/data_table.ipynb>data table notebook</a>'\n",
              "            + ' to learn more about interactive tables.';\n",
              "          element.innerHTML = '';\n",
              "          dataTable['output_type'] = 'display_data';\n",
              "          await google.colab.output.renderOutput(dataTable, element);\n",
              "          const docLink = document.createElement('div');\n",
              "          docLink.innerHTML = docLinkHtml;\n",
              "          element.appendChild(docLink);\n",
              "        }\n",
              "      </script>\n",
              "    </div>\n",
              "  </div>\n",
              "  "
            ],
            "text/plain": [
              "   user_id tariff_plan date_start\n",
              "0   166713           A 2019-08-15\n",
              "1   166901           A 2019-08-23\n",
              "2   168527           A 2019-10-29\n",
              "3   167097           A 2019-09-01\n",
              "4   168193           A 2019-10-16"
            ]
          },
          "execution_count": 65,
          "metadata": {},
          "output_type": "execute_result"
        }
      ],
      "source": [
        "print(cliente.info())\n",
        "print('-----------------------------------------------------------------------------------')\n",
        "print('Datos duplicados',cliente.duplicated().sum())\n",
        "print('-----------------------------------------------------------------------------------')\n",
        "cliente.head()"
      ]
    },
    {
      "cell_type": "markdown",
      "metadata": {
        "id": "jY-QbvQZPiA9"
      },
      "source": [
        "# Data"
      ]
    },
    {
      "cell_type": "code",
      "execution_count": null,
      "metadata": {
        "colab": {
          "base_uri": "https://localhost:8080/"
        },
        "id": "oxxhQ9kDQAD3",
        "outputId": "2bf7db10-853c-44fb-c60f-31155eca57d5"
      },
      "outputs": [
        {
          "name": "stdout",
          "output_type": "stream",
          "text": [
            "<class 'pandas.core.frame.DataFrame'>\n",
            "RangeIndex: 53902 entries, 0 to 53901\n",
            "Data columns (total 9 columns):\n",
            " #   Column               Non-Null Count  Dtype                                \n",
            "---  ------               --------------  -----                                \n",
            " 0   user_id              53902 non-null  int64                                \n",
            " 1   date                 53902 non-null  datetime64[ns, pytz.FixedOffset(180)]\n",
            " 2   direction            53902 non-null  object                               \n",
            " 3   internal             53785 non-null  object                               \n",
            " 4   operator_id          45730 non-null  float64                              \n",
            " 5   is_missed_call       53902 non-null  bool                                 \n",
            " 6   calls_count          53902 non-null  int64                                \n",
            " 7   call_duration        53902 non-null  int64                                \n",
            " 8   total_call_duration  53902 non-null  int64                                \n",
            "dtypes: bool(1), datetime64[ns, pytz.FixedOffset(180)](1), float64(1), int64(4), object(2)\n",
            "memory usage: 3.3+ MB\n",
            "None\n",
            "-----------------------------------------------------------------------------------\n",
            "Datos duplicados 4900\n",
            "-----------------------------------------------------------------------------------\n"
          ]
        }
      ],
      "source": [
        "print(data.info())\n",
        "print('-----------------------------------------------------------------------------------')\n",
        "print('Datos duplicados',data.duplicated().sum())\n",
        "print('-----------------------------------------------------------------------------------')"
      ]
    },
    {
      "cell_type": "code",
      "execution_count": null,
      "metadata": {
        "colab": {
          "base_uri": "https://localhost:8080/",
          "height": 206
        },
        "id": "ooCIx3Uir9Ki",
        "outputId": "8780c818-136f-4bc0-f81c-80d7851c5740"
      },
      "outputs": [
        {
          "data": {
            "text/html": [
              "\n",
              "  <div id=\"df-ec05989f-8ce7-4e49-8d81-347d9c351a3a\">\n",
              "    <div class=\"colab-df-container\">\n",
              "      <div>\n",
              "<style scoped>\n",
              "    .dataframe tbody tr th:only-of-type {\n",
              "        vertical-align: middle;\n",
              "    }\n",
              "\n",
              "    .dataframe tbody tr th {\n",
              "        vertical-align: top;\n",
              "    }\n",
              "\n",
              "    .dataframe thead th {\n",
              "        text-align: right;\n",
              "    }\n",
              "</style>\n",
              "<table border=\"1\" class=\"dataframe\">\n",
              "  <thead>\n",
              "    <tr style=\"text-align: right;\">\n",
              "      <th></th>\n",
              "      <th>user_id</th>\n",
              "      <th>date</th>\n",
              "      <th>direction</th>\n",
              "      <th>internal</th>\n",
              "      <th>operator_id</th>\n",
              "      <th>is_missed_call</th>\n",
              "      <th>calls_count</th>\n",
              "      <th>call_duration</th>\n",
              "      <th>total_call_duration</th>\n",
              "    </tr>\n",
              "  </thead>\n",
              "  <tbody>\n",
              "    <tr>\n",
              "      <th>0</th>\n",
              "      <td>166377</td>\n",
              "      <td>2019-08-04 00:00:00+03:00</td>\n",
              "      <td>in</td>\n",
              "      <td>False</td>\n",
              "      <td>NaN</td>\n",
              "      <td>True</td>\n",
              "      <td>2</td>\n",
              "      <td>0</td>\n",
              "      <td>4</td>\n",
              "    </tr>\n",
              "    <tr>\n",
              "      <th>1</th>\n",
              "      <td>166377</td>\n",
              "      <td>2019-08-05 00:00:00+03:00</td>\n",
              "      <td>out</td>\n",
              "      <td>True</td>\n",
              "      <td>880022.0</td>\n",
              "      <td>True</td>\n",
              "      <td>3</td>\n",
              "      <td>0</td>\n",
              "      <td>5</td>\n",
              "    </tr>\n",
              "    <tr>\n",
              "      <th>2</th>\n",
              "      <td>166377</td>\n",
              "      <td>2019-08-05 00:00:00+03:00</td>\n",
              "      <td>out</td>\n",
              "      <td>True</td>\n",
              "      <td>880020.0</td>\n",
              "      <td>True</td>\n",
              "      <td>1</td>\n",
              "      <td>0</td>\n",
              "      <td>1</td>\n",
              "    </tr>\n",
              "    <tr>\n",
              "      <th>3</th>\n",
              "      <td>166377</td>\n",
              "      <td>2019-08-05 00:00:00+03:00</td>\n",
              "      <td>out</td>\n",
              "      <td>True</td>\n",
              "      <td>880020.0</td>\n",
              "      <td>False</td>\n",
              "      <td>1</td>\n",
              "      <td>10</td>\n",
              "      <td>18</td>\n",
              "    </tr>\n",
              "    <tr>\n",
              "      <th>4</th>\n",
              "      <td>166377</td>\n",
              "      <td>2019-08-05 00:00:00+03:00</td>\n",
              "      <td>out</td>\n",
              "      <td>False</td>\n",
              "      <td>880022.0</td>\n",
              "      <td>True</td>\n",
              "      <td>3</td>\n",
              "      <td>0</td>\n",
              "      <td>25</td>\n",
              "    </tr>\n",
              "  </tbody>\n",
              "</table>\n",
              "</div>\n",
              "      <button class=\"colab-df-convert\" onclick=\"convertToInteractive('df-ec05989f-8ce7-4e49-8d81-347d9c351a3a')\"\n",
              "              title=\"Convert this dataframe to an interactive table.\"\n",
              "              style=\"display:none;\">\n",
              "        \n",
              "  <svg xmlns=\"http://www.w3.org/2000/svg\" height=\"24px\"viewBox=\"0 0 24 24\"\n",
              "       width=\"24px\">\n",
              "    <path d=\"M0 0h24v24H0V0z\" fill=\"none\"/>\n",
              "    <path d=\"M18.56 5.44l.94 2.06.94-2.06 2.06-.94-2.06-.94-.94-2.06-.94 2.06-2.06.94zm-11 1L8.5 8.5l.94-2.06 2.06-.94-2.06-.94L8.5 2.5l-.94 2.06-2.06.94zm10 10l.94 2.06.94-2.06 2.06-.94-2.06-.94-.94-2.06-.94 2.06-2.06.94z\"/><path d=\"M17.41 7.96l-1.37-1.37c-.4-.4-.92-.59-1.43-.59-.52 0-1.04.2-1.43.59L10.3 9.45l-7.72 7.72c-.78.78-.78 2.05 0 2.83L4 21.41c.39.39.9.59 1.41.59.51 0 1.02-.2 1.41-.59l7.78-7.78 2.81-2.81c.8-.78.8-2.07 0-2.86zM5.41 20L4 18.59l7.72-7.72 1.47 1.35L5.41 20z\"/>\n",
              "  </svg>\n",
              "      </button>\n",
              "      \n",
              "  <style>\n",
              "    .colab-df-container {\n",
              "      display:flex;\n",
              "      flex-wrap:wrap;\n",
              "      gap: 12px;\n",
              "    }\n",
              "\n",
              "    .colab-df-convert {\n",
              "      background-color: #E8F0FE;\n",
              "      border: none;\n",
              "      border-radius: 50%;\n",
              "      cursor: pointer;\n",
              "      display: none;\n",
              "      fill: #1967D2;\n",
              "      height: 32px;\n",
              "      padding: 0 0 0 0;\n",
              "      width: 32px;\n",
              "    }\n",
              "\n",
              "    .colab-df-convert:hover {\n",
              "      background-color: #E2EBFA;\n",
              "      box-shadow: 0px 1px 2px rgba(60, 64, 67, 0.3), 0px 1px 3px 1px rgba(60, 64, 67, 0.15);\n",
              "      fill: #174EA6;\n",
              "    }\n",
              "\n",
              "    [theme=dark] .colab-df-convert {\n",
              "      background-color: #3B4455;\n",
              "      fill: #D2E3FC;\n",
              "    }\n",
              "\n",
              "    [theme=dark] .colab-df-convert:hover {\n",
              "      background-color: #434B5C;\n",
              "      box-shadow: 0px 1px 3px 1px rgba(0, 0, 0, 0.15);\n",
              "      filter: drop-shadow(0px 1px 2px rgba(0, 0, 0, 0.3));\n",
              "      fill: #FFFFFF;\n",
              "    }\n",
              "  </style>\n",
              "\n",
              "      <script>\n",
              "        const buttonEl =\n",
              "          document.querySelector('#df-ec05989f-8ce7-4e49-8d81-347d9c351a3a button.colab-df-convert');\n",
              "        buttonEl.style.display =\n",
              "          google.colab.kernel.accessAllowed ? 'block' : 'none';\n",
              "\n",
              "        async function convertToInteractive(key) {\n",
              "          const element = document.querySelector('#df-ec05989f-8ce7-4e49-8d81-347d9c351a3a');\n",
              "          const dataTable =\n",
              "            await google.colab.kernel.invokeFunction('convertToInteractive',\n",
              "                                                     [key], {});\n",
              "          if (!dataTable) return;\n",
              "\n",
              "          const docLinkHtml = 'Like what you see? Visit the ' +\n",
              "            '<a target=\"_blank\" href=https://colab.research.google.com/notebooks/data_table.ipynb>data table notebook</a>'\n",
              "            + ' to learn more about interactive tables.';\n",
              "          element.innerHTML = '';\n",
              "          dataTable['output_type'] = 'display_data';\n",
              "          await google.colab.output.renderOutput(dataTable, element);\n",
              "          const docLink = document.createElement('div');\n",
              "          docLink.innerHTML = docLinkHtml;\n",
              "          element.appendChild(docLink);\n",
              "        }\n",
              "      </script>\n",
              "    </div>\n",
              "  </div>\n",
              "  "
            ],
            "text/plain": [
              "   user_id                      date direction internal  operator_id  \\\n",
              "0   166377 2019-08-04 00:00:00+03:00        in    False          NaN   \n",
              "1   166377 2019-08-05 00:00:00+03:00       out     True     880022.0   \n",
              "2   166377 2019-08-05 00:00:00+03:00       out     True     880020.0   \n",
              "3   166377 2019-08-05 00:00:00+03:00       out     True     880020.0   \n",
              "4   166377 2019-08-05 00:00:00+03:00       out    False     880022.0   \n",
              "\n",
              "   is_missed_call  calls_count  call_duration  total_call_duration  \n",
              "0            True            2              0                    4  \n",
              "1            True            3              0                    5  \n",
              "2            True            1              0                    1  \n",
              "3           False            1             10                   18  \n",
              "4            True            3              0                   25  "
            ]
          },
          "execution_count": 67,
          "metadata": {},
          "output_type": "execute_result"
        }
      ],
      "source": [
        "data.head()"
      ]
    },
    {
      "cell_type": "markdown",
      "metadata": {
        "id": "6gA118mRscZC"
      },
      "source": [
        "## 1.2 Limpieza de Datos "
      ]
    },
    {
      "cell_type": "markdown",
      "metadata": {
        "id": "IRJYOb4j7Ben"
      },
      "source": [
        "- **Estudiar valores ausentes**\n"
      ]
    },
    {
      "cell_type": "code",
      "execution_count": null,
      "metadata": {
        "colab": {
          "base_uri": "https://localhost:8080/",
          "height": 423
        },
        "id": "_RdfjW_lqvRW",
        "outputId": "97f35d2d-e365-47c1-d1fc-0279772fe3b0"
      },
      "outputs": [
        {
          "data": {
            "text/html": [
              "\n",
              "  <div id=\"df-8bc7536e-1754-4945-bcd8-fdf25aef1cbb\">\n",
              "    <div class=\"colab-df-container\">\n",
              "      <div>\n",
              "<style scoped>\n",
              "    .dataframe tbody tr th:only-of-type {\n",
              "        vertical-align: middle;\n",
              "    }\n",
              "\n",
              "    .dataframe tbody tr th {\n",
              "        vertical-align: top;\n",
              "    }\n",
              "\n",
              "    .dataframe thead th {\n",
              "        text-align: right;\n",
              "    }\n",
              "</style>\n",
              "<table border=\"1\" class=\"dataframe\">\n",
              "  <thead>\n",
              "    <tr style=\"text-align: right;\">\n",
              "      <th></th>\n",
              "      <th>user_id</th>\n",
              "      <th>date</th>\n",
              "      <th>direction</th>\n",
              "      <th>internal</th>\n",
              "      <th>operator_id</th>\n",
              "      <th>is_missed_call</th>\n",
              "      <th>calls_count</th>\n",
              "      <th>call_duration</th>\n",
              "      <th>total_call_duration</th>\n",
              "    </tr>\n",
              "  </thead>\n",
              "  <tbody>\n",
              "    <tr>\n",
              "      <th>0</th>\n",
              "      <td>166377</td>\n",
              "      <td>2019-08-04 00:00:00+03:00</td>\n",
              "      <td>in</td>\n",
              "      <td>False</td>\n",
              "      <td>NaN</td>\n",
              "      <td>True</td>\n",
              "      <td>2</td>\n",
              "      <td>0</td>\n",
              "      <td>4</td>\n",
              "    </tr>\n",
              "    <tr>\n",
              "      <th>7</th>\n",
              "      <td>166377</td>\n",
              "      <td>2019-08-05 00:00:00+03:00</td>\n",
              "      <td>in</td>\n",
              "      <td>False</td>\n",
              "      <td>NaN</td>\n",
              "      <td>True</td>\n",
              "      <td>6</td>\n",
              "      <td>0</td>\n",
              "      <td>35</td>\n",
              "    </tr>\n",
              "    <tr>\n",
              "      <th>9</th>\n",
              "      <td>166377</td>\n",
              "      <td>2019-08-06 00:00:00+03:00</td>\n",
              "      <td>in</td>\n",
              "      <td>False</td>\n",
              "      <td>NaN</td>\n",
              "      <td>True</td>\n",
              "      <td>4</td>\n",
              "      <td>0</td>\n",
              "      <td>62</td>\n",
              "    </tr>\n",
              "    <tr>\n",
              "      <th>17</th>\n",
              "      <td>166377</td>\n",
              "      <td>2019-08-07 00:00:00+03:00</td>\n",
              "      <td>in</td>\n",
              "      <td>False</td>\n",
              "      <td>NaN</td>\n",
              "      <td>True</td>\n",
              "      <td>2</td>\n",
              "      <td>0</td>\n",
              "      <td>24</td>\n",
              "    </tr>\n",
              "    <tr>\n",
              "      <th>27</th>\n",
              "      <td>166377</td>\n",
              "      <td>2019-08-12 00:00:00+03:00</td>\n",
              "      <td>in</td>\n",
              "      <td>False</td>\n",
              "      <td>NaN</td>\n",
              "      <td>True</td>\n",
              "      <td>2</td>\n",
              "      <td>0</td>\n",
              "      <td>34</td>\n",
              "    </tr>\n",
              "    <tr>\n",
              "      <th>...</th>\n",
              "      <td>...</td>\n",
              "      <td>...</td>\n",
              "      <td>...</td>\n",
              "      <td>...</td>\n",
              "      <td>...</td>\n",
              "      <td>...</td>\n",
              "      <td>...</td>\n",
              "      <td>...</td>\n",
              "      <td>...</td>\n",
              "    </tr>\n",
              "    <tr>\n",
              "      <th>53876</th>\n",
              "      <td>168601</td>\n",
              "      <td>2019-11-27 00:00:00+03:00</td>\n",
              "      <td>in</td>\n",
              "      <td>False</td>\n",
              "      <td>NaN</td>\n",
              "      <td>True</td>\n",
              "      <td>2</td>\n",
              "      <td>0</td>\n",
              "      <td>39</td>\n",
              "    </tr>\n",
              "    <tr>\n",
              "      <th>53880</th>\n",
              "      <td>168601</td>\n",
              "      <td>2019-11-28 00:00:00+03:00</td>\n",
              "      <td>in</td>\n",
              "      <td>False</td>\n",
              "      <td>NaN</td>\n",
              "      <td>True</td>\n",
              "      <td>1</td>\n",
              "      <td>0</td>\n",
              "      <td>19</td>\n",
              "    </tr>\n",
              "    <tr>\n",
              "      <th>53889</th>\n",
              "      <td>168603</td>\n",
              "      <td>2019-11-28 00:00:00+03:00</td>\n",
              "      <td>in</td>\n",
              "      <td>False</td>\n",
              "      <td>NaN</td>\n",
              "      <td>True</td>\n",
              "      <td>1</td>\n",
              "      <td>0</td>\n",
              "      <td>30</td>\n",
              "    </tr>\n",
              "    <tr>\n",
              "      <th>53893</th>\n",
              "      <td>168606</td>\n",
              "      <td>2019-11-08 00:00:00+03:00</td>\n",
              "      <td>in</td>\n",
              "      <td>False</td>\n",
              "      <td>NaN</td>\n",
              "      <td>True</td>\n",
              "      <td>6</td>\n",
              "      <td>0</td>\n",
              "      <td>121</td>\n",
              "    </tr>\n",
              "    <tr>\n",
              "      <th>53901</th>\n",
              "      <td>168606</td>\n",
              "      <td>2019-11-19 00:00:00+03:00</td>\n",
              "      <td>in</td>\n",
              "      <td>False</td>\n",
              "      <td>NaN</td>\n",
              "      <td>True</td>\n",
              "      <td>2</td>\n",
              "      <td>0</td>\n",
              "      <td>64</td>\n",
              "    </tr>\n",
              "  </tbody>\n",
              "</table>\n",
              "<p>8172 rows × 9 columns</p>\n",
              "</div>\n",
              "      <button class=\"colab-df-convert\" onclick=\"convertToInteractive('df-8bc7536e-1754-4945-bcd8-fdf25aef1cbb')\"\n",
              "              title=\"Convert this dataframe to an interactive table.\"\n",
              "              style=\"display:none;\">\n",
              "        \n",
              "  <svg xmlns=\"http://www.w3.org/2000/svg\" height=\"24px\"viewBox=\"0 0 24 24\"\n",
              "       width=\"24px\">\n",
              "    <path d=\"M0 0h24v24H0V0z\" fill=\"none\"/>\n",
              "    <path d=\"M18.56 5.44l.94 2.06.94-2.06 2.06-.94-2.06-.94-.94-2.06-.94 2.06-2.06.94zm-11 1L8.5 8.5l.94-2.06 2.06-.94-2.06-.94L8.5 2.5l-.94 2.06-2.06.94zm10 10l.94 2.06.94-2.06 2.06-.94-2.06-.94-.94-2.06-.94 2.06-2.06.94z\"/><path d=\"M17.41 7.96l-1.37-1.37c-.4-.4-.92-.59-1.43-.59-.52 0-1.04.2-1.43.59L10.3 9.45l-7.72 7.72c-.78.78-.78 2.05 0 2.83L4 21.41c.39.39.9.59 1.41.59.51 0 1.02-.2 1.41-.59l7.78-7.78 2.81-2.81c.8-.78.8-2.07 0-2.86zM5.41 20L4 18.59l7.72-7.72 1.47 1.35L5.41 20z\"/>\n",
              "  </svg>\n",
              "      </button>\n",
              "      \n",
              "  <style>\n",
              "    .colab-df-container {\n",
              "      display:flex;\n",
              "      flex-wrap:wrap;\n",
              "      gap: 12px;\n",
              "    }\n",
              "\n",
              "    .colab-df-convert {\n",
              "      background-color: #E8F0FE;\n",
              "      border: none;\n",
              "      border-radius: 50%;\n",
              "      cursor: pointer;\n",
              "      display: none;\n",
              "      fill: #1967D2;\n",
              "      height: 32px;\n",
              "      padding: 0 0 0 0;\n",
              "      width: 32px;\n",
              "    }\n",
              "\n",
              "    .colab-df-convert:hover {\n",
              "      background-color: #E2EBFA;\n",
              "      box-shadow: 0px 1px 2px rgba(60, 64, 67, 0.3), 0px 1px 3px 1px rgba(60, 64, 67, 0.15);\n",
              "      fill: #174EA6;\n",
              "    }\n",
              "\n",
              "    [theme=dark] .colab-df-convert {\n",
              "      background-color: #3B4455;\n",
              "      fill: #D2E3FC;\n",
              "    }\n",
              "\n",
              "    [theme=dark] .colab-df-convert:hover {\n",
              "      background-color: #434B5C;\n",
              "      box-shadow: 0px 1px 3px 1px rgba(0, 0, 0, 0.15);\n",
              "      filter: drop-shadow(0px 1px 2px rgba(0, 0, 0, 0.3));\n",
              "      fill: #FFFFFF;\n",
              "    }\n",
              "  </style>\n",
              "\n",
              "      <script>\n",
              "        const buttonEl =\n",
              "          document.querySelector('#df-8bc7536e-1754-4945-bcd8-fdf25aef1cbb button.colab-df-convert');\n",
              "        buttonEl.style.display =\n",
              "          google.colab.kernel.accessAllowed ? 'block' : 'none';\n",
              "\n",
              "        async function convertToInteractive(key) {\n",
              "          const element = document.querySelector('#df-8bc7536e-1754-4945-bcd8-fdf25aef1cbb');\n",
              "          const dataTable =\n",
              "            await google.colab.kernel.invokeFunction('convertToInteractive',\n",
              "                                                     [key], {});\n",
              "          if (!dataTable) return;\n",
              "\n",
              "          const docLinkHtml = 'Like what you see? Visit the ' +\n",
              "            '<a target=\"_blank\" href=https://colab.research.google.com/notebooks/data_table.ipynb>data table notebook</a>'\n",
              "            + ' to learn more about interactive tables.';\n",
              "          element.innerHTML = '';\n",
              "          dataTable['output_type'] = 'display_data';\n",
              "          await google.colab.output.renderOutput(dataTable, element);\n",
              "          const docLink = document.createElement('div');\n",
              "          docLink.innerHTML = docLinkHtml;\n",
              "          element.appendChild(docLink);\n",
              "        }\n",
              "      </script>\n",
              "    </div>\n",
              "  </div>\n",
              "  "
            ],
            "text/plain": [
              "       user_id                      date direction internal  operator_id  \\\n",
              "0       166377 2019-08-04 00:00:00+03:00        in    False          NaN   \n",
              "7       166377 2019-08-05 00:00:00+03:00        in    False          NaN   \n",
              "9       166377 2019-08-06 00:00:00+03:00        in    False          NaN   \n",
              "17      166377 2019-08-07 00:00:00+03:00        in    False          NaN   \n",
              "27      166377 2019-08-12 00:00:00+03:00        in    False          NaN   \n",
              "...        ...                       ...       ...      ...          ...   \n",
              "53876   168601 2019-11-27 00:00:00+03:00        in    False          NaN   \n",
              "53880   168601 2019-11-28 00:00:00+03:00        in    False          NaN   \n",
              "53889   168603 2019-11-28 00:00:00+03:00        in    False          NaN   \n",
              "53893   168606 2019-11-08 00:00:00+03:00        in    False          NaN   \n",
              "53901   168606 2019-11-19 00:00:00+03:00        in    False          NaN   \n",
              "\n",
              "       is_missed_call  calls_count  call_duration  total_call_duration  \n",
              "0                True            2              0                    4  \n",
              "7                True            6              0                   35  \n",
              "9                True            4              0                   62  \n",
              "17               True            2              0                   24  \n",
              "27               True            2              0                   34  \n",
              "...               ...          ...            ...                  ...  \n",
              "53876            True            2              0                   39  \n",
              "53880            True            1              0                   19  \n",
              "53889            True            1              0                   30  \n",
              "53893            True            6              0                  121  \n",
              "53901            True            2              0                   64  \n",
              "\n",
              "[8172 rows x 9 columns]"
            ]
          },
          "execution_count": 68,
          "metadata": {},
          "output_type": "execute_result"
        }
      ],
      "source": [
        "# Veamos la tabla filtrada con valores ausentes\n",
        "data[data['operator_id'].isna()]"
      ]
    },
    {
      "cell_type": "code",
      "execution_count": null,
      "metadata": {
        "colab": {
          "base_uri": "https://localhost:8080/"
        },
        "id": "9VFdxO5r6Jaw",
        "outputId": "aa67a5ae-f8f4-4161-bb60-5d9b827968e4"
      },
      "outputs": [
        {
          "data": {
            "text/plain": [
              "user_id                   0\n",
              "date                      0\n",
              "direction                 0\n",
              "internal                117\n",
              "operator_id            8172\n",
              "is_missed_call            0\n",
              "calls_count               0\n",
              "call_duration             0\n",
              "total_call_duration       0\n",
              "dtype: int64"
            ]
          },
          "execution_count": 69,
          "metadata": {},
          "output_type": "execute_result"
        }
      ],
      "source": [
        "data.isnull().sum()"
      ]
    },
    {
      "cell_type": "code",
      "execution_count": null,
      "metadata": {
        "colab": {
          "base_uri": "https://localhost:8080/"
        },
        "id": "rByxVQSz7jON",
        "outputId": "ce8bc45b-cb30-4efb-9003-133158429eaf"
      },
      "outputs": [
        {
          "name": "stdout",
          "output_type": "stream",
          "text": [
            "user_id                 0.000000\n",
            "date                    0.000000\n",
            "direction               0.000000\n",
            "internal                0.217061\n",
            "operator_id            15.160847\n",
            "is_missed_call          0.000000\n",
            "calls_count             0.000000\n",
            "call_duration           0.000000\n",
            "total_call_duration     0.000000\n",
            "dtype: float64\n"
          ]
        }
      ],
      "source": [
        "porcentaje_datos_null = data.isnull().sum() / len(data) * 100\n",
        "print(porcentaje_datos_null)"
      ]
    },
    {
      "cell_type": "code",
      "execution_count": null,
      "metadata": {
        "colab": {
          "base_uri": "https://localhost:8080/"
        },
        "id": "jadbTd-l0YZ1",
        "outputId": "d8674d4a-1ef9-4d39-86ca-247c21f73f89"
      },
      "outputs": [
        {
          "name": "stdout",
          "output_type": "stream",
          "text": [
            "<class 'pandas.core.frame.DataFrame'>\n",
            "Int64Index: 45670 entries, 1 to 53900\n",
            "Data columns (total 9 columns):\n",
            " #   Column               Non-Null Count  Dtype                                \n",
            "---  ------               --------------  -----                                \n",
            " 0   user_id              45670 non-null  int64                                \n",
            " 1   date                 45670 non-null  datetime64[ns, pytz.FixedOffset(180)]\n",
            " 2   direction            45670 non-null  object                               \n",
            " 3   internal             45670 non-null  object                               \n",
            " 4   operator_id          45670 non-null  float64                              \n",
            " 5   is_missed_call       45670 non-null  bool                                 \n",
            " 6   calls_count          45670 non-null  int64                                \n",
            " 7   call_duration        45670 non-null  int64                                \n",
            " 8   total_call_duration  45670 non-null  int64                                \n",
            "dtypes: bool(1), datetime64[ns, pytz.FixedOffset(180)](1), float64(1), int64(4), object(2)\n",
            "memory usage: 3.2+ MB\n"
          ]
        }
      ],
      "source": [
        "data = data.dropna()\n",
        "data.info()"
      ]
    },
    {
      "cell_type": "markdown",
      "metadata": {
        "id": "lkvsrcHfd03L"
      },
      "source": [
        "Se eliminan los datos NAN de la columna operator_id que es una columna principal para nuestro análisis"
      ]
    },
    {
      "cell_type": "markdown",
      "metadata": {
        "id": "FdMVWu5m7lVu"
      },
      "source": [
        "- **Estudiar valores duplicados**\n"
      ]
    },
    {
      "cell_type": "code",
      "execution_count": null,
      "metadata": {
        "colab": {
          "base_uri": "https://localhost:8080/"
        },
        "id": "qv3cIvm4qKGE",
        "outputId": "341aa725-9392-49d4-9590-381f22d8aacc"
      },
      "outputs": [
        {
          "name": "stdout",
          "output_type": "stream",
          "text": [
            "El porcentaje de participacion de numeros negativos dentro de la columna es 9%\n"
          ]
        }
      ],
      "source": [
        "datos_duplicados = 4900\n",
        "total_datos = 53902\n",
        "resultado = round(datos_duplicados / total_datos * 100)\n",
        "print(f'El porcentaje de participacion de numeros negativos dentro de la columna es {resultado}%')"
      ]
    },
    {
      "cell_type": "code",
      "execution_count": null,
      "metadata": {
        "id": "EBWbtHlKqjWb"
      },
      "outputs": [],
      "source": [
        "# Eliminación de datos nulo\n",
        "data = data.drop_duplicates().reset_index(drop= True)"
      ]
    },
    {
      "cell_type": "code",
      "execution_count": null,
      "metadata": {
        "colab": {
          "base_uri": "https://localhost:8080/"
        },
        "id": "ufnh7uuFqmzQ",
        "outputId": "ad40fb1c-35a2-4988-cb64-2cf0fb43260a"
      },
      "outputs": [
        {
          "data": {
            "text/plain": [
              "0"
            ]
          },
          "execution_count": 74,
          "metadata": {},
          "output_type": "execute_result"
        }
      ],
      "source": [
        "data.duplicated().sum()"
      ]
    },
    {
      "cell_type": "markdown",
      "metadata": {
        "id": "JMyRMv8SwH5G"
      },
      "source": [
        "Se eliminan los datos duplicados "
      ]
    },
    {
      "cell_type": "markdown",
      "metadata": {
        "id": "O7vO5BDk7qiP"
      },
      "source": [
        "- **Comprobar la exactitud de los nombres de columnas**\n"
      ]
    },
    {
      "cell_type": "code",
      "execution_count": null,
      "metadata": {
        "colab": {
          "base_uri": "https://localhost:8080/",
          "height": 112
        },
        "id": "h_23OygflWLv",
        "outputId": "dae3556a-71b1-4d2c-8829-a347ddab8ac4"
      },
      "outputs": [
        {
          "data": {
            "text/html": [
              "\n",
              "  <div id=\"df-8f78df17-3204-4a16-b3ed-07b83dc719fd\">\n",
              "    <div class=\"colab-df-container\">\n",
              "      <div>\n",
              "<style scoped>\n",
              "    .dataframe tbody tr th:only-of-type {\n",
              "        vertical-align: middle;\n",
              "    }\n",
              "\n",
              "    .dataframe tbody tr th {\n",
              "        vertical-align: top;\n",
              "    }\n",
              "\n",
              "    .dataframe thead th {\n",
              "        text-align: right;\n",
              "    }\n",
              "</style>\n",
              "<table border=\"1\" class=\"dataframe\">\n",
              "  <thead>\n",
              "    <tr style=\"text-align: right;\">\n",
              "      <th></th>\n",
              "      <th>user_id</th>\n",
              "      <th>date</th>\n",
              "      <th>direction</th>\n",
              "      <th>internal</th>\n",
              "      <th>operator_id</th>\n",
              "      <th>is_missed_call</th>\n",
              "      <th>calls_count</th>\n",
              "      <th>call_duration</th>\n",
              "      <th>total_call_duration</th>\n",
              "    </tr>\n",
              "  </thead>\n",
              "  <tbody>\n",
              "    <tr>\n",
              "      <th>0</th>\n",
              "      <td>166377</td>\n",
              "      <td>2019-08-05 00:00:00+03:00</td>\n",
              "      <td>out</td>\n",
              "      <td>True</td>\n",
              "      <td>880022.0</td>\n",
              "      <td>True</td>\n",
              "      <td>3</td>\n",
              "      <td>0</td>\n",
              "      <td>5</td>\n",
              "    </tr>\n",
              "    <tr>\n",
              "      <th>1</th>\n",
              "      <td>166377</td>\n",
              "      <td>2019-08-05 00:00:00+03:00</td>\n",
              "      <td>out</td>\n",
              "      <td>True</td>\n",
              "      <td>880020.0</td>\n",
              "      <td>True</td>\n",
              "      <td>1</td>\n",
              "      <td>0</td>\n",
              "      <td>1</td>\n",
              "    </tr>\n",
              "  </tbody>\n",
              "</table>\n",
              "</div>\n",
              "      <button class=\"colab-df-convert\" onclick=\"convertToInteractive('df-8f78df17-3204-4a16-b3ed-07b83dc719fd')\"\n",
              "              title=\"Convert this dataframe to an interactive table.\"\n",
              "              style=\"display:none;\">\n",
              "        \n",
              "  <svg xmlns=\"http://www.w3.org/2000/svg\" height=\"24px\"viewBox=\"0 0 24 24\"\n",
              "       width=\"24px\">\n",
              "    <path d=\"M0 0h24v24H0V0z\" fill=\"none\"/>\n",
              "    <path d=\"M18.56 5.44l.94 2.06.94-2.06 2.06-.94-2.06-.94-.94-2.06-.94 2.06-2.06.94zm-11 1L8.5 8.5l.94-2.06 2.06-.94-2.06-.94L8.5 2.5l-.94 2.06-2.06.94zm10 10l.94 2.06.94-2.06 2.06-.94-2.06-.94-.94-2.06-.94 2.06-2.06.94z\"/><path d=\"M17.41 7.96l-1.37-1.37c-.4-.4-.92-.59-1.43-.59-.52 0-1.04.2-1.43.59L10.3 9.45l-7.72 7.72c-.78.78-.78 2.05 0 2.83L4 21.41c.39.39.9.59 1.41.59.51 0 1.02-.2 1.41-.59l7.78-7.78 2.81-2.81c.8-.78.8-2.07 0-2.86zM5.41 20L4 18.59l7.72-7.72 1.47 1.35L5.41 20z\"/>\n",
              "  </svg>\n",
              "      </button>\n",
              "      \n",
              "  <style>\n",
              "    .colab-df-container {\n",
              "      display:flex;\n",
              "      flex-wrap:wrap;\n",
              "      gap: 12px;\n",
              "    }\n",
              "\n",
              "    .colab-df-convert {\n",
              "      background-color: #E8F0FE;\n",
              "      border: none;\n",
              "      border-radius: 50%;\n",
              "      cursor: pointer;\n",
              "      display: none;\n",
              "      fill: #1967D2;\n",
              "      height: 32px;\n",
              "      padding: 0 0 0 0;\n",
              "      width: 32px;\n",
              "    }\n",
              "\n",
              "    .colab-df-convert:hover {\n",
              "      background-color: #E2EBFA;\n",
              "      box-shadow: 0px 1px 2px rgba(60, 64, 67, 0.3), 0px 1px 3px 1px rgba(60, 64, 67, 0.15);\n",
              "      fill: #174EA6;\n",
              "    }\n",
              "\n",
              "    [theme=dark] .colab-df-convert {\n",
              "      background-color: #3B4455;\n",
              "      fill: #D2E3FC;\n",
              "    }\n",
              "\n",
              "    [theme=dark] .colab-df-convert:hover {\n",
              "      background-color: #434B5C;\n",
              "      box-shadow: 0px 1px 3px 1px rgba(0, 0, 0, 0.15);\n",
              "      filter: drop-shadow(0px 1px 2px rgba(0, 0, 0, 0.3));\n",
              "      fill: #FFFFFF;\n",
              "    }\n",
              "  </style>\n",
              "\n",
              "      <script>\n",
              "        const buttonEl =\n",
              "          document.querySelector('#df-8f78df17-3204-4a16-b3ed-07b83dc719fd button.colab-df-convert');\n",
              "        buttonEl.style.display =\n",
              "          google.colab.kernel.accessAllowed ? 'block' : 'none';\n",
              "\n",
              "        async function convertToInteractive(key) {\n",
              "          const element = document.querySelector('#df-8f78df17-3204-4a16-b3ed-07b83dc719fd');\n",
              "          const dataTable =\n",
              "            await google.colab.kernel.invokeFunction('convertToInteractive',\n",
              "                                                     [key], {});\n",
              "          if (!dataTable) return;\n",
              "\n",
              "          const docLinkHtml = 'Like what you see? Visit the ' +\n",
              "            '<a target=\"_blank\" href=https://colab.research.google.com/notebooks/data_table.ipynb>data table notebook</a>'\n",
              "            + ' to learn more about interactive tables.';\n",
              "          element.innerHTML = '';\n",
              "          dataTable['output_type'] = 'display_data';\n",
              "          await google.colab.output.renderOutput(dataTable, element);\n",
              "          const docLink = document.createElement('div');\n",
              "          docLink.innerHTML = docLinkHtml;\n",
              "          element.appendChild(docLink);\n",
              "        }\n",
              "      </script>\n",
              "    </div>\n",
              "  </div>\n",
              "  "
            ],
            "text/plain": [
              "   user_id                      date direction internal  operator_id  \\\n",
              "0   166377 2019-08-05 00:00:00+03:00       out     True     880022.0   \n",
              "1   166377 2019-08-05 00:00:00+03:00       out     True     880020.0   \n",
              "\n",
              "   is_missed_call  calls_count  call_duration  total_call_duration  \n",
              "0            True            3              0                    5  \n",
              "1            True            1              0                    1  "
            ]
          },
          "execution_count": 75,
          "metadata": {},
          "output_type": "execute_result"
        }
      ],
      "source": [
        "data.head(2)"
      ]
    },
    {
      "cell_type": "markdown",
      "metadata": {
        "id": "Kr0oPBOM7wmB"
      },
      "source": [
        "- **Renombrar las columnas**\n"
      ]
    },
    {
      "cell_type": "code",
      "execution_count": null,
      "metadata": {
        "colab": {
          "base_uri": "https://localhost:8080/",
          "height": 112
        },
        "id": "B-vyTInsz9FN",
        "outputId": "fa61050d-c2fa-4660-dd5b-deb81dc76670"
      },
      "outputs": [
        {
          "data": {
            "text/html": [
              "\n",
              "  <div id=\"df-f087e034-9adf-4929-8de2-7c09a2f67f7b\">\n",
              "    <div class=\"colab-df-container\">\n",
              "      <div>\n",
              "<style scoped>\n",
              "    .dataframe tbody tr th:only-of-type {\n",
              "        vertical-align: middle;\n",
              "    }\n",
              "\n",
              "    .dataframe tbody tr th {\n",
              "        vertical-align: top;\n",
              "    }\n",
              "\n",
              "    .dataframe thead th {\n",
              "        text-align: right;\n",
              "    }\n",
              "</style>\n",
              "<table border=\"1\" class=\"dataframe\">\n",
              "  <thead>\n",
              "    <tr style=\"text-align: right;\">\n",
              "      <th></th>\n",
              "      <th>usuario</th>\n",
              "      <th>data</th>\n",
              "      <th>direction</th>\n",
              "      <th>interna</th>\n",
              "      <th>operador</th>\n",
              "      <th>llamada_perdida</th>\n",
              "      <th>numero_llamadas</th>\n",
              "      <th>duracion_llamada</th>\n",
              "      <th>duracion_llamada_total</th>\n",
              "    </tr>\n",
              "  </thead>\n",
              "  <tbody>\n",
              "    <tr>\n",
              "      <th>0</th>\n",
              "      <td>166377</td>\n",
              "      <td>2019-08-05 00:00:00+03:00</td>\n",
              "      <td>out</td>\n",
              "      <td>True</td>\n",
              "      <td>880022.0</td>\n",
              "      <td>True</td>\n",
              "      <td>3</td>\n",
              "      <td>0</td>\n",
              "      <td>5</td>\n",
              "    </tr>\n",
              "    <tr>\n",
              "      <th>1</th>\n",
              "      <td>166377</td>\n",
              "      <td>2019-08-05 00:00:00+03:00</td>\n",
              "      <td>out</td>\n",
              "      <td>True</td>\n",
              "      <td>880020.0</td>\n",
              "      <td>True</td>\n",
              "      <td>1</td>\n",
              "      <td>0</td>\n",
              "      <td>1</td>\n",
              "    </tr>\n",
              "  </tbody>\n",
              "</table>\n",
              "</div>\n",
              "      <button class=\"colab-df-convert\" onclick=\"convertToInteractive('df-f087e034-9adf-4929-8de2-7c09a2f67f7b')\"\n",
              "              title=\"Convert this dataframe to an interactive table.\"\n",
              "              style=\"display:none;\">\n",
              "        \n",
              "  <svg xmlns=\"http://www.w3.org/2000/svg\" height=\"24px\"viewBox=\"0 0 24 24\"\n",
              "       width=\"24px\">\n",
              "    <path d=\"M0 0h24v24H0V0z\" fill=\"none\"/>\n",
              "    <path d=\"M18.56 5.44l.94 2.06.94-2.06 2.06-.94-2.06-.94-.94-2.06-.94 2.06-2.06.94zm-11 1L8.5 8.5l.94-2.06 2.06-.94-2.06-.94L8.5 2.5l-.94 2.06-2.06.94zm10 10l.94 2.06.94-2.06 2.06-.94-2.06-.94-.94-2.06-.94 2.06-2.06.94z\"/><path d=\"M17.41 7.96l-1.37-1.37c-.4-.4-.92-.59-1.43-.59-.52 0-1.04.2-1.43.59L10.3 9.45l-7.72 7.72c-.78.78-.78 2.05 0 2.83L4 21.41c.39.39.9.59 1.41.59.51 0 1.02-.2 1.41-.59l7.78-7.78 2.81-2.81c.8-.78.8-2.07 0-2.86zM5.41 20L4 18.59l7.72-7.72 1.47 1.35L5.41 20z\"/>\n",
              "  </svg>\n",
              "      </button>\n",
              "      \n",
              "  <style>\n",
              "    .colab-df-container {\n",
              "      display:flex;\n",
              "      flex-wrap:wrap;\n",
              "      gap: 12px;\n",
              "    }\n",
              "\n",
              "    .colab-df-convert {\n",
              "      background-color: #E8F0FE;\n",
              "      border: none;\n",
              "      border-radius: 50%;\n",
              "      cursor: pointer;\n",
              "      display: none;\n",
              "      fill: #1967D2;\n",
              "      height: 32px;\n",
              "      padding: 0 0 0 0;\n",
              "      width: 32px;\n",
              "    }\n",
              "\n",
              "    .colab-df-convert:hover {\n",
              "      background-color: #E2EBFA;\n",
              "      box-shadow: 0px 1px 2px rgba(60, 64, 67, 0.3), 0px 1px 3px 1px rgba(60, 64, 67, 0.15);\n",
              "      fill: #174EA6;\n",
              "    }\n",
              "\n",
              "    [theme=dark] .colab-df-convert {\n",
              "      background-color: #3B4455;\n",
              "      fill: #D2E3FC;\n",
              "    }\n",
              "\n",
              "    [theme=dark] .colab-df-convert:hover {\n",
              "      background-color: #434B5C;\n",
              "      box-shadow: 0px 1px 3px 1px rgba(0, 0, 0, 0.15);\n",
              "      filter: drop-shadow(0px 1px 2px rgba(0, 0, 0, 0.3));\n",
              "      fill: #FFFFFF;\n",
              "    }\n",
              "  </style>\n",
              "\n",
              "      <script>\n",
              "        const buttonEl =\n",
              "          document.querySelector('#df-f087e034-9adf-4929-8de2-7c09a2f67f7b button.colab-df-convert');\n",
              "        buttonEl.style.display =\n",
              "          google.colab.kernel.accessAllowed ? 'block' : 'none';\n",
              "\n",
              "        async function convertToInteractive(key) {\n",
              "          const element = document.querySelector('#df-f087e034-9adf-4929-8de2-7c09a2f67f7b');\n",
              "          const dataTable =\n",
              "            await google.colab.kernel.invokeFunction('convertToInteractive',\n",
              "                                                     [key], {});\n",
              "          if (!dataTable) return;\n",
              "\n",
              "          const docLinkHtml = 'Like what you see? Visit the ' +\n",
              "            '<a target=\"_blank\" href=https://colab.research.google.com/notebooks/data_table.ipynb>data table notebook</a>'\n",
              "            + ' to learn more about interactive tables.';\n",
              "          element.innerHTML = '';\n",
              "          dataTable['output_type'] = 'display_data';\n",
              "          await google.colab.output.renderOutput(dataTable, element);\n",
              "          const docLink = document.createElement('div');\n",
              "          docLink.innerHTML = docLinkHtml;\n",
              "          element.appendChild(docLink);\n",
              "        }\n",
              "      </script>\n",
              "    </div>\n",
              "  </div>\n",
              "  "
            ],
            "text/plain": [
              "   usuario                      data direction interna  operador  \\\n",
              "0   166377 2019-08-05 00:00:00+03:00       out    True  880022.0   \n",
              "1   166377 2019-08-05 00:00:00+03:00       out    True  880020.0   \n",
              "\n",
              "   llamada_perdida  numero_llamadas  duracion_llamada  duracion_llamada_total  \n",
              "0             True                3                 0                       5  \n",
              "1             True                1                 0                       1  "
            ]
          },
          "execution_count": 76,
          "metadata": {},
          "output_type": "execute_result"
        }
      ],
      "source": [
        "data.columns = ['usuario', 'data', 'direction', 'interna', 'operador', 'llamada_perdida',\t'numero_llamadas', 'duracion_llamada', 'duracion_llamada_total']\n",
        "data.head(2)"
      ]
    },
    {
      "cell_type": "markdown",
      "metadata": {
        "id": "StJFYn7X8bN3"
      },
      "source": [
        "# Etapa 2 Identificar operadores ineficaces"
      ]
    },
    {
      "cell_type": "markdown",
      "metadata": {
        "id": "gPWakOJk3o7-"
      },
      "source": [
        "## 2.1 Creación de filtros y variables para nuestro análisis"
      ]
    },
    {
      "cell_type": "code",
      "execution_count": null,
      "metadata": {
        "id": "rZG2QwC8fMHN"
      },
      "outputs": [],
      "source": [
        "data['session_date'] = data['data'].dt.date"
      ]
    },
    {
      "cell_type": "code",
      "execution_count": null,
      "metadata": {
        "colab": {
          "base_uri": "https://localhost:8080/",
          "height": 211
        },
        "id": "KYHTaOWq9Osy",
        "outputId": "b2fe131f-fdd8-4c5d-d7c8-64e6749d461b"
      },
      "outputs": [
        {
          "data": {
            "text/html": [
              "\n",
              "  <div id=\"df-dcb82fa2-41a0-40f4-8277-8c9aab427ff9\">\n",
              "    <div class=\"colab-df-container\">\n",
              "      <div>\n",
              "<style scoped>\n",
              "    .dataframe tbody tr th:only-of-type {\n",
              "        vertical-align: middle;\n",
              "    }\n",
              "\n",
              "    .dataframe tbody tr th {\n",
              "        vertical-align: top;\n",
              "    }\n",
              "\n",
              "    .dataframe thead th {\n",
              "        text-align: right;\n",
              "    }\n",
              "</style>\n",
              "<table border=\"1\" class=\"dataframe\">\n",
              "  <thead>\n",
              "    <tr style=\"text-align: right;\">\n",
              "      <th></th>\n",
              "      <th>usuario</th>\n",
              "      <th>data</th>\n",
              "      <th>direction</th>\n",
              "      <th>interna</th>\n",
              "      <th>operador</th>\n",
              "      <th>llamada_perdida</th>\n",
              "      <th>numero_llamadas</th>\n",
              "      <th>duracion_llamada</th>\n",
              "      <th>duracion_llamada_total</th>\n",
              "      <th>session_date</th>\n",
              "      <th>tiempo_espera</th>\n",
              "    </tr>\n",
              "  </thead>\n",
              "  <tbody>\n",
              "    <tr>\n",
              "      <th>0</th>\n",
              "      <td>166377</td>\n",
              "      <td>2019-08-05 00:00:00+03:00</td>\n",
              "      <td>out</td>\n",
              "      <td>True</td>\n",
              "      <td>880022.0</td>\n",
              "      <td>True</td>\n",
              "      <td>3</td>\n",
              "      <td>0</td>\n",
              "      <td>5</td>\n",
              "      <td>2019-08-05</td>\n",
              "      <td>5</td>\n",
              "    </tr>\n",
              "    <tr>\n",
              "      <th>1</th>\n",
              "      <td>166377</td>\n",
              "      <td>2019-08-05 00:00:00+03:00</td>\n",
              "      <td>out</td>\n",
              "      <td>True</td>\n",
              "      <td>880020.0</td>\n",
              "      <td>True</td>\n",
              "      <td>1</td>\n",
              "      <td>0</td>\n",
              "      <td>1</td>\n",
              "      <td>2019-08-05</td>\n",
              "      <td>1</td>\n",
              "    </tr>\n",
              "  </tbody>\n",
              "</table>\n",
              "</div>\n",
              "      <button class=\"colab-df-convert\" onclick=\"convertToInteractive('df-dcb82fa2-41a0-40f4-8277-8c9aab427ff9')\"\n",
              "              title=\"Convert this dataframe to an interactive table.\"\n",
              "              style=\"display:none;\">\n",
              "        \n",
              "  <svg xmlns=\"http://www.w3.org/2000/svg\" height=\"24px\"viewBox=\"0 0 24 24\"\n",
              "       width=\"24px\">\n",
              "    <path d=\"M0 0h24v24H0V0z\" fill=\"none\"/>\n",
              "    <path d=\"M18.56 5.44l.94 2.06.94-2.06 2.06-.94-2.06-.94-.94-2.06-.94 2.06-2.06.94zm-11 1L8.5 8.5l.94-2.06 2.06-.94-2.06-.94L8.5 2.5l-.94 2.06-2.06.94zm10 10l.94 2.06.94-2.06 2.06-.94-2.06-.94-.94-2.06-.94 2.06-2.06.94z\"/><path d=\"M17.41 7.96l-1.37-1.37c-.4-.4-.92-.59-1.43-.59-.52 0-1.04.2-1.43.59L10.3 9.45l-7.72 7.72c-.78.78-.78 2.05 0 2.83L4 21.41c.39.39.9.59 1.41.59.51 0 1.02-.2 1.41-.59l7.78-7.78 2.81-2.81c.8-.78.8-2.07 0-2.86zM5.41 20L4 18.59l7.72-7.72 1.47 1.35L5.41 20z\"/>\n",
              "  </svg>\n",
              "      </button>\n",
              "      \n",
              "  <style>\n",
              "    .colab-df-container {\n",
              "      display:flex;\n",
              "      flex-wrap:wrap;\n",
              "      gap: 12px;\n",
              "    }\n",
              "\n",
              "    .colab-df-convert {\n",
              "      background-color: #E8F0FE;\n",
              "      border: none;\n",
              "      border-radius: 50%;\n",
              "      cursor: pointer;\n",
              "      display: none;\n",
              "      fill: #1967D2;\n",
              "      height: 32px;\n",
              "      padding: 0 0 0 0;\n",
              "      width: 32px;\n",
              "    }\n",
              "\n",
              "    .colab-df-convert:hover {\n",
              "      background-color: #E2EBFA;\n",
              "      box-shadow: 0px 1px 2px rgba(60, 64, 67, 0.3), 0px 1px 3px 1px rgba(60, 64, 67, 0.15);\n",
              "      fill: #174EA6;\n",
              "    }\n",
              "\n",
              "    [theme=dark] .colab-df-convert {\n",
              "      background-color: #3B4455;\n",
              "      fill: #D2E3FC;\n",
              "    }\n",
              "\n",
              "    [theme=dark] .colab-df-convert:hover {\n",
              "      background-color: #434B5C;\n",
              "      box-shadow: 0px 1px 3px 1px rgba(0, 0, 0, 0.15);\n",
              "      filter: drop-shadow(0px 1px 2px rgba(0, 0, 0, 0.3));\n",
              "      fill: #FFFFFF;\n",
              "    }\n",
              "  </style>\n",
              "\n",
              "      <script>\n",
              "        const buttonEl =\n",
              "          document.querySelector('#df-dcb82fa2-41a0-40f4-8277-8c9aab427ff9 button.colab-df-convert');\n",
              "        buttonEl.style.display =\n",
              "          google.colab.kernel.accessAllowed ? 'block' : 'none';\n",
              "\n",
              "        async function convertToInteractive(key) {\n",
              "          const element = document.querySelector('#df-dcb82fa2-41a0-40f4-8277-8c9aab427ff9');\n",
              "          const dataTable =\n",
              "            await google.colab.kernel.invokeFunction('convertToInteractive',\n",
              "                                                     [key], {});\n",
              "          if (!dataTable) return;\n",
              "\n",
              "          const docLinkHtml = 'Like what you see? Visit the ' +\n",
              "            '<a target=\"_blank\" href=https://colab.research.google.com/notebooks/data_table.ipynb>data table notebook</a>'\n",
              "            + ' to learn more about interactive tables.';\n",
              "          element.innerHTML = '';\n",
              "          dataTable['output_type'] = 'display_data';\n",
              "          await google.colab.output.renderOutput(dataTable, element);\n",
              "          const docLink = document.createElement('div');\n",
              "          docLink.innerHTML = docLinkHtml;\n",
              "          element.appendChild(docLink);\n",
              "        }\n",
              "      </script>\n",
              "    </div>\n",
              "  </div>\n",
              "  "
            ],
            "text/plain": [
              "   usuario                      data direction interna  operador  \\\n",
              "0   166377 2019-08-05 00:00:00+03:00       out    True  880022.0   \n",
              "1   166377 2019-08-05 00:00:00+03:00       out    True  880020.0   \n",
              "\n",
              "   llamada_perdida  numero_llamadas  duracion_llamada  duracion_llamada_total  \\\n",
              "0             True                3                 0                       5   \n",
              "1             True                1                 0                       1   \n",
              "\n",
              "  session_date  tiempo_espera  \n",
              "0   2019-08-05              5  \n",
              "1   2019-08-05              1  "
            ]
          },
          "execution_count": 78,
          "metadata": {},
          "output_type": "execute_result"
        }
      ],
      "source": [
        "data['tiempo_espera'] = data['duracion_llamada_total'] - data['duracion_llamada']\n",
        "data.head(2)"
      ]
    },
    {
      "cell_type": "code",
      "execution_count": null,
      "metadata": {
        "id": "I8oYhx5yf3_d"
      },
      "outputs": [],
      "source": []
    },
    {
      "cell_type": "markdown",
      "metadata": {
        "id": "BLIKPoIQ9ZR_"
      },
      "source": [
        "- **Número de llamadas perdidas por operador**"
      ]
    },
    {
      "cell_type": "code",
      "execution_count": null,
      "metadata": {
        "colab": {
          "base_uri": "https://localhost:8080/",
          "height": 211
        },
        "id": "VcmhDdpu4Ay9",
        "outputId": "2d2e820a-0b88-4a9c-9d01-e10dcb731d28"
      },
      "outputs": [
        {
          "data": {
            "text/html": [
              "\n",
              "  <div id=\"df-4d8a13d0-ed62-4fd7-90fc-d74dca558b1f\">\n",
              "    <div class=\"colab-df-container\">\n",
              "      <div>\n",
              "<style scoped>\n",
              "    .dataframe tbody tr th:only-of-type {\n",
              "        vertical-align: middle;\n",
              "    }\n",
              "\n",
              "    .dataframe tbody tr th {\n",
              "        vertical-align: top;\n",
              "    }\n",
              "\n",
              "    .dataframe thead th {\n",
              "        text-align: right;\n",
              "    }\n",
              "</style>\n",
              "<table border=\"1\" class=\"dataframe\">\n",
              "  <thead>\n",
              "    <tr style=\"text-align: right;\">\n",
              "      <th></th>\n",
              "      <th>usuario</th>\n",
              "      <th>data</th>\n",
              "      <th>direction</th>\n",
              "      <th>interna</th>\n",
              "      <th>operador</th>\n",
              "      <th>llamada_perdida</th>\n",
              "      <th>numero_llamadas</th>\n",
              "      <th>duracion_llamada</th>\n",
              "      <th>duracion_llamada_total</th>\n",
              "      <th>session_date</th>\n",
              "      <th>tiempo_espera</th>\n",
              "    </tr>\n",
              "  </thead>\n",
              "  <tbody>\n",
              "    <tr>\n",
              "      <th>0</th>\n",
              "      <td>166377</td>\n",
              "      <td>2019-08-05 00:00:00+03:00</td>\n",
              "      <td>out</td>\n",
              "      <td>True</td>\n",
              "      <td>880022.0</td>\n",
              "      <td>True</td>\n",
              "      <td>3</td>\n",
              "      <td>0</td>\n",
              "      <td>5</td>\n",
              "      <td>2019-08-05</td>\n",
              "      <td>5</td>\n",
              "    </tr>\n",
              "    <tr>\n",
              "      <th>1</th>\n",
              "      <td>166377</td>\n",
              "      <td>2019-08-05 00:00:00+03:00</td>\n",
              "      <td>out</td>\n",
              "      <td>True</td>\n",
              "      <td>880020.0</td>\n",
              "      <td>True</td>\n",
              "      <td>1</td>\n",
              "      <td>0</td>\n",
              "      <td>1</td>\n",
              "      <td>2019-08-05</td>\n",
              "      <td>1</td>\n",
              "    </tr>\n",
              "  </tbody>\n",
              "</table>\n",
              "</div>\n",
              "      <button class=\"colab-df-convert\" onclick=\"convertToInteractive('df-4d8a13d0-ed62-4fd7-90fc-d74dca558b1f')\"\n",
              "              title=\"Convert this dataframe to an interactive table.\"\n",
              "              style=\"display:none;\">\n",
              "        \n",
              "  <svg xmlns=\"http://www.w3.org/2000/svg\" height=\"24px\"viewBox=\"0 0 24 24\"\n",
              "       width=\"24px\">\n",
              "    <path d=\"M0 0h24v24H0V0z\" fill=\"none\"/>\n",
              "    <path d=\"M18.56 5.44l.94 2.06.94-2.06 2.06-.94-2.06-.94-.94-2.06-.94 2.06-2.06.94zm-11 1L8.5 8.5l.94-2.06 2.06-.94-2.06-.94L8.5 2.5l-.94 2.06-2.06.94zm10 10l.94 2.06.94-2.06 2.06-.94-2.06-.94-.94-2.06-.94 2.06-2.06.94z\"/><path d=\"M17.41 7.96l-1.37-1.37c-.4-.4-.92-.59-1.43-.59-.52 0-1.04.2-1.43.59L10.3 9.45l-7.72 7.72c-.78.78-.78 2.05 0 2.83L4 21.41c.39.39.9.59 1.41.59.51 0 1.02-.2 1.41-.59l7.78-7.78 2.81-2.81c.8-.78.8-2.07 0-2.86zM5.41 20L4 18.59l7.72-7.72 1.47 1.35L5.41 20z\"/>\n",
              "  </svg>\n",
              "      </button>\n",
              "      \n",
              "  <style>\n",
              "    .colab-df-container {\n",
              "      display:flex;\n",
              "      flex-wrap:wrap;\n",
              "      gap: 12px;\n",
              "    }\n",
              "\n",
              "    .colab-df-convert {\n",
              "      background-color: #E8F0FE;\n",
              "      border: none;\n",
              "      border-radius: 50%;\n",
              "      cursor: pointer;\n",
              "      display: none;\n",
              "      fill: #1967D2;\n",
              "      height: 32px;\n",
              "      padding: 0 0 0 0;\n",
              "      width: 32px;\n",
              "    }\n",
              "\n",
              "    .colab-df-convert:hover {\n",
              "      background-color: #E2EBFA;\n",
              "      box-shadow: 0px 1px 2px rgba(60, 64, 67, 0.3), 0px 1px 3px 1px rgba(60, 64, 67, 0.15);\n",
              "      fill: #174EA6;\n",
              "    }\n",
              "\n",
              "    [theme=dark] .colab-df-convert {\n",
              "      background-color: #3B4455;\n",
              "      fill: #D2E3FC;\n",
              "    }\n",
              "\n",
              "    [theme=dark] .colab-df-convert:hover {\n",
              "      background-color: #434B5C;\n",
              "      box-shadow: 0px 1px 3px 1px rgba(0, 0, 0, 0.15);\n",
              "      filter: drop-shadow(0px 1px 2px rgba(0, 0, 0, 0.3));\n",
              "      fill: #FFFFFF;\n",
              "    }\n",
              "  </style>\n",
              "\n",
              "      <script>\n",
              "        const buttonEl =\n",
              "          document.querySelector('#df-4d8a13d0-ed62-4fd7-90fc-d74dca558b1f button.colab-df-convert');\n",
              "        buttonEl.style.display =\n",
              "          google.colab.kernel.accessAllowed ? 'block' : 'none';\n",
              "\n",
              "        async function convertToInteractive(key) {\n",
              "          const element = document.querySelector('#df-4d8a13d0-ed62-4fd7-90fc-d74dca558b1f');\n",
              "          const dataTable =\n",
              "            await google.colab.kernel.invokeFunction('convertToInteractive',\n",
              "                                                     [key], {});\n",
              "          if (!dataTable) return;\n",
              "\n",
              "          const docLinkHtml = 'Like what you see? Visit the ' +\n",
              "            '<a target=\"_blank\" href=https://colab.research.google.com/notebooks/data_table.ipynb>data table notebook</a>'\n",
              "            + ' to learn more about interactive tables.';\n",
              "          element.innerHTML = '';\n",
              "          dataTable['output_type'] = 'display_data';\n",
              "          await google.colab.output.renderOutput(dataTable, element);\n",
              "          const docLink = document.createElement('div');\n",
              "          docLink.innerHTML = docLinkHtml;\n",
              "          element.appendChild(docLink);\n",
              "        }\n",
              "      </script>\n",
              "    </div>\n",
              "  </div>\n",
              "  "
            ],
            "text/plain": [
              "   usuario                      data direction interna  operador  \\\n",
              "0   166377 2019-08-05 00:00:00+03:00       out    True  880022.0   \n",
              "1   166377 2019-08-05 00:00:00+03:00       out    True  880020.0   \n",
              "\n",
              "   llamada_perdida  numero_llamadas  duracion_llamada  duracion_llamada_total  \\\n",
              "0             True                3                 0                       5   \n",
              "1             True                1                 0                       1   \n",
              "\n",
              "  session_date  tiempo_espera  \n",
              "0   2019-08-05              5  \n",
              "1   2019-08-05              1  "
            ]
          },
          "execution_count": 79,
          "metadata": {},
          "output_type": "execute_result"
        }
      ],
      "source": [
        "data.head(2)"
      ]
    },
    {
      "cell_type": "code",
      "execution_count": null,
      "metadata": {
        "colab": {
          "base_uri": "https://localhost:8080/"
        },
        "id": "fMrYoKrLGyNo",
        "outputId": "abbe55c8-2004-4ea1-ee49-ce1d4df4275f"
      },
      "outputs": [
        {
          "name": "stdout",
          "output_type": "stream",
          "text": [
            "operador\n",
            "879896.0    47\n",
            "879898.0    89\n",
            "880020.0     6\n",
            "880022.0    29\n",
            "880026.0    87\n",
            "            ..\n",
            "972408.0     1\n",
            "972410.0     2\n",
            "972412.0     2\n",
            "972460.0     3\n",
            "973120.0     1\n",
            "Name: llamada_perdida, Length: 876, dtype: int64\n"
          ]
        }
      ],
      "source": [
        "llamadas_operador = data[data['llamada_perdida'] == True].groupby('operador')['llamada_perdida'].sum()\n",
        "print(llamadas_operador)"
      ]
    },
    {
      "cell_type": "code",
      "execution_count": null,
      "metadata": {
        "colab": {
          "base_uri": "https://localhost:8080/"
        },
        "id": "mMC8TgJZA6gV",
        "outputId": "193be26d-5951-4698-a94a-3d443ce10563"
      },
      "outputs": [
        {
          "data": {
            "text/plain": [
              "count    876.000000\n",
              "mean      16.106164\n",
              "std       19.247890\n",
              "min        1.000000\n",
              "25%        2.750000\n",
              "50%        9.000000\n",
              "75%       22.000000\n",
              "max      119.000000\n",
              "Name: llamada_perdida, dtype: float64"
            ]
          },
          "execution_count": 81,
          "metadata": {},
          "output_type": "execute_result"
        }
      ],
      "source": [
        "llamadas_operador.describe()"
      ]
    },
    {
      "cell_type": "code",
      "execution_count": null,
      "metadata": {
        "colab": {
          "base_uri": "https://localhost:8080/"
        },
        "id": "Orz4X7Y4TeYP",
        "outputId": "e3be03ee-a6ad-4bbc-f15f-ee10508380b4"
      },
      "outputs": [
        {
          "name": "stdout",
          "output_type": "stream",
          "text": [
            "El total de operadores con más de 22 llamadas perdidas es: 216\n"
          ]
        }
      ],
      "source": [
        "llamadas_operador_filtrado = llamadas_operador[llamadas_operador >22 ]\n",
        "total_operadores = llamadas_operador_filtrado.count()\n",
        "print(f\"El total de operadores con más de 22 llamadas perdidas es: {total_operadores}\")"
      ]
    },
    {
      "cell_type": "code",
      "execution_count": null,
      "metadata": {
        "colab": {
          "base_uri": "https://localhost:8080/"
        },
        "id": "uRl2MhFSkCrf",
        "outputId": "154c243e-9ab6-45f6-b3a0-27085831a149"
      },
      "outputs": [
        {
          "name": "stdout",
          "output_type": "stream",
          "text": [
            "Cantidad de operadores buenos:  660\n",
            "Cantidad de operadores malos:  216\n"
          ]
        }
      ],
      "source": [
        "# Filtrar operadores con más de 22 llamadas perdidas\n",
        "operadores_malos = llamadas_operador[llamadas_operador > 22].index.tolist()\n",
        "\n",
        "# Agregar columna indicando si el operador es bueno o malo\n",
        "data = data.copy()\n",
        "data['calidad_llamada'] = data['operador'].apply(lambda x: 'Malo' if x in operadores_malos else 'Bueno')\n",
        "\n",
        "# Contabilizar cantidad de operadores malos y buenos\n",
        "cantidad_operadores = data.groupby('calidad_llamada')['operador'].nunique()\n",
        "\n",
        "# Restar operadores malos de los buenos\n",
        "good = cantidad_operadores['Bueno'] - cantidad_operadores['Malo']\n",
        "\n",
        "# Calcular porcentaje de datos\n",
        "total = cantidad_operadores['Bueno'] + cantidad_operadores['Malo']\n",
        "good_percent = good / total * 100\n",
        "bad_percent = cantidad_operadores['Malo'] / total * 100\n",
        "\n",
        "print(\"Cantidad de operadores buenos: \", good)\n",
        "print(\"Cantidad de operadores malos: \", cantidad_operadores['Malo'])"
      ]
    },
    {
      "cell_type": "code",
      "execution_count": null,
      "metadata": {
        "colab": {
          "base_uri": "https://localhost:8080/",
          "height": 483
        },
        "id": "Q8ypgQqsllQY",
        "outputId": "3984ab76-5687-4490-9d65-6ce89c535e5e"
      },
      "outputs": [
        {
          "data": {
            "image/png": "[encoded data removed]",
            "text/plain": [
              "<Figure size 640x480 with 1 Axes>"
            ]
          },
          "metadata": {},
          "output_type": "display_data"
        },
        {
          "name": "stdout",
          "output_type": "stream",
          "text": [
            "Cantidad de operadores buenos:  660 (75.3%)\n",
            "Cantidad de operadores malos:  216 (24.7%)\n",
            "Total de operadores:  876\n"
          ]
        }
      ],
      "source": [
        "# Sumar cantidad de operadores buenos y malos\n",
        "bad = cantidad_operadores['Malo']\n",
        "# Calcular porcentajes de buenos y malos\n",
        "good_pct = good / (good + bad) * 100\n",
        "bad_pct = bad / (good + bad) * 100\n",
        "# Crear gráfico de torta\n",
        "labels = ['Buenos', 'Malos']\n",
        "sizes = [good, bad]\n",
        "colors = ['#1f77b4', '#ff7f0e']\n",
        "explode = (0.1, 0)\n",
        "plt.pie(sizes, explode=explode, labels=labels, colors=colors,\n",
        "        autopct='%1.1f%%', startangle=70, textprops={'color': 'black'})\n",
        "plt.axis('equal')\n",
        "plt.title('Llamadas Perdidas por operadores')\n",
        "plt.legend()\n",
        "plt.show();\n",
        "\n",
        "# Imprimir totales\n",
        "total = good + bad\n",
        "print(\"Cantidad de operadores buenos: \", good, \"({:.1f}%)\".format(good_pct))\n",
        "print(\"Cantidad de operadores malos: \", bad, \"({:.1f}%)\".format(bad_pct))\n",
        "print(\"Total de operadores: \", total);"
      ]
    },
    {
      "cell_type": "code",
      "execution_count": null,
      "metadata": {
        "colab": {
          "base_uri": "https://localhost:8080/",
          "height": 357
        },
        "id": "oTviYHFEWCT6",
        "outputId": "f28e1b1e-704b-4ba7-b981-d60ba50c4597"
      },
      "outputs": [
        {
          "data": {
            "text/html": [
              "\n",
              "  <div id=\"df-84f70fe3-eced-459e-b8d1-d648211fd345\">\n",
              "    <div class=\"colab-df-container\">\n",
              "      <div>\n",
              "<style scoped>\n",
              "    .dataframe tbody tr th:only-of-type {\n",
              "        vertical-align: middle;\n",
              "    }\n",
              "\n",
              "    .dataframe tbody tr th {\n",
              "        vertical-align: top;\n",
              "    }\n",
              "\n",
              "    .dataframe thead th {\n",
              "        text-align: right;\n",
              "    }\n",
              "</style>\n",
              "<table border=\"1\" class=\"dataframe\">\n",
              "  <thead>\n",
              "    <tr style=\"text-align: right;\">\n",
              "      <th></th>\n",
              "      <th>usuario</th>\n",
              "      <th>data</th>\n",
              "      <th>direction</th>\n",
              "      <th>interna</th>\n",
              "      <th>operador</th>\n",
              "      <th>llamada_perdida</th>\n",
              "      <th>numero_llamadas</th>\n",
              "      <th>duracion_llamada</th>\n",
              "      <th>duracion_llamada_total</th>\n",
              "      <th>session_date</th>\n",
              "      <th>tiempo_espera</th>\n",
              "      <th>calidad_llamada</th>\n",
              "    </tr>\n",
              "  </thead>\n",
              "  <tbody>\n",
              "    <tr>\n",
              "      <th>0</th>\n",
              "      <td>166377</td>\n",
              "      <td>2019-08-05 00:00:00+03:00</td>\n",
              "      <td>out</td>\n",
              "      <td>True</td>\n",
              "      <td>880022.0</td>\n",
              "      <td>True</td>\n",
              "      <td>3</td>\n",
              "      <td>0</td>\n",
              "      <td>5</td>\n",
              "      <td>2019-08-05</td>\n",
              "      <td>5</td>\n",
              "      <td>Malo</td>\n",
              "    </tr>\n",
              "    <tr>\n",
              "      <th>1</th>\n",
              "      <td>166377</td>\n",
              "      <td>2019-08-05 00:00:00+03:00</td>\n",
              "      <td>out</td>\n",
              "      <td>True</td>\n",
              "      <td>880020.0</td>\n",
              "      <td>True</td>\n",
              "      <td>1</td>\n",
              "      <td>0</td>\n",
              "      <td>1</td>\n",
              "      <td>2019-08-05</td>\n",
              "      <td>1</td>\n",
              "      <td>Bueno</td>\n",
              "    </tr>\n",
              "    <tr>\n",
              "      <th>2</th>\n",
              "      <td>166377</td>\n",
              "      <td>2019-08-05 00:00:00+03:00</td>\n",
              "      <td>out</td>\n",
              "      <td>True</td>\n",
              "      <td>880020.0</td>\n",
              "      <td>False</td>\n",
              "      <td>1</td>\n",
              "      <td>10</td>\n",
              "      <td>18</td>\n",
              "      <td>2019-08-05</td>\n",
              "      <td>8</td>\n",
              "      <td>Bueno</td>\n",
              "    </tr>\n",
              "    <tr>\n",
              "      <th>3</th>\n",
              "      <td>166377</td>\n",
              "      <td>2019-08-05 00:00:00+03:00</td>\n",
              "      <td>out</td>\n",
              "      <td>False</td>\n",
              "      <td>880022.0</td>\n",
              "      <td>True</td>\n",
              "      <td>3</td>\n",
              "      <td>0</td>\n",
              "      <td>25</td>\n",
              "      <td>2019-08-05</td>\n",
              "      <td>25</td>\n",
              "      <td>Malo</td>\n",
              "    </tr>\n",
              "    <tr>\n",
              "      <th>4</th>\n",
              "      <td>166377</td>\n",
              "      <td>2019-08-05 00:00:00+03:00</td>\n",
              "      <td>out</td>\n",
              "      <td>False</td>\n",
              "      <td>880020.0</td>\n",
              "      <td>False</td>\n",
              "      <td>2</td>\n",
              "      <td>3</td>\n",
              "      <td>29</td>\n",
              "      <td>2019-08-05</td>\n",
              "      <td>26</td>\n",
              "      <td>Bueno</td>\n",
              "    </tr>\n",
              "  </tbody>\n",
              "</table>\n",
              "</div>\n",
              "      <button class=\"colab-df-convert\" onclick=\"convertToInteractive('df-84f70fe3-eced-459e-b8d1-d648211fd345')\"\n",
              "              title=\"Convert this dataframe to an interactive table.\"\n",
              "              style=\"display:none;\">\n",
              "        \n",
              "  <svg xmlns=\"http://www.w3.org/2000/svg\" height=\"24px\"viewBox=\"0 0 24 24\"\n",
              "       width=\"24px\">\n",
              "    <path d=\"M0 0h24v24H0V0z\" fill=\"none\"/>\n",
              "    <path d=\"M18.56 5.44l.94 2.06.94-2.06 2.06-.94-2.06-.94-.94-2.06-.94 2.06-2.06.94zm-11 1L8.5 8.5l.94-2.06 2.06-.94-2.06-.94L8.5 2.5l-.94 2.06-2.06.94zm10 10l.94 2.06.94-2.06 2.06-.94-2.06-.94-.94-2.06-.94 2.06-2.06.94z\"/><path d=\"M17.41 7.96l-1.37-1.37c-.4-.4-.92-.59-1.43-.59-.52 0-1.04.2-1.43.59L10.3 9.45l-7.72 7.72c-.78.78-.78 2.05 0 2.83L4 21.41c.39.39.9.59 1.41.59.51 0 1.02-.2 1.41-.59l7.78-7.78 2.81-2.81c.8-.78.8-2.07 0-2.86zM5.41 20L4 18.59l7.72-7.72 1.47 1.35L5.41 20z\"/>\n",
              "  </svg>\n",
              "      </button>\n",
              "      \n",
              "  <style>\n",
              "    .colab-df-container {\n",
              "      display:flex;\n",
              "      flex-wrap:wrap;\n",
              "      gap: 12px;\n",
              "    }\n",
              "\n",
              "    .colab-df-convert {\n",
              "      background-color: #E8F0FE;\n",
              "      border: none;\n",
              "      border-radius: 50%;\n",
              "      cursor: pointer;\n",
              "      display: none;\n",
              "      fill: #1967D2;\n",
              "      height: 32px;\n",
              "      padding: 0 0 0 0;\n",
              "      width: 32px;\n",
              "    }\n",
              "\n",
              "    .colab-df-convert:hover {\n",
              "      background-color: #E2EBFA;\n",
              "      box-shadow: 0px 1px 2px rgba(60, 64, 67, 0.3), 0px 1px 3px 1px rgba(60, 64, 67, 0.15);\n",
              "      fill: #174EA6;\n",
              "    }\n",
              "\n",
              "    [theme=dark] .colab-df-convert {\n",
              "      background-color: #3B4455;\n",
              "      fill: #D2E3FC;\n",
              "    }\n",
              "\n",
              "    [theme=dark] .colab-df-convert:hover {\n",
              "      background-color: #434B5C;\n",
              "      box-shadow: 0px 1px 3px 1px rgba(0, 0, 0, 0.15);\n",
              "      filter: drop-shadow(0px 1px 2px rgba(0, 0, 0, 0.3));\n",
              "      fill: #FFFFFF;\n",
              "    }\n",
              "  </style>\n",
              "\n",
              "      <script>\n",
              "        const buttonEl =\n",
              "          document.querySelector('#df-84f70fe3-eced-459e-b8d1-d648211fd345 button.colab-df-convert');\n",
              "        buttonEl.style.display =\n",
              "          google.colab.kernel.accessAllowed ? 'block' : 'none';\n",
              "\n",
              "        async function convertToInteractive(key) {\n",
              "          const element = document.querySelector('#df-84f70fe3-eced-459e-b8d1-d648211fd345');\n",
              "          const dataTable =\n",
              "            await google.colab.kernel.invokeFunction('convertToInteractive',\n",
              "                                                     [key], {});\n",
              "          if (!dataTable) return;\n",
              "\n",
              "          const docLinkHtml = 'Like what you see? Visit the ' +\n",
              "            '<a target=\"_blank\" href=https://colab.research.google.com/notebooks/data_table.ipynb>data table notebook</a>'\n",
              "            + ' to learn more about interactive tables.';\n",
              "          element.innerHTML = '';\n",
              "          dataTable['output_type'] = 'display_data';\n",
              "          await google.colab.output.renderOutput(dataTable, element);\n",
              "          const docLink = document.createElement('div');\n",
              "          docLink.innerHTML = docLinkHtml;\n",
              "          element.appendChild(docLink);\n",
              "        }\n",
              "      </script>\n",
              "    </div>\n",
              "  </div>\n",
              "  "
            ],
            "text/plain": [
              "   usuario                      data direction interna  operador  \\\n",
              "0   166377 2019-08-05 00:00:00+03:00       out    True  880022.0   \n",
              "1   166377 2019-08-05 00:00:00+03:00       out    True  880020.0   \n",
              "2   166377 2019-08-05 00:00:00+03:00       out    True  880020.0   \n",
              "3   166377 2019-08-05 00:00:00+03:00       out   False  880022.0   \n",
              "4   166377 2019-08-05 00:00:00+03:00       out   False  880020.0   \n",
              "\n",
              "   llamada_perdida  numero_llamadas  duracion_llamada  duracion_llamada_total  \\\n",
              "0             True                3                 0                       5   \n",
              "1             True                1                 0                       1   \n",
              "2            False                1                10                      18   \n",
              "3             True                3                 0                      25   \n",
              "4            False                2                 3                      29   \n",
              "\n",
              "  session_date  tiempo_espera calidad_llamada  \n",
              "0   2019-08-05              5            Malo  \n",
              "1   2019-08-05              1           Bueno  \n",
              "2   2019-08-05              8           Bueno  \n",
              "3   2019-08-05             25            Malo  \n",
              "4   2019-08-05             26           Bueno  "
            ]
          },
          "execution_count": 85,
          "metadata": {},
          "output_type": "execute_result"
        }
      ],
      "source": [
        "data.head()"
      ]
    },
    {
      "cell_type": "markdown",
      "metadata": {
        "id": "7IuywfXo_OiN"
      },
      "source": [
        "- **Llamadas salientes por operador** "
      ]
    },
    {
      "cell_type": "code",
      "execution_count": null,
      "metadata": {
        "colab": {
          "base_uri": "https://localhost:8080/"
        },
        "id": "kA9Cr9wCL4P6",
        "outputId": "d187ae5d-59a6-4607-985f-88db5c0e8244"
      },
      "outputs": [
        {
          "data": {
            "text/plain": [
              "901884.0    228\n",
              "887276.0    198\n",
              "901880.0    194\n",
              "885876.0    193\n",
              "891410.0    191\n",
              "           ... \n",
              "906076.0      1\n",
              "905862.0      1\n",
              "966686.0      1\n",
              "949420.0      1\n",
              "930326.0      1\n",
              "Name: operador, Length: 882, dtype: int64"
            ]
          },
          "execution_count": 86,
          "metadata": {},
          "output_type": "execute_result"
        }
      ],
      "source": [
        "out_calls = data.loc[data['direction'] == 'out', 'operador'].value_counts()\n",
        "out_calls"
      ]
    },
    {
      "cell_type": "code",
      "execution_count": null,
      "metadata": {
        "colab": {
          "base_uri": "https://localhost:8080/"
        },
        "id": "jN6B758FfYid",
        "outputId": "6e3c40d8-c214-4bba-aa9e-66855fdf4695"
      },
      "outputs": [
        {
          "data": {
            "text/plain": [
              "count    882.000000\n",
              "mean      32.667800\n",
              "std       38.145841\n",
              "min        1.000000\n",
              "25%        5.000000\n",
              "50%       19.000000\n",
              "75%       45.000000\n",
              "max      228.000000\n",
              "Name: operador, dtype: float64"
            ]
          },
          "execution_count": 87,
          "metadata": {},
          "output_type": "execute_result"
        }
      ],
      "source": [
        "out_calls.describe()"
      ]
    },
    {
      "cell_type": "code",
      "execution_count": null,
      "metadata": {
        "colab": {
          "base_uri": "https://localhost:8080/"
        },
        "id": "fINu-gZiMsl4",
        "outputId": "f32ed599-855b-4594-c822-343a92444903"
      },
      "outputs": [
        {
          "name": "stdout",
          "output_type": "stream",
          "text": [
            "El total de operadores con menos de 5 llamadas salientes es: 216\n"
          ]
        }
      ],
      "source": [
        "less_than_5_calls = out_calls[out_calls < 5 ].count()\n",
        "print(f\"El total de operadores con menos de 5 llamadas salientes es: {less_than_5_calls}\")"
      ]
    },
    {
      "cell_type": "code",
      "execution_count": null,
      "metadata": {
        "colab": {
          "base_uri": "https://localhost:8080/"
        },
        "id": "tBrZTGQUcA_N",
        "outputId": "153d37be-15a5-42c9-d86f-76d994076502"
      },
      "outputs": [
        {
          "name": "stdout",
          "output_type": "stream",
          "text": [
            "Cantidad de operadores malos:  216\n",
            "Cantidad de operadores buenos:  660\n"
          ]
        }
      ],
      "source": [
        "# Filtrar operadores con menos de 5 llamadas salientes\n",
        "out_calls = data.loc[data['direction'] == 'out', 'operador'].value_counts()\n",
        "inefficient_operators = out_calls[out_calls < 5].index.tolist()\n",
        "\n",
        "# Agregar columna indicando si el operador es bueno o malo\n",
        "data = data.copy()\n",
        "data['calidad_llamada_saliente'] = data['operador'].apply(lambda x: 'Bueno' if x not in inefficient_operators else 'Malo')\n",
        "\n",
        "# Contabilizar cantidad de operadores malos y buenos únicos\n",
        "good_bad_counts = data.drop_duplicates('operador')['calidad_llamada_saliente'].value_counts()\n",
        "\n",
        "# Restar operadores malos de los buenos\n",
        "good_minus_bad = good_bad_counts['Bueno'] - good_bad_counts['Malo']\n",
        "\n",
        "print(\"Cantidad de operadores malos: \", good_bad_counts['Malo'])\n",
        "print(\"Cantidad de operadores buenos: \", good_minus_bad)\n"
      ]
    },
    {
      "cell_type": "code",
      "execution_count": null,
      "metadata": {
        "colab": {
          "base_uri": "https://localhost:8080/",
          "height": 453
        },
        "id": "HtNTGLzKhzV8",
        "outputId": "e5d73507-c143-46ff-94af-301567d7b279"
      },
      "outputs": [
        {
          "data": {
            "image/png": "[encoded data removed]",
            "text/plain": [
              "<Figure size 1000x400 with 1 Axes>"
            ]
          },
          "metadata": {},
          "output_type": "display_data"
        }
      ],
      "source": [
        "# Definir los datos del gráfico\n",
        "labels = ['Buenos', 'Malos']\n",
        "values = [good_minus_bad, good_bad_counts['Malo']]\n",
        "total = sum(values)\n",
        "\n",
        "# Crear la figura y los ejes\n",
        "fig, ax = plt.subplots(figsize=(10, 4))\n",
        "\n",
        "# Crear el gráfico de barras horizontales\n",
        "bar_plot = ax.barh(labels, values, color=['#3CAEA3', '#ED553B'])\n",
        "\n",
        "# Agregar los valores encima de cada barra\n",
        "for i, v in enumerate(values):\n",
        "    ax.text(v + 1, i - 0.1, str(v), color='black', fontweight='bold')\n",
        "\n",
        "# Agregar el total al final\n",
        "ax.text(total + 1, 1.85, f'Total: {total}', color='black', fontweight='bold')\n",
        "\n",
        "# Establecer el título y los ejes\n",
        "ax.set_title('Llamadas salientes operadores eficientes vs ineficientes')\n",
        "ax.set_xlabel('Cantidad de operadores')\n",
        "ax.set_ylabel('Calidad de operadores')\n",
        "\n",
        "# Establecer los límites de los ejes\n",
        "ax.set_xlim([0, total + 20])\n",
        "ax.set_ylim([-0.5, 1.5])\n",
        "\n",
        "# Ocultar los ejes\n",
        "ax.spines['right'].set_visible(False)\n",
        "ax.spines['top'].set_visible(False)\n",
        "ax.spines['bottom'].set_visible(False)\n",
        "ax.spines['left'].set_visible(False)\n",
        "\n",
        "# Agregar el grid\n",
        "ax.grid(axis='x', linestyle='--')\n",
        "\n",
        "# Mostrar el gráfico\n",
        "plt.show()"
      ]
    },
    {
      "cell_type": "code",
      "execution_count": null,
      "metadata": {
        "colab": {
          "base_uri": "https://localhost:8080/",
          "height": 211
        },
        "id": "V7tVojV-7i6f",
        "outputId": "1129109b-bb74-4a50-d932-0f89bf90f3d5"
      },
      "outputs": [
        {
          "data": {
            "text/html": [
              "\n",
              "  <div id=\"df-14dbaa46-aba3-4e71-8105-7b6085a0f750\">\n",
              "    <div class=\"colab-df-container\">\n",
              "      <div>\n",
              "<style scoped>\n",
              "    .dataframe tbody tr th:only-of-type {\n",
              "        vertical-align: middle;\n",
              "    }\n",
              "\n",
              "    .dataframe tbody tr th {\n",
              "        vertical-align: top;\n",
              "    }\n",
              "\n",
              "    .dataframe thead th {\n",
              "        text-align: right;\n",
              "    }\n",
              "</style>\n",
              "<table border=\"1\" class=\"dataframe\">\n",
              "  <thead>\n",
              "    <tr style=\"text-align: right;\">\n",
              "      <th></th>\n",
              "      <th>usuario</th>\n",
              "      <th>data</th>\n",
              "      <th>direction</th>\n",
              "      <th>interna</th>\n",
              "      <th>operador</th>\n",
              "      <th>llamada_perdida</th>\n",
              "      <th>numero_llamadas</th>\n",
              "      <th>duracion_llamada</th>\n",
              "      <th>duracion_llamada_total</th>\n",
              "      <th>session_date</th>\n",
              "      <th>tiempo_espera</th>\n",
              "      <th>calidad_llamada</th>\n",
              "      <th>calidad_llamada_saliente</th>\n",
              "    </tr>\n",
              "  </thead>\n",
              "  <tbody>\n",
              "    <tr>\n",
              "      <th>0</th>\n",
              "      <td>166377</td>\n",
              "      <td>2019-08-05 00:00:00+03:00</td>\n",
              "      <td>out</td>\n",
              "      <td>True</td>\n",
              "      <td>880022.0</td>\n",
              "      <td>True</td>\n",
              "      <td>3</td>\n",
              "      <td>0</td>\n",
              "      <td>5</td>\n",
              "      <td>2019-08-05</td>\n",
              "      <td>5</td>\n",
              "      <td>Malo</td>\n",
              "      <td>Bueno</td>\n",
              "    </tr>\n",
              "    <tr>\n",
              "      <th>1</th>\n",
              "      <td>166377</td>\n",
              "      <td>2019-08-05 00:00:00+03:00</td>\n",
              "      <td>out</td>\n",
              "      <td>True</td>\n",
              "      <td>880020.0</td>\n",
              "      <td>True</td>\n",
              "      <td>1</td>\n",
              "      <td>0</td>\n",
              "      <td>1</td>\n",
              "      <td>2019-08-05</td>\n",
              "      <td>1</td>\n",
              "      <td>Bueno</td>\n",
              "      <td>Bueno</td>\n",
              "    </tr>\n",
              "  </tbody>\n",
              "</table>\n",
              "</div>\n",
              "      <button class=\"colab-df-convert\" onclick=\"convertToInteractive('df-14dbaa46-aba3-4e71-8105-7b6085a0f750')\"\n",
              "              title=\"Convert this dataframe to an interactive table.\"\n",
              "              style=\"display:none;\">\n",
              "        \n",
              "  <svg xmlns=\"http://www.w3.org/2000/svg\" height=\"24px\"viewBox=\"0 0 24 24\"\n",
              "       width=\"24px\">\n",
              "    <path d=\"M0 0h24v24H0V0z\" fill=\"none\"/>\n",
              "    <path d=\"M18.56 5.44l.94 2.06.94-2.06 2.06-.94-2.06-.94-.94-2.06-.94 2.06-2.06.94zm-11 1L8.5 8.5l.94-2.06 2.06-.94-2.06-.94L8.5 2.5l-.94 2.06-2.06.94zm10 10l.94 2.06.94-2.06 2.06-.94-2.06-.94-.94-2.06-.94 2.06-2.06.94z\"/><path d=\"M17.41 7.96l-1.37-1.37c-.4-.4-.92-.59-1.43-.59-.52 0-1.04.2-1.43.59L10.3 9.45l-7.72 7.72c-.78.78-.78 2.05 0 2.83L4 21.41c.39.39.9.59 1.41.59.51 0 1.02-.2 1.41-.59l7.78-7.78 2.81-2.81c.8-.78.8-2.07 0-2.86zM5.41 20L4 18.59l7.72-7.72 1.47 1.35L5.41 20z\"/>\n",
              "  </svg>\n",
              "      </button>\n",
              "      \n",
              "  <style>\n",
              "    .colab-df-container {\n",
              "      display:flex;\n",
              "      flex-wrap:wrap;\n",
              "      gap: 12px;\n",
              "    }\n",
              "\n",
              "    .colab-df-convert {\n",
              "      background-color: #E8F0FE;\n",
              "      border: none;\n",
              "      border-radius: 50%;\n",
              "      cursor: pointer;\n",
              "      display: none;\n",
              "      fill: #1967D2;\n",
              "      height: 32px;\n",
              "      padding: 0 0 0 0;\n",
              "      width: 32px;\n",
              "    }\n",
              "\n",
              "    .colab-df-convert:hover {\n",
              "      background-color: #E2EBFA;\n",
              "      box-shadow: 0px 1px 2px rgba(60, 64, 67, 0.3), 0px 1px 3px 1px rgba(60, 64, 67, 0.15);\n",
              "      fill: #174EA6;\n",
              "    }\n",
              "\n",
              "    [theme=dark] .colab-df-convert {\n",
              "      background-color: #3B4455;\n",
              "      fill: #D2E3FC;\n",
              "    }\n",
              "\n",
              "    [theme=dark] .colab-df-convert:hover {\n",
              "      background-color: #434B5C;\n",
              "      box-shadow: 0px 1px 3px 1px rgba(0, 0, 0, 0.15);\n",
              "      filter: drop-shadow(0px 1px 2px rgba(0, 0, 0, 0.3));\n",
              "      fill: #FFFFFF;\n",
              "    }\n",
              "  </style>\n",
              "\n",
              "      <script>\n",
              "        const buttonEl =\n",
              "          document.querySelector('#df-14dbaa46-aba3-4e71-8105-7b6085a0f750 button.colab-df-convert');\n",
              "        buttonEl.style.display =\n",
              "          google.colab.kernel.accessAllowed ? 'block' : 'none';\n",
              "\n",
              "        async function convertToInteractive(key) {\n",
              "          const element = document.querySelector('#df-14dbaa46-aba3-4e71-8105-7b6085a0f750');\n",
              "          const dataTable =\n",
              "            await google.colab.kernel.invokeFunction('convertToInteractive',\n",
              "                                                     [key], {});\n",
              "          if (!dataTable) return;\n",
              "\n",
              "          const docLinkHtml = 'Like what you see? Visit the ' +\n",
              "            '<a target=\"_blank\" href=https://colab.research.google.com/notebooks/data_table.ipynb>data table notebook</a>'\n",
              "            + ' to learn more about interactive tables.';\n",
              "          element.innerHTML = '';\n",
              "          dataTable['output_type'] = 'display_data';\n",
              "          await google.colab.output.renderOutput(dataTable, element);\n",
              "          const docLink = document.createElement('div');\n",
              "          docLink.innerHTML = docLinkHtml;\n",
              "          element.appendChild(docLink);\n",
              "        }\n",
              "      </script>\n",
              "    </div>\n",
              "  </div>\n",
              "  "
            ],
            "text/plain": [
              "   usuario                      data direction interna  operador  \\\n",
              "0   166377 2019-08-05 00:00:00+03:00       out    True  880022.0   \n",
              "1   166377 2019-08-05 00:00:00+03:00       out    True  880020.0   \n",
              "\n",
              "   llamada_perdida  numero_llamadas  duracion_llamada  duracion_llamada_total  \\\n",
              "0             True                3                 0                       5   \n",
              "1             True                1                 0                       1   \n",
              "\n",
              "  session_date  tiempo_espera calidad_llamada calidad_llamada_saliente  \n",
              "0   2019-08-05              5            Malo                    Bueno  \n",
              "1   2019-08-05              1           Bueno                    Bueno  "
            ]
          },
          "execution_count": 91,
          "metadata": {},
          "output_type": "execute_result"
        }
      ],
      "source": [
        "data.head(2)"
      ]
    },
    {
      "cell_type": "markdown",
      "metadata": {
        "id": "-7gOl1xi_DZF"
      },
      "source": [
        "- **Duración de llamada por operador** "
      ]
    },
    {
      "cell_type": "code",
      "execution_count": null,
      "metadata": {
        "colab": {
          "base_uri": "https://localhost:8080/"
        },
        "id": "IJYaBPdz__8p",
        "outputId": "d0fd486c-71c2-4aa0-c1c9-065b87032db0"
      },
      "outputs": [
        {
          "data": {
            "text/plain": [
              "1010.9400110867417"
            ]
          },
          "execution_count": 92,
          "metadata": {},
          "output_type": "execute_result"
        }
      ],
      "source": [
        "data['duracion_llamada'].mean()"
      ]
    },
    {
      "cell_type": "code",
      "execution_count": null,
      "metadata": {
        "colab": {
          "base_uri": "https://localhost:8080/"
        },
        "id": "9yobCQSRAHI_",
        "outputId": "3a6124ab-6c3c-4f5d-98ea-27e51d2eaaf4"
      },
      "outputs": [
        {
          "data": {
            "text/plain": [
              "count     41491.000000\n",
              "mean       1010.940011\n",
              "std        4066.666485\n",
              "min           0.000000\n",
              "25%           0.000000\n",
              "50%         106.000000\n",
              "75%         772.000000\n",
              "max      144395.000000\n",
              "Name: duracion_llamada, dtype: float64"
            ]
          },
          "execution_count": 93,
          "metadata": {},
          "output_type": "execute_result"
        }
      ],
      "source": [
        "data['duracion_llamada'].describe()"
      ]
    },
    {
      "cell_type": "markdown",
      "metadata": {
        "id": "If_fMMeW-Y4n"
      },
      "source": [
        "- **Tiempo de espera de llamada por operador** "
      ]
    },
    {
      "cell_type": "code",
      "execution_count": null,
      "metadata": {
        "colab": {
          "base_uri": "https://localhost:8080/"
        },
        "id": "3XiTWgEQzqO2",
        "outputId": "ec2a1bbf-849c-4b8b-a5e9-dd6768bf8a44"
      },
      "outputs": [
        {
          "data": {
            "text/plain": [
              "count    41491.000000\n",
              "mean       312.213227\n",
              "std       1176.102940\n",
              "min          0.000000\n",
              "25%         19.000000\n",
              "50%         60.000000\n",
              "75%        219.000000\n",
              "max      46474.000000\n",
              "Name: tiempo_espera, dtype: float64"
            ]
          },
          "execution_count": 94,
          "metadata": {},
          "output_type": "execute_result"
        }
      ],
      "source": [
        "data['tiempo_espera'].describe()"
      ]
    },
    {
      "cell_type": "code",
      "execution_count": null,
      "metadata": {
        "colab": {
          "base_uri": "https://localhost:8080/"
        },
        "id": "r45FefscIvM7",
        "outputId": "1d265a64-b0cd-494e-d324-4ffc8de891ea"
      },
      "outputs": [
        {
          "name": "stdout",
          "output_type": "stream",
          "text": [
            "Cantidad de operadores buenos:  591\n",
            "Cantidad de operadores malos:  474\n"
          ]
        }
      ],
      "source": [
        "# Crear columna indicando si el tiempo de espera es bueno o malo\n",
        "data['calidad_tiempo'] = data['tiempo_espera'].apply(lambda x: 'Malo' if x > 219 else 'Bueno')\n",
        "\n",
        "# Contabilizar cantidad de operadores buenos y malos\n",
        "cantidad_calidad_tiempo = data.groupby('calidad_tiempo')['operador'].nunique()\n",
        "\n",
        "# Restar operadores malos de los buenos\n",
        "xy = cantidad_calidad_tiempo['Bueno'] - cantidad_calidad_tiempo['Malo']\n",
        "\n",
        "# Imprimir resultados\n",
        "print(\"Cantidad de operadores buenos: \", xy)\n",
        "print(\"Cantidad de operadores malos: \", cantidad_calidad_tiempo['Malo'])"
      ]
    },
    {
      "cell_type": "code",
      "execution_count": null,
      "metadata": {
        "colab": {
          "base_uri": "https://localhost:8080/",
          "height": 453
        },
        "id": "TLTXXJC81Px4",
        "outputId": "43dc2741-c09f-4628-8411-8d4bef71d83d"
      },
      "outputs": [
        {
          "data": {
            "image/png": "[encoded data removed]",
            "text/plain": [
              "<Figure size 1000x400 with 1 Axes>"
            ]
          },
          "metadata": {},
          "output_type": "display_data"
        }
      ],
      "source": [
        "# Definir los datos del gráfico\n",
        "labels = ['Buenos', 'Malos']\n",
        "values = [xy, cantidad_calidad_tiempo['Malo']]\n",
        "total = sum(values)\n",
        "\n",
        "# Crear la figura y los ejes\n",
        "fig, ax = plt.subplots(figsize=(10, 4))\n",
        "\n",
        "# Crear el gráfico de barras horizontales\n",
        "bar_plot = ax.barh(labels, values, color=['#1f77b4', '#ff7f0e'])\n",
        "\n",
        "# Agregar los valores encima de cada barra\n",
        "for i, v in enumerate(values):\n",
        "    ax.text(v + 1, i - 0.1, str(v), color='black', fontweight='bold')\n",
        "\n",
        "# Agregar el total al final\n",
        "ax.text(total + 1, 1.85, f'Total: {total}', color='black', fontweight='bold')\n",
        "\n",
        "# Establecer el título y los ejes\n",
        "ax.set_title('Tiempo Espera de llamadas por Operadores eficientes vs ineficientes')\n",
        "ax.set_xlabel('Cantidad de operadores')\n",
        "ax.set_ylabel('Calidad de operadores')\n",
        "\n",
        "# Establecer los límites de los ejes\n",
        "ax.set_xlim([0, total + 20])\n",
        "ax.set_ylim([-0.5, 1.5])\n",
        "\n",
        "# Ocultar los ejes\n",
        "ax.spines['right'].set_visible(False)\n",
        "ax.spines['top'].set_visible(False)\n",
        "ax.spines['bottom'].set_visible(False)\n",
        "ax.spines['left'].set_visible(False)\n",
        "\n",
        "# Agregar el grid\n",
        "ax.grid(axis='x', linestyle='--')\n",
        "\n",
        "# Mostrar el gráfico\n",
        "plt.show()"
      ]
    },
    {
      "cell_type": "code",
      "execution_count": null,
      "metadata": {
        "colab": {
          "base_uri": "https://localhost:8080/",
          "height": 211
        },
        "id": "YyBQAtuRcKsH",
        "outputId": "d1bdb805-0375-49d9-9e62-1ea144a23111"
      },
      "outputs": [
        {
          "data": {
            "text/html": [
              "\n",
              "  <div id=\"df-f85bbff3-4651-4b90-9e8e-f5a03ed59318\">\n",
              "    <div class=\"colab-df-container\">\n",
              "      <div>\n",
              "<style scoped>\n",
              "    .dataframe tbody tr th:only-of-type {\n",
              "        vertical-align: middle;\n",
              "    }\n",
              "\n",
              "    .dataframe tbody tr th {\n",
              "        vertical-align: top;\n",
              "    }\n",
              "\n",
              "    .dataframe thead th {\n",
              "        text-align: right;\n",
              "    }\n",
              "</style>\n",
              "<table border=\"1\" class=\"dataframe\">\n",
              "  <thead>\n",
              "    <tr style=\"text-align: right;\">\n",
              "      <th></th>\n",
              "      <th>usuario</th>\n",
              "      <th>data</th>\n",
              "      <th>direction</th>\n",
              "      <th>interna</th>\n",
              "      <th>operador</th>\n",
              "      <th>llamada_perdida</th>\n",
              "      <th>numero_llamadas</th>\n",
              "      <th>duracion_llamada</th>\n",
              "      <th>duracion_llamada_total</th>\n",
              "      <th>session_date</th>\n",
              "      <th>tiempo_espera</th>\n",
              "      <th>calidad_llamada</th>\n",
              "      <th>calidad_llamada_saliente</th>\n",
              "      <th>calidad_tiempo</th>\n",
              "    </tr>\n",
              "  </thead>\n",
              "  <tbody>\n",
              "    <tr>\n",
              "      <th>0</th>\n",
              "      <td>166377</td>\n",
              "      <td>2019-08-05 00:00:00+03:00</td>\n",
              "      <td>out</td>\n",
              "      <td>True</td>\n",
              "      <td>880022.0</td>\n",
              "      <td>True</td>\n",
              "      <td>3</td>\n",
              "      <td>0</td>\n",
              "      <td>5</td>\n",
              "      <td>2019-08-05</td>\n",
              "      <td>5</td>\n",
              "      <td>Malo</td>\n",
              "      <td>Bueno</td>\n",
              "      <td>Bueno</td>\n",
              "    </tr>\n",
              "    <tr>\n",
              "      <th>1</th>\n",
              "      <td>166377</td>\n",
              "      <td>2019-08-05 00:00:00+03:00</td>\n",
              "      <td>out</td>\n",
              "      <td>True</td>\n",
              "      <td>880020.0</td>\n",
              "      <td>True</td>\n",
              "      <td>1</td>\n",
              "      <td>0</td>\n",
              "      <td>1</td>\n",
              "      <td>2019-08-05</td>\n",
              "      <td>1</td>\n",
              "      <td>Bueno</td>\n",
              "      <td>Bueno</td>\n",
              "      <td>Bueno</td>\n",
              "    </tr>\n",
              "  </tbody>\n",
              "</table>\n",
              "</div>\n",
              "      <button class=\"colab-df-convert\" onclick=\"convertToInteractive('df-f85bbff3-4651-4b90-9e8e-f5a03ed59318')\"\n",
              "              title=\"Convert this dataframe to an interactive table.\"\n",
              "              style=\"display:none;\">\n",
              "        \n",
              "  <svg xmlns=\"http://www.w3.org/2000/svg\" height=\"24px\"viewBox=\"0 0 24 24\"\n",
              "       width=\"24px\">\n",
              "    <path d=\"M0 0h24v24H0V0z\" fill=\"none\"/>\n",
              "    <path d=\"M18.56 5.44l.94 2.06.94-2.06 2.06-.94-2.06-.94-.94-2.06-.94 2.06-2.06.94zm-11 1L8.5 8.5l.94-2.06 2.06-.94-2.06-.94L8.5 2.5l-.94 2.06-2.06.94zm10 10l.94 2.06.94-2.06 2.06-.94-2.06-.94-.94-2.06-.94 2.06-2.06.94z\"/><path d=\"M17.41 7.96l-1.37-1.37c-.4-.4-.92-.59-1.43-.59-.52 0-1.04.2-1.43.59L10.3 9.45l-7.72 7.72c-.78.78-.78 2.05 0 2.83L4 21.41c.39.39.9.59 1.41.59.51 0 1.02-.2 1.41-.59l7.78-7.78 2.81-2.81c.8-.78.8-2.07 0-2.86zM5.41 20L4 18.59l7.72-7.72 1.47 1.35L5.41 20z\"/>\n",
              "  </svg>\n",
              "      </button>\n",
              "      \n",
              "  <style>\n",
              "    .colab-df-container {\n",
              "      display:flex;\n",
              "      flex-wrap:wrap;\n",
              "      gap: 12px;\n",
              "    }\n",
              "\n",
              "    .colab-df-convert {\n",
              "      background-color: #E8F0FE;\n",
              "      border: none;\n",
              "      border-radius: 50%;\n",
              "      cursor: pointer;\n",
              "      display: none;\n",
              "      fill: #1967D2;\n",
              "      height: 32px;\n",
              "      padding: 0 0 0 0;\n",
              "      width: 32px;\n",
              "    }\n",
              "\n",
              "    .colab-df-convert:hover {\n",
              "      background-color: #E2EBFA;\n",
              "      box-shadow: 0px 1px 2px rgba(60, 64, 67, 0.3), 0px 1px 3px 1px rgba(60, 64, 67, 0.15);\n",
              "      fill: #174EA6;\n",
              "    }\n",
              "\n",
              "    [theme=dark] .colab-df-convert {\n",
              "      background-color: #3B4455;\n",
              "      fill: #D2E3FC;\n",
              "    }\n",
              "\n",
              "    [theme=dark] .colab-df-convert:hover {\n",
              "      background-color: #434B5C;\n",
              "      box-shadow: 0px 1px 3px 1px rgba(0, 0, 0, 0.15);\n",
              "      filter: drop-shadow(0px 1px 2px rgba(0, 0, 0, 0.3));\n",
              "      fill: #FFFFFF;\n",
              "    }\n",
              "  </style>\n",
              "\n",
              "      <script>\n",
              "        const buttonEl =\n",
              "          document.querySelector('#df-f85bbff3-4651-4b90-9e8e-f5a03ed59318 button.colab-df-convert');\n",
              "        buttonEl.style.display =\n",
              "          google.colab.kernel.accessAllowed ? 'block' : 'none';\n",
              "\n",
              "        async function convertToInteractive(key) {\n",
              "          const element = document.querySelector('#df-f85bbff3-4651-4b90-9e8e-f5a03ed59318');\n",
              "          const dataTable =\n",
              "            await google.colab.kernel.invokeFunction('convertToInteractive',\n",
              "                                                     [key], {});\n",
              "          if (!dataTable) return;\n",
              "\n",
              "          const docLinkHtml = 'Like what you see? Visit the ' +\n",
              "            '<a target=\"_blank\" href=https://colab.research.google.com/notebooks/data_table.ipynb>data table notebook</a>'\n",
              "            + ' to learn more about interactive tables.';\n",
              "          element.innerHTML = '';\n",
              "          dataTable['output_type'] = 'display_data';\n",
              "          await google.colab.output.renderOutput(dataTable, element);\n",
              "          const docLink = document.createElement('div');\n",
              "          docLink.innerHTML = docLinkHtml;\n",
              "          element.appendChild(docLink);\n",
              "        }\n",
              "      </script>\n",
              "    </div>\n",
              "  </div>\n",
              "  "
            ],
            "text/plain": [
              "   usuario                      data direction interna  operador  \\\n",
              "0   166377 2019-08-05 00:00:00+03:00       out    True  880022.0   \n",
              "1   166377 2019-08-05 00:00:00+03:00       out    True  880020.0   \n",
              "\n",
              "   llamada_perdida  numero_llamadas  duracion_llamada  duracion_llamada_total  \\\n",
              "0             True                3                 0                       5   \n",
              "1             True                1                 0                       1   \n",
              "\n",
              "  session_date  tiempo_espera calidad_llamada calidad_llamada_saliente  \\\n",
              "0   2019-08-05              5            Malo                    Bueno   \n",
              "1   2019-08-05              1           Bueno                    Bueno   \n",
              "\n",
              "  calidad_tiempo  \n",
              "0          Bueno  \n",
              "1          Bueno  "
            ]
          },
          "execution_count": 97,
          "metadata": {},
          "output_type": "execute_result"
        }
      ],
      "source": [
        "data.head(2)"
      ]
    },
    {
      "cell_type": "markdown",
      "metadata": {
        "id": "yVJARTXqJQr2"
      },
      "source": [
        "- **Utiliza estos datos para dividir a los operadores en eficaz como ineficaces**"
      ]
    },
    {
      "cell_type": "code",
      "execution_count": null,
      "metadata": {
        "id": "kvJDN_zkFdI9"
      },
      "outputs": [],
      "source": [
        "def clasificar_operadores(df):\n",
        "    # Crear una nueva columna para la calificación del operador\n",
        "    df['calificacion_operador'] = ''\n",
        "    \n",
        "    # Recorrer el DataFrame\n",
        "    for index, row in df.iterrows():\n",
        "        # Obtener la calidad de la llamada, de la llamada saliente y del tiempo\n",
        "        calidad_llamada = row['calidad_llamada']\n",
        "        calidad_llamada_saliente = row['calidad_llamada_saliente']\n",
        "        calidad_tiempo = row['calidad_tiempo']\n",
        "        \n",
        "        # Contar la cantidad de valores \"buenos\" en las tres columnas\n",
        "        buenos = 0\n",
        "        if calidad_llamada == 'Bueno':\n",
        "            buenos += 1\n",
        "        if calidad_llamada_saliente == 'Bueno':\n",
        "            buenos += 1\n",
        "        if calidad_tiempo == 'Bueno':\n",
        "            buenos += 1\n",
        "        \n",
        "        # Asignar una categoría al operador en función de la cantidad de valores \"buenos\"\n",
        "        if buenos == 3:\n",
        "            df.at[index, 'calificacion_operador'] = 'Bueno'\n",
        "        elif buenos == 2:\n",
        "            df.at[index, 'calificacion_operador'] = 'Regular'\n",
        "        else:\n",
        "            df.at[index, 'calificacion_operador'] = 'Malo'\n",
        "    \n",
        "    return df\n"
      ]
    },
    {
      "cell_type": "code",
      "execution_count": null,
      "metadata": {
        "id": "xTvTboFdF0e7"
      },
      "outputs": [],
      "source": [
        "df = clasificar_operadores(data)"
      ]
    },
    {
      "cell_type": "code",
      "execution_count": null,
      "metadata": {
        "colab": {
          "base_uri": "https://localhost:8080/"
        },
        "id": "3Rw2UUchFt2X",
        "outputId": "2827f26a-6f46-4caf-ee00-f8d7ff545739"
      },
      "outputs": [
        {
          "name": "stdout",
          "output_type": "stream",
          "text": [
            "     calificacion_operador  operador  cantidad_operadores\n",
            "0                    Bueno  880020.0                   20\n",
            "1                    Bueno  880240.0                   12\n",
            "2                    Bueno  881278.0                    8\n",
            "3                    Bueno  882476.0                    3\n",
            "4                    Bueno  882680.0                   43\n",
            "...                    ...       ...                  ...\n",
            "1534               Regular  972408.0                    2\n",
            "1535               Regular  972410.0                    1\n",
            "1536               Regular  972412.0                    2\n",
            "1537               Regular  972460.0                    1\n",
            "1538               Regular  973120.0                    2\n",
            "\n",
            "[1539 rows x 3 columns]\n"
          ]
        }
      ],
      "source": [
        "operadores_por_categoria = df.groupby(['calificacion_operador', 'operador']).size().reset_index(name='cantidad_operadores')\n",
        "print(operadores_por_categoria)"
      ]
    },
    {
      "cell_type": "code",
      "execution_count": null,
      "metadata": {
        "colab": {
          "base_uri": "https://localhost:8080/"
        },
        "id": "2J3LkRDfGvSU",
        "outputId": "7eb22e16-5607-4297-8690-8addfd052753"
      },
      "outputs": [
        {
          "name": "stdout",
          "output_type": "stream",
          "text": [
            "Regular    22422\n",
            "Bueno      12204\n",
            "Malo        6865\n",
            "Name: calificacion_operador, dtype: int64\n"
          ]
        }
      ],
      "source": [
        "df = clasificar_operadores(data)\n",
        "operadores_por_categoria = df['calificacion_operador'].value_counts()\n",
        "print(operadores_por_categoria)"
      ]
    },
    {
      "cell_type": "code",
      "execution_count": null,
      "metadata": {
        "colab": {
          "base_uri": "https://localhost:8080/"
        },
        "id": "qU1m7-TGHKzv",
        "outputId": "fc9fa9c3-19a1-430a-b40d-1d605e562314"
      },
      "outputs": [
        {
          "name": "stdout",
          "output_type": "stream",
          "text": [
            "calificacion_operador\n",
            "Bueno      637\n",
            "Malo       213\n",
            "Regular    689\n",
            "Name: operador, dtype: int64\n"
          ]
        }
      ],
      "source": [
        "df = clasificar_operadores(data)\n",
        "operadores_unicos_por_categoria = df.groupby('calificacion_operador')['operador'].nunique()\n",
        "print(operadores_unicos_por_categoria)\n"
      ]
    },
    {
      "cell_type": "code",
      "execution_count": null,
      "metadata": {
        "colab": {
          "base_uri": "https://localhost:8080/",
          "height": 473
        },
        "id": "53PunTxa-t8t",
        "outputId": "57be2aa5-f400-4d0a-d8a5-47778c284ac0"
      },
      "outputs": [
        {
          "data": {
            "image/png": "[encoded data removed]",
            "text/plain": [
              "<Figure size 640x480 with 1 Axes>"
            ]
          },
          "metadata": {},
          "output_type": "display_data"
        }
      ],
      "source": [
        "df = clasificar_operadores(data)\n",
        "operadores_unicos_por_categoria = df.groupby('calificacion_operador')['operador'].nunique()\n",
        "\n",
        "operadores_unicos_por_categoria = operadores_unicos_por_categoria.sort_values(ascending=False)\n",
        "\n",
        "colors = ['#E69F00', '#56B4E9', '#009E73']\n",
        "\n",
        "fig, ax = plt.subplots()\n",
        "operadores_unicos_por_categoria.plot(kind='bar', color=colors, ax=ax)\n",
        "\n",
        "ax.set_title('Número de operadores únicos por categoría')\n",
        "ax.set_xlabel('Categoría')\n",
        "ax.set_ylabel('Número de operadores únicos')\n",
        "\n",
        "plt.xticks(rotation=0)\n",
        "\n",
        "legend_elements = [plt.Rectangle((0,0),1,1, color=color) for color in colors]\n",
        "ax.legend(legend_elements, operadores_unicos_por_categoria.index)\n",
        "\n",
        "plt.show()"
      ]
    },
    {
      "cell_type": "markdown",
      "metadata": {
        "id": "EzVGiTdLAJqp"
      },
      "source": [
        "# Etapa 3 Prueba las hipótesis estadísticas"
      ]
    },
    {
      "cell_type": "code",
      "execution_count": null,
      "metadata": {
        "colab": {
          "base_uri": "https://localhost:8080/",
          "height": 357
        },
        "id": "pe-Tmcy4a0sE",
        "outputId": "85a18a25-2bfb-42a6-adc9-46b6f9c900b7"
      },
      "outputs": [
        {
          "data": {
            "text/html": [
              "\n",
              "  <div id=\"df-8956ca72-9615-446d-bf9c-a604e2ca11b4\">\n",
              "    <div class=\"colab-df-container\">\n",
              "      <div>\n",
              "<style scoped>\n",
              "    .dataframe tbody tr th:only-of-type {\n",
              "        vertical-align: middle;\n",
              "    }\n",
              "\n",
              "    .dataframe tbody tr th {\n",
              "        vertical-align: top;\n",
              "    }\n",
              "\n",
              "    .dataframe thead th {\n",
              "        text-align: right;\n",
              "    }\n",
              "</style>\n",
              "<table border=\"1\" class=\"dataframe\">\n",
              "  <thead>\n",
              "    <tr style=\"text-align: right;\">\n",
              "      <th></th>\n",
              "      <th>usuario</th>\n",
              "      <th>data</th>\n",
              "      <th>direction</th>\n",
              "      <th>interna</th>\n",
              "      <th>operador</th>\n",
              "      <th>llamada_perdida</th>\n",
              "      <th>numero_llamadas</th>\n",
              "      <th>duracion_llamada</th>\n",
              "      <th>duracion_llamada_total</th>\n",
              "      <th>session_date</th>\n",
              "      <th>tiempo_espera</th>\n",
              "      <th>calidad_llamada</th>\n",
              "      <th>calidad_llamada_saliente</th>\n",
              "      <th>calidad_tiempo</th>\n",
              "      <th>calificacion_operador</th>\n",
              "    </tr>\n",
              "  </thead>\n",
              "  <tbody>\n",
              "    <tr>\n",
              "      <th>0</th>\n",
              "      <td>166377</td>\n",
              "      <td>2019-08-05 00:00:00+03:00</td>\n",
              "      <td>out</td>\n",
              "      <td>True</td>\n",
              "      <td>880022.0</td>\n",
              "      <td>True</td>\n",
              "      <td>3</td>\n",
              "      <td>0</td>\n",
              "      <td>5</td>\n",
              "      <td>2019-08-05</td>\n",
              "      <td>5</td>\n",
              "      <td>Malo</td>\n",
              "      <td>Bueno</td>\n",
              "      <td>Bueno</td>\n",
              "      <td>Regular</td>\n",
              "    </tr>\n",
              "    <tr>\n",
              "      <th>1</th>\n",
              "      <td>166377</td>\n",
              "      <td>2019-08-05 00:00:00+03:00</td>\n",
              "      <td>out</td>\n",
              "      <td>True</td>\n",
              "      <td>880020.0</td>\n",
              "      <td>True</td>\n",
              "      <td>1</td>\n",
              "      <td>0</td>\n",
              "      <td>1</td>\n",
              "      <td>2019-08-05</td>\n",
              "      <td>1</td>\n",
              "      <td>Bueno</td>\n",
              "      <td>Bueno</td>\n",
              "      <td>Bueno</td>\n",
              "      <td>Bueno</td>\n",
              "    </tr>\n",
              "    <tr>\n",
              "      <th>2</th>\n",
              "      <td>166377</td>\n",
              "      <td>2019-08-05 00:00:00+03:00</td>\n",
              "      <td>out</td>\n",
              "      <td>True</td>\n",
              "      <td>880020.0</td>\n",
              "      <td>False</td>\n",
              "      <td>1</td>\n",
              "      <td>10</td>\n",
              "      <td>18</td>\n",
              "      <td>2019-08-05</td>\n",
              "      <td>8</td>\n",
              "      <td>Bueno</td>\n",
              "      <td>Bueno</td>\n",
              "      <td>Bueno</td>\n",
              "      <td>Bueno</td>\n",
              "    </tr>\n",
              "    <tr>\n",
              "      <th>3</th>\n",
              "      <td>166377</td>\n",
              "      <td>2019-08-05 00:00:00+03:00</td>\n",
              "      <td>out</td>\n",
              "      <td>False</td>\n",
              "      <td>880022.0</td>\n",
              "      <td>True</td>\n",
              "      <td>3</td>\n",
              "      <td>0</td>\n",
              "      <td>25</td>\n",
              "      <td>2019-08-05</td>\n",
              "      <td>25</td>\n",
              "      <td>Malo</td>\n",
              "      <td>Bueno</td>\n",
              "      <td>Bueno</td>\n",
              "      <td>Regular</td>\n",
              "    </tr>\n",
              "    <tr>\n",
              "      <th>4</th>\n",
              "      <td>166377</td>\n",
              "      <td>2019-08-05 00:00:00+03:00</td>\n",
              "      <td>out</td>\n",
              "      <td>False</td>\n",
              "      <td>880020.0</td>\n",
              "      <td>False</td>\n",
              "      <td>2</td>\n",
              "      <td>3</td>\n",
              "      <td>29</td>\n",
              "      <td>2019-08-05</td>\n",
              "      <td>26</td>\n",
              "      <td>Bueno</td>\n",
              "      <td>Bueno</td>\n",
              "      <td>Bueno</td>\n",
              "      <td>Bueno</td>\n",
              "    </tr>\n",
              "  </tbody>\n",
              "</table>\n",
              "</div>\n",
              "      <button class=\"colab-df-convert\" onclick=\"convertToInteractive('df-8956ca72-9615-446d-bf9c-a604e2ca11b4')\"\n",
              "              title=\"Convert this dataframe to an interactive table.\"\n",
              "              style=\"display:none;\">\n",
              "        \n",
              "  <svg xmlns=\"http://www.w3.org/2000/svg\" height=\"24px\"viewBox=\"0 0 24 24\"\n",
              "       width=\"24px\">\n",
              "    <path d=\"M0 0h24v24H0V0z\" fill=\"none\"/>\n",
              "    <path d=\"M18.56 5.44l.94 2.06.94-2.06 2.06-.94-2.06-.94-.94-2.06-.94 2.06-2.06.94zm-11 1L8.5 8.5l.94-2.06 2.06-.94-2.06-.94L8.5 2.5l-.94 2.06-2.06.94zm10 10l.94 2.06.94-2.06 2.06-.94-2.06-.94-.94-2.06-.94 2.06-2.06.94z\"/><path d=\"M17.41 7.96l-1.37-1.37c-.4-.4-.92-.59-1.43-.59-.52 0-1.04.2-1.43.59L10.3 9.45l-7.72 7.72c-.78.78-.78 2.05 0 2.83L4 21.41c.39.39.9.59 1.41.59.51 0 1.02-.2 1.41-.59l7.78-7.78 2.81-2.81c.8-.78.8-2.07 0-2.86zM5.41 20L4 18.59l7.72-7.72 1.47 1.35L5.41 20z\"/>\n",
              "  </svg>\n",
              "      </button>\n",
              "      \n",
              "  <style>\n",
              "    .colab-df-container {\n",
              "      display:flex;\n",
              "      flex-wrap:wrap;\n",
              "      gap: 12px;\n",
              "    }\n",
              "\n",
              "    .colab-df-convert {\n",
              "      background-color: #E8F0FE;\n",
              "      border: none;\n",
              "      border-radius: 50%;\n",
              "      cursor: pointer;\n",
              "      display: none;\n",
              "      fill: #1967D2;\n",
              "      height: 32px;\n",
              "      padding: 0 0 0 0;\n",
              "      width: 32px;\n",
              "    }\n",
              "\n",
              "    .colab-df-convert:hover {\n",
              "      background-color: #E2EBFA;\n",
              "      box-shadow: 0px 1px 2px rgba(60, 64, 67, 0.3), 0px 1px 3px 1px rgba(60, 64, 67, 0.15);\n",
              "      fill: #174EA6;\n",
              "    }\n",
              "\n",
              "    [theme=dark] .colab-df-convert {\n",
              "      background-color: #3B4455;\n",
              "      fill: #D2E3FC;\n",
              "    }\n",
              "\n",
              "    [theme=dark] .colab-df-convert:hover {\n",
              "      background-color: #434B5C;\n",
              "      box-shadow: 0px 1px 3px 1px rgba(0, 0, 0, 0.15);\n",
              "      filter: drop-shadow(0px 1px 2px rgba(0, 0, 0, 0.3));\n",
              "      fill: #FFFFFF;\n",
              "    }\n",
              "  </style>\n",
              "\n",
              "      <script>\n",
              "        const buttonEl =\n",
              "          document.querySelector('#df-8956ca72-9615-446d-bf9c-a604e2ca11b4 button.colab-df-convert');\n",
              "        buttonEl.style.display =\n",
              "          google.colab.kernel.accessAllowed ? 'block' : 'none';\n",
              "\n",
              "        async function convertToInteractive(key) {\n",
              "          const element = document.querySelector('#df-8956ca72-9615-446d-bf9c-a604e2ca11b4');\n",
              "          const dataTable =\n",
              "            await google.colab.kernel.invokeFunction('convertToInteractive',\n",
              "                                                     [key], {});\n",
              "          if (!dataTable) return;\n",
              "\n",
              "          const docLinkHtml = 'Like what you see? Visit the ' +\n",
              "            '<a target=\"_blank\" href=https://colab.research.google.com/notebooks/data_table.ipynb>data table notebook</a>'\n",
              "            + ' to learn more about interactive tables.';\n",
              "          element.innerHTML = '';\n",
              "          dataTable['output_type'] = 'display_data';\n",
              "          await google.colab.output.renderOutput(dataTable, element);\n",
              "          const docLink = document.createElement('div');\n",
              "          docLink.innerHTML = docLinkHtml;\n",
              "          element.appendChild(docLink);\n",
              "        }\n",
              "      </script>\n",
              "    </div>\n",
              "  </div>\n",
              "  "
            ],
            "text/plain": [
              "   usuario                      data direction interna  operador  \\\n",
              "0   166377 2019-08-05 00:00:00+03:00       out    True  880022.0   \n",
              "1   166377 2019-08-05 00:00:00+03:00       out    True  880020.0   \n",
              "2   166377 2019-08-05 00:00:00+03:00       out    True  880020.0   \n",
              "3   166377 2019-08-05 00:00:00+03:00       out   False  880022.0   \n",
              "4   166377 2019-08-05 00:00:00+03:00       out   False  880020.0   \n",
              "\n",
              "   llamada_perdida  numero_llamadas  duracion_llamada  duracion_llamada_total  \\\n",
              "0             True                3                 0                       5   \n",
              "1             True                1                 0                       1   \n",
              "2            False                1                10                      18   \n",
              "3             True                3                 0                      25   \n",
              "4            False                2                 3                      29   \n",
              "\n",
              "  session_date  tiempo_espera calidad_llamada calidad_llamada_saliente  \\\n",
              "0   2019-08-05              5            Malo                    Bueno   \n",
              "1   2019-08-05              1           Bueno                    Bueno   \n",
              "2   2019-08-05              8           Bueno                    Bueno   \n",
              "3   2019-08-05             25            Malo                    Bueno   \n",
              "4   2019-08-05             26           Bueno                    Bueno   \n",
              "\n",
              "  calidad_tiempo calificacion_operador  \n",
              "0          Bueno               Regular  \n",
              "1          Bueno                 Bueno  \n",
              "2          Bueno                 Bueno  \n",
              "3          Bueno               Regular  \n",
              "4          Bueno                 Bueno  "
            ]
          },
          "execution_count": 104,
          "metadata": {},
          "output_type": "execute_result"
        }
      ],
      "source": [
        "df.head()"
      ]
    },
    {
      "cell_type": "markdown",
      "metadata": {
        "id": "fBiQud0OJ7v6"
      },
      "source": [
        " - **Los operadores ineficaces tienen más llamadas perdidas que la media de los datos**"
      ]
    },
    {
      "cell_type": "code",
      "execution_count": null,
      "metadata": {
        "colab": {
          "base_uri": "https://localhost:8080/"
        },
        "id": "Us9l6yOYJSUM",
        "outputId": "c2dc5942-ff66-4fd6-bf8b-f8d05ffbe692"
      },
      "outputs": [
        {
          "name": "stdout",
          "output_type": "stream",
          "text": [
            "0.34004964932153964\n"
          ]
        }
      ],
      "source": [
        "promedio_llamadas_perdidas = df['llamada_perdida'].mean()\n",
        "print(promedio_llamadas_perdidas)"
      ]
    },
    {
      "cell_type": "code",
      "execution_count": null,
      "metadata": {
        "colab": {
          "base_uri": "https://localhost:8080/"
        },
        "id": "sY6vGkKLJaes",
        "outputId": "f7fe588b-0f99-44a9-d66b-463497828920"
      },
      "outputs": [
        {
          "name": "stdout",
          "output_type": "stream",
          "text": [
            "0.4295702840495266\n"
          ]
        }
      ],
      "source": [
        "df_malos = df[df['calificacion_operador'] == 'Malo']\n",
        "promedio_llamadas_perdidas_malos = df_malos['llamada_perdida'].mean()\n",
        "print(promedio_llamadas_perdidas_malos)"
      ]
    },
    {
      "cell_type": "markdown",
      "metadata": {
        "id": "DeImFFZzVZa_"
      },
      "source": [
        " **Hipótesis nula H₀ = Los operadores ineficaces tienen menos o igual llamadas perdidas que la media de los datos**\n",
        "\n",
        " **Hipótesis alternativa, H₁ = Los operadores ineficaces tienen más llamadas perdidas que la media de los datos**\n",
        "\n"
      ]
    },
    {
      "cell_type": "code",
      "execution_count": null,
      "metadata": {
        "id": "9M0M_KsKgAfq"
      },
      "outputs": [],
      "source": [
        "Bueno = df.query('calificacion_operador == \"Bueno\"')\n",
        "Malo = df.query('calificacion_operador == \"Malo\"')"
      ]
    },
    {
      "cell_type": "code",
      "execution_count": null,
      "metadata": {
        "colab": {
          "base_uri": "https://localhost:8080/"
        },
        "id": "24UuOtq1gUd4",
        "outputId": "a1e3bc64-2fe0-44a3-fa82-cd22227d7fda"
      },
      "outputs": [
        {
          "data": {
            "text/plain": [
              "0.18766377326732553"
            ]
          },
          "execution_count": 108,
          "metadata": {},
          "output_type": "execute_result"
        }
      ],
      "source": [
        "varianza_bueno = np.var(Bueno.llamada_perdida)\n",
        "varianza_bueno "
      ]
    },
    {
      "cell_type": "code",
      "execution_count": null,
      "metadata": {
        "colab": {
          "base_uri": "https://localhost:8080/"
        },
        "id": "hwSSyMxkhDuK",
        "outputId": "bd503c38-d94a-48ec-f4db-fa514332c2a5"
      },
      "outputs": [
        {
          "data": {
            "text/plain": [
              "0.24503965511113557"
            ]
          },
          "execution_count": 109,
          "metadata": {},
          "output_type": "execute_result"
        }
      ],
      "source": [
        "varianza_malo = np.var(Malo.llamada_perdida)\n",
        "varianza_malo "
      ]
    },
    {
      "cell_type": "code",
      "execution_count": null,
      "metadata": {
        "colab": {
          "base_uri": "https://localhost:8080/"
        },
        "id": "lkNE1Vj8hSSc",
        "outputId": "dceba3b8-ec84-4ce5-cca5-dac663ef45ae"
      },
      "outputs": [
        {
          "name": "stdout",
          "output_type": "stream",
          "text": [
            "p-value: 8.426698886870524e-147\n",
            "Rechazamos la hipótesis nula: las varianzas pueden considerarse diferentes\n"
          ]
        }
      ],
      "source": [
        "Malo_va =  Malo.llamada_perdida\n",
        "Bueno_va = Bueno.llamada_perdida\n",
        "\n",
        "alpha = 0.05 \n",
        "\n",
        "results_levene =st.levene(Malo_va.dropna(),Bueno_va.dropna()) \n",
        "print('p-value:', results_levene.pvalue)  \n",
        "\n",
        "if (results_levene.pvalue < alpha):\n",
        "    print(\"Rechazamos la hipótesis nula: las varianzas pueden considerarse diferentes\")\n",
        "else:\n",
        "    print(\"No rechazamos la hipótesis nula: las varianzas pueden considerarse iguales\")"
      ]
    },
    {
      "cell_type": "code",
      "execution_count": null,
      "metadata": {
        "colab": {
          "base_uri": "https://localhost:8080/"
        },
        "id": "9hultSODjP2O",
        "outputId": "867e2214-b011-4a5d-fdcd-f4efcfa91ac4"
      },
      "outputs": [
        {
          "name": "stdout",
          "output_type": "stream",
          "text": [
            "p-value: 1.5693257083570853e-135\n",
            "Rechazamos la hipótesis nula\n"
          ]
        }
      ],
      "source": [
        "Malo_va =  Malo.llamada_perdida\n",
        "Bueno_va = Bueno.llamada_perdida\n",
        "alpha = 0.05 \n",
        "\n",
        "results =st.ttest_ind(Malo_va, Bueno_va, equal_var = False, nan_policy='omit') \n",
        "print('p-value:', results.pvalue) \n",
        "\n",
        "if (results.pvalue < alpha):\n",
        "    print(\"Rechazamos la hipótesis nula\")\n",
        "else:\n",
        "    print(\"No rechazamos la hipótesis nula\")"
      ]
    },
    {
      "cell_type": "markdown",
      "metadata": {
        "id": "Hj_vzlYFjgSi"
      },
      "source": [
        "Formulamos la hipótesis alternativa al afirmar que si hay diferencia entre las llamadas perdidas en promedio de los operarios categorizados Malos que de los otros operarios. Utilizamos un nivel de significación de 0,05. Dado que el valor p es mayor que = 0,05, si podemos rechazar la hipótesis nula. La evidencia sugiere que existe una diferencia estadísticamente significativa entre los operarios Malos de los operarios Buenos, es decir, el promedio de llamadas perdidas es más alto que el de los operarios buenos."
      ]
    },
    {
      "cell_type": "markdown",
      "metadata": {
        "id": "VcUjx9PrMASs"
      },
      "source": [
        "# Etapa 4 Conclusión Final"
      ]
    },
    {
      "cell_type": "markdown",
      "metadata": {
        "id": "N9osXZmmnVQ8"
      },
      "source": [
        "- Cambiamos los formatos de las fechas de los distintos dataframe, para poder realizar nuestros análisis.\n",
        "\n",
        "- Se eliminaron los datos NAN, para poder realizar este análisis.\n",
        "\n",
        "- creamos 3 variables con las categorías 'Malo' y 'Bueno', para identificar si los operarios son ineficaces o no.\n",
        "\n",
        "- creamos una función, con 3 categorías para identificar a los operadores si son Buenos, Regular o Malos.\n",
        "\n",
        "- se concluyó que si hubo diferencias estadísticamente significativas en las proporciones de eventos debido a que en ambos casos, los grupos analizados con niveles de significación alfa de 0,05, fueron mayores que alfa, lo que indica que se rechaza la hipótesis nula que es  'Los operadores ineficaces tienen menos o igual llamadas perdidas que la media de los datos'.\n",
        "\n",
        "- Tenemos 213 operadores ineficaces, después de todo nuestro análisis final.\n"
      ]
    }
  ],
  "metadata": {
    "colab": {
      "provenance": []
    },
    "kernelspec": {
      "display_name": "Python 3 (ipykernel)",
      "language": "python",
      "name": "python3"
    },
    "language_info": {
      "codemirror_mode": {
        "name": "ipython",
        "version": 3
      },
      "file_extension": ".py",
      "mimetype": "text/x-python",
      "name": "python",
      "nbconvert_exporter": "python",
      "pygments_lexer": "ipython3",
      "version": "3.9.5"
    },
    "toc": {
      "base_numbering": 1,
      "nav_menu": {},
      "number_sections": true,
      "sideBar": true,
      "skip_h1_title": true,
      "title_cell": "Table of Contents",
      "title_sidebar": "Contents",
      "toc_cell": false,
      "toc_position": {},
      "toc_section_display": true,
      "toc_window_display": false
    }
  },
  "nbformat": 4,
  "nbformat_minor": 0
}