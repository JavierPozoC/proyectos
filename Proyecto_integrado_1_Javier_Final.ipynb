{
  "cells": [
    {
      "cell_type": "markdown",
      "metadata": {
        "id": "bQOlB4y2k4LL"
      },
      "source": [
        "## Descripción del proyecto\n",
        "Trabajas para la tienda online Ice que vende videojuegos por todo el mundo. Las reseñas de usuarios y expertos, los géneros, las plataformas (por ejemplo, Xbox o PlayStation) y los datos históricos sobre las ventas de juegos están disponibles en fuentes abiertas. Tienes que identificar patrones que determinen si un juego tiene éxito o no. Esto te permitirá detectar proyectos prometedores y planificar campañas publicitarias"
      ]
    },
    {
      "cell_type": "markdown",
      "metadata": {
        "id": "fdB_4ZyJlFVu"
      },
      "source": [
        "### Objetivo:  \n",
        "Identificar patrones que determinen si un juego tiene éxito o no. Esto te permitirá detectar proyectos prometedores y planificar campañas publicitarias.\n",
        "\n",
        "### Etapas \n",
        " \n",
        "El proyecto consistirá en cinco etapas:\n",
        " 1. Abrir los archivo con los datos y estudiar la información general\n",
        " 2. Preparar los datos\n",
        " 3. Analizar los datos\n",
        " 4. Crear un perfil de usuario \n",
        " 5. Probar las hipótesis\n",
        " 6. Entregar la conclusión general"
      ]
    },
    {
      "cell_type": "markdown",
      "metadata": {
        "id": "84F4ZS9ZlSfn"
      },
      "source": [
        "# Etapa 1 Abrir los archivo con los datos y estudiar la información general"
      ]
    },
    {
      "cell_type": "code",
      "execution_count": null,
      "metadata": {
        "id": "X0zVBbh5E23v"
      },
      "outputs": [],
      "source": [
        "import pandas as pd\n",
        "import seaborn as sns\n",
        "import numpy as np\n",
        "import matplotlib.pyplot as plt\n",
        "from math import factorial\n",
        "from scipy import stats as st\n",
        "from scipy.stats import levene"
      ]
    },
    {
      "cell_type": "code",
      "execution_count": null,
      "metadata": {
        "id": "B7djI75R-5xM"
      },
      "outputs": [],
      "source": [
        "try:\n",
        "    games = pd.read_csv('/content/games.csv')\n",
        "    \n",
        "except:\n",
        "    games = pd.read_csv('/datasets/games.csv')"
      ]
    },
    {
      "cell_type": "markdown",
      "metadata": {
        "id": "9tylwvVDlo9Y"
      },
      "source": [
        "# Etapa 2 Prepara los datos"
      ]
    },
    {
      "cell_type": "code",
      "execution_count": null,
      "metadata": {
        "colab": {
          "base_uri": "https://localhost:8080/"
        },
        "id": "Vnq8Vn0HFoE8",
        "outputId": "13273e4d-51ea-417d-e7e1-c6b7b3ed587f"
      },
      "outputs": [
        {
          "name": "stdout",
          "output_type": "stream",
          "text": [
            "<class 'pandas.core.frame.DataFrame'>\n",
            "RangeIndex: 16715 entries, 0 to 16714\n",
            "Data columns (total 11 columns):\n",
            " #   Column           Non-Null Count  Dtype  \n",
            "---  ------           --------------  -----  \n",
            " 0   Name             16713 non-null  object \n",
            " 1   Platform         16715 non-null  object \n",
            " 2   Year_of_Release  16446 non-null  float64\n",
            " 3   Genre            16713 non-null  object \n",
            " 4   NA_sales         16715 non-null  float64\n",
            " 5   EU_sales         16715 non-null  float64\n",
            " 6   JP_sales         16715 non-null  float64\n",
            " 7   Other_sales      16715 non-null  float64\n",
            " 8   Critic_Score     8137 non-null   float64\n",
            " 9   User_Score       10014 non-null  object \n",
            " 10  Rating           9949 non-null   object \n",
            "dtypes: float64(6), object(5)\n",
            "memory usage: 1.4+ MB\n"
          ]
        }
      ],
      "source": [
        "games.info()"
      ]
    },
    {
      "cell_type": "code",
      "execution_count": null,
      "metadata": {
        "id": "isx14bc5GsTc"
      },
      "outputs": [],
      "source": [
        "# Reemplaza los nombres de las columnas (ponlos en minúsculas).\n",
        "games.columns = ['name', 'platform', 'year_of_release', 'genre', 'na_sales', 'eu_sales', 'jp_sales', 'other_sales', 'critic_score', 'user_score', 'rating']"
      ]
    },
    {
      "cell_type": "code",
      "execution_count": null,
      "metadata": {
        "colab": {
          "base_uri": "https://localhost:8080/"
        },
        "id": "8-YTbER0Hipg",
        "outputId": "ae7ac3bb-5df4-4ee9-e159-74a77d3055d4"
      },
      "outputs": [
        {
          "name": "stdout",
          "output_type": "stream",
          "text": [
            "<class 'pandas.core.frame.DataFrame'>\n",
            "RangeIndex: 16715 entries, 0 to 16714\n",
            "Data columns (total 11 columns):\n",
            " #   Column           Non-Null Count  Dtype  \n",
            "---  ------           --------------  -----  \n",
            " 0   name             16713 non-null  object \n",
            " 1   platform         16715 non-null  object \n",
            " 2   year_of_release  16446 non-null  float64\n",
            " 3   genre            16713 non-null  object \n",
            " 4   na_sales         16715 non-null  float64\n",
            " 5   eu_sales         16715 non-null  float64\n",
            " 6   jp_sales         16715 non-null  float64\n",
            " 7   other_sales      16715 non-null  float64\n",
            " 8   critic_score     8137 non-null   float64\n",
            " 9   user_score       10014 non-null  object \n",
            " 10  rating           9949 non-null   object \n",
            "dtypes: float64(6), object(5)\n",
            "memory usage: 1.4+ MB\n"
          ]
        }
      ],
      "source": [
        "games.info()"
      ]
    },
    {
      "cell_type": "code",
      "execution_count": null,
      "metadata": {
        "colab": {
          "base_uri": "https://localhost:8080/",
          "height": 267
        },
        "id": "mA9ZAFM2H4ms",
        "outputId": "6c0fdd45-f245-4087-d182-4a0c343d5e35"
      },
      "outputs": [
        {
          "data": {
            "text/html": [
              "<div>\n",
              "<style scoped>\n",
              "    .dataframe tbody tr th:only-of-type {\n",
              "        vertical-align: middle;\n",
              "    }\n",
              "\n",
              "    .dataframe tbody tr th {\n",
              "        vertical-align: top;\n",
              "    }\n",
              "\n",
              "    .dataframe thead th {\n",
              "        text-align: right;\n",
              "    }\n",
              "</style>\n",
              "<table border=\"1\" class=\"dataframe\">\n",
              "  <thead>\n",
              "    <tr style=\"text-align: right;\">\n",
              "      <th></th>\n",
              "      <th>name</th>\n",
              "      <th>platform</th>\n",
              "      <th>year_of_release</th>\n",
              "      <th>genre</th>\n",
              "      <th>na_sales</th>\n",
              "      <th>eu_sales</th>\n",
              "      <th>jp_sales</th>\n",
              "      <th>other_sales</th>\n",
              "      <th>critic_score</th>\n",
              "      <th>user_score</th>\n",
              "      <th>rating</th>\n",
              "    </tr>\n",
              "  </thead>\n",
              "  <tbody>\n",
              "    <tr>\n",
              "      <th>0</th>\n",
              "      <td>Wii Sports</td>\n",
              "      <td>Wii</td>\n",
              "      <td>2006.0</td>\n",
              "      <td>Sports</td>\n",
              "      <td>41.36</td>\n",
              "      <td>28.96</td>\n",
              "      <td>3.77</td>\n",
              "      <td>8.45</td>\n",
              "      <td>76.0</td>\n",
              "      <td>8</td>\n",
              "      <td>E</td>\n",
              "    </tr>\n",
              "    <tr>\n",
              "      <th>1</th>\n",
              "      <td>Super Mario Bros.</td>\n",
              "      <td>NES</td>\n",
              "      <td>1985.0</td>\n",
              "      <td>Platform</td>\n",
              "      <td>29.08</td>\n",
              "      <td>3.58</td>\n",
              "      <td>6.81</td>\n",
              "      <td>0.77</td>\n",
              "      <td>NaN</td>\n",
              "      <td>NaN</td>\n",
              "      <td>NaN</td>\n",
              "    </tr>\n",
              "    <tr>\n",
              "      <th>2</th>\n",
              "      <td>Mario Kart Wii</td>\n",
              "      <td>Wii</td>\n",
              "      <td>2008.0</td>\n",
              "      <td>Racing</td>\n",
              "      <td>15.68</td>\n",
              "      <td>12.76</td>\n",
              "      <td>3.79</td>\n",
              "      <td>3.29</td>\n",
              "      <td>82.0</td>\n",
              "      <td>8.3</td>\n",
              "      <td>E</td>\n",
              "    </tr>\n",
              "    <tr>\n",
              "      <th>3</th>\n",
              "      <td>Wii Sports Resort</td>\n",
              "      <td>Wii</td>\n",
              "      <td>2009.0</td>\n",
              "      <td>Sports</td>\n",
              "      <td>15.61</td>\n",
              "      <td>10.93</td>\n",
              "      <td>3.28</td>\n",
              "      <td>2.95</td>\n",
              "      <td>80.0</td>\n",
              "      <td>8</td>\n",
              "      <td>E</td>\n",
              "    </tr>\n",
              "    <tr>\n",
              "      <th>4</th>\n",
              "      <td>Pokemon Red/Pokemon Blue</td>\n",
              "      <td>GB</td>\n",
              "      <td>1996.0</td>\n",
              "      <td>Role-Playing</td>\n",
              "      <td>11.27</td>\n",
              "      <td>8.89</td>\n",
              "      <td>10.22</td>\n",
              "      <td>1.00</td>\n",
              "      <td>NaN</td>\n",
              "      <td>NaN</td>\n",
              "      <td>NaN</td>\n",
              "    </tr>\n",
              "  </tbody>\n",
              "</table>\n",
              "</div>"
            ],
            "text/plain": [
              "                       name platform  year_of_release         genre  na_sales  \\\n",
              "0                Wii Sports      Wii           2006.0        Sports     41.36   \n",
              "1         Super Mario Bros.      NES           1985.0      Platform     29.08   \n",
              "2            Mario Kart Wii      Wii           2008.0        Racing     15.68   \n",
              "3         Wii Sports Resort      Wii           2009.0        Sports     15.61   \n",
              "4  Pokemon Red/Pokemon Blue       GB           1996.0  Role-Playing     11.27   \n",
              "\n",
              "   eu_sales  jp_sales  other_sales  critic_score user_score rating  \n",
              "0     28.96      3.77         8.45          76.0          8      E  \n",
              "1      3.58      6.81         0.77           NaN        NaN    NaN  \n",
              "2     12.76      3.79         3.29          82.0        8.3      E  \n",
              "3     10.93      3.28         2.95          80.0          8      E  \n",
              "4      8.89     10.22         1.00           NaN        NaN    NaN  "
            ]
          },
          "execution_count": 6,
          "metadata": {},
          "output_type": "execute_result"
        }
      ],
      "source": [
        "games.head()"
      ]
    },
    {
      "cell_type": "code",
      "execution_count": null,
      "metadata": {
        "colab": {
          "base_uri": "https://localhost:8080/"
        },
        "id": "ISZG9JxuKNrq",
        "outputId": "f195ee42-7937-4809-b01f-0f5b9bd77e08"
      },
      "outputs": [
        {
          "data": {
            "text/plain": [
              "269"
            ]
          },
          "execution_count": 7,
          "metadata": {},
          "output_type": "execute_result"
        }
      ],
      "source": [
        "games['year_of_release'].isna().sum()"
      ]
    },
    {
      "cell_type": "code",
      "execution_count": null,
      "metadata": {
        "colab": {
          "base_uri": "https://localhost:8080/"
        },
        "id": "vkHyz8x6zP0d",
        "outputId": "4260c43f-a870-4096-bc9a-7509a3a33bf8"
      },
      "outputs": [
        {
          "data": {
            "text/plain": [
              "2008.0    0.085372\n",
              "2009.0    0.085313\n",
              "2010.0    0.075082\n",
              "2007.0    0.071612\n",
              "2011.0    0.067963\n",
              "2006.0    0.060185\n",
              "2005.0    0.056177\n",
              "2002.0    0.049596\n",
              "2003.0    0.046366\n",
              "2004.0    0.045588\n",
              "2012.0    0.039067\n",
              "2015.0    0.036255\n",
              "2014.0    0.034759\n",
              "2013.0    0.032546\n",
              "2016.0    0.030033\n",
              "2001.0    0.028836\n",
              "1998.0    0.022674\n",
              "2000.0    0.020939\n",
              "1999.0    0.020221\n",
              "1997.0    0.017290\n",
              "NaN       0.016093\n",
              "1996.0    0.015734\n",
              "1995.0    0.013102\n",
              "1994.0    0.007239\n",
              "1993.0    0.003709\n",
              "1981.0    0.002752\n",
              "1992.0    0.002573\n",
              "1991.0    0.002453\n",
              "1982.0    0.002154\n",
              "1986.0    0.001256\n",
              "1983.0    0.001017\n",
              "1989.0    0.001017\n",
              "1990.0    0.000957\n",
              "1987.0    0.000957\n",
              "1988.0    0.000897\n",
              "1984.0    0.000838\n",
              "1985.0    0.000838\n",
              "1980.0    0.000538\n",
              "Name: year_of_release, dtype: float64"
            ]
          },
          "execution_count": 8,
          "metadata": {},
          "output_type": "execute_result"
        }
      ],
      "source": [
        "games['year_of_release'].value_counts(dropna=False,normalize=True)"
      ]
    },
    {
      "cell_type": "code",
      "execution_count": null,
      "metadata": {
        "colab": {
          "base_uri": "https://localhost:8080/",
          "height": 267
        },
        "id": "VrLGsLrMNl6L",
        "outputId": "3f1b724e-6cb0-4d66-cd5e-bfc8ac5030bd"
      },
      "outputs": [
        {
          "data": {
            "text/html": [
              "<div>\n",
              "<style scoped>\n",
              "    .dataframe tbody tr th:only-of-type {\n",
              "        vertical-align: middle;\n",
              "    }\n",
              "\n",
              "    .dataframe tbody tr th {\n",
              "        vertical-align: top;\n",
              "    }\n",
              "\n",
              "    .dataframe thead th {\n",
              "        text-align: right;\n",
              "    }\n",
              "</style>\n",
              "<table border=\"1\" class=\"dataframe\">\n",
              "  <thead>\n",
              "    <tr style=\"text-align: right;\">\n",
              "      <th></th>\n",
              "      <th>name</th>\n",
              "      <th>platform</th>\n",
              "      <th>year_of_release</th>\n",
              "      <th>genre</th>\n",
              "      <th>na_sales</th>\n",
              "      <th>eu_sales</th>\n",
              "      <th>jp_sales</th>\n",
              "      <th>other_sales</th>\n",
              "      <th>critic_score</th>\n",
              "      <th>user_score</th>\n",
              "      <th>rating</th>\n",
              "    </tr>\n",
              "  </thead>\n",
              "  <tbody>\n",
              "    <tr>\n",
              "      <th>0</th>\n",
              "      <td>Wii Sports</td>\n",
              "      <td>Wii</td>\n",
              "      <td>2006.0</td>\n",
              "      <td>Sports</td>\n",
              "      <td>41.36</td>\n",
              "      <td>28.96</td>\n",
              "      <td>3.77</td>\n",
              "      <td>8.45</td>\n",
              "      <td>76.0</td>\n",
              "      <td>8</td>\n",
              "      <td>E</td>\n",
              "    </tr>\n",
              "    <tr>\n",
              "      <th>1</th>\n",
              "      <td>Super Mario Bros.</td>\n",
              "      <td>NES</td>\n",
              "      <td>1985.0</td>\n",
              "      <td>Platform</td>\n",
              "      <td>29.08</td>\n",
              "      <td>3.58</td>\n",
              "      <td>6.81</td>\n",
              "      <td>0.77</td>\n",
              "      <td>NaN</td>\n",
              "      <td>NaN</td>\n",
              "      <td>NaN</td>\n",
              "    </tr>\n",
              "    <tr>\n",
              "      <th>2</th>\n",
              "      <td>Mario Kart Wii</td>\n",
              "      <td>Wii</td>\n",
              "      <td>2008.0</td>\n",
              "      <td>Racing</td>\n",
              "      <td>15.68</td>\n",
              "      <td>12.76</td>\n",
              "      <td>3.79</td>\n",
              "      <td>3.29</td>\n",
              "      <td>82.0</td>\n",
              "      <td>8.3</td>\n",
              "      <td>E</td>\n",
              "    </tr>\n",
              "    <tr>\n",
              "      <th>3</th>\n",
              "      <td>Wii Sports Resort</td>\n",
              "      <td>Wii</td>\n",
              "      <td>2009.0</td>\n",
              "      <td>Sports</td>\n",
              "      <td>15.61</td>\n",
              "      <td>10.93</td>\n",
              "      <td>3.28</td>\n",
              "      <td>2.95</td>\n",
              "      <td>80.0</td>\n",
              "      <td>8</td>\n",
              "      <td>E</td>\n",
              "    </tr>\n",
              "    <tr>\n",
              "      <th>4</th>\n",
              "      <td>Pokemon Red/Pokemon Blue</td>\n",
              "      <td>GB</td>\n",
              "      <td>1996.0</td>\n",
              "      <td>Role-Playing</td>\n",
              "      <td>11.27</td>\n",
              "      <td>8.89</td>\n",
              "      <td>10.22</td>\n",
              "      <td>1.00</td>\n",
              "      <td>NaN</td>\n",
              "      <td>NaN</td>\n",
              "      <td>NaN</td>\n",
              "    </tr>\n",
              "  </tbody>\n",
              "</table>\n",
              "</div>"
            ],
            "text/plain": [
              "                       name platform  year_of_release         genre  na_sales  \\\n",
              "0                Wii Sports      Wii           2006.0        Sports     41.36   \n",
              "1         Super Mario Bros.      NES           1985.0      Platform     29.08   \n",
              "2            Mario Kart Wii      Wii           2008.0        Racing     15.68   \n",
              "3         Wii Sports Resort      Wii           2009.0        Sports     15.61   \n",
              "4  Pokemon Red/Pokemon Blue       GB           1996.0  Role-Playing     11.27   \n",
              "\n",
              "   eu_sales  jp_sales  other_sales  critic_score user_score rating  \n",
              "0     28.96      3.77         8.45          76.0          8      E  \n",
              "1      3.58      6.81         0.77           NaN        NaN    NaN  \n",
              "2     12.76      3.79         3.29          82.0        8.3      E  \n",
              "3     10.93      3.28         2.95          80.0          8      E  \n",
              "4      8.89     10.22         1.00           NaN        NaN    NaN  "
            ]
          },
          "execution_count": 9,
          "metadata": {},
          "output_type": "execute_result"
        }
      ],
      "source": [
        "# para la columna year_of_release se eliminan al no superar el 2% de datos ausentes \n",
        "games = games.dropna(subset=['year_of_release']).reset_index(drop=True)\n",
        "games.head()"
      ]
    },
    {
      "cell_type": "markdown",
      "metadata": {
        "id": "QZvHVtJbBZu0"
      },
      "source": [
        "<div class=\"alert alert-block alert-success\">\n",
        "<b>Éxito</b> <a class=\"tocSkip\"></a>\n",
        "\n",
        "Bien, de acuerdo."
      ]
    },
    {
      "cell_type": "code",
      "execution_count": null,
      "metadata": {
        "id": "DrMdLSpXH3KT"
      },
      "outputs": [],
      "source": [
        "# Convierte los datos en los tipos necesarios.\n",
        "games['year_of_release'] = games['year_of_release'].astype('int')"
      ]
    },
    {
      "cell_type": "code",
      "execution_count": null,
      "metadata": {
        "colab": {
          "base_uri": "https://localhost:8080/",
          "height": 267
        },
        "id": "qftgoGZVOUc8",
        "outputId": "1242edd2-d0bc-49f6-c71c-fb61a2100c3f"
      },
      "outputs": [
        {
          "data": {
            "text/html": [
              "<div>\n",
              "<style scoped>\n",
              "    .dataframe tbody tr th:only-of-type {\n",
              "        vertical-align: middle;\n",
              "    }\n",
              "\n",
              "    .dataframe tbody tr th {\n",
              "        vertical-align: top;\n",
              "    }\n",
              "\n",
              "    .dataframe thead th {\n",
              "        text-align: right;\n",
              "    }\n",
              "</style>\n",
              "<table border=\"1\" class=\"dataframe\">\n",
              "  <thead>\n",
              "    <tr style=\"text-align: right;\">\n",
              "      <th></th>\n",
              "      <th>name</th>\n",
              "      <th>platform</th>\n",
              "      <th>year_of_release</th>\n",
              "      <th>genre</th>\n",
              "      <th>na_sales</th>\n",
              "      <th>eu_sales</th>\n",
              "      <th>jp_sales</th>\n",
              "      <th>other_sales</th>\n",
              "      <th>critic_score</th>\n",
              "      <th>user_score</th>\n",
              "      <th>rating</th>\n",
              "    </tr>\n",
              "  </thead>\n",
              "  <tbody>\n",
              "    <tr>\n",
              "      <th>0</th>\n",
              "      <td>Wii Sports</td>\n",
              "      <td>Wii</td>\n",
              "      <td>2006</td>\n",
              "      <td>Sports</td>\n",
              "      <td>41.36</td>\n",
              "      <td>28.96</td>\n",
              "      <td>3.77</td>\n",
              "      <td>8.45</td>\n",
              "      <td>76.0</td>\n",
              "      <td>8</td>\n",
              "      <td>E</td>\n",
              "    </tr>\n",
              "    <tr>\n",
              "      <th>1</th>\n",
              "      <td>Super Mario Bros.</td>\n",
              "      <td>NES</td>\n",
              "      <td>1985</td>\n",
              "      <td>Platform</td>\n",
              "      <td>29.08</td>\n",
              "      <td>3.58</td>\n",
              "      <td>6.81</td>\n",
              "      <td>0.77</td>\n",
              "      <td>NaN</td>\n",
              "      <td>NaN</td>\n",
              "      <td>NaN</td>\n",
              "    </tr>\n",
              "    <tr>\n",
              "      <th>2</th>\n",
              "      <td>Mario Kart Wii</td>\n",
              "      <td>Wii</td>\n",
              "      <td>2008</td>\n",
              "      <td>Racing</td>\n",
              "      <td>15.68</td>\n",
              "      <td>12.76</td>\n",
              "      <td>3.79</td>\n",
              "      <td>3.29</td>\n",
              "      <td>82.0</td>\n",
              "      <td>8.3</td>\n",
              "      <td>E</td>\n",
              "    </tr>\n",
              "    <tr>\n",
              "      <th>3</th>\n",
              "      <td>Wii Sports Resort</td>\n",
              "      <td>Wii</td>\n",
              "      <td>2009</td>\n",
              "      <td>Sports</td>\n",
              "      <td>15.61</td>\n",
              "      <td>10.93</td>\n",
              "      <td>3.28</td>\n",
              "      <td>2.95</td>\n",
              "      <td>80.0</td>\n",
              "      <td>8</td>\n",
              "      <td>E</td>\n",
              "    </tr>\n",
              "    <tr>\n",
              "      <th>4</th>\n",
              "      <td>Pokemon Red/Pokemon Blue</td>\n",
              "      <td>GB</td>\n",
              "      <td>1996</td>\n",
              "      <td>Role-Playing</td>\n",
              "      <td>11.27</td>\n",
              "      <td>8.89</td>\n",
              "      <td>10.22</td>\n",
              "      <td>1.00</td>\n",
              "      <td>NaN</td>\n",
              "      <td>NaN</td>\n",
              "      <td>NaN</td>\n",
              "    </tr>\n",
              "  </tbody>\n",
              "</table>\n",
              "</div>"
            ],
            "text/plain": [
              "                       name platform  year_of_release         genre  na_sales  \\\n",
              "0                Wii Sports      Wii             2006        Sports     41.36   \n",
              "1         Super Mario Bros.      NES             1985      Platform     29.08   \n",
              "2            Mario Kart Wii      Wii             2008        Racing     15.68   \n",
              "3         Wii Sports Resort      Wii             2009        Sports     15.61   \n",
              "4  Pokemon Red/Pokemon Blue       GB             1996  Role-Playing     11.27   \n",
              "\n",
              "   eu_sales  jp_sales  other_sales  critic_score user_score rating  \n",
              "0     28.96      3.77         8.45          76.0          8      E  \n",
              "1      3.58      6.81         0.77           NaN        NaN    NaN  \n",
              "2     12.76      3.79         3.29          82.0        8.3      E  \n",
              "3     10.93      3.28         2.95          80.0          8      E  \n",
              "4      8.89     10.22         1.00           NaN        NaN    NaN  "
            ]
          },
          "execution_count": 11,
          "metadata": {},
          "output_type": "execute_result"
        }
      ],
      "source": [
        "games.head()"
      ]
    },
    {
      "cell_type": "code",
      "execution_count": null,
      "metadata": {
        "colab": {
          "base_uri": "https://localhost:8080/"
        },
        "id": "UCRehZ4nO9W9",
        "outputId": "5651d031-f00b-4216-d989-a9df16a6857a"
      },
      "outputs": [
        {
          "data": {
            "text/plain": [
              "name                  2\n",
              "platform              0\n",
              "year_of_release       0\n",
              "genre                 2\n",
              "na_sales              0\n",
              "eu_sales              0\n",
              "jp_sales              0\n",
              "other_sales           0\n",
              "critic_score       8463\n",
              "user_score         6607\n",
              "rating             6678\n",
              "dtype: int64"
            ]
          },
          "execution_count": 12,
          "metadata": {},
          "output_type": "execute_result"
        }
      ],
      "source": [
        "games.isna().sum()"
      ]
    },
    {
      "cell_type": "markdown",
      "metadata": {
        "id": "rQdQz8sIdGw8"
      },
      "source": [
        "## 2.1 Tratamiento de datos Ausentes "
      ]
    },
    {
      "cell_type": "markdown",
      "metadata": {
        "id": "2Wb2fwyrdMVQ"
      },
      "source": [
        "# critic_score"
      ]
    },
    {
      "cell_type": "code",
      "execution_count": null,
      "metadata": {
        "colab": {
          "base_uri": "https://localhost:8080/"
        },
        "id": "ktJp65br1Xv6",
        "outputId": "431a5666-2d93-4b6b-ee33-147e6d72e127"
      },
      "outputs": [
        {
          "data": {
            "text/plain": [
              "name                  0\n",
              "platform              0\n",
              "year_of_release       0\n",
              "genre                 0\n",
              "na_sales              0\n",
              "eu_sales              0\n",
              "jp_sales              0\n",
              "other_sales           0\n",
              "critic_score       8461\n",
              "user_score         6605\n",
              "rating             6676\n",
              "dtype: int64"
            ]
          },
          "execution_count": 13,
          "metadata": {},
          "output_type": "execute_result"
        }
      ],
      "source": [
        "# para las columnas name y genre se eliminan al no superar el 1% de datos ausentes \n",
        "games = games.dropna(subset=['name', 'genre']).reset_index(drop=True)\n",
        "games.isna().sum()"
      ]
    },
    {
      "cell_type": "code",
      "execution_count": null,
      "metadata": {
        "colab": {
          "base_uri": "https://localhost:8080/"
        },
        "id": "8nRDFnhZcpyS",
        "outputId": "daf313ab-d590-42ee-a86e-9f9c1e56a9fe"
      },
      "outputs": [
        {
          "data": {
            "text/plain": [
              "count    7983.000000\n",
              "mean       68.994363\n",
              "std        13.920060\n",
              "min        13.000000\n",
              "25%        60.000000\n",
              "50%        71.000000\n",
              "75%        79.000000\n",
              "max        98.000000\n",
              "Name: critic_score, dtype: float64"
            ]
          },
          "execution_count": 14,
          "metadata": {},
          "output_type": "execute_result"
        }
      ],
      "source": [
        "games['critic_score'].describe()"
      ]
    },
    {
      "cell_type": "code",
      "execution_count": null,
      "metadata": {
        "colab": {
          "base_uri": "https://localhost:8080/"
        },
        "id": "ZE7XXG8eaXnM",
        "outputId": "eaa6a4ad-61c9-49aa-c8cf-3de98a726838"
      },
      "outputs": [
        {
          "data": {
            "text/plain": [
              "NaN     0.514534\n",
              "70.0    0.015325\n",
              "71.0    0.015081\n",
              "75.0    0.014595\n",
              "80.0    0.014291\n",
              "          ...   \n",
              "20.0    0.000182\n",
              "29.0    0.000182\n",
              "21.0    0.000061\n",
              "17.0    0.000061\n",
              "13.0    0.000061\n",
              "Name: critic_score, Length: 82, dtype: float64"
            ]
          },
          "execution_count": 15,
          "metadata": {},
          "output_type": "execute_result"
        }
      ],
      "source": [
        "games['critic_score'].value_counts(dropna=False,normalize=True)"
      ]
    },
    {
      "cell_type": "code",
      "execution_count": null,
      "metadata": {
        "colab": {
          "base_uri": "https://localhost:8080/"
        },
        "id": "6QQPM0Hq2yA1",
        "outputId": "e1e88b24-14b5-4ae4-99ae-237258d8b935"
      },
      "outputs": [
        {
          "name": "stdout",
          "output_type": "stream",
          "text": [
            "El porcentaje de participacion de numeros ausentes es 51.453417659936754%\n"
          ]
        }
      ],
      "source": [
        "# % de datos ausentes de la columna critic_score\n",
        "critic_score_nan = 8461\n",
        "total_critic_score = 16444\n",
        "resultado = (critic_score_nan / total_critic_score *100)\n",
        "print(f'El porcentaje de participacion de numeros ausentes es {resultado}%')"
      ]
    },
    {
      "cell_type": "code",
      "execution_count": null,
      "metadata": {
        "colab": {
          "base_uri": "https://localhost:8080/"
        },
        "id": "a9yMJbJtUD6N",
        "outputId": "29acdeac-714a-4aa1-fe16-96af2b8ec87a"
      },
      "outputs": [
        {
          "data": {
            "text/plain": [
              "68.99436302142053"
            ]
          },
          "execution_count": 17,
          "metadata": {},
          "output_type": "execute_result"
        }
      ],
      "source": [
        "games['critic_score'].mean()"
      ]
    },
    {
      "cell_type": "markdown",
      "metadata": {
        "id": "BBv1NvmJBZu5"
      },
      "source": [
        "Debido a la gran cantidad de datos ausentes se decide dejar asi, y no reemplazar por una variable."
      ]
    },
    {
      "cell_type": "markdown",
      "metadata": {
        "id": "Wyteealdda0g"
      },
      "source": [
        "# user_score"
      ]
    },
    {
      "cell_type": "code",
      "execution_count": null,
      "metadata": {
        "colab": {
          "base_uri": "https://localhost:8080/"
        },
        "id": "i-JVWMS3Y_a5",
        "outputId": "333c5bb9-ec6f-45fb-8aa1-749dd284d9df"
      },
      "outputs": [
        {
          "name": "stdout",
          "output_type": "stream",
          "text": [
            "El porcentaje de participacion de numeros ausentes es 40.166626125030405%\n"
          ]
        }
      ],
      "source": [
        "# % de datos ausentes de la columna user_score\n",
        "user_score_nan = 6605\n",
        "total_user_score = 16444\n",
        "resultado = (user_score_nan / total_user_score *100)\n",
        "print(f'El porcentaje de participacion de numeros ausentes es {resultado}%')"
      ]
    },
    {
      "cell_type": "code",
      "execution_count": null,
      "metadata": {
        "colab": {
          "base_uri": "https://localhost:8080/"
        },
        "id": "E6elqgnRd_7f",
        "outputId": "fc120abe-f9ef-4151-9a8a-172871b83e21"
      },
      "outputs": [
        {
          "data": {
            "text/plain": [
              "count     9839\n",
              "unique      96\n",
              "top        tbd\n",
              "freq      2376\n",
              "Name: user_score, dtype: object"
            ]
          },
          "execution_count": 19,
          "metadata": {},
          "output_type": "execute_result"
        }
      ],
      "source": [
        "games['user_score'].describe()"
      ]
    },
    {
      "cell_type": "code",
      "execution_count": null,
      "metadata": {
        "colab": {
          "base_uri": "https://localhost:8080/"
        },
        "id": "4veHt3uxbdxm",
        "outputId": "a2c1b08d-ad9f-4227-e493-99b2234283fc"
      },
      "outputs": [
        {
          "data": {
            "text/plain": [
              "NaN    0.401666\n",
              "tbd    0.144490\n",
              "7.8    0.019582\n",
              "8      0.017332\n",
              "8.2    0.016784\n",
              "         ...   \n",
              "1.9    0.000122\n",
              "0.9    0.000122\n",
              "0.3    0.000122\n",
              "9.7    0.000061\n",
              "0      0.000061\n",
              "Name: user_score, Length: 97, dtype: float64"
            ]
          },
          "execution_count": 20,
          "metadata": {},
          "output_type": "execute_result"
        }
      ],
      "source": [
        "# datos aunsentes y con tbd\n",
        "games['user_score'].value_counts(dropna=False,normalize=True)"
      ]
    },
    {
      "cell_type": "code",
      "execution_count": null,
      "metadata": {
        "id": "IyRfvIjediQD"
      },
      "outputs": [],
      "source": [
        "games['user_score'] = games['user_score'].replace('tbd', np.nan)"
      ]
    },
    {
      "cell_type": "code",
      "execution_count": null,
      "metadata": {
        "id": "3KCcDuQ9hTMM"
      },
      "outputs": [],
      "source": [
        "games['user_score'] = games['user_score'].astype('float')"
      ]
    },
    {
      "cell_type": "code",
      "execution_count": null,
      "metadata": {
        "colab": {
          "base_uri": "https://localhost:8080/"
        },
        "id": "gEBUU117dv_-",
        "outputId": "825a3e44-71c5-4638-b862-f8ef08547c39"
      },
      "outputs": [
        {
          "data": {
            "text/plain": [
              "NaN    0.546157\n",
              "7.8    0.019582\n",
              "8.0    0.017332\n",
              "8.2    0.016784\n",
              "8.3    0.015325\n",
              "         ...   \n",
              "1.0    0.000122\n",
              "1.5    0.000122\n",
              "9.6    0.000122\n",
              "0.0    0.000061\n",
              "9.7    0.000061\n",
              "Name: user_score, Length: 96, dtype: float64"
            ]
          },
          "execution_count": 23,
          "metadata": {},
          "output_type": "execute_result"
        }
      ],
      "source": [
        "games['user_score'].value_counts(dropna=False,normalize=True)"
      ]
    },
    {
      "cell_type": "code",
      "execution_count": null,
      "metadata": {
        "colab": {
          "base_uri": "https://localhost:8080/"
        },
        "id": "PJAp1LrHjATd",
        "outputId": "11d3daa4-12f4-4fe2-a1d8-0627ad102919"
      },
      "outputs": [
        {
          "name": "stdout",
          "output_type": "stream",
          "text": [
            "El porcentaje de participacion de numeros ausentes es 40.166626125030405\n"
          ]
        }
      ],
      "source": [
        "# % de datos ausentes de la columna user_score\n",
        "user_score_nan = 6605\n",
        "total_user_score = 16444\n",
        "resultado = (user_score_nan / total_user_score *100)\n",
        "print(f'El porcentaje de participacion de numeros ausentes es {resultado}')"
      ]
    },
    {
      "cell_type": "code",
      "execution_count": null,
      "metadata": {
        "colab": {
          "base_uri": "https://localhost:8080/"
        },
        "id": "0YaPIlkLbNDi",
        "outputId": "c2453b23-952c-4f59-827f-d6f890ece289"
      },
      "outputs": [
        {
          "data": {
            "text/plain": [
              "7.126329894144447"
            ]
          },
          "execution_count": 25,
          "metadata": {},
          "output_type": "execute_result"
        }
      ],
      "source": [
        "games['user_score'].mean()"
      ]
    },
    {
      "cell_type": "code",
      "execution_count": null,
      "metadata": {
        "colab": {
          "base_uri": "https://localhost:8080/"
        },
        "id": "1PECDFp-jRxt",
        "outputId": "6c2a2088-5041-4822-c062-19d6c57af301"
      },
      "outputs": [
        {
          "data": {
            "text/plain": [
              "name                  0\n",
              "platform              0\n",
              "year_of_release       0\n",
              "genre                 0\n",
              "na_sales              0\n",
              "eu_sales              0\n",
              "jp_sales              0\n",
              "other_sales           0\n",
              "critic_score       8461\n",
              "user_score         8981\n",
              "rating             6676\n",
              "dtype: int64"
            ]
          },
          "execution_count": 26,
          "metadata": {},
          "output_type": "execute_result"
        }
      ],
      "source": [
        "games.isna().sum()"
      ]
    },
    {
      "cell_type": "code",
      "execution_count": null,
      "metadata": {
        "colab": {
          "base_uri": "https://localhost:8080/"
        },
        "id": "2U5v3DgojZ3G",
        "outputId": "992f5f99-66ea-4c04-c62e-092434265a1a"
      },
      "outputs": [
        {
          "name": "stdout",
          "output_type": "stream",
          "text": [
            "El porcentaje de participacion de numeros ausentes es 54.61566528825104\n"
          ]
        }
      ],
      "source": [
        "# % de datos ausentes de la columna user_score\n",
        "user_score_nan = 8981\n",
        "total_user_score = 16444\n",
        "resultado = (user_score_nan / total_user_score *100)\n",
        "print(f'El porcentaje de participacion de numeros ausentes es {resultado}')"
      ]
    },
    {
      "cell_type": "code",
      "execution_count": null,
      "metadata": {
        "colab": {
          "base_uri": "https://localhost:8080/"
        },
        "id": "SoKyrp7rZzsA",
        "outputId": "39f9a5a9-d829-4f01-b402-61e5678d2a6f"
      },
      "outputs": [
        {
          "data": {
            "text/plain": [
              "NaN    0.546157\n",
              "7.8    0.019582\n",
              "8.0    0.017332\n",
              "8.2    0.016784\n",
              "8.3    0.015325\n",
              "         ...   \n",
              "1.0    0.000122\n",
              "1.5    0.000122\n",
              "9.6    0.000122\n",
              "0.0    0.000061\n",
              "9.7    0.000061\n",
              "Name: user_score, Length: 96, dtype: float64"
            ]
          },
          "execution_count": 28,
          "metadata": {},
          "output_type": "execute_result"
        }
      ],
      "source": [
        "games['user_score'].value_counts(dropna=False,normalize=True)"
      ]
    },
    {
      "cell_type": "code",
      "execution_count": null,
      "metadata": {
        "colab": {
          "base_uri": "https://localhost:8080/"
        },
        "id": "SYQkuSREo14Z",
        "outputId": "2cf18720-e0ce-4a2b-f51d-e3932cffb41e"
      },
      "outputs": [
        {
          "name": "stdout",
          "output_type": "stream",
          "text": [
            "<class 'pandas.core.frame.DataFrame'>\n",
            "RangeIndex: 16444 entries, 0 to 16443\n",
            "Data columns (total 11 columns):\n",
            " #   Column           Non-Null Count  Dtype  \n",
            "---  ------           --------------  -----  \n",
            " 0   name             16444 non-null  object \n",
            " 1   platform         16444 non-null  object \n",
            " 2   year_of_release  16444 non-null  int64  \n",
            " 3   genre            16444 non-null  object \n",
            " 4   na_sales         16444 non-null  float64\n",
            " 5   eu_sales         16444 non-null  float64\n",
            " 6   jp_sales         16444 non-null  float64\n",
            " 7   other_sales      16444 non-null  float64\n",
            " 8   critic_score     7983 non-null   float64\n",
            " 9   user_score       7463 non-null   float64\n",
            " 10  rating           9768 non-null   object \n",
            "dtypes: float64(6), int64(1), object(4)\n",
            "memory usage: 1.4+ MB\n"
          ]
        }
      ],
      "source": [
        "games.info()"
      ]
    },
    {
      "cell_type": "code",
      "execution_count": null,
      "metadata": {
        "colab": {
          "base_uri": "https://localhost:8080/",
          "height": 267
        },
        "id": "2CDWN_HKpaTE",
        "outputId": "da2c5d23-d833-433b-90f9-83966c5436f2"
      },
      "outputs": [
        {
          "data": {
            "text/html": [
              "<div>\n",
              "<style scoped>\n",
              "    .dataframe tbody tr th:only-of-type {\n",
              "        vertical-align: middle;\n",
              "    }\n",
              "\n",
              "    .dataframe tbody tr th {\n",
              "        vertical-align: top;\n",
              "    }\n",
              "\n",
              "    .dataframe thead th {\n",
              "        text-align: right;\n",
              "    }\n",
              "</style>\n",
              "<table border=\"1\" class=\"dataframe\">\n",
              "  <thead>\n",
              "    <tr style=\"text-align: right;\">\n",
              "      <th></th>\n",
              "      <th>name</th>\n",
              "      <th>platform</th>\n",
              "      <th>year_of_release</th>\n",
              "      <th>genre</th>\n",
              "      <th>na_sales</th>\n",
              "      <th>eu_sales</th>\n",
              "      <th>jp_sales</th>\n",
              "      <th>other_sales</th>\n",
              "      <th>critic_score</th>\n",
              "      <th>user_score</th>\n",
              "      <th>rating</th>\n",
              "    </tr>\n",
              "  </thead>\n",
              "  <tbody>\n",
              "    <tr>\n",
              "      <th>0</th>\n",
              "      <td>Wii Sports</td>\n",
              "      <td>Wii</td>\n",
              "      <td>2006</td>\n",
              "      <td>Sports</td>\n",
              "      <td>41.36</td>\n",
              "      <td>28.96</td>\n",
              "      <td>3.77</td>\n",
              "      <td>8.45</td>\n",
              "      <td>76.0</td>\n",
              "      <td>8.0</td>\n",
              "      <td>E</td>\n",
              "    </tr>\n",
              "    <tr>\n",
              "      <th>1</th>\n",
              "      <td>Super Mario Bros.</td>\n",
              "      <td>NES</td>\n",
              "      <td>1985</td>\n",
              "      <td>Platform</td>\n",
              "      <td>29.08</td>\n",
              "      <td>3.58</td>\n",
              "      <td>6.81</td>\n",
              "      <td>0.77</td>\n",
              "      <td>NaN</td>\n",
              "      <td>NaN</td>\n",
              "      <td>NaN</td>\n",
              "    </tr>\n",
              "    <tr>\n",
              "      <th>2</th>\n",
              "      <td>Mario Kart Wii</td>\n",
              "      <td>Wii</td>\n",
              "      <td>2008</td>\n",
              "      <td>Racing</td>\n",
              "      <td>15.68</td>\n",
              "      <td>12.76</td>\n",
              "      <td>3.79</td>\n",
              "      <td>3.29</td>\n",
              "      <td>82.0</td>\n",
              "      <td>8.3</td>\n",
              "      <td>E</td>\n",
              "    </tr>\n",
              "    <tr>\n",
              "      <th>3</th>\n",
              "      <td>Wii Sports Resort</td>\n",
              "      <td>Wii</td>\n",
              "      <td>2009</td>\n",
              "      <td>Sports</td>\n",
              "      <td>15.61</td>\n",
              "      <td>10.93</td>\n",
              "      <td>3.28</td>\n",
              "      <td>2.95</td>\n",
              "      <td>80.0</td>\n",
              "      <td>8.0</td>\n",
              "      <td>E</td>\n",
              "    </tr>\n",
              "    <tr>\n",
              "      <th>4</th>\n",
              "      <td>Pokemon Red/Pokemon Blue</td>\n",
              "      <td>GB</td>\n",
              "      <td>1996</td>\n",
              "      <td>Role-Playing</td>\n",
              "      <td>11.27</td>\n",
              "      <td>8.89</td>\n",
              "      <td>10.22</td>\n",
              "      <td>1.00</td>\n",
              "      <td>NaN</td>\n",
              "      <td>NaN</td>\n",
              "      <td>NaN</td>\n",
              "    </tr>\n",
              "  </tbody>\n",
              "</table>\n",
              "</div>"
            ],
            "text/plain": [
              "                       name platform  year_of_release         genre  na_sales  \\\n",
              "0                Wii Sports      Wii             2006        Sports     41.36   \n",
              "1         Super Mario Bros.      NES             1985      Platform     29.08   \n",
              "2            Mario Kart Wii      Wii             2008        Racing     15.68   \n",
              "3         Wii Sports Resort      Wii             2009        Sports     15.61   \n",
              "4  Pokemon Red/Pokemon Blue       GB             1996  Role-Playing     11.27   \n",
              "\n",
              "   eu_sales  jp_sales  other_sales  critic_score  user_score rating  \n",
              "0     28.96      3.77         8.45          76.0         8.0      E  \n",
              "1      3.58      6.81         0.77           NaN         NaN    NaN  \n",
              "2     12.76      3.79         3.29          82.0         8.3      E  \n",
              "3     10.93      3.28         2.95          80.0         8.0      E  \n",
              "4      8.89     10.22         1.00           NaN         NaN    NaN  "
            ]
          },
          "execution_count": 30,
          "metadata": {},
          "output_type": "execute_result"
        }
      ],
      "source": [
        "games.head()"
      ]
    },
    {
      "cell_type": "markdown",
      "metadata": {
        "id": "TEXqEW-ad0Fo"
      },
      "source": [
        "# rating"
      ]
    },
    {
      "cell_type": "code",
      "execution_count": null,
      "metadata": {
        "id": "SsP89Cofre26"
      },
      "outputs": [],
      "source": [
        "games['rating'] = games['rating'].fillna('RP')"
      ]
    },
    {
      "cell_type": "code",
      "execution_count": null,
      "metadata": {
        "colab": {
          "base_uri": "https://localhost:8080/"
        },
        "id": "zXlq_7X5rjjN",
        "outputId": "d95904b1-91c8-4ae0-a104-3747204d0535"
      },
      "outputs": [
        {
          "name": "stdout",
          "output_type": "stream",
          "text": [
            "<class 'pandas.core.frame.DataFrame'>\n",
            "RangeIndex: 16444 entries, 0 to 16443\n",
            "Data columns (total 11 columns):\n",
            " #   Column           Non-Null Count  Dtype  \n",
            "---  ------           --------------  -----  \n",
            " 0   name             16444 non-null  object \n",
            " 1   platform         16444 non-null  object \n",
            " 2   year_of_release  16444 non-null  int64  \n",
            " 3   genre            16444 non-null  object \n",
            " 4   na_sales         16444 non-null  float64\n",
            " 5   eu_sales         16444 non-null  float64\n",
            " 6   jp_sales         16444 non-null  float64\n",
            " 7   other_sales      16444 non-null  float64\n",
            " 8   critic_score     7983 non-null   float64\n",
            " 9   user_score       7463 non-null   float64\n",
            " 10  rating           16444 non-null  object \n",
            "dtypes: float64(6), int64(1), object(4)\n",
            "memory usage: 1.4+ MB\n"
          ]
        }
      ],
      "source": [
        "games.info()"
      ]
    },
    {
      "cell_type": "markdown",
      "metadata": {
        "id": "-zrBXPosrgRN"
      },
      "source": [
        "## 2.2 Calcula las ventas totales (la suma de las ventas en todas las regiones) para cada juego y coloca estos valores en una columna separada."
      ]
    },
    {
      "cell_type": "code",
      "execution_count": null,
      "metadata": {
        "colab": {
          "base_uri": "https://localhost:8080/",
          "height": 267
        },
        "id": "L_lQJN7RrkDg",
        "outputId": "568753fe-2305-42a6-85da-5bdc8c4ed2cd"
      },
      "outputs": [
        {
          "data": {
            "text/html": [
              "<div>\n",
              "<style scoped>\n",
              "    .dataframe tbody tr th:only-of-type {\n",
              "        vertical-align: middle;\n",
              "    }\n",
              "\n",
              "    .dataframe tbody tr th {\n",
              "        vertical-align: top;\n",
              "    }\n",
              "\n",
              "    .dataframe thead th {\n",
              "        text-align: right;\n",
              "    }\n",
              "</style>\n",
              "<table border=\"1\" class=\"dataframe\">\n",
              "  <thead>\n",
              "    <tr style=\"text-align: right;\">\n",
              "      <th></th>\n",
              "      <th>name</th>\n",
              "      <th>platform</th>\n",
              "      <th>year_of_release</th>\n",
              "      <th>genre</th>\n",
              "      <th>na_sales</th>\n",
              "      <th>eu_sales</th>\n",
              "      <th>jp_sales</th>\n",
              "      <th>other_sales</th>\n",
              "      <th>critic_score</th>\n",
              "      <th>user_score</th>\n",
              "      <th>rating</th>\n",
              "    </tr>\n",
              "  </thead>\n",
              "  <tbody>\n",
              "    <tr>\n",
              "      <th>0</th>\n",
              "      <td>Wii Sports</td>\n",
              "      <td>Wii</td>\n",
              "      <td>2006</td>\n",
              "      <td>Sports</td>\n",
              "      <td>41.36</td>\n",
              "      <td>28.96</td>\n",
              "      <td>3.77</td>\n",
              "      <td>8.45</td>\n",
              "      <td>76.0</td>\n",
              "      <td>8.0</td>\n",
              "      <td>E</td>\n",
              "    </tr>\n",
              "    <tr>\n",
              "      <th>1</th>\n",
              "      <td>Super Mario Bros.</td>\n",
              "      <td>NES</td>\n",
              "      <td>1985</td>\n",
              "      <td>Platform</td>\n",
              "      <td>29.08</td>\n",
              "      <td>3.58</td>\n",
              "      <td>6.81</td>\n",
              "      <td>0.77</td>\n",
              "      <td>NaN</td>\n",
              "      <td>NaN</td>\n",
              "      <td>RP</td>\n",
              "    </tr>\n",
              "    <tr>\n",
              "      <th>2</th>\n",
              "      <td>Mario Kart Wii</td>\n",
              "      <td>Wii</td>\n",
              "      <td>2008</td>\n",
              "      <td>Racing</td>\n",
              "      <td>15.68</td>\n",
              "      <td>12.76</td>\n",
              "      <td>3.79</td>\n",
              "      <td>3.29</td>\n",
              "      <td>82.0</td>\n",
              "      <td>8.3</td>\n",
              "      <td>E</td>\n",
              "    </tr>\n",
              "    <tr>\n",
              "      <th>3</th>\n",
              "      <td>Wii Sports Resort</td>\n",
              "      <td>Wii</td>\n",
              "      <td>2009</td>\n",
              "      <td>Sports</td>\n",
              "      <td>15.61</td>\n",
              "      <td>10.93</td>\n",
              "      <td>3.28</td>\n",
              "      <td>2.95</td>\n",
              "      <td>80.0</td>\n",
              "      <td>8.0</td>\n",
              "      <td>E</td>\n",
              "    </tr>\n",
              "    <tr>\n",
              "      <th>4</th>\n",
              "      <td>Pokemon Red/Pokemon Blue</td>\n",
              "      <td>GB</td>\n",
              "      <td>1996</td>\n",
              "      <td>Role-Playing</td>\n",
              "      <td>11.27</td>\n",
              "      <td>8.89</td>\n",
              "      <td>10.22</td>\n",
              "      <td>1.00</td>\n",
              "      <td>NaN</td>\n",
              "      <td>NaN</td>\n",
              "      <td>RP</td>\n",
              "    </tr>\n",
              "  </tbody>\n",
              "</table>\n",
              "</div>"
            ],
            "text/plain": [
              "                       name platform  year_of_release         genre  na_sales  \\\n",
              "0                Wii Sports      Wii             2006        Sports     41.36   \n",
              "1         Super Mario Bros.      NES             1985      Platform     29.08   \n",
              "2            Mario Kart Wii      Wii             2008        Racing     15.68   \n",
              "3         Wii Sports Resort      Wii             2009        Sports     15.61   \n",
              "4  Pokemon Red/Pokemon Blue       GB             1996  Role-Playing     11.27   \n",
              "\n",
              "   eu_sales  jp_sales  other_sales  critic_score  user_score rating  \n",
              "0     28.96      3.77         8.45          76.0         8.0      E  \n",
              "1      3.58      6.81         0.77           NaN         NaN     RP  \n",
              "2     12.76      3.79         3.29          82.0         8.3      E  \n",
              "3     10.93      3.28         2.95          80.0         8.0      E  \n",
              "4      8.89     10.22         1.00           NaN         NaN     RP  "
            ]
          },
          "execution_count": 33,
          "metadata": {},
          "output_type": "execute_result"
        }
      ],
      "source": [
        "games.head()"
      ]
    },
    {
      "cell_type": "code",
      "execution_count": null,
      "metadata": {
        "id": "ntEVyZiABZvC",
        "outputId": "989759bd-f962-424d-fa67-cacf33552218"
      },
      "outputs": [
        {
          "data": {
            "text/html": [
              "<div>\n",
              "<style scoped>\n",
              "    .dataframe tbody tr th:only-of-type {\n",
              "        vertical-align: middle;\n",
              "    }\n",
              "\n",
              "    .dataframe tbody tr th {\n",
              "        vertical-align: top;\n",
              "    }\n",
              "\n",
              "    .dataframe thead th {\n",
              "        text-align: right;\n",
              "    }\n",
              "</style>\n",
              "<table border=\"1\" class=\"dataframe\">\n",
              "  <thead>\n",
              "    <tr style=\"text-align: right;\">\n",
              "      <th></th>\n",
              "      <th>name</th>\n",
              "      <th>platform</th>\n",
              "      <th>year_of_release</th>\n",
              "      <th>genre</th>\n",
              "      <th>na_sales</th>\n",
              "      <th>eu_sales</th>\n",
              "      <th>jp_sales</th>\n",
              "      <th>other_sales</th>\n",
              "      <th>critic_score</th>\n",
              "      <th>user_score</th>\n",
              "      <th>rating</th>\n",
              "      <th>ventas_totales</th>\n",
              "    </tr>\n",
              "  </thead>\n",
              "  <tbody>\n",
              "    <tr>\n",
              "      <th>0</th>\n",
              "      <td>Wii Sports</td>\n",
              "      <td>Wii</td>\n",
              "      <td>2006</td>\n",
              "      <td>Sports</td>\n",
              "      <td>41.36</td>\n",
              "      <td>28.96</td>\n",
              "      <td>3.77</td>\n",
              "      <td>8.45</td>\n",
              "      <td>76.0</td>\n",
              "      <td>8.0</td>\n",
              "      <td>E</td>\n",
              "      <td>82.54</td>\n",
              "    </tr>\n",
              "    <tr>\n",
              "      <th>1</th>\n",
              "      <td>Super Mario Bros.</td>\n",
              "      <td>NES</td>\n",
              "      <td>1985</td>\n",
              "      <td>Platform</td>\n",
              "      <td>29.08</td>\n",
              "      <td>3.58</td>\n",
              "      <td>6.81</td>\n",
              "      <td>0.77</td>\n",
              "      <td>NaN</td>\n",
              "      <td>NaN</td>\n",
              "      <td>RP</td>\n",
              "      <td>40.24</td>\n",
              "    </tr>\n",
              "    <tr>\n",
              "      <th>2</th>\n",
              "      <td>Mario Kart Wii</td>\n",
              "      <td>Wii</td>\n",
              "      <td>2008</td>\n",
              "      <td>Racing</td>\n",
              "      <td>15.68</td>\n",
              "      <td>12.76</td>\n",
              "      <td>3.79</td>\n",
              "      <td>3.29</td>\n",
              "      <td>82.0</td>\n",
              "      <td>8.3</td>\n",
              "      <td>E</td>\n",
              "      <td>35.52</td>\n",
              "    </tr>\n",
              "    <tr>\n",
              "      <th>3</th>\n",
              "      <td>Wii Sports Resort</td>\n",
              "      <td>Wii</td>\n",
              "      <td>2009</td>\n",
              "      <td>Sports</td>\n",
              "      <td>15.61</td>\n",
              "      <td>10.93</td>\n",
              "      <td>3.28</td>\n",
              "      <td>2.95</td>\n",
              "      <td>80.0</td>\n",
              "      <td>8.0</td>\n",
              "      <td>E</td>\n",
              "      <td>32.77</td>\n",
              "    </tr>\n",
              "    <tr>\n",
              "      <th>4</th>\n",
              "      <td>Pokemon Red/Pokemon Blue</td>\n",
              "      <td>GB</td>\n",
              "      <td>1996</td>\n",
              "      <td>Role-Playing</td>\n",
              "      <td>11.27</td>\n",
              "      <td>8.89</td>\n",
              "      <td>10.22</td>\n",
              "      <td>1.00</td>\n",
              "      <td>NaN</td>\n",
              "      <td>NaN</td>\n",
              "      <td>RP</td>\n",
              "      <td>31.38</td>\n",
              "    </tr>\n",
              "  </tbody>\n",
              "</table>\n",
              "</div>"
            ],
            "text/plain": [
              "                       name platform  year_of_release         genre  na_sales  \\\n",
              "0                Wii Sports      Wii             2006        Sports     41.36   \n",
              "1         Super Mario Bros.      NES             1985      Platform     29.08   \n",
              "2            Mario Kart Wii      Wii             2008        Racing     15.68   \n",
              "3         Wii Sports Resort      Wii             2009        Sports     15.61   \n",
              "4  Pokemon Red/Pokemon Blue       GB             1996  Role-Playing     11.27   \n",
              "\n",
              "   eu_sales  jp_sales  other_sales  critic_score  user_score rating  \\\n",
              "0     28.96      3.77         8.45          76.0         8.0      E   \n",
              "1      3.58      6.81         0.77           NaN         NaN     RP   \n",
              "2     12.76      3.79         3.29          82.0         8.3      E   \n",
              "3     10.93      3.28         2.95          80.0         8.0      E   \n",
              "4      8.89     10.22         1.00           NaN         NaN     RP   \n",
              "\n",
              "   ventas_totales  \n",
              "0           82.54  \n",
              "1           40.24  \n",
              "2           35.52  \n",
              "3           32.77  \n",
              "4           31.38  "
            ]
          },
          "execution_count": 34,
          "metadata": {},
          "output_type": "execute_result"
        }
      ],
      "source": [
        "games['ventas_totales'] = games['na_sales'] + games['eu_sales'] + games['jp_sales'] + games['other_sales']\n",
        "games.head()"
      ]
    },
    {
      "cell_type": "markdown",
      "metadata": {
        "id": "YfbVHhi3bOI5"
      },
      "source": [
        "# Conclusion etapa 2\n"
      ]
    },
    {
      "cell_type": "markdown",
      "metadata": {
        "id": "zsLUwJvFbg30"
      },
      "source": [
        "Para esta etapa, se cambiaron los nombres de las columnas a minusculasy ademas de los formatos a las columnas necesarias, ademas de eliminarlos datos aunsentes a las columnas de menos de 2% del total de datos, y para las otras columnas, donde los datos ausentes eran un porcentarje importante se cambio por la media, debido que no teniamos datos atipicos, y por último de agregar la columna de ventas totales por juego al DF. "
      ]
    },
    {
      "cell_type": "markdown",
      "metadata": {
        "id": "diAfcYp6xDYl"
      },
      "source": [
        "# Etapa 3. Analiza los datos"
      ]
    },
    {
      "cell_type": "markdown",
      "metadata": {
        "id": "6w4REGmt_XoV"
      },
      "source": [
        "Mira cuántos juegos fueron lanzados en diferentes años. ¿Son significativos los datos de cada período?"
      ]
    },
    {
      "cell_type": "code",
      "execution_count": null,
      "metadata": {
        "colab": {
          "base_uri": "https://localhost:8080/"
        },
        "id": "XDKv0-JPxGe_",
        "outputId": "ffcc807a-04e8-4d2b-c958-98fc0c24e79f"
      },
      "outputs": [
        {
          "data": {
            "text/plain": [
              "year_of_release\n",
              "1980       9\n",
              "1981      46\n",
              "1982      36\n",
              "1983      17\n",
              "1984      14\n",
              "1985      14\n",
              "1986      21\n",
              "1987      16\n",
              "1988      15\n",
              "1989      17\n",
              "1990      16\n",
              "1991      41\n",
              "1992      43\n",
              "1993      60\n",
              "1994     121\n",
              "1995     219\n",
              "1996     263\n",
              "1997     289\n",
              "1998     379\n",
              "1999     338\n",
              "2000     350\n",
              "2001     482\n",
              "2002     829\n",
              "2003     775\n",
              "2004     762\n",
              "2005     939\n",
              "2006    1006\n",
              "2007    1197\n",
              "2008    1427\n",
              "2009    1426\n",
              "2010    1255\n",
              "2011    1136\n",
              "2012     653\n",
              "2013     544\n",
              "2014     581\n",
              "2015     606\n",
              "2016     502\n",
              "Name: name, dtype: int64"
            ]
          },
          "execution_count": 35,
          "metadata": {},
          "output_type": "execute_result"
        }
      ],
      "source": [
        "numero_juegos_años = games.groupby(['year_of_release'])['name'].count()\n",
        "numero_juegos_años.head(37)\n"
      ]
    },
    {
      "cell_type": "code",
      "execution_count": null,
      "metadata": {
        "colab": {
          "base_uri": "https://localhost:8080/",
          "height": 310
        },
        "id": "Dayli1KMKYvC",
        "outputId": "69bd6713-a8b3-4dc5-9f16-e15edcda6564"
      },
      "outputs": [
        {
          "data": {
            "image/png": "[encoded data removed]",
            "text/plain": [
              "<Figure size 792x288 with 1 Axes>"
            ]
          },
          "metadata": {
            "needs_background": "light"
          },
          "output_type": "display_data"
        }
      ],
      "source": [
        "numero_juegos_años.plot(kind='bar',figsize=(11,4))\n",
        "plt.title('Juegos por año')\n",
        "plt.xlabel('año de lanzamiento')\n",
        "plt.ylabel('cantidad de juegos')\n",
        "plt.xticks(rotation=45)\n",
        "plt.show()"
      ]
    },
    {
      "cell_type": "markdown",
      "metadata": {
        "id": "TuQzRV3rCcd2"
      },
      "source": [
        "podemos ver que la cantidad de juegos por años desde los inicios de los datos ha ido incrementando la cantidad de números de juegos creados por año, esto se debe al crecimiento de la industria de los videos juegos, pero en los últimos años también se puede observar una disminución de la cantidad de juegos por año, esto se debe a las actuales generaciones de videos juegos, donde crear un nuevo juego conlleva mucho más desarrollo en cuanto e tiempo.\n",
        "desde 1993, los datos comienzan a ser significativos debido que se llegan a duplicar entre un año y otro\n",
        "."
      ]
    },
    {
      "cell_type": "markdown",
      "metadata": {
        "id": "OyrFH2AIDfKD"
      },
      "source": [
        "Observa cómo varían las ventas de una plataforma a otra. Elige las plataformas con las mayores ventas totales y construye una distribución basada en los datos de cada año. Busca las plataformas que solían ser populares pero que ahora no tienen ventas. ¿Cuánto tardan generalmente las nuevas plataformas en aparecer y las antiguas en desaparecer?"
      ]
    },
    {
      "cell_type": "code",
      "execution_count": null,
      "metadata": {
        "colab": {
          "base_uri": "https://localhost:8080/",
          "height": 1000
        },
        "id": "b7MevLQhHMkg",
        "outputId": "2c073da2-62fd-4aab-be10-2755d3980ca8"
      },
      "outputs": [
        {
          "data": {
            "text/html": [
              "<div>\n",
              "<style scoped>\n",
              "    .dataframe tbody tr th:only-of-type {\n",
              "        vertical-align: middle;\n",
              "    }\n",
              "\n",
              "    .dataframe tbody tr th {\n",
              "        vertical-align: top;\n",
              "    }\n",
              "\n",
              "    .dataframe thead th {\n",
              "        text-align: right;\n",
              "    }\n",
              "</style>\n",
              "<table border=\"1\" class=\"dataframe\">\n",
              "  <thead>\n",
              "    <tr style=\"text-align: right;\">\n",
              "      <th></th>\n",
              "      <th>ventas_totales</th>\n",
              "    </tr>\n",
              "    <tr>\n",
              "      <th>platform</th>\n",
              "      <th></th>\n",
              "    </tr>\n",
              "  </thead>\n",
              "  <tbody>\n",
              "    <tr>\n",
              "      <th>PS2</th>\n",
              "      <td>1233.56</td>\n",
              "    </tr>\n",
              "    <tr>\n",
              "      <th>X360</th>\n",
              "      <td>961.24</td>\n",
              "    </tr>\n",
              "    <tr>\n",
              "      <th>PS3</th>\n",
              "      <td>931.34</td>\n",
              "    </tr>\n",
              "    <tr>\n",
              "      <th>Wii</th>\n",
              "      <td>891.18</td>\n",
              "    </tr>\n",
              "    <tr>\n",
              "      <th>DS</th>\n",
              "      <td>802.78</td>\n",
              "    </tr>\n",
              "    <tr>\n",
              "      <th>PS</th>\n",
              "      <td>727.58</td>\n",
              "    </tr>\n",
              "    <tr>\n",
              "      <th>PS4</th>\n",
              "      <td>314.14</td>\n",
              "    </tr>\n",
              "    <tr>\n",
              "      <th>GBA</th>\n",
              "      <td>312.88</td>\n",
              "    </tr>\n",
              "    <tr>\n",
              "      <th>PSP</th>\n",
              "      <td>289.53</td>\n",
              "    </tr>\n",
              "    <tr>\n",
              "      <th>3DS</th>\n",
              "      <td>257.81</td>\n",
              "    </tr>\n",
              "    <tr>\n",
              "      <th>PC</th>\n",
              "      <td>255.76</td>\n",
              "    </tr>\n",
              "    <tr>\n",
              "      <th>GB</th>\n",
              "      <td>254.43</td>\n",
              "    </tr>\n",
              "    <tr>\n",
              "      <th>XB</th>\n",
              "      <td>251.57</td>\n",
              "    </tr>\n",
              "    <tr>\n",
              "      <th>NES</th>\n",
              "      <td>251.05</td>\n",
              "    </tr>\n",
              "    <tr>\n",
              "      <th>N64</th>\n",
              "      <td>218.01</td>\n",
              "    </tr>\n",
              "    <tr>\n",
              "      <th>SNES</th>\n",
              "      <td>200.04</td>\n",
              "    </tr>\n",
              "    <tr>\n",
              "      <th>GC</th>\n",
              "      <td>196.73</td>\n",
              "    </tr>\n",
              "    <tr>\n",
              "      <th>XOne</th>\n",
              "      <td>159.32</td>\n",
              "    </tr>\n",
              "    <tr>\n",
              "      <th>2600</th>\n",
              "      <td>86.48</td>\n",
              "    </tr>\n",
              "    <tr>\n",
              "      <th>WiiU</th>\n",
              "      <td>82.19</td>\n",
              "    </tr>\n",
              "    <tr>\n",
              "      <th>PSV</th>\n",
              "      <td>53.81</td>\n",
              "    </tr>\n",
              "    <tr>\n",
              "      <th>SAT</th>\n",
              "      <td>33.59</td>\n",
              "    </tr>\n",
              "    <tr>\n",
              "      <th>GEN</th>\n",
              "      <td>28.35</td>\n",
              "    </tr>\n",
              "    <tr>\n",
              "      <th>DC</th>\n",
              "      <td>15.95</td>\n",
              "    </tr>\n",
              "    <tr>\n",
              "      <th>SCD</th>\n",
              "      <td>1.86</td>\n",
              "    </tr>\n",
              "    <tr>\n",
              "      <th>NG</th>\n",
              "      <td>1.44</td>\n",
              "    </tr>\n",
              "    <tr>\n",
              "      <th>WS</th>\n",
              "      <td>1.42</td>\n",
              "    </tr>\n",
              "    <tr>\n",
              "      <th>TG16</th>\n",
              "      <td>0.16</td>\n",
              "    </tr>\n",
              "    <tr>\n",
              "      <th>3DO</th>\n",
              "      <td>0.10</td>\n",
              "    </tr>\n",
              "    <tr>\n",
              "      <th>GG</th>\n",
              "      <td>0.04</td>\n",
              "    </tr>\n",
              "    <tr>\n",
              "      <th>PCFX</th>\n",
              "      <td>0.03</td>\n",
              "    </tr>\n",
              "  </tbody>\n",
              "</table>\n",
              "</div>"
            ],
            "text/plain": [
              "          ventas_totales\n",
              "platform                \n",
              "PS2              1233.56\n",
              "X360              961.24\n",
              "PS3               931.34\n",
              "Wii               891.18\n",
              "DS                802.78\n",
              "PS                727.58\n",
              "PS4               314.14\n",
              "GBA               312.88\n",
              "PSP               289.53\n",
              "3DS               257.81\n",
              "PC                255.76\n",
              "GB                254.43\n",
              "XB                251.57\n",
              "NES               251.05\n",
              "N64               218.01\n",
              "SNES              200.04\n",
              "GC                196.73\n",
              "XOne              159.32\n",
              "2600               86.48\n",
              "WiiU               82.19\n",
              "PSV                53.81\n",
              "SAT                33.59\n",
              "GEN                28.35\n",
              "DC                 15.95\n",
              "SCD                 1.86\n",
              "NG                  1.44\n",
              "WS                  1.42\n",
              "TG16                0.16\n",
              "3DO                 0.10\n",
              "GG                  0.04\n",
              "PCFX                0.03"
            ]
          },
          "execution_count": 37,
          "metadata": {},
          "output_type": "execute_result"
        }
      ],
      "source": [
        "games_pivot = games.pivot_table(index='platform', values= 'ventas_totales', aggfunc='sum').sort_values(by='ventas_totales',ascending=False)\n",
        "games_pivot.head(37)"
      ]
    },
    {
      "cell_type": "code",
      "execution_count": null,
      "metadata": {
        "colab": {
          "base_uri": "https://localhost:8080/",
          "height": 311
        },
        "id": "JAkOue-oL8Pn",
        "outputId": "34a47179-6dc7-4c9c-f32a-cb8213b985e3"
      },
      "outputs": [
        {
          "data": {
            "image/png": "[encoded data removed]",
            "text/plain": [
              "<Figure size 792x288 with 1 Axes>"
            ]
          },
          "metadata": {
            "needs_background": "light"
          },
          "output_type": "display_data"
        }
      ],
      "source": [
        "games_pivot.plot(kind='bar',figsize=(11,4))\n",
        "plt.title('Juegos por año')\n",
        "plt.xlabel('año de lanzamiento')\n",
        "plt.ylabel('cantidad de juegos')\n",
        "plt.xticks(rotation=45)\n",
        "plt.show()"
      ]
    },
    {
      "cell_type": "markdown",
      "metadata": {
        "id": "aWkuWY4zVQYr"
      },
      "source": [
        "aqui podemos ver que la cantidad de ventas por plataforma siendo ps2 la que más juegos a vendidos y pcfx la que menos a vendido"
      ]
    },
    {
      "cell_type": "code",
      "execution_count": null,
      "metadata": {
        "colab": {
          "base_uri": "https://localhost:8080/",
          "height": 333
        },
        "id": "WOe4RcBfRLXl",
        "outputId": "63354649-9b43-4d7b-c5a9-093ea6117929"
      },
      "outputs": [
        {
          "data": {
            "image/png": "[encoded data removed]",
            "text/plain": [
              "<Figure size 432x288 with 1 Axes>"
            ]
          },
          "metadata": {
            "needs_background": "light"
          },
          "output_type": "display_data"
        }
      ],
      "source": [
        "ps2 = games.query('platform == \"PS2\"')\n",
        "ps2_stat = ps2.groupby(['platform','year_of_release'])['ventas_totales'].sum()\n",
        "ps2_stat.plot(kind='bar',figsize=(6,4))\n",
        "plt.title('Ventas anuales PS2')\n",
        "plt.xlabel('Ciclo de venta')\n",
        "plt.ylabel('Millones vendidos')\n",
        "plt.xticks(rotation=45)\n",
        "plt.show()"
      ]
    },
    {
      "cell_type": "code",
      "execution_count": null,
      "metadata": {
        "colab": {
          "base_uri": "https://localhost:8080/",
          "height": 338
        },
        "id": "t0VXiSN7R77e",
        "outputId": "6d449752-c518-469a-fd5c-c4266c92fe9f"
      },
      "outputs": [
        {
          "data": {
            "image/png": "[encoded data removed]",
            "text/plain": [
              "<Figure size 432x288 with 1 Axes>"
            ]
          },
          "metadata": {
            "needs_background": "light"
          },
          "output_type": "display_data"
        }
      ],
      "source": [
        "x360 = games.query('platform == \"X360\"')\n",
        "x360_stat = x360.groupby(['platform','year_of_release'])['ventas_totales'].sum()\n",
        "x360_stat.plot(kind='bar',figsize=(6,4))\n",
        "plt.title('Ventas anuales x360')\n",
        "plt.xlabel('Ciclo de venta')\n",
        "plt.ylabel('Millones vendidos')\n",
        "plt.xticks(rotation=45)\n",
        "plt.show()"
      ]
    },
    {
      "cell_type": "code",
      "execution_count": null,
      "metadata": {
        "colab": {
          "base_uri": "https://localhost:8080/",
          "height": 333
        },
        "id": "1oyWSMA1SPxG",
        "outputId": "fc89fc2c-3cba-4cbf-9ee9-75b7b9c5bca7"
      },
      "outputs": [
        {
          "data": {
            "image/png": "[encoded data removed]",
            "text/plain": [
              "<Figure size 432x288 with 1 Axes>"
            ]
          },
          "metadata": {
            "needs_background": "light"
          },
          "output_type": "display_data"
        }
      ],
      "source": [
        "ps3 = games.query('platform == \"PS3\"')\n",
        "ps3_stat = ps3.groupby(['platform','year_of_release'])['ventas_totales'].sum()\n",
        "ps3_stat.plot(kind='bar',figsize=(6,4))\n",
        "plt.title('Ventas anuales PS3')\n",
        "plt.xlabel('Ciclo de venta')\n",
        "plt.ylabel('Millones vendidos')\n",
        "plt.xticks(rotation=45)\n",
        "plt.show()"
      ]
    },
    {
      "cell_type": "markdown",
      "metadata": {
        "id": "CDDKKTGGWa3p"
      },
      "source": [
        "las nuevas generaciones de consolas se demoran en aparecer en un periodo de 10 años, mismo periodo que se demoran en desaparecer aproximadamente, en plataformas exitosas. con un máximo histórico de ventas de 5 años por plataforma exitosa."
      ]
    },
    {
      "cell_type": "markdown",
      "metadata": {
        "id": "k-VTuQy0XmV3"
      },
      "source": [
        "Determina para qué período debes tomar datos. Para hacerlo mira tus respuestas a las preguntas anteriores. Los datos deberían permitirte construir un modelo para 2017."
      ]
    },
    {
      "cell_type": "code",
      "execution_count": null,
      "metadata": {
        "colab": {
          "base_uri": "https://localhost:8080/",
          "height": 392
        },
        "id": "jafm2EYwXrt8",
        "outputId": "3701bd0b-a9f1-4885-9ff3-99a55a20f412"
      },
      "outputs": [
        {
          "data": {
            "text/html": [
              "<div>\n",
              "<style scoped>\n",
              "    .dataframe tbody tr th:only-of-type {\n",
              "        vertical-align: middle;\n",
              "    }\n",
              "\n",
              "    .dataframe tbody tr th {\n",
              "        vertical-align: top;\n",
              "    }\n",
              "\n",
              "    .dataframe thead th {\n",
              "        text-align: right;\n",
              "    }\n",
              "</style>\n",
              "<table border=\"1\" class=\"dataframe\">\n",
              "  <thead>\n",
              "    <tr style=\"text-align: right;\">\n",
              "      <th></th>\n",
              "      <th>name</th>\n",
              "      <th>platform</th>\n",
              "      <th>year_of_release</th>\n",
              "      <th>genre</th>\n",
              "      <th>na_sales</th>\n",
              "      <th>eu_sales</th>\n",
              "      <th>jp_sales</th>\n",
              "      <th>other_sales</th>\n",
              "      <th>critic_score</th>\n",
              "      <th>user_score</th>\n",
              "      <th>rating</th>\n",
              "      <th>ventas_totales</th>\n",
              "    </tr>\n",
              "  </thead>\n",
              "  <tbody>\n",
              "    <tr>\n",
              "      <th>31</th>\n",
              "      <td>Call of Duty: Black Ops 3</td>\n",
              "      <td>PS4</td>\n",
              "      <td>2015</td>\n",
              "      <td>Shooter</td>\n",
              "      <td>6.03</td>\n",
              "      <td>5.86</td>\n",
              "      <td>0.36</td>\n",
              "      <td>2.38</td>\n",
              "      <td>NaN</td>\n",
              "      <td>NaN</td>\n",
              "      <td>RP</td>\n",
              "      <td>14.63</td>\n",
              "    </tr>\n",
              "    <tr>\n",
              "      <th>42</th>\n",
              "      <td>Grand Theft Auto V</td>\n",
              "      <td>PS4</td>\n",
              "      <td>2014</td>\n",
              "      <td>Action</td>\n",
              "      <td>3.96</td>\n",
              "      <td>6.31</td>\n",
              "      <td>0.38</td>\n",
              "      <td>1.97</td>\n",
              "      <td>97.0</td>\n",
              "      <td>8.3</td>\n",
              "      <td>M</td>\n",
              "      <td>12.62</td>\n",
              "    </tr>\n",
              "    <tr>\n",
              "      <th>47</th>\n",
              "      <td>Pokemon Omega Ruby/Pokemon Alpha Sapphire</td>\n",
              "      <td>3DS</td>\n",
              "      <td>2014</td>\n",
              "      <td>Role-Playing</td>\n",
              "      <td>4.35</td>\n",
              "      <td>3.49</td>\n",
              "      <td>3.10</td>\n",
              "      <td>0.74</td>\n",
              "      <td>NaN</td>\n",
              "      <td>NaN</td>\n",
              "      <td>RP</td>\n",
              "      <td>11.68</td>\n",
              "    </tr>\n",
              "    <tr>\n",
              "      <th>77</th>\n",
              "      <td>FIFA 16</td>\n",
              "      <td>PS4</td>\n",
              "      <td>2015</td>\n",
              "      <td>Sports</td>\n",
              "      <td>1.12</td>\n",
              "      <td>6.12</td>\n",
              "      <td>0.06</td>\n",
              "      <td>1.28</td>\n",
              "      <td>82.0</td>\n",
              "      <td>4.3</td>\n",
              "      <td>E</td>\n",
              "      <td>8.58</td>\n",
              "    </tr>\n",
              "    <tr>\n",
              "      <th>87</th>\n",
              "      <td>Star Wars Battlefront (2015)</td>\n",
              "      <td>PS4</td>\n",
              "      <td>2015</td>\n",
              "      <td>Shooter</td>\n",
              "      <td>2.99</td>\n",
              "      <td>3.49</td>\n",
              "      <td>0.22</td>\n",
              "      <td>1.28</td>\n",
              "      <td>NaN</td>\n",
              "      <td>NaN</td>\n",
              "      <td>RP</td>\n",
              "      <td>7.98</td>\n",
              "    </tr>\n",
              "  </tbody>\n",
              "</table>\n",
              "</div>"
            ],
            "text/plain": [
              "                                         name platform  year_of_release  \\\n",
              "31                  Call of Duty: Black Ops 3      PS4             2015   \n",
              "42                         Grand Theft Auto V      PS4             2014   \n",
              "47  Pokemon Omega Ruby/Pokemon Alpha Sapphire      3DS             2014   \n",
              "77                                    FIFA 16      PS4             2015   \n",
              "87               Star Wars Battlefront (2015)      PS4             2015   \n",
              "\n",
              "           genre  na_sales  eu_sales  jp_sales  other_sales  critic_score  \\\n",
              "31       Shooter      6.03      5.86      0.36         2.38           NaN   \n",
              "42        Action      3.96      6.31      0.38         1.97          97.0   \n",
              "47  Role-Playing      4.35      3.49      3.10         0.74           NaN   \n",
              "77        Sports      1.12      6.12      0.06         1.28          82.0   \n",
              "87       Shooter      2.99      3.49      0.22         1.28           NaN   \n",
              "\n",
              "    user_score rating  ventas_totales  \n",
              "31         NaN     RP           14.63  \n",
              "42         8.3      M           12.62  \n",
              "47         NaN     RP           11.68  \n",
              "77         4.3      E            8.58  \n",
              "87         NaN     RP            7.98  "
            ]
          },
          "execution_count": 42,
          "metadata": {},
          "output_type": "execute_result"
        }
      ],
      "source": [
        "modelo_2017 = games.query('year_of_release >= 2014 and year_of_release <=2016' )\n",
        "modelo_2017.head()"
      ]
    },
    {
      "cell_type": "markdown",
      "metadata": {
        "id": "LbwScZYKZXiY"
      },
      "source": [
        "la variable modelo_2017, tiene los datos para el modelo 2017, con los 3 años últimos."
      ]
    },
    {
      "cell_type": "markdown",
      "metadata": {
        "id": "W2sXBzcrZz30"
      },
      "source": [
        "¿Qué plataformas son líderes en ventas? ¿Cuáles crecen y cuáles se reducen? Elige varias plataformas potencialmente rentables."
      ]
    },
    {
      "cell_type": "code",
      "execution_count": null,
      "metadata": {
        "colab": {
          "base_uri": "https://localhost:8080/",
          "height": 394
        },
        "id": "nV_Sd3xPZ2Hl",
        "outputId": "fc802538-5661-4fa8-8b01-61350ef84dc5"
      },
      "outputs": [
        {
          "data": {
            "text/html": [
              "<div>\n",
              "<style scoped>\n",
              "    .dataframe tbody tr th:only-of-type {\n",
              "        vertical-align: middle;\n",
              "    }\n",
              "\n",
              "    .dataframe tbody tr th {\n",
              "        vertical-align: top;\n",
              "    }\n",
              "\n",
              "    .dataframe thead th {\n",
              "        text-align: right;\n",
              "    }\n",
              "</style>\n",
              "<table border=\"1\" class=\"dataframe\">\n",
              "  <thead>\n",
              "    <tr style=\"text-align: right;\">\n",
              "      <th>year_of_release</th>\n",
              "      <th>2014</th>\n",
              "      <th>2015</th>\n",
              "      <th>2016</th>\n",
              "    </tr>\n",
              "    <tr>\n",
              "      <th>platform</th>\n",
              "      <th></th>\n",
              "      <th></th>\n",
              "      <th></th>\n",
              "    </tr>\n",
              "  </thead>\n",
              "  <tbody>\n",
              "    <tr>\n",
              "      <th>3DS</th>\n",
              "      <td>43.76</td>\n",
              "      <td>27.78</td>\n",
              "      <td>15.14</td>\n",
              "    </tr>\n",
              "    <tr>\n",
              "      <th>PC</th>\n",
              "      <td>13.28</td>\n",
              "      <td>8.52</td>\n",
              "      <td>5.25</td>\n",
              "    </tr>\n",
              "    <tr>\n",
              "      <th>PS3</th>\n",
              "      <td>47.76</td>\n",
              "      <td>16.82</td>\n",
              "      <td>3.60</td>\n",
              "    </tr>\n",
              "    <tr>\n",
              "      <th>PS4</th>\n",
              "      <td>100.00</td>\n",
              "      <td>118.90</td>\n",
              "      <td>69.25</td>\n",
              "    </tr>\n",
              "    <tr>\n",
              "      <th>PSP</th>\n",
              "      <td>0.24</td>\n",
              "      <td>0.12</td>\n",
              "      <td>NaN</td>\n",
              "    </tr>\n",
              "    <tr>\n",
              "      <th>PSV</th>\n",
              "      <td>11.90</td>\n",
              "      <td>6.25</td>\n",
              "      <td>4.25</td>\n",
              "    </tr>\n",
              "    <tr>\n",
              "      <th>Wii</th>\n",
              "      <td>3.75</td>\n",
              "      <td>1.14</td>\n",
              "      <td>0.18</td>\n",
              "    </tr>\n",
              "    <tr>\n",
              "      <th>WiiU</th>\n",
              "      <td>22.03</td>\n",
              "      <td>16.35</td>\n",
              "      <td>4.60</td>\n",
              "    </tr>\n",
              "    <tr>\n",
              "      <th>X360</th>\n",
              "      <td>34.74</td>\n",
              "      <td>11.96</td>\n",
              "      <td>1.52</td>\n",
              "    </tr>\n",
              "    <tr>\n",
              "      <th>XOne</th>\n",
              "      <td>54.07</td>\n",
              "      <td>60.14</td>\n",
              "      <td>26.15</td>\n",
              "    </tr>\n",
              "  </tbody>\n",
              "</table>\n",
              "</div>"
            ],
            "text/plain": [
              "year_of_release    2014    2015   2016\n",
              "platform                              \n",
              "3DS               43.76   27.78  15.14\n",
              "PC                13.28    8.52   5.25\n",
              "PS3               47.76   16.82   3.60\n",
              "PS4              100.00  118.90  69.25\n",
              "PSP                0.24    0.12    NaN\n",
              "PSV               11.90    6.25   4.25\n",
              "Wii                3.75    1.14   0.18\n",
              "WiiU              22.03   16.35   4.60\n",
              "X360              34.74   11.96   1.52\n",
              "XOne              54.07   60.14  26.15"
            ]
          },
          "execution_count": 43,
          "metadata": {},
          "output_type": "execute_result"
        }
      ],
      "source": [
        "modelo_pivot = modelo_2017.pivot_table(index='platform', columns='year_of_release', values= 'ventas_totales', aggfunc='sum')\n",
        "modelo_pivot.head(37)"
      ]
    },
    {
      "cell_type": "code",
      "execution_count": null,
      "metadata": {
        "colab": {
          "base_uri": "https://localhost:8080/",
          "height": 311
        },
        "id": "p4Kh6N0kdSC3",
        "outputId": "f333ed18-88b7-4a05-e384-34188f045430"
      },
      "outputs": [
        {
          "data": {
            "image/png": "[encoded data removed]",
            "text/plain": [
              "<Figure size 792x288 with 1 Axes>"
            ]
          },
          "metadata": {
            "needs_background": "light"
          },
          "output_type": "display_data"
        }
      ],
      "source": [
        "modelo_pivot.plot(kind='bar',figsize=(11,4))\n",
        "plt.title('Juegos por año')\n",
        "plt.xlabel('año de lanzamiento')\n",
        "plt.ylabel('cantidad de ventas')\n",
        "plt.xticks(rotation=45)\n",
        "plt.show()"
      ]
    },
    {
      "cell_type": "markdown",
      "metadata": {
        "id": "mOPTNI83ds-6"
      },
      "source": [
        "Las plataformas lideres en ventas son PS4 y atras Xone seguido de 3DS, todas las plataformas se reducen en comparacion al año 2015 ademas de reducirse tambien en el año 2014 menos PS4 y Xone, que tuvieron un ingrementos de ventas ese año en comparacion del año 2014.\n",
        "Las plataformas con mas potencial en reentabilidad son PS4, Xone, y 3DS\n"
      ]
    },
    {
      "cell_type": "markdown",
      "metadata": {
        "id": "SshHxbhriKai"
      },
      "source": [
        "Crea un diagrama de caja para las ventas globales de todos los juegos, desglosados por plataforma. ¿Son significativas las diferencias en las ventas? ¿Qué sucede con las ventas promedio en varias plataformas? Describe tus hallazgos."
      ]
    },
    {
      "cell_type": "code",
      "execution_count": null,
      "metadata": {
        "colab": {
          "base_uri": "https://localhost:8080/",
          "height": 567
        },
        "id": "799yB4rwuXsS",
        "outputId": "bd600e64-ac7f-4978-f276-505a7faf995f"
      },
      "outputs": [
        {
          "data": {
            "image/png": "[encoded data removed]",
            "text/plain": [
              "<Figure size 1008x648 with 1 Axes>"
            ]
          },
          "metadata": {
            "needs_background": "light"
          },
          "output_type": "display_data"
        }
      ],
      "source": [
        "plt.figure(figsize=(14,9))\n",
        "sns.boxplot(x='platform', y='ventas_totales', data=modelo_2017)\n",
        "plt.ylim(0, 1)\n",
        "plt.title('Diagrama Ventas Totales Promedio de todas las Plataforma de Juegos')\n",
        "plt.xlabel('Platform')\n",
        "plt.ylabel('Ventas Totales');"
      ]
    },
    {
      "cell_type": "markdown",
      "metadata": {
        "id": "Nh3zpZqPxEiU"
      },
      "source": [
        "Conclusiones del Daigrama, podemos ver que la mediana de las plataformas PS4, Xone, WiiU, X360, y por último Wii, son muy similares, que si hay una diferencia significativa en cuanto a las ventas y las plataformas antes mencionadas, tienen una distribucion muy similar. "
      ]
    },
    {
      "cell_type": "markdown",
      "metadata": {
        "id": "S7kpDDpC_L9b"
      },
      "source": [
        "Mira cómo las reseñas de usuarios y profesionales afectan las ventas de una plataforma popular (tu elección). Crea un gráfico de dispersión y calcula la correlación entre las reseñas y las ventas. Saca conclusiones."
      ]
    },
    {
      "cell_type": "code",
      "execution_count": null,
      "metadata": {
        "colab": {
          "base_uri": "https://localhost:8080/",
          "height": 279
        },
        "id": "-yc2ZE0L_RwA",
        "outputId": "0b42d828-1f6c-452f-c988-2d5c6fe9e798"
      },
      "outputs": [
        {
          "data": {
            "image/png": "[encoded data removed]",
            "text/plain": [
              "<Figure size 432x288 with 1 Axes>"
            ]
          },
          "metadata": {
            "needs_background": "light"
          },
          "output_type": "display_data"
        }
      ],
      "source": [
        "modelo_2017.query('platform == \"X360\"').plot(x='user_score', y='ventas_totales', kind='scatter');"
      ]
    },
    {
      "cell_type": "code",
      "execution_count": null,
      "metadata": {
        "colab": {
          "base_uri": "https://localhost:8080/"
        },
        "id": "EJtXa2_Z_9eb",
        "outputId": "9ee75428-8f03-4bc2-fc23-7c0156f66176"
      },
      "outputs": [
        {
          "data": {
            "text/plain": [
              "-0.138444570945665"
            ]
          },
          "execution_count": 47,
          "metadata": {},
          "output_type": "execute_result"
        }
      ],
      "source": [
        "critica_usuario = modelo_2017.query('platform == \"X360\"')\n",
        "critica_usuario['user_score'].corr(critica_usuario['ventas_totales'])"
      ]
    },
    {
      "cell_type": "code",
      "execution_count": null,
      "metadata": {
        "colab": {
          "base_uri": "https://localhost:8080/",
          "height": 280
        },
        "id": "e7XjID05BsHX",
        "outputId": "70fa9aa2-a775-4671-f80a-3875000880f6"
      },
      "outputs": [
        {
          "data": {
            "image/png": "[encoded data removed]",
            "text/plain": [
              "<Figure size 432x288 with 1 Axes>"
            ]
          },
          "metadata": {
            "needs_background": "light"
          },
          "output_type": "display_data"
        }
      ],
      "source": [
        "modelo_2017.query('platform == \"X360\"').plot(x='critic_score', y='ventas_totales', kind='scatter');"
      ]
    },
    {
      "cell_type": "code",
      "execution_count": null,
      "metadata": {
        "colab": {
          "base_uri": "https://localhost:8080/"
        },
        "id": "33fLm1riBOqw",
        "outputId": "f718c6fd-18c3-44b6-d8be-fea923f45a25"
      },
      "outputs": [
        {
          "data": {
            "text/plain": [
              "0.5257228356581523"
            ]
          },
          "execution_count": 49,
          "metadata": {},
          "output_type": "execute_result"
        }
      ],
      "source": [
        "critica_experto = modelo_2017.query('platform == \"X360\"')\n",
        "critica_experto['critic_score'].corr(critica_experto['ventas_totales'])"
      ]
    },
    {
      "cell_type": "markdown",
      "metadata": {
        "id": "C0euGOHuDJ2S"
      },
      "source": [
        "Según muestran los gráficos y rectifican los cálculos de correlación, Se puede decir que \"existe una correlación\" para user_score y las ventas, porque el cálculo es muy cercano a cero (-0.13).Para la variable critic_score la correlación es mas lejana dado que es una correlación de 0.5 positiva, esta mas lejano cero esto indica que si hay una voluntad de compra en base a las calificaciones de los críticos."
      ]
    },
    {
      "cell_type": "markdown",
      "metadata": {
        "id": "5-6F9wRjE2Ce"
      },
      "source": [
        "Teniendo en cuenta tus conclusiones compara las ventas de los mismos juegos en otras plataformas."
      ]
    },
    {
      "cell_type": "code",
      "execution_count": null,
      "metadata": {
        "colab": {
          "base_uri": "https://localhost:8080/",
          "height": 626
        },
        "id": "YvAPSQxBLn83",
        "outputId": "76767b77-a139-4b34-c315-e69bbb9c3f88"
      },
      "outputs": [
        {
          "data": {
            "text/html": [
              "<div>\n",
              "<style scoped>\n",
              "    .dataframe tbody tr th:only-of-type {\n",
              "        vertical-align: middle;\n",
              "    }\n",
              "\n",
              "    .dataframe tbody tr th {\n",
              "        vertical-align: top;\n",
              "    }\n",
              "\n",
              "    .dataframe thead th {\n",
              "        text-align: right;\n",
              "    }\n",
              "</style>\n",
              "<table border=\"1\" class=\"dataframe\">\n",
              "  <thead>\n",
              "    <tr style=\"text-align: right;\">\n",
              "      <th></th>\n",
              "      <th>name</th>\n",
              "      <th>platform</th>\n",
              "      <th>year_of_release</th>\n",
              "      <th>genre</th>\n",
              "      <th>na_sales</th>\n",
              "      <th>eu_sales</th>\n",
              "      <th>jp_sales</th>\n",
              "      <th>other_sales</th>\n",
              "      <th>critic_score</th>\n",
              "      <th>user_score</th>\n",
              "      <th>rating</th>\n",
              "      <th>ventas_totales</th>\n",
              "    </tr>\n",
              "  </thead>\n",
              "  <tbody>\n",
              "    <tr>\n",
              "      <th>110</th>\n",
              "      <td>Mario Kart 8</td>\n",
              "      <td>WiiU</td>\n",
              "      <td>2014</td>\n",
              "      <td>Racing</td>\n",
              "      <td>3.15</td>\n",
              "      <td>2.15</td>\n",
              "      <td>1.28</td>\n",
              "      <td>0.51</td>\n",
              "      <td>88.0</td>\n",
              "      <td>9.1</td>\n",
              "      <td>E</td>\n",
              "      <td>7.09</td>\n",
              "    </tr>\n",
              "    <tr>\n",
              "      <th>633</th>\n",
              "      <td>Need for Speed (2015)</td>\n",
              "      <td>PS4</td>\n",
              "      <td>2015</td>\n",
              "      <td>Racing</td>\n",
              "      <td>0.50</td>\n",
              "      <td>1.50</td>\n",
              "      <td>0.05</td>\n",
              "      <td>0.37</td>\n",
              "      <td>NaN</td>\n",
              "      <td>NaN</td>\n",
              "      <td>RP</td>\n",
              "      <td>2.42</td>\n",
              "    </tr>\n",
              "    <tr>\n",
              "      <th>803</th>\n",
              "      <td>DriveClub</td>\n",
              "      <td>PS4</td>\n",
              "      <td>2014</td>\n",
              "      <td>Racing</td>\n",
              "      <td>0.36</td>\n",
              "      <td>1.38</td>\n",
              "      <td>0.02</td>\n",
              "      <td>0.31</td>\n",
              "      <td>71.0</td>\n",
              "      <td>6.1</td>\n",
              "      <td>E</td>\n",
              "      <td>2.07</td>\n",
              "    </tr>\n",
              "    <tr>\n",
              "      <th>964</th>\n",
              "      <td>Forza Motorsport 6</td>\n",
              "      <td>XOne</td>\n",
              "      <td>2015</td>\n",
              "      <td>Racing</td>\n",
              "      <td>0.73</td>\n",
              "      <td>0.90</td>\n",
              "      <td>0.03</td>\n",
              "      <td>0.14</td>\n",
              "      <td>87.0</td>\n",
              "      <td>7.9</td>\n",
              "      <td>E</td>\n",
              "      <td>1.80</td>\n",
              "    </tr>\n",
              "    <tr>\n",
              "      <th>1024</th>\n",
              "      <td>The Crew</td>\n",
              "      <td>PS4</td>\n",
              "      <td>2014</td>\n",
              "      <td>Racing</td>\n",
              "      <td>0.35</td>\n",
              "      <td>1.08</td>\n",
              "      <td>0.03</td>\n",
              "      <td>0.26</td>\n",
              "      <td>61.0</td>\n",
              "      <td>5.4</td>\n",
              "      <td>T</td>\n",
              "      <td>1.72</td>\n",
              "    </tr>\n",
              "    <tr>\n",
              "      <th>...</th>\n",
              "      <td>...</td>\n",
              "      <td>...</td>\n",
              "      <td>...</td>\n",
              "      <td>...</td>\n",
              "      <td>...</td>\n",
              "      <td>...</td>\n",
              "      <td>...</td>\n",
              "      <td>...</td>\n",
              "      <td>...</td>\n",
              "      <td>...</td>\n",
              "      <td>...</td>\n",
              "      <td>...</td>\n",
              "    </tr>\n",
              "    <tr>\n",
              "      <th>16221</th>\n",
              "      <td>Ride</td>\n",
              "      <td>X360</td>\n",
              "      <td>2015</td>\n",
              "      <td>Racing</td>\n",
              "      <td>0.00</td>\n",
              "      <td>0.01</td>\n",
              "      <td>0.00</td>\n",
              "      <td>0.00</td>\n",
              "      <td>NaN</td>\n",
              "      <td>NaN</td>\n",
              "      <td>RP</td>\n",
              "      <td>0.01</td>\n",
              "    </tr>\n",
              "    <tr>\n",
              "      <th>16238</th>\n",
              "      <td>Ride 2</td>\n",
              "      <td>XOne</td>\n",
              "      <td>2016</td>\n",
              "      <td>Racing</td>\n",
              "      <td>0.00</td>\n",
              "      <td>0.01</td>\n",
              "      <td>0.00</td>\n",
              "      <td>0.00</td>\n",
              "      <td>NaN</td>\n",
              "      <td>8.2</td>\n",
              "      <td>E</td>\n",
              "      <td>0.01</td>\n",
              "    </tr>\n",
              "    <tr>\n",
              "      <th>16239</th>\n",
              "      <td>Ride 2</td>\n",
              "      <td>PC</td>\n",
              "      <td>2016</td>\n",
              "      <td>Racing</td>\n",
              "      <td>0.00</td>\n",
              "      <td>0.01</td>\n",
              "      <td>0.00</td>\n",
              "      <td>0.00</td>\n",
              "      <td>78.0</td>\n",
              "      <td>7.9</td>\n",
              "      <td>E</td>\n",
              "      <td>0.01</td>\n",
              "    </tr>\n",
              "    <tr>\n",
              "      <th>16276</th>\n",
              "      <td>MotoGP 14</td>\n",
              "      <td>PSV</td>\n",
              "      <td>2014</td>\n",
              "      <td>Racing</td>\n",
              "      <td>0.00</td>\n",
              "      <td>0.01</td>\n",
              "      <td>0.00</td>\n",
              "      <td>0.00</td>\n",
              "      <td>NaN</td>\n",
              "      <td>7.5</td>\n",
              "      <td>E</td>\n",
              "      <td>0.01</td>\n",
              "    </tr>\n",
              "    <tr>\n",
              "      <th>16359</th>\n",
              "      <td>Sébastien Loeb Rally Evo</td>\n",
              "      <td>XOne</td>\n",
              "      <td>2016</td>\n",
              "      <td>Racing</td>\n",
              "      <td>0.00</td>\n",
              "      <td>0.01</td>\n",
              "      <td>0.00</td>\n",
              "      <td>0.00</td>\n",
              "      <td>63.0</td>\n",
              "      <td>8.2</td>\n",
              "      <td>E</td>\n",
              "      <td>0.01</td>\n",
              "    </tr>\n",
              "  </tbody>\n",
              "</table>\n",
              "<p>69 rows × 12 columns</p>\n",
              "</div>"
            ],
            "text/plain": [
              "                           name platform  year_of_release   genre  na_sales  \\\n",
              "110                Mario Kart 8     WiiU             2014  Racing      3.15   \n",
              "633       Need for Speed (2015)      PS4             2015  Racing      0.50   \n",
              "803                   DriveClub      PS4             2014  Racing      0.36   \n",
              "964          Forza Motorsport 6     XOne             2015  Racing      0.73   \n",
              "1024                   The Crew      PS4             2014  Racing      0.35   \n",
              "...                         ...      ...              ...     ...       ...   \n",
              "16221                      Ride     X360             2015  Racing      0.00   \n",
              "16238                    Ride 2     XOne             2016  Racing      0.00   \n",
              "16239                    Ride 2       PC             2016  Racing      0.00   \n",
              "16276                MotoGP 14       PSV             2014  Racing      0.00   \n",
              "16359  Sébastien Loeb Rally Evo     XOne             2016  Racing      0.00   \n",
              "\n",
              "       eu_sales  jp_sales  other_sales  critic_score  user_score rating  \\\n",
              "110        2.15      1.28         0.51          88.0         9.1      E   \n",
              "633        1.50      0.05         0.37           NaN         NaN     RP   \n",
              "803        1.38      0.02         0.31          71.0         6.1      E   \n",
              "964        0.90      0.03         0.14          87.0         7.9      E   \n",
              "1024       1.08      0.03         0.26          61.0         5.4      T   \n",
              "...         ...       ...          ...           ...         ...    ...   \n",
              "16221      0.01      0.00         0.00           NaN         NaN     RP   \n",
              "16238      0.01      0.00         0.00           NaN         8.2      E   \n",
              "16239      0.01      0.00         0.00          78.0         7.9      E   \n",
              "16276      0.01      0.00         0.00           NaN         7.5      E   \n",
              "16359      0.01      0.00         0.00          63.0         8.2      E   \n",
              "\n",
              "       ventas_totales  \n",
              "110              7.09  \n",
              "633              2.42  \n",
              "803              2.07  \n",
              "964              1.80  \n",
              "1024             1.72  \n",
              "...               ...  \n",
              "16221            0.01  \n",
              "16238            0.01  \n",
              "16239            0.01  \n",
              "16276            0.01  \n",
              "16359            0.01  \n",
              "\n",
              "[69 rows x 12 columns]"
            ]
          },
          "execution_count": 50,
          "metadata": {},
          "output_type": "execute_result"
        }
      ],
      "source": [
        "modelo_2017.query('genre ==\"Racing\"')"
      ]
    },
    {
      "cell_type": "code",
      "execution_count": null,
      "metadata": {
        "colab": {
          "base_uri": "https://localhost:8080/",
          "height": 316
        },
        "id": "kcKWP2faGeWI",
        "outputId": "e529b644-38ef-4fc3-ed8e-a56fb834eda3"
      },
      "outputs": [
        {
          "data": {
            "image/png": "[encoded data removed]",
            "text/plain": [
              "<Figure size 432x288 with 1 Axes>"
            ]
          },
          "metadata": {
            "needs_background": "light"
          },
          "output_type": "display_data"
        }
      ],
      "source": [
        "(modelo_2017\n",
        "     .query('name == \"Rugby 15\"')\n",
        "     .pivot_table(index='name',columns='platform', values='ventas_totales', aggfunc='sum')\n",
        "     .plot(kind='bar')\n",
        ");"
      ]
    },
    {
      "cell_type": "code",
      "execution_count": null,
      "metadata": {
        "colab": {
          "base_uri": "https://localhost:8080/",
          "height": 441
        },
        "id": "_YFkcmgvJz7v",
        "outputId": "80356f7a-8345-46af-d6f7-9609f41b24ff"
      },
      "outputs": [
        {
          "data": {
            "image/png": "[encoded data removed]",
            "text/plain": [
              "<Figure size 432x288 with 1 Axes>"
            ]
          },
          "metadata": {
            "needs_background": "light"
          },
          "output_type": "display_data"
        }
      ],
      "source": [
        "(modelo_2017\n",
        "     .query('name == \"Metal Gear Solid V: Ground Zeroes\"')\n",
        "     .pivot_table(index='name',columns='platform', values='ventas_totales', aggfunc='sum')\n",
        "     .plot(kind='bar')\n",
        ");"
      ]
    },
    {
      "cell_type": "code",
      "execution_count": null,
      "metadata": {
        "colab": {
          "base_uri": "https://localhost:8080/",
          "height": 292
        },
        "id": "ywqNVSyHK0Py",
        "outputId": "1385600d-177b-4a6a-d44e-96f612390daa"
      },
      "outputs": [
        {
          "data": {
            "image/png": "[encoded data removed]",
            "text/plain": [
              "<Figure size 432x288 with 1 Axes>"
            ]
          },
          "metadata": {
            "needs_background": "light"
          },
          "output_type": "display_data"
        }
      ],
      "source": [
        "(modelo_2017\n",
        "     .query('name == \"Ride\"')\n",
        "     .pivot_table(index='name',columns='platform', values='ventas_totales', aggfunc='sum')\n",
        "     .plot(kind='bar')\n",
        ");"
      ]
    },
    {
      "cell_type": "markdown",
      "metadata": {
        "id": "w03j6_dIMRGx"
      },
      "source": [
        "Se crea una tabla por genero para ver los títulos de los juegos y poder realizar la comparación, para esta comparación se utilizó una muestra de un género de deportes, acción y carreras, donde la plataforma PS4, gana en ventas en los 3 ejercicios, seguido de Xone y PS3"
      ]
    },
    {
      "cell_type": "markdown",
      "metadata": {
        "id": "IoJhTwhGM9S7"
      },
      "source": [
        "Echa un vistazo a la distribución general de los juegos por género. ¿Qué se puede decir de los géneros más rentables? ¿Puedes generalizar acerca de los géneros con ventas altas y bajas?"
      ]
    },
    {
      "cell_type": "code",
      "execution_count": null,
      "metadata": {
        "colab": {
          "base_uri": "https://localhost:8080/",
          "height": 567
        },
        "id": "WjsXBhMWM_z6",
        "outputId": "aa5e8a40-4f42-444d-8ec4-bd6777d313bb"
      },
      "outputs": [
        {
          "data": {
            "image/png": "[encoded data removed]",
            "text/plain": [
              "<Figure size 1008x648 with 1 Axes>"
            ]
          },
          "metadata": {
            "needs_background": "light"
          },
          "output_type": "display_data"
        }
      ],
      "source": [
        "plt.figure(figsize=(14,9))\n",
        "sns.boxplot(x='genre', y='ventas_totales', data=modelo_2017)\n",
        "plt.ylim(0, 2)\n",
        "plt.title('Diagrama de ventas globales promedio de juegos por genero')\n",
        "plt.xlabel('genre')\n",
        "plt.ylabel('Ventas Totales');"
      ]
    },
    {
      "cell_type": "markdown",
      "metadata": {
        "id": "-GpX2ZBuOIOJ"
      },
      "source": [
        "los géneros más rentables son Shooter, Sport y Platform. También asi los menos reentable son Puzzle, Strategy y Adventure."
      ]
    },
    {
      "cell_type": "markdown",
      "metadata": {
        "id": "kvjrdHf5OmOA"
      },
      "source": [
        "# Etapa 4. Crea un perfil de usuario para cada región"
      ]
    },
    {
      "cell_type": "markdown",
      "metadata": {
        "id": "r2JCCea1O6dX"
      },
      "source": [
        "Crea un perfil de usuario para cada región\n",
        "Para cada región (NA, UE, JP) determina:\n",
        "Las cinco plataformas principales. Describe las variaciones en sus cuotas de mercado de una región a otra.\n"
      ]
    },
    {
      "cell_type": "code",
      "execution_count": null,
      "metadata": {
        "colab": {
          "base_uri": "https://localhost:8080/"
        },
        "id": "fJhKz0cTP01Y",
        "outputId": "12bfcb93-5ca3-4275-f3b9-59cef167b811"
      },
      "outputs": [
        {
          "name": "stdout",
          "output_type": "stream",
          "text": [
            "<class 'pandas.core.frame.DataFrame'>\n",
            "Int64Index: 1689 entries, 31 to 16443\n",
            "Data columns (total 12 columns):\n",
            " #   Column           Non-Null Count  Dtype  \n",
            "---  ------           --------------  -----  \n",
            " 0   name             1689 non-null   object \n",
            " 1   platform         1689 non-null   object \n",
            " 2   year_of_release  1689 non-null   int64  \n",
            " 3   genre            1689 non-null   object \n",
            " 4   na_sales         1689 non-null   float64\n",
            " 5   eu_sales         1689 non-null   float64\n",
            " 6   jp_sales         1689 non-null   float64\n",
            " 7   other_sales      1689 non-null   float64\n",
            " 8   critic_score     718 non-null    float64\n",
            " 9   user_score       888 non-null    float64\n",
            " 10  rating           1689 non-null   object \n",
            " 11  ventas_totales   1689 non-null   float64\n",
            "dtypes: float64(7), int64(1), object(4)\n",
            "memory usage: 236.1+ KB\n"
          ]
        }
      ],
      "source": [
        "modelo_2017.info()"
      ]
    },
    {
      "cell_type": "markdown",
      "metadata": {
        "id": "xkwD9GXSPbdN"
      },
      "source": [
        "# Región NA"
      ]
    },
    {
      "cell_type": "code",
      "execution_count": null,
      "metadata": {
        "id": "bo-jwZ0uPdE1"
      },
      "outputs": [],
      "source": [
        "na_region = modelo_2017.groupby(['platform'])['na_sales'].sum().reset_index().sort_values(by='na_sales', ascending = False)\n",
        "plataforma_5_na = na_region.head()"
      ]
    },
    {
      "cell_type": "code",
      "execution_count": null,
      "metadata": {
        "colab": {
          "base_uri": "https://localhost:8080/",
          "height": 427
        },
        "id": "oxP8-s8YSUvr",
        "outputId": "a2981247-bf71-4c70-dc16-baad6ab3ea28"
      },
      "outputs": [
        {
          "data": {
            "image/png": "[encoded data removed]",
            "text/plain": [
              "<Figure size 504x504 with 1 Axes>"
            ]
          },
          "metadata": {},
          "output_type": "display_data"
        }
      ],
      "source": [
        "(plataforma_5_na\n",
        "     .pivot_table(index='platform', values='na_sales', aggfunc='sum').sort_values(by='na_sales',ascending=False)\n",
        "     .plot(y='na_sales',kind='pie',title = 'Gráfico circular muestra el tamaño de las cinco plataformas más populares', \n",
        "                      figsize=(7, 7), autopct='%1.1f%%', shadow=True)\n",
        ");"
      ]
    },
    {
      "cell_type": "markdown",
      "metadata": {
        "id": "I5rz6cQ0ThAZ"
      },
      "source": [
        "# Región EU"
      ]
    },
    {
      "cell_type": "code",
      "execution_count": null,
      "metadata": {
        "id": "e8qYwLuoTlAt"
      },
      "outputs": [],
      "source": [
        "eu_region = modelo_2017.groupby(['platform'])['eu_sales'].sum().reset_index().sort_values(by='eu_sales', ascending = False)\n",
        "plataforma_5_eu = eu_region.head()"
      ]
    },
    {
      "cell_type": "code",
      "execution_count": null,
      "metadata": {
        "colab": {
          "base_uri": "https://localhost:8080/",
          "height": 427
        },
        "id": "eWh6MXveT78_",
        "outputId": "1ad4fa1d-befe-4c05-bd74-61383c7f0708"
      },
      "outputs": [
        {
          "data": {
            "image/png": "[encoded data removed]",
            "text/plain": [
              "<Figure size 504x504 with 1 Axes>"
            ]
          },
          "metadata": {},
          "output_type": "display_data"
        }
      ],
      "source": [
        "(plataforma_5_eu\n",
        "     .pivot_table(index='platform', values='eu_sales', aggfunc='sum').sort_values(by='eu_sales',ascending=False)\n",
        "     .plot(y='eu_sales',kind='pie',title = 'Gráfico circular muestra el tamaño de las cinco plataformas más populares', \n",
        "                      figsize=(7, 7), autopct='%1.1f%%', shadow=True)\n",
        ");"
      ]
    },
    {
      "cell_type": "markdown",
      "metadata": {
        "id": "7W6mQ3lUUP6a"
      },
      "source": [
        "# Región JP"
      ]
    },
    {
      "cell_type": "code",
      "execution_count": null,
      "metadata": {
        "id": "_bTsdscXUN6V"
      },
      "outputs": [],
      "source": [
        "jp_region = modelo_2017.groupby(['platform'])['jp_sales'].sum().reset_index().sort_values(by='jp_sales', ascending = False)\n",
        "plataforma_5_jp = jp_region.head()"
      ]
    },
    {
      "cell_type": "code",
      "execution_count": null,
      "metadata": {
        "colab": {
          "base_uri": "https://localhost:8080/",
          "height": 427
        },
        "id": "6jalQaYLUiT1",
        "outputId": "785291a7-25c8-465a-e18a-47b6574c638f"
      },
      "outputs": [
        {
          "data": {
            "image/png": "[encoded data removed]",
            "text/plain": [
              "<Figure size 504x504 with 1 Axes>"
            ]
          },
          "metadata": {},
          "output_type": "display_data"
        }
      ],
      "source": [
        "(plataforma_5_jp\n",
        "     .pivot_table(index='platform', values='jp_sales', aggfunc='sum').sort_values(by='jp_sales',ascending=False)\n",
        "     .plot(y='jp_sales',kind='pie',title = 'Gráfico circular muestra el tamaño de las cinco plataformas más populares', \n",
        "                      figsize=(7, 7), autopct='%1.1f%%', shadow=True)\n",
        ");"
      ]
    },
    {
      "cell_type": "markdown",
      "metadata": {
        "id": "DkCISasDVO0e"
      },
      "source": [
        "Podemos ver que las preferencias cambian dependiendo de la región por ejemplo en la región NA, PS4 y Xone lideran las ventas, en cambio en la región EU, PS4 lidera el mercado con una mayor participación de mercado, aunque Xone, al igual que en NA, es la segunda plataforma más popular, y por último la Región JP, donde lidera la plataforma 3DS, y PS4, en segundo lugar y lo más curioso que desaparece Xone, donde en las dos regiones anteriores era la segunda plataforma más popular"
      ]
    },
    {
      "cell_type": "markdown",
      "metadata": {
        "id": "WGHXaMoZW3u4"
      },
      "source": [
        "## 4.1 Los cinco géneros principales. Explica la diferencia."
      ]
    },
    {
      "cell_type": "code",
      "execution_count": null,
      "metadata": {
        "colab": {
          "base_uri": "https://localhost:8080/",
          "height": 206
        },
        "id": "YNGCYlRwXGkd",
        "outputId": "e4ba5313-81db-44e4-b1da-72bd6faea2e9"
      },
      "outputs": [
        {
          "data": {
            "text/html": [
              "<div>\n",
              "<style scoped>\n",
              "    .dataframe tbody tr th:only-of-type {\n",
              "        vertical-align: middle;\n",
              "    }\n",
              "\n",
              "    .dataframe tbody tr th {\n",
              "        vertical-align: top;\n",
              "    }\n",
              "\n",
              "    .dataframe thead th {\n",
              "        text-align: right;\n",
              "    }\n",
              "</style>\n",
              "<table border=\"1\" class=\"dataframe\">\n",
              "  <thead>\n",
              "    <tr style=\"text-align: right;\">\n",
              "      <th></th>\n",
              "      <th>genre</th>\n",
              "      <th>na_sales</th>\n",
              "    </tr>\n",
              "  </thead>\n",
              "  <tbody>\n",
              "    <tr>\n",
              "      <th>0</th>\n",
              "      <td>Shooter</td>\n",
              "      <td>79.02</td>\n",
              "    </tr>\n",
              "    <tr>\n",
              "      <th>1</th>\n",
              "      <td>Action</td>\n",
              "      <td>72.53</td>\n",
              "    </tr>\n",
              "    <tr>\n",
              "      <th>2</th>\n",
              "      <td>Sports</td>\n",
              "      <td>46.13</td>\n",
              "    </tr>\n",
              "    <tr>\n",
              "      <th>3</th>\n",
              "      <td>Role-Playing</td>\n",
              "      <td>33.47</td>\n",
              "    </tr>\n",
              "    <tr>\n",
              "      <th>4</th>\n",
              "      <td>Misc</td>\n",
              "      <td>15.05</td>\n",
              "    </tr>\n",
              "  </tbody>\n",
              "</table>\n",
              "</div>"
            ],
            "text/plain": [
              "          genre  na_sales\n",
              "0       Shooter     79.02\n",
              "1        Action     72.53\n",
              "2        Sports     46.13\n",
              "3  Role-Playing     33.47\n",
              "4          Misc     15.05"
            ]
          },
          "execution_count": 62,
          "metadata": {},
          "output_type": "execute_result"
        }
      ],
      "source": [
        "games_genre_na = modelo_2017.groupby(['genre'])['na_sales'].sum().reset_index().sort_values(by='na_sales', ascending = False)\n",
        "games_5_na = games_genre_na.head()\n",
        "games_5_na.reset_index(drop=True)"
      ]
    },
    {
      "cell_type": "code",
      "execution_count": null,
      "metadata": {
        "colab": {
          "base_uri": "https://localhost:8080/",
          "height": 482
        },
        "id": "T2YXbtonYPx6",
        "outputId": "78933fcf-b448-4287-9dd8-457de74e00ec"
      },
      "outputs": [
        {
          "data": {
            "image/png": "[encoded data removed]",
            "text/plain": [
              "<Figure size 576x576 with 1 Axes>"
            ]
          },
          "metadata": {},
          "output_type": "display_data"
        }
      ],
      "source": [
        "(games_5_na\n",
        "     .pivot_table(index='genre', values='na_sales', aggfunc='sum').sort_values(by='na_sales',ascending=False)\n",
        "     .plot(y='na_sales',kind='pie',title = 'Gráfico circular muestra los cinco géneros más populares', \n",
        "                      figsize=(8, 8), autopct='%1.1f%%', shadow=True)\n",
        ");"
      ]
    },
    {
      "cell_type": "markdown",
      "metadata": {
        "id": "TobGAMmdYn8v"
      },
      "source": [
        "Para la región de NA el género que se lleva la mayor parte de las ventas es Shooters, seguido de acción."
      ]
    },
    {
      "cell_type": "code",
      "execution_count": null,
      "metadata": {
        "colab": {
          "base_uri": "https://localhost:8080/",
          "height": 206
        },
        "id": "jqa5OU4gZAu4",
        "outputId": "fb2ccab7-7015-4ca6-e2ab-2ee55604948c"
      },
      "outputs": [
        {
          "data": {
            "text/html": [
              "<div>\n",
              "<style scoped>\n",
              "    .dataframe tbody tr th:only-of-type {\n",
              "        vertical-align: middle;\n",
              "    }\n",
              "\n",
              "    .dataframe tbody tr th {\n",
              "        vertical-align: top;\n",
              "    }\n",
              "\n",
              "    .dataframe thead th {\n",
              "        text-align: right;\n",
              "    }\n",
              "</style>\n",
              "<table border=\"1\" class=\"dataframe\">\n",
              "  <thead>\n",
              "    <tr style=\"text-align: right;\">\n",
              "      <th></th>\n",
              "      <th>genre</th>\n",
              "      <th>eu_sales</th>\n",
              "    </tr>\n",
              "  </thead>\n",
              "  <tbody>\n",
              "    <tr>\n",
              "      <th>0</th>\n",
              "      <td>Action</td>\n",
              "      <td>74.68</td>\n",
              "    </tr>\n",
              "    <tr>\n",
              "      <th>1</th>\n",
              "      <td>Shooter</td>\n",
              "      <td>65.52</td>\n",
              "    </tr>\n",
              "    <tr>\n",
              "      <th>2</th>\n",
              "      <td>Sports</td>\n",
              "      <td>45.73</td>\n",
              "    </tr>\n",
              "    <tr>\n",
              "      <th>3</th>\n",
              "      <td>Role-Playing</td>\n",
              "      <td>28.17</td>\n",
              "    </tr>\n",
              "    <tr>\n",
              "      <th>4</th>\n",
              "      <td>Racing</td>\n",
              "      <td>14.13</td>\n",
              "    </tr>\n",
              "  </tbody>\n",
              "</table>\n",
              "</div>"
            ],
            "text/plain": [
              "          genre  eu_sales\n",
              "0        Action     74.68\n",
              "1       Shooter     65.52\n",
              "2        Sports     45.73\n",
              "3  Role-Playing     28.17\n",
              "4        Racing     14.13"
            ]
          },
          "execution_count": 64,
          "metadata": {},
          "output_type": "execute_result"
        }
      ],
      "source": [
        "games_genre_eu = modelo_2017.groupby(['genre'])['eu_sales'].sum().reset_index().sort_values(by='eu_sales', ascending = False)\n",
        "games_5_genre_eu = games_genre_eu.head()\n",
        "games_5_genre_eu.reset_index(drop=True)"
      ]
    },
    {
      "cell_type": "code",
      "execution_count": null,
      "metadata": {
        "colab": {
          "base_uri": "https://localhost:8080/",
          "height": 482
        },
        "id": "Y6FN1OFrYyu0",
        "outputId": "b3b738df-634a-4e21-bc11-06eaf8c3277b"
      },
      "outputs": [
        {
          "data": {
            "image/png": "[encoded data removed]",
            "text/plain": [
              "<Figure size 576x576 with 1 Axes>"
            ]
          },
          "metadata": {},
          "output_type": "display_data"
        }
      ],
      "source": [
        "(games_5_genre_eu\n",
        "     .pivot_table(index='genre', values='eu_sales', aggfunc='sum').sort_values(by='eu_sales',ascending=False)\n",
        "     .plot(y='eu_sales',kind='pie',title = 'Gráfico circular muestra los cinco géneros más populares', \n",
        "                      figsize=(8, 8), autopct='%1.1f%%', shadow=True)\n",
        ");"
      ]
    },
    {
      "cell_type": "markdown",
      "metadata": {
        "id": "8UKstoGnaJYS"
      },
      "source": [
        "Para la región de EU el género que se lleva la mayor parte de las ventas es acción, seguido de Shooters."
      ]
    },
    {
      "cell_type": "code",
      "execution_count": null,
      "metadata": {
        "colab": {
          "base_uri": "https://localhost:8080/",
          "height": 206
        },
        "id": "I2WHIoE5aNvD",
        "outputId": "7760971e-ae52-4eb2-935c-19b6b02d4f9c"
      },
      "outputs": [
        {
          "data": {
            "text/html": [
              "<div>\n",
              "<style scoped>\n",
              "    .dataframe tbody tr th:only-of-type {\n",
              "        vertical-align: middle;\n",
              "    }\n",
              "\n",
              "    .dataframe tbody tr th {\n",
              "        vertical-align: top;\n",
              "    }\n",
              "\n",
              "    .dataframe thead th {\n",
              "        text-align: right;\n",
              "    }\n",
              "</style>\n",
              "<table border=\"1\" class=\"dataframe\">\n",
              "  <thead>\n",
              "    <tr style=\"text-align: right;\">\n",
              "      <th></th>\n",
              "      <th>genre</th>\n",
              "      <th>jp_sales</th>\n",
              "    </tr>\n",
              "  </thead>\n",
              "  <tbody>\n",
              "    <tr>\n",
              "      <th>0</th>\n",
              "      <td>Role-Playing</td>\n",
              "      <td>31.16</td>\n",
              "    </tr>\n",
              "    <tr>\n",
              "      <th>1</th>\n",
              "      <td>Action</td>\n",
              "      <td>29.58</td>\n",
              "    </tr>\n",
              "    <tr>\n",
              "      <th>2</th>\n",
              "      <td>Fighting</td>\n",
              "      <td>6.37</td>\n",
              "    </tr>\n",
              "    <tr>\n",
              "      <th>3</th>\n",
              "      <td>Misc</td>\n",
              "      <td>5.61</td>\n",
              "    </tr>\n",
              "    <tr>\n",
              "      <th>4</th>\n",
              "      <td>Shooter</td>\n",
              "      <td>4.87</td>\n",
              "    </tr>\n",
              "  </tbody>\n",
              "</table>\n",
              "</div>"
            ],
            "text/plain": [
              "          genre  jp_sales\n",
              "0  Role-Playing     31.16\n",
              "1        Action     29.58\n",
              "2      Fighting      6.37\n",
              "3          Misc      5.61\n",
              "4       Shooter      4.87"
            ]
          },
          "execution_count": 66,
          "metadata": {},
          "output_type": "execute_result"
        }
      ],
      "source": [
        "games_genre_jp = modelo_2017.groupby(['genre'])['jp_sales'].sum().reset_index().sort_values(by='jp_sales', ascending = False)\n",
        "games_5_genre_jp = games_genre_jp.head()\n",
        "games_5_genre_jp.reset_index(drop=True)"
      ]
    },
    {
      "cell_type": "code",
      "execution_count": null,
      "metadata": {
        "colab": {
          "base_uri": "https://localhost:8080/",
          "height": 482
        },
        "id": "vKPRaF8Da8UZ",
        "outputId": "9eb2541f-b8d9-4821-d4bc-cf1a61131131"
      },
      "outputs": [
        {
          "data": {
            "image/png": "[encoded data removed]",
            "text/plain": [
              "<Figure size 576x576 with 1 Axes>"
            ]
          },
          "metadata": {},
          "output_type": "display_data"
        }
      ],
      "source": [
        "(games_5_genre_jp\n",
        "     .pivot_table(index='genre', values='jp_sales', aggfunc='sum').sort_values(by='jp_sales',ascending=False)\n",
        "     .plot(y='jp_sales',kind='pie',title = 'Gráfico circular muestra los cinco géneros más populares', \n",
        "                      figsize=(8, 8), autopct='%1.1f%%', shadow=True)\n",
        ");"
      ]
    },
    {
      "cell_type": "markdown",
      "metadata": {
        "id": "trnjv3ZtbIHQ"
      },
      "source": [
        "Para la región de JP el género que se lleva la mayor parte de las ventas es juegos de rol, seguido de acción."
      ]
    },
    {
      "cell_type": "markdown",
      "metadata": {
        "id": "cy_WmuaUbs6_"
      },
      "source": [
        "# 4.2 Si las clasificaciones de ESRB afectan a las ventas en regiones individuales."
      ]
    },
    {
      "cell_type": "code",
      "execution_count": null,
      "metadata": {
        "colab": {
          "base_uri": "https://localhost:8080/",
          "height": 206
        },
        "id": "3Y2ADvVScHvF",
        "outputId": "fde8af2d-2579-4465-8f97-b40cd7ac2db7"
      },
      "outputs": [
        {
          "data": {
            "text/html": [
              "<div>\n",
              "<style scoped>\n",
              "    .dataframe tbody tr th:only-of-type {\n",
              "        vertical-align: middle;\n",
              "    }\n",
              "\n",
              "    .dataframe tbody tr th {\n",
              "        vertical-align: top;\n",
              "    }\n",
              "\n",
              "    .dataframe thead th {\n",
              "        text-align: right;\n",
              "    }\n",
              "</style>\n",
              "<table border=\"1\" class=\"dataframe\">\n",
              "  <thead>\n",
              "    <tr style=\"text-align: right;\">\n",
              "      <th></th>\n",
              "      <th>rating</th>\n",
              "      <th>other_sales</th>\n",
              "    </tr>\n",
              "  </thead>\n",
              "  <tbody>\n",
              "    <tr>\n",
              "      <th>0</th>\n",
              "      <td>M</td>\n",
              "      <td>28.67</td>\n",
              "    </tr>\n",
              "    <tr>\n",
              "      <th>1</th>\n",
              "      <td>RP</td>\n",
              "      <td>18.40</td>\n",
              "    </tr>\n",
              "    <tr>\n",
              "      <th>2</th>\n",
              "      <td>E</td>\n",
              "      <td>15.39</td>\n",
              "    </tr>\n",
              "    <tr>\n",
              "      <th>3</th>\n",
              "      <td>T</td>\n",
              "      <td>11.33</td>\n",
              "    </tr>\n",
              "    <tr>\n",
              "      <th>4</th>\n",
              "      <td>E10+</td>\n",
              "      <td>7.83</td>\n",
              "    </tr>\n",
              "  </tbody>\n",
              "</table>\n",
              "</div>"
            ],
            "text/plain": [
              "  rating  other_sales\n",
              "0      M        28.67\n",
              "1     RP        18.40\n",
              "2      E        15.39\n",
              "3      T        11.33\n",
              "4   E10+         7.83"
            ]
          },
          "execution_count": 68,
          "metadata": {},
          "output_type": "execute_result"
        }
      ],
      "source": [
        "games_clasificaciones = modelo_2017.groupby(['rating'])['other_sales'].sum().reset_index().sort_values(by='other_sales', ascending = False)\n",
        "games_clasificaciones = games_clasificaciones.reset_index(drop=True)\n",
        "games_clasificaciones"
      ]
    },
    {
      "cell_type": "code",
      "execution_count": null,
      "metadata": {
        "colab": {
          "base_uri": "https://localhost:8080/",
          "height": 482
        },
        "id": "TvClD7f3cmlg",
        "outputId": "6704e3b3-c567-4e4f-b97b-22c5a54955f4"
      },
      "outputs": [
        {
          "data": {
            "image/png": "[encoded data removed]",
            "text/plain": [
              "<Figure size 576x576 with 1 Axes>"
            ]
          },
          "metadata": {},
          "output_type": "display_data"
        }
      ],
      "source": [
        "(games_clasificaciones\n",
        "     .pivot_table(index='rating', values='other_sales', aggfunc='sum').sort_values(by='other_sales',ascending=False)\n",
        "     .plot(y='other_sales',kind='pie',title = 'Gráfico circular clasificaciones ESRB', \n",
        "                      figsize=(8, 8), autopct='%1.1f%%', shadow=True)\n",
        ");"
      ]
    },
    {
      "cell_type": "code",
      "execution_count": null,
      "metadata": {
        "colab": {
          "base_uri": "https://localhost:8080/",
          "height": 206
        },
        "id": "FqPoAkhNdDtM",
        "outputId": "2dc7c5e7-9a92-4ded-e001-e31bc48cd451"
      },
      "outputs": [
        {
          "data": {
            "text/html": [
              "<div>\n",
              "<style scoped>\n",
              "    .dataframe tbody tr th:only-of-type {\n",
              "        vertical-align: middle;\n",
              "    }\n",
              "\n",
              "    .dataframe tbody tr th {\n",
              "        vertical-align: top;\n",
              "    }\n",
              "\n",
              "    .dataframe thead th {\n",
              "        text-align: right;\n",
              "    }\n",
              "</style>\n",
              "<table border=\"1\" class=\"dataframe\">\n",
              "  <thead>\n",
              "    <tr style=\"text-align: right;\">\n",
              "      <th></th>\n",
              "      <th>rating</th>\n",
              "      <th>na_sales</th>\n",
              "    </tr>\n",
              "  </thead>\n",
              "  <tbody>\n",
              "    <tr>\n",
              "      <th>0</th>\n",
              "      <td>M</td>\n",
              "      <td>96.42</td>\n",
              "    </tr>\n",
              "    <tr>\n",
              "      <th>1</th>\n",
              "      <td>RP</td>\n",
              "      <td>64.72</td>\n",
              "    </tr>\n",
              "    <tr>\n",
              "      <th>2</th>\n",
              "      <td>E</td>\n",
              "      <td>50.74</td>\n",
              "    </tr>\n",
              "    <tr>\n",
              "      <th>3</th>\n",
              "      <td>T</td>\n",
              "      <td>38.95</td>\n",
              "    </tr>\n",
              "    <tr>\n",
              "      <th>4</th>\n",
              "      <td>E10+</td>\n",
              "      <td>33.23</td>\n",
              "    </tr>\n",
              "  </tbody>\n",
              "</table>\n",
              "</div>"
            ],
            "text/plain": [
              "  rating  na_sales\n",
              "0      M     96.42\n",
              "1     RP     64.72\n",
              "2      E     50.74\n",
              "3      T     38.95\n",
              "4   E10+     33.23"
            ]
          },
          "execution_count": 70,
          "metadata": {},
          "output_type": "execute_result"
        }
      ],
      "source": [
        "games_clasificaciones_na = modelo_2017.groupby(['rating'])['na_sales'].sum().reset_index().sort_values(by='na_sales', ascending = False)\n",
        "games_clasificaciones_na = games_clasificaciones_na.reset_index(drop=True)\n",
        "games_clasificaciones_na"
      ]
    },
    {
      "cell_type": "code",
      "execution_count": null,
      "metadata": {
        "colab": {
          "base_uri": "https://localhost:8080/",
          "height": 482
        },
        "id": "SYQs_pg8dl-i",
        "outputId": "4b71126f-f2cb-4ff2-90db-a371b6b83f0d"
      },
      "outputs": [
        {
          "data": {
            "image/png": "[encoded data removed]",
            "text/plain": [
              "<Figure size 576x576 with 1 Axes>"
            ]
          },
          "metadata": {},
          "output_type": "display_data"
        }
      ],
      "source": [
        "(games_clasificaciones_na\n",
        "     .pivot_table(index='rating', values='na_sales', aggfunc='sum').sort_values(by='na_sales',ascending=False)\n",
        "     .plot(y='na_sales',kind='pie',title = 'Gráfico circular clasificaciones ESRB', \n",
        "                      figsize=(8, 8), autopct='%1.1f%%', shadow=True)\n",
        ");"
      ]
    },
    {
      "cell_type": "code",
      "execution_count": null,
      "metadata": {
        "colab": {
          "base_uri": "https://localhost:8080/",
          "height": 206
        },
        "id": "guWNvEF1dve3",
        "outputId": "a170de8f-8b7a-40ed-ca21-f97b054e8f01"
      },
      "outputs": [
        {
          "data": {
            "text/html": [
              "<div>\n",
              "<style scoped>\n",
              "    .dataframe tbody tr th:only-of-type {\n",
              "        vertical-align: middle;\n",
              "    }\n",
              "\n",
              "    .dataframe tbody tr th {\n",
              "        vertical-align: top;\n",
              "    }\n",
              "\n",
              "    .dataframe thead th {\n",
              "        text-align: right;\n",
              "    }\n",
              "</style>\n",
              "<table border=\"1\" class=\"dataframe\">\n",
              "  <thead>\n",
              "    <tr style=\"text-align: right;\">\n",
              "      <th></th>\n",
              "      <th>rating</th>\n",
              "      <th>eu_sales</th>\n",
              "    </tr>\n",
              "  </thead>\n",
              "  <tbody>\n",
              "    <tr>\n",
              "      <th>0</th>\n",
              "      <td>M</td>\n",
              "      <td>93.44</td>\n",
              "    </tr>\n",
              "    <tr>\n",
              "      <th>1</th>\n",
              "      <td>RP</td>\n",
              "      <td>58.95</td>\n",
              "    </tr>\n",
              "    <tr>\n",
              "      <th>2</th>\n",
              "      <td>E</td>\n",
              "      <td>58.06</td>\n",
              "    </tr>\n",
              "    <tr>\n",
              "      <th>3</th>\n",
              "      <td>T</td>\n",
              "      <td>34.07</td>\n",
              "    </tr>\n",
              "    <tr>\n",
              "      <th>4</th>\n",
              "      <td>E10+</td>\n",
              "      <td>26.16</td>\n",
              "    </tr>\n",
              "  </tbody>\n",
              "</table>\n",
              "</div>"
            ],
            "text/plain": [
              "  rating  eu_sales\n",
              "0      M     93.44\n",
              "1     RP     58.95\n",
              "2      E     58.06\n",
              "3      T     34.07\n",
              "4   E10+     26.16"
            ]
          },
          "execution_count": 72,
          "metadata": {},
          "output_type": "execute_result"
        }
      ],
      "source": [
        "games_clasificaciones_eu = modelo_2017.groupby(['rating'])['eu_sales'].sum().reset_index().sort_values(by='eu_sales', ascending = False)\n",
        "games_clasificaciones_eu = games_clasificaciones_eu.reset_index(drop=True)\n",
        "games_clasificaciones_eu"
      ]
    },
    {
      "cell_type": "code",
      "execution_count": null,
      "metadata": {
        "colab": {
          "base_uri": "https://localhost:8080/",
          "height": 482
        },
        "id": "Q1AlYJc3eFBv",
        "outputId": "17d37fe1-676f-4edd-acf4-926336389ab6"
      },
      "outputs": [
        {
          "data": {
            "image/png": "[encoded data removed]",
            "text/plain": [
              "<Figure size 576x576 with 1 Axes>"
            ]
          },
          "metadata": {},
          "output_type": "display_data"
        }
      ],
      "source": [
        "(games_clasificaciones_eu\n",
        "     .pivot_table(index='rating', values='eu_sales', aggfunc='sum').sort_values(by='eu_sales',ascending=False)\n",
        "     .plot(y='eu_sales',kind='pie',title = 'Gráfico circular clasificaciones ESRB', \n",
        "                      figsize=(8, 8), autopct='%1.1f%%', shadow=True)\n",
        ");"
      ]
    },
    {
      "cell_type": "code",
      "execution_count": null,
      "metadata": {
        "colab": {
          "base_uri": "https://localhost:8080/",
          "height": 206
        },
        "id": "tIFNuzHgeQQ9",
        "outputId": "f3822036-02cf-4eae-f3fe-8a54560c4545"
      },
      "outputs": [
        {
          "data": {
            "text/html": [
              "<div>\n",
              "<style scoped>\n",
              "    .dataframe tbody tr th:only-of-type {\n",
              "        vertical-align: middle;\n",
              "    }\n",
              "\n",
              "    .dataframe tbody tr th {\n",
              "        vertical-align: top;\n",
              "    }\n",
              "\n",
              "    .dataframe thead th {\n",
              "        text-align: right;\n",
              "    }\n",
              "</style>\n",
              "<table border=\"1\" class=\"dataframe\">\n",
              "  <thead>\n",
              "    <tr style=\"text-align: right;\">\n",
              "      <th></th>\n",
              "      <th>rating</th>\n",
              "      <th>jp_sales</th>\n",
              "    </tr>\n",
              "  </thead>\n",
              "  <tbody>\n",
              "    <tr>\n",
              "      <th>0</th>\n",
              "      <td>RP</td>\n",
              "      <td>56.90</td>\n",
              "    </tr>\n",
              "    <tr>\n",
              "      <th>1</th>\n",
              "      <td>T</td>\n",
              "      <td>14.78</td>\n",
              "    </tr>\n",
              "    <tr>\n",
              "      <th>2</th>\n",
              "      <td>E</td>\n",
              "      <td>8.94</td>\n",
              "    </tr>\n",
              "    <tr>\n",
              "      <th>3</th>\n",
              "      <td>M</td>\n",
              "      <td>8.01</td>\n",
              "    </tr>\n",
              "    <tr>\n",
              "      <th>4</th>\n",
              "      <td>E10+</td>\n",
              "      <td>4.46</td>\n",
              "    </tr>\n",
              "  </tbody>\n",
              "</table>\n",
              "</div>"
            ],
            "text/plain": [
              "  rating  jp_sales\n",
              "0     RP     56.90\n",
              "1      T     14.78\n",
              "2      E      8.94\n",
              "3      M      8.01\n",
              "4   E10+      4.46"
            ]
          },
          "execution_count": 74,
          "metadata": {},
          "output_type": "execute_result"
        }
      ],
      "source": [
        "games_clasificaciones_jp = modelo_2017.groupby(['rating'])['jp_sales'].sum().reset_index().sort_values(by='jp_sales', ascending = False)\n",
        "games_clasificaciones_jp = games_clasificaciones_jp.reset_index(drop=True)\n",
        "games_clasificaciones_jp"
      ]
    },
    {
      "cell_type": "code",
      "execution_count": null,
      "metadata": {
        "colab": {
          "base_uri": "https://localhost:8080/",
          "height": 482
        },
        "id": "QFQEwH3seWP5",
        "outputId": "cd3baa55-c2c4-467b-f591-25a3d2d9d608"
      },
      "outputs": [
        {
          "data": {
            "image/png": "[encoded data removed]",
            "text/plain": [
              "<Figure size 576x576 with 1 Axes>"
            ]
          },
          "metadata": {},
          "output_type": "display_data"
        }
      ],
      "source": [
        "(games_clasificaciones_jp\n",
        "     .pivot_table(index='rating', values='jp_sales', aggfunc='sum').sort_values(by='jp_sales',ascending=False)\n",
        "     .plot(y='jp_sales',kind='pie',title = 'Gráfico circular clasificaciones ESRB', \n",
        "                      figsize=(8, 8), autopct='%1.1f%%', shadow=True)\n",
        ");"
      ]
    },
    {
      "cell_type": "markdown",
      "metadata": {
        "id": "aSjMwhhrfDzs"
      },
      "source": [
        "En general la preferencia a nivel mundial esta en titulos para mayoresde 18 años, pero en la región JP tiene una gran cantidad de juegos sin clasificar."
      ]
    },
    {
      "cell_type": "markdown",
      "metadata": {
        "id": "2zmn5FItfXUs"
      },
      "source": [
        "# Etapa 5. Prueba las siguientes hipótesis:"
      ]
    },
    {
      "cell_type": "markdown",
      "metadata": {
        "id": "Wwqr4v86f28J"
      },
      "source": [
        "#### Hipótesis nula H₀ = Las calificaciones promedio de los usuarios para las plataformas Xbox One y PC son las mismas.\n",
        "#### Hipótesis alternativa, H₁ = Las calificaciones promedio de los usuarios para las plataformas Xbox One y PC no son las mismas."
      ]
    },
    {
      "cell_type": "code",
      "execution_count": null,
      "metadata": {
        "id": "FkqE4Csxf4Xp",
        "scrolled": true
      },
      "outputs": [],
      "source": [
        "Xone = modelo_2017.query('platform == \"XOne\"')\n",
        "PC = modelo_2017.query('platform == \"PC\"')"
      ]
    },
    {
      "cell_type": "code",
      "execution_count": null,
      "metadata": {
        "colab": {
          "base_uri": "https://localhost:8080/"
        },
        "id": "N-v-tZq-gRZc",
        "outputId": "ca15a1d5-36c9-487d-d2fe-1d4ba3284d2b"
      },
      "outputs": [
        {
          "data": {
            "text/plain": [
              "1.879546005509642"
            ]
          },
          "execution_count": 77,
          "metadata": {},
          "output_type": "execute_result"
        }
      ],
      "source": [
        "varianza_Xone = np.var(Xone.user_score)\n",
        "varianza_Xone \n"
      ]
    },
    {
      "cell_type": "code",
      "execution_count": null,
      "metadata": {
        "colab": {
          "base_uri": "https://localhost:8080/"
        },
        "id": "r9kF9yK0gXgo",
        "outputId": "fb42d728-ee81-403a-ef6c-b27f4b2ae640"
      },
      "outputs": [
        {
          "data": {
            "text/plain": [
              "2.8773743617307175"
            ]
          },
          "execution_count": 78,
          "metadata": {},
          "output_type": "execute_result"
        }
      ],
      "source": [
        "varianza_PC = np.var(PC.user_score)\n",
        "varianza_PC"
      ]
    },
    {
      "cell_type": "code",
      "execution_count": null,
      "metadata": {
        "id": "JghVHevrBZvs",
        "outputId": "2ee03914-4ab1-4947-e54f-9635a3fc1548"
      },
      "outputs": [
        {
          "name": "stdout",
          "output_type": "stream",
          "text": [
            "p-value: 0.014868430917663678\n",
            "Rechazamos la hipótesis nula: las varianzas pueden considerarse diferentes\n"
          ]
        }
      ],
      "source": [
        "Xone_va = Xone.user_score\n",
        "PC_va =  PC.user_score\n",
        "\n",
        "alpha = 0.05 \n",
        "\n",
        "results_levene =st.levene(PC_va.dropna(), Xone_va.dropna()) \n",
        "print('p-value:', results_levene.pvalue) \n",
        "\n",
        "if (results_levene.pvalue < alpha):\n",
        "    print(\"Rechazamos la hipótesis nula: las varianzas pueden considerarse diferentes\")\n",
        "else:\n",
        "    print(\"No rechazamos la hipótesis nula: las varianzas pueden considerarse iguales\")"
      ]
    },
    {
      "cell_type": "code",
      "execution_count": null,
      "metadata": {
        "colab": {
          "base_uri": "https://localhost:8080/"
        },
        "id": "GXUfirocg-PV",
        "outputId": "e8775ac8-850a-429a-bf5e-f774bcbfdabb"
      },
      "outputs": [
        {
          "name": "stdout",
          "output_type": "stream",
          "text": [
            "p-value: 0.11601398086668943\n",
            "No rechazamos la hipótesis nula\n"
          ]
        }
      ],
      "source": [
        "Xone_va = Xone.user_score\n",
        "PC_va =  PC.user_score\n",
        "\n",
        "alpha = 0.05 \n",
        "\n",
        "results =st.ttest_ind(PC_va, Xone_va, equal_var = False, nan_policy='omit') \n",
        "print('p-value:', results.pvalue) \n",
        "\n",
        "if (results.pvalue < alpha):\n",
        "    print(\"Rechazamos la hipótesis nula\")\n",
        "else:\n",
        "    print(\"No rechazamos la hipótesis nula\")"
      ]
    },
    {
      "cell_type": "markdown",
      "metadata": {
        "id": "_zVPtXCshPnR"
      },
      "source": [
        "Formulamos la hipótesis nula al afirmar que no hay diferencia entre las calificaciones promedio de los usuarios de las plataformas Xbox One y PC. Utilizamos un nivel de significación de 0,05. Dado que el valor p es mayor que = 0,05, no podemos rechazar la hipótesis nula. La evidencia sugiere que no existe una diferencia estadísticamente significativa entre las calificaciones promedio de los usuarios de las plataformas Xbox One y PC, es decir, las calificaciones promedio de los usuarios de Xbox One y las calificaciones promedio de los usuarios de las plataformas PC son las mismas."
      ]
    },
    {
      "cell_type": "markdown",
      "metadata": {
        "id": "bKlV-sCCiFGy"
      },
      "source": [
        "#### Hipótesis nula H₀ = Las calificaciones promedio de los usuarios para los géneros de Acción y Deportes son iguales.\n",
        "#### Hipótesis alternativa, H₁ = Las calificaciones promedio de los usuarios para los géneros de Acción y Deportes no son iguales."
      ]
    },
    {
      "cell_type": "code",
      "execution_count": null,
      "metadata": {
        "id": "XPQFViRXiItt"
      },
      "outputs": [],
      "source": [
        "accion = modelo_2017.query('genre == \"Action\"')\n",
        "sports = modelo_2017.query('genre == \"Sports\"')"
      ]
    },
    {
      "cell_type": "code",
      "execution_count": null,
      "metadata": {
        "colab": {
          "base_uri": "https://localhost:8080/"
        },
        "id": "9gJRefdkiWzG",
        "outputId": "5a4d785b-195f-411d-bb71-d09a1c3f9353"
      },
      "outputs": [
        {
          "data": {
            "text/plain": [
              "1.89208448117539"
            ]
          },
          "execution_count": 81,
          "metadata": {},
          "output_type": "execute_result"
        }
      ],
      "source": [
        "varianza_accion = np.var(accion.user_score)\n",
        "varianza_accion\n"
      ]
    },
    {
      "cell_type": "code",
      "execution_count": null,
      "metadata": {
        "colab": {
          "base_uri": "https://localhost:8080/"
        },
        "id": "kEGfeUZqiXb0",
        "outputId": "379083df-bc4d-4739-8af0-d14f77bb767b"
      },
      "outputs": [
        {
          "data": {
            "text/plain": [
              "3.419837559675119"
            ]
          },
          "execution_count": 82,
          "metadata": {},
          "output_type": "execute_result"
        }
      ],
      "source": [
        "varianza_sport   = np.var(sports.user_score)\n",
        "varianza_sport"
      ]
    },
    {
      "cell_type": "code",
      "execution_count": null,
      "metadata": {
        "colab": {
          "base_uri": "https://localhost:8080/"
        },
        "id": "1JF9v8iHin1A",
        "outputId": "35937dd4-fb68-4976-ae6d-1c31f6c5cead"
      },
      "outputs": [
        {
          "name": "stdout",
          "output_type": "stream",
          "text": [
            "p-value: 1.182555038264477e-14\n",
            "Rechazamos la hipótesis nula\n"
          ]
        }
      ],
      "source": [
        "accion_mean = accion['user_score']\n",
        "sports_mean =  sports['user_score']\n",
        "\n",
        "\n",
        "alpha = 0.05 \n",
        "\n",
        "results =st.ttest_ind(accion_mean, sports_mean, equal_var = False ,nan_policy='omit') \n",
        "print('p-value:', results.pvalue) \n",
        "\n",
        "if (results.pvalue < alpha):\n",
        "    print(\"Rechazamos la hipótesis nula\")\n",
        "else:\n",
        "    print(\"No rechazamos la hipótesis nula\")"
      ]
    },
    {
      "cell_type": "markdown",
      "metadata": {
        "id": "rq-0_e_hjQ-b"
      },
      "source": [
        "Formulamos la hipótesis nula al afirmar que las calificaciones promedio de los usuarios para los géneros de Acción y Deportes son iguales. Utilizamos un nivel de significación de 0,05. Dado que el valor p es menor que = 0.05, rechazamos la hipótesis nula. Nuestro análisis sugiereque existe una diferencia estadísticamente significativa entre las calificaciones promedio de los usuarios para los géneros de Acción y Deportes."
      ]
    },
    {
      "cell_type": "markdown",
      "metadata": {
        "id": "ziPHX0vfjsow"
      },
      "source": [
        "# Conclusión final\n",
        "Tras realizar el analisis general de los datos, lo primero quenhicimosfue ver los valores nulos y errores de formato en varias columnas.\n",
        "\n",
        "Luego realice las correpciones correspondientes a los datos, tomando la decicion de no eliminar los datos en las columnas cuantitativas dadoque existe un gran porcentaje de datos NAN. Estas columnas lo bueno que no mostraban valores atípicos, despues reformulamos distintas afirmaciones para las columnas categoricas, como eliminar los datos NAN al ser una muy pequeña cantidad y no tenian mayor relevancia.\n",
        "\n",
        "Ya en la Etapa 3 análisis de datos se puede destacar la cracion de un nuevo DF, que es el que se usara de aqui en adelante, y se responderandiversas preguntas que nos ayudaran a enteder mejor la industria de los videos juegos, y a grandes rasgos podemos decir que resumidamente que las consolas de la familia playstation y la familia nintendo y X360 conjunto a Xone. son las plataformas con mas ventas y relevancia dentro del análisis, que a su vez los géneros de shooter y acción son los mas vendidos y que no existen grandes diferencias de gustos entre regiones.\n",
        "\n",
        "Por último, realizamos una prueba de hipótesis para determinar si las calificaciones promedio de los usuarios de las plataformas Xbox One y PC son las mismas. Nuestra prueba confirma que las calificaciones promedio de los usuarios de las plataformas Xbox One y PC son las mismas. También probamos para ver si la calificación promedio de los usuarios para el género Acción y Deportes son iguales. Nuestro resultado del análisis sugiere que las calificaciones promedio de los usuarios para los géneros de Acción y Deportes son diferentes\n"
      ]
    },
    {
      "cell_type": "code",
      "execution_count": null,
      "metadata": {
        "id": "GEMpyQT8BZv1"
      },
      "outputs": [],
      "source": []
    }
  ],
  "metadata": {
    "colab": {
      "provenance": [],
      "toc_visible": true
    },
    "kernelspec": {
      "display_name": "Python 3 (ipykernel)",
      "language": "python",
      "name": "python3"
    },
    "language_info": {
      "codemirror_mode": {
        "name": "ipython",
        "version": 3
      },
      "file_extension": ".py",
      "mimetype": "text/x-python",
      "name": "python",
      "nbconvert_exporter": "python",
      "pygments_lexer": "ipython3",
      "version": "3.9.5"
    },
    "toc": {
      "base_numbering": 1,
      "nav_menu": {},
      "number_sections": true,
      "sideBar": true,
      "skip_h1_title": true,
      "title_cell": "Table of Contents",
      "title_sidebar": "Contents",
      "toc_cell": false,
      "toc_position": {},
      "toc_section_display": true,
      "toc_window_display": true
    }
  },
  "nbformat": 4,
  "nbformat_minor": 0
}